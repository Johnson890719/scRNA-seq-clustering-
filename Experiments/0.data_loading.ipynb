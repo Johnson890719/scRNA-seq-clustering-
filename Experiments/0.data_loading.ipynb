{
 "cells": [
  {
   "cell_type": "markdown",
   "id": "27ae3a1b-137d-4b63-88e9-556b6b929a9d",
   "metadata": {},
   "source": [
    "## 0. Prerequisite"
   ]
  },
  {
   "cell_type": "code",
   "execution_count": 1,
   "id": "2a65ec4f-a078-4d1a-9b0c-9d2d99bd9ebe",
   "metadata": {},
   "outputs": [],
   "source": [
    "# utils\n",
    "import sys\n",
    "import time\n",
    "import scipy\n",
    "import numpy as np\n",
    "import pandas as pd\n",
    "from collections import Counter\n",
    "\n",
    "# scRNA\n",
    "import anndata\n",
    "import scanpy as sc\n",
    "\n",
    "# custome functions\n",
    "from pipeline import dl, pp, cl, pl, utils\n",
    "\n",
    "%load_ext autoreload\n",
    "%autoreload 2"
   ]
  },
  {
   "cell_type": "code",
   "execution_count": 3,
   "id": "2841016b-53f0-4c86-a8f0-2442c7742fa2",
   "metadata": {},
   "outputs": [
    {
     "data": {
      "text/plain": [
       "0    /projects/zhanglab/users/johnson/data/HumanEmb...\n",
       "1    /projects/zhanglab/users/johnson/data/HumanPBM...\n",
       "2    /projects/zhanglab/users/johnson/data/MouseEmb...\n",
       "3    /projects/zhanglab/users/johnson/data/HumanBre...\n",
       "4    /projects/zhanglab/users/johnson/data/HumanDev...\n",
       "5    /projects/zhanglab/users/johnson/data/HumanHea...\n",
       "6    /projects/zhanglab/users/johnson/data/GorillaM...\n",
       "Name: 0, dtype: object"
      ]
     },
     "execution_count": 3,
     "metadata": {},
     "output_type": "execute_result"
    }
   ],
   "source": [
    "dataset_path = pd.read_csv('dataset.txt', header = None, index_col=None)\n",
    "dataset_path[0]"
   ]
  },
  {
   "cell_type": "markdown",
   "id": "db34e0a4-3635-417c-a492-c90f3b8c3fd8",
   "metadata": {},
   "source": [
    "## 1. Processed Data"
   ]
  },
  {
   "cell_type": "markdown",
   "id": "9915fe77-2a24-4d25-96b2-b61ffcc482c6",
   "metadata": {},
   "source": [
    "### Proprocessing\n"
   ]
  },
  {
   "cell_type": "code",
   "execution_count": 104,
   "id": "665596c3-b22a-473c-af36-ed529004842f",
   "metadata": {},
   "outputs": [
    {
     "name": "stdout",
     "output_type": "stream",
     "text": [
      "load:  /projects/zhanglab/users/johnson/data/dIPFC.h5ad\n",
      "n_obs × n_vars:  (610719, 27930)\n",
      "running time:  0.0001366138458251953\n"
     ]
    },
    {
     "name": "stderr",
     "output_type": "stream",
     "text": [
      "/home/chunchua/miniconda3/lib/python3.11/site-packages/scanpy/preprocessing/_highly_variable_genes.py:220: FutureWarning: The default of observed=False is deprecated and will be changed to True in a future version of pandas. Pass observed=False to retain current behavior or observed=True to adopt the future default and silence this warning.\n",
      "  disp_grouped = df.groupby('mean_bin')['dispersions']\n"
     ]
    },
    {
     "data": {
      "text/plain": [
       "AnnData object with n_obs × n_vars = 610719 × 4494\n",
       "    obs: 'nGene', 'nUMI', 'percent.mt', 'mapped_reads', 'subtype', 'subclass', 'class', 'tech_rep', 'assay_ontology_term_id', 'cell_type_ontology_term_id', 'development_stage_ontology_term_id', 'disease_ontology_term_id', 'self_reported_ethnicity_ontology_term_id', 'organism_ontology_term_id', 'sex_ontology_term_id', 'tissue_ontology_term_id', 'donor_id', 'suspension_type', 'is_primary_data', 'Source', 'author_age_year', '# technical replicates', 'PMI', '# nuclei with RNA assay', 'tissue_type', 'cell_type', 'assay', 'disease', 'organism', 'sex', 'tissue', 'self_reported_ethnicity', 'development_stage', 'observation_joinid', 'n_genes_by_counts', 'log1p_n_genes_by_counts', 'total_counts', 'log1p_total_counts', 'pct_counts_in_top_50_genes', 'pct_counts_in_top_100_genes', 'pct_counts_in_top_200_genes', 'pct_counts_in_top_500_genes'\n",
       "    var: 'name', 'gene_symbols', 'feature_is_filtered', 'feature_name', 'feature_reference', 'feature_biotype', 'feature_length', 'n_cells_by_counts', 'mean_counts', 'log1p_mean_counts', 'pct_dropout_by_counts', 'total_counts', 'log1p_total_counts', 'highly_variable', 'means', 'dispersions', 'dispersions_norm'\n",
       "    uns: 'citation', 'default_embedding', 'schema_reference', 'schema_version', 'title', 'log1p', 'hvg'\n",
       "    obsm: 'X_UMAP_offset', 'X_pca', 'X_umap'"
      ]
     },
     "execution_count": 104,
     "metadata": {},
     "output_type": "execute_result"
    }
   ],
   "source": [
    "\n",
    "\n",
    "file = dataset_path[0][9]\n",
    "adata = dl.load_data(file)\n",
    "sc.pp.normalize_total(adata, target_sum=1e4)\n",
    "sc.pp.log1p(adata)\n",
    "sc.pp.highly_variable_genes(adata,subset=True)\n",
    "\n",
    "import gc\n",
    "gc.collect()\n",
    "\n",
    "adata"
   ]
  },
  {
   "cell_type": "markdown",
   "id": "5c4140e3-64b1-4b01-985e-0f46d6d81b2c",
   "metadata": {},
   "source": [
    "### data label"
   ]
  },
  {
   "cell_type": "code",
   "execution_count": 105,
   "id": "6aa9f2ec-dedb-4d28-9f0a-862fed13b0e9",
   "metadata": {},
   "outputs": [
    {
     "name": "stdout",
     "output_type": "stream",
     "text": [
      "[prev] #cell_type: 25\n",
      "[post] #cell_type: 24\n"
     ]
    },
    {
     "data": {
      "text/plain": [
       "{'oligodendrocyte': 131014,\n",
       " 'L2/3 intratelencephalic projecting glutamatergic neuron': 158915,\n",
       " 'sst GABAergic cortical interneuron': 29295,\n",
       " 'oligodendrocyte precursor cell': 25543,\n",
       " 'endothelial cell': 20869,\n",
       " 'vip GABAergic cortical interneuron': 22359,\n",
       " 'astrocyte': 65115,\n",
       " 'L6 corticothalamic-projecting glutamatergic cortical neuron': 12375,\n",
       " 'L6 intratelencephalic projecting glutamatergic neuron of the primary motor cortex': 19352,\n",
       " 'microglial cell': 25988,\n",
       " 'L5/6 near-projecting glutamatergic neuron of the primary motor cortex': 7315,\n",
       " 'pericyte': 14158,\n",
       " 'lamp5 GABAergic cortical interneuron': 13582,\n",
       " 'T cell': 1416,\n",
       " 'pvalb GABAergic cortical interneuron': 22730,\n",
       " 'inhibitory interneuron': 9331,\n",
       " 'macrophage': 1869,\n",
       " 'L6b glutamatergic cortical neuron': 9502,\n",
       " 'vascular leptomeningeal cell': 6033,\n",
       " 'smooth muscle cell': 5769,\n",
       " 'L5 extratelencephalic projecting glutamatergic cortical neuron': 2365,\n",
       " 'chandelier pvalb GABAergic cortical interneuron': 4548,\n",
       " 'erythroid lineage cell': 717,\n",
       " 'myeloid cell': 493}"
      ]
     },
     "execution_count": 105,
     "metadata": {},
     "output_type": "execute_result"
    }
   ],
   "source": [
    "# chose clustering label\n",
    "file_name = 'dIPFC.h5ad'\n",
    "target = 'cell_type'\n",
    "\n",
    "# remove NaN\n",
    "adata = adata[adata.obs[target] != 'nan']\n",
    "\n",
    "# counter\n",
    "cell_types = Counter(adata.obs[target])\n",
    "print('[prev] #cell_type:', len(cell_types))\n",
    "\n",
    "# filter out cell types with less than 50 cells\n",
    "cell_types = {key: value for key, value in cell_types.items() if value > 200}\n",
    "print('[post] #cell_type:', len(cell_types))\n",
    "\n",
    "cell_types"
   ]
  },
  {
   "cell_type": "code",
   "execution_count": 106,
   "id": "76bf3290-2c40-44f5-9d62-935ecd65c315",
   "metadata": {},
   "outputs": [
    {
     "name": "stderr",
     "output_type": "stream",
     "text": [
      "/home/chunchua/ScClusterMetric/experiments/pipeline/dl.py:66: ImplicitModificationWarning: Trying to modify attribute `.obs` of view, initializing view as actual.\n",
      "  adata.obs['label'] = labels\n"
     ]
    },
    {
     "data": {
      "text/plain": [
       "AnnData object with n_obs × n_vars = 610653 × 4494\n",
       "    obs: 'nGene', 'nUMI', 'percent.mt', 'mapped_reads', 'subtype', 'subclass', 'class', 'tech_rep', 'assay_ontology_term_id', 'cell_type_ontology_term_id', 'development_stage_ontology_term_id', 'disease_ontology_term_id', 'self_reported_ethnicity_ontology_term_id', 'organism_ontology_term_id', 'sex_ontology_term_id', 'tissue_ontology_term_id', 'donor_id', 'suspension_type', 'is_primary_data', 'Source', 'author_age_year', '# technical replicates', 'PMI', '# nuclei with RNA assay', 'tissue_type', 'cell_type', 'assay', 'disease', 'organism', 'sex', 'tissue', 'self_reported_ethnicity', 'development_stage', 'observation_joinid', 'n_genes_by_counts', 'log1p_n_genes_by_counts', 'total_counts', 'log1p_total_counts', 'pct_counts_in_top_50_genes', 'pct_counts_in_top_100_genes', 'pct_counts_in_top_200_genes', 'pct_counts_in_top_500_genes', 'label'\n",
       "    var: 'name', 'gene_symbols', 'feature_is_filtered', 'feature_name', 'feature_reference', 'feature_biotype', 'feature_length', 'n_cells_by_counts', 'mean_counts', 'log1p_mean_counts', 'pct_dropout_by_counts', 'total_counts', 'log1p_total_counts', 'highly_variable', 'means', 'dispersions', 'dispersions_norm'\n",
       "    uns: 'citation', 'default_embedding', 'schema_reference', 'schema_version', 'title', 'log1p', 'hvg'\n",
       "    obsm: 'X_UMAP_offset', 'X_pca', 'X_umap'"
      ]
     },
     "execution_count": 106,
     "metadata": {},
     "output_type": "execute_result"
    }
   ],
   "source": [
    "adata = adata[adata.obs[target].isin(cell_types.keys())]\n",
    "labels_dict = dl.label_encode(adata, target)\n",
    "adata"
   ]
  },
  {
   "cell_type": "markdown",
   "id": "e1c2ee07-6032-4800-805d-86e5f9822bda",
   "metadata": {},
   "source": [
    "## 2. Write"
   ]
  },
  {
   "cell_type": "code",
   "execution_count": 107,
   "id": "2236d9a7-cd69-4e29-b5f7-0fbee71d7dc8",
   "metadata": {},
   "outputs": [
    {
     "data": {
      "text/plain": [
       "AnnData object with n_obs × n_vars = 610653 × 4494\n",
       "    obs: 'nGene', 'nUMI', 'percent.mt', 'mapped_reads', 'subtype', 'subclass', 'class', 'tech_rep', 'assay_ontology_term_id', 'cell_type_ontology_term_id', 'development_stage_ontology_term_id', 'disease_ontology_term_id', 'self_reported_ethnicity_ontology_term_id', 'organism_ontology_term_id', 'sex_ontology_term_id', 'tissue_ontology_term_id', 'donor_id', 'suspension_type', 'is_primary_data', 'Source', 'author_age_year', '# technical replicates', 'PMI', '# nuclei with RNA assay', 'tissue_type', 'cell_type', 'assay', 'disease', 'organism', 'sex', 'tissue', 'self_reported_ethnicity', 'development_stage', 'observation_joinid', 'n_genes_by_counts', 'log1p_n_genes_by_counts', 'total_counts', 'log1p_total_counts', 'pct_counts_in_top_50_genes', 'pct_counts_in_top_100_genes', 'pct_counts_in_top_200_genes', 'pct_counts_in_top_500_genes', 'label'\n",
       "    var: 'name', 'gene_symbols', 'feature_is_filtered', 'feature_name', 'feature_reference', 'feature_biotype', 'feature_length', 'n_cells_by_counts', 'mean_counts', 'log1p_mean_counts', 'pct_dropout_by_counts', 'total_counts', 'log1p_total_counts', 'highly_variable', 'means', 'dispersions', 'dispersions_norm'\n",
       "    uns: 'citation', 'default_embedding', 'schema_reference', 'schema_version', 'title', 'log1p', 'hvg'\n",
       "    obsm: 'X_UMAP_offset', 'X_pca', 'X_umap'"
      ]
     },
     "execution_count": 107,
     "metadata": {},
     "output_type": "execute_result"
    }
   ],
   "source": [
    "dir_path = '/projects/zhanglab/users/david/data/processed/'\n",
    "adata.write(dir_path + file_name)\n",
    "adata"
   ]
  }
 ],
 "metadata": {
  "kernelspec": {
   "display_name": "Python 3 (ipykernel)",
   "language": "python",
   "name": "python3"
  },
  "language_info": {
   "codemirror_mode": {
    "name": "ipython",
    "version": 3
   },
   "file_extension": ".py",
   "mimetype": "text/x-python",
   "name": "python",
   "nbconvert_exporter": "python",
   "pygments_lexer": "ipython3",
   "version": "3.11.5"
  }
 },
 "nbformat": 4,
 "nbformat_minor": 5
}
