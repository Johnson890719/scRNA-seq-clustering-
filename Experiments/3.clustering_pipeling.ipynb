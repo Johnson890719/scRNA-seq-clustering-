{
 "cells": [
  {
   "cell_type": "markdown",
   "id": "009dd7ff-7923-46da-8ddb-c56befd8cdbc",
   "metadata": {},
   "source": [
    "# scClusterMetric - Clustering Pipeline"
   ]
  },
  {
   "cell_type": "markdown",
   "id": "8c4f39b1-f798-4974-a6d8-5f9f52def326",
   "metadata": {},
   "source": [
    "## Package\r\n",
    "---"
   ]
  },
  {
   "cell_type": "code",
   "execution_count": 3,
   "id": "4ed7e92e-d451-4e1f-a6dd-96f583c0dd65",
   "metadata": {},
   "outputs": [
    {
     "data": {
      "application/javascript": [
       "IPython.notebook.set_autosave_interval(5000)"
      ]
     },
     "metadata": {},
     "output_type": "display_data"
    },
    {
     "name": "stdout",
     "output_type": "stream",
     "text": [
      "Autosaving every 5 seconds\n"
     ]
    }
   ],
   "source": [
    "# utils\n",
    "import sys\n",
    "import time\n",
    "import scipy\n",
    "import logging\n",
    "import numpy as np\n",
    "import pandas as pd\n",
    "from collections import Counter\n",
    "\n",
    "# scRBA\n",
    "import anndata\n",
    "import scanpy as sc\n",
    "from sklearn.metrics.cluster import normalized_mutual_info_score\n",
    "\n",
    "\n",
    "%load_ext autoreload\n",
    "%autoreload 2"
   ]
  },
  {
   "cell_type": "code",
   "execution_count": 2,
   "id": "590aeb8b-3096-4525-ad73-918f8aca7e4e",
   "metadata": {},
   "outputs": [
    {
     "name": "stderr",
     "output_type": "stream",
     "text": [
      "/home/chunchua/miniconda3/envs/lab/lib/python3.11/site-packages/scipy/__init__.py:155: UserWarning: A NumPy version >=1.18.5 and <1.26.0 is required for this version of SciPy (detected version 1.26.4\n",
      "  warnings.warn(f\"A NumPy version >={np_minversion} and <{np_maxversion}\"\n"
     ]
    }
   ],
   "source": [
    "# custome functions\n",
    "from pipeline import *"
   ]
  },
  {
   "cell_type": "markdown",
   "id": "77932e9c",
   "metadata": {},
   "source": [
    "\n",
    "## Data Loading & Preprocessing"
   ]
  },
  {
   "cell_type": "markdown",
   "id": "066e2af9-5b18-43dc-b450-fd0026ed850a",
   "metadata": {},
   "source": [
    "#### data loading"
   ]
  },
  {
   "cell_type": "code",
   "execution_count": 14,
   "id": "6235b9e8-0692-4f08-a830-77cf5df21c7a",
   "metadata": {},
   "outputs": [
    {
     "name": "stderr",
     "output_type": "stream",
     "text": [
      "/home/chunchua/miniconda3/envs/lab/lib/python3.11/site-packages/scanpy/preprocessing/_highly_variable_genes.py:220: FutureWarning: The default of observed=False is deprecated and will be changed to True in a future version of pandas. Pass observed=False to retain current behavior or observed=True to adopt the future default and silence this warning.\n",
      "  disp_grouped = df.groupby('mean_bin')['dispersions']\n"
     ]
    },
    {
     "data": {
      "text/plain": [
       "AnnData object with n_obs × n_vars = 110823 × 2800\n",
       "    obs: 'FACS.selection', 'age', 'cell', 'cell_ontology_class', 'cell_ontology_id', 'free_annotation', 'method', 'mouse.id', 'sex', 'subtissue', 'tissue', 'n_genes', 'n_counts', 'n_genes_by_counts', 'total_counts', 'total_counts_mt', 'pct_counts_mt'\n",
       "    var: 'n_cells', 'mt', 'n_cells_by_counts', 'mean_counts', 'pct_dropout_by_counts', 'total_counts', 'highly_variable', 'means', 'dispersions', 'dispersions_norm'\n",
       "    uns: 'log1p', 'hvg'"
      ]
     },
     "execution_count": 14,
     "metadata": {},
     "output_type": "execute_result"
    }
   ],
   "source": [
    "# load data \n",
    "DATA_PATH = '/projects/zhanglab/data/sc_data/TMS_2020/tabula-muris-senis-facs-official-raw-obj.h5ad' # TMS fasq\n",
    "# DATA_PATH = '/projects/zhanglab/data/sc_data/TMS_2020/tabula-muris-senis-droplet-official-raw-obj.h5ad' # TMS droplet: \n",
    "# DATA_PATH = '/projects/zhanglab/data/sc_data/TS_Science_2022/obj_smartseq2_raw.h5ad' # TS fasq\n",
    "# DATA_PATH = '/projects/zhanglab/data/sc_data/TS_Science_2022/obj_10X_raw.h5ad' # TS droplet  445777 × 2613\n",
    "# DATA_PATH = '/projects/zhanglab/data/sc_data/nathan_2021/raw.h5ad' # TS droplet  445777 × 2613\n",
    "adata = read_TMS(DATA_PATH)\n",
    "\n",
    "# select HVG\n",
    "sc.pp.highly_variable_genes(adata, min_mean=0.0125, max_mean=3, min_disp=0.5, subset=True)\n",
    "adata"
   ]
  },
  {
   "cell_type": "markdown",
   "id": "dac5b71b-26ee-4b69-a45c-1bb66ad36b5c",
   "metadata": {},
   "source": [
    "#### fileter tissue"
   ]
  },
  {
   "cell_type": "code",
   "execution_count": 26,
   "id": "c1feb130-18f0-4be8-8cff-2262be2c1199",
   "metadata": {},
   "outputs": [],
   "source": [
    "# Counter(adata.obs['tissue'])"
   ]
  },
  {
   "cell_type": "code",
   "execution_count": null,
   "id": "6dffcc64-9c4d-443a-b446-a8c21a1998e8",
   "metadata": {},
   "outputs": [],
   "source": [
    "adata = adata[adata.obs['tissue']=='Lung']\n",
    "adata"
   ]
  },
  {
   "cell_type": "markdown",
   "id": "5f002574-2180-44bd-abd6-67b76e120693",
   "metadata": {},
   "source": [
    "#### filter number of clusters"
   ]
  },
  {
   "cell_type": "code",
   "execution_count": null,
   "id": "93deb37e-8a44-4fc4-b09b-ad2780d7fa42",
   "metadata": {},
   "outputs": [],
   "source": [
    "# label = 'cluster_name' # \n",
    "label = 'free_annotation'\n",
    "adata = top_k_labels(adata, label = label, k = 12)\n",
    "\n",
    "print('number of labels (#k):', len(Counter(adata.obs[label])))\n",
    "adata"
   ]
  },
  {
   "cell_type": "code",
   "execution_count": 29,
   "id": "ce3a9576-e020-4abe-805a-4e9687beaa74",
   "metadata": {},
   "outputs": [
    {
     "data": {
      "text/plain": [
       "Counter({'CD4+ CD27+CD161+': 45519,\n",
       "         'CD4+ CD27+': 40431,\n",
       "         'CD4+ Th17/1': 39205,\n",
       "         'CD4+ Th1': 37566,\n",
       "         'CD4+ CCR4+ central': 28951,\n",
       "         'CD4+ CCR4+ICOS+ central': 27770,\n",
       "         'CD4+ central': 26701,\n",
       "         'CD4+ Treg': 25270,\n",
       "         'CD4+ cytotoxic': 23213,\n",
       "         'CD4+ Th2': 20696,\n",
       "         'CD4+ lncRNA': 19901,\n",
       "         'CD4+ CD161+ Th1': 17731})"
      ]
     },
     "execution_count": 29,
     "metadata": {},
     "output_type": "execute_result"
    }
   ],
   "source": [
    "Counter(adata.obs[label])"
   ]
  },
  {
   "cell_type": "markdown",
   "id": "2e9d9f7f-7af6-4d65-9af3-ffbc5ec9a7b6",
   "metadata": {},
   "source": [
    "#### Cluster Label (using Cell Ontology Class)"
   ]
  },
  {
   "cell_type": "code",
   "execution_count": 76,
   "id": "169a917d-ce4c-40f0-b4f8-86194bd036d5",
   "metadata": {},
   "outputs": [
    {
     "name": "stderr",
     "output_type": "stream",
     "text": [
      "/tmp/ipykernel_11337/3122864200.py:2: ImplicitModificationWarning: Trying to modify attribute `.obs` of view, initializing view as actual.\n",
      "  adata.obs['label'] = labels\n"
     ]
    },
    {
     "data": {
      "text/plain": [
       "AnnData object with n_obs × n_vars = 9825 × 1714\n",
       "    obs: 'organ_tissue', 'method', 'donor', 'anatomical_information', 'n_counts_UMIs', 'n_genes', 'cell_ontology_class', 'free_annotation', 'manually_annotated', 'compartment', 'gender', 'tissue', 'tissue_celltype', 'n_genes_by_counts', 'total_counts', 'total_counts_mt', 'pct_counts_mt', 'label'\n",
       "    var: 'gene_symbol', 'feature_type', 'ensemblid', 'highly_variable', 'means', 'dispersions', 'dispersions_norm', 'mean', 'std', 'n_cells', 'mt', 'n_cells_by_counts', 'mean_counts', 'pct_dropout_by_counts', 'total_counts'\n",
       "    uns: '_scvi', '_training_mode', 'dendrogram_cell_type_tissue', 'dendrogram_computational_compartment_assignment', 'dendrogram_consensus_prediction', 'dendrogram_tissue_cell_type', 'donor_colors', 'donor_method_colors', 'hvg', 'method_colors', 'neighbors', 'sex_colors', 'tissue_colors', 'umap', 'log1p'\n",
       "    obsm: 'X_pca', 'X_scvi', 'X_scvi_umap', 'X_umap'\n",
       "    layers: 'raw_counts'\n",
       "    obsp: 'connectivities', 'distances'"
      ]
     },
     "execution_count": 76,
     "metadata": {},
     "output_type": "execute_result"
    }
   ],
   "source": [
    "labels, labels_dict = label_encode(adata.obs[label])\n",
    "adata.obs['label'] = labels\n",
    "adata"
   ]
  },
  {
   "cell_type": "markdown",
   "id": "73d5ceed",
   "metadata": {},
   "source": [
    "## Testing"
   ]
  },
  {
   "cell_type": "markdown",
   "id": "eff268eb-581b-4a11-8bba-bc9e8e4e4ab7",
   "metadata": {},
   "source": [
    "### PCoA"
   ]
  },
  {
   "cell_type": "code",
   "execution_count": 48,
   "id": "e19e3976-dacf-40c3-9879-e473df49df8d",
   "metadata": {},
   "outputs": [
    {
     "name": "stdout",
     "output_type": "stream",
     "text": [
      "X:\n",
      " [[-0.33333333  0.         -1.        ]\n",
      " [-1.33333333 -2.          0.        ]\n",
      " [ 1.66666667  2.          1.        ]]\n",
      "D:\n",
      " [[0.         2.44948974 3.46410162]\n",
      " [2.44948974 0.         5.09901951]\n",
      " [3.46410162 5.09901951 0.        ]]\n"
     ]
    }
   ],
   "source": [
    "X = np.array([\n",
    "    [1, 0, 3],\n",
    "    [4, 2, 6],\n",
    "    [7, 8, 9]\n",
    "]).T  # Transpose to make rows as observations\n",
    "\n",
    "X = X - np.mean(X, axis=0)\n",
    "\n",
    "print('X:\\n', X)\n",
    "print('D:\\n',squareform(pdist(X, metric='euclidean')))"
   ]
  },
  {
   "cell_type": "markdown",
   "id": "20417894-0405-4726-b47d-9690dfefbdf7",
   "metadata": {},
   "source": [
    "#### PCoA"
   ]
  },
  {
   "cell_type": "code",
   "execution_count": 56,
   "id": "296fdce5-8898-48dc-85f6-bcd51b775b79",
   "metadata": {},
   "outputs": [
    {
     "name": "stdout",
     "output_type": "stream",
     "text": [
      "        PC1       PC2\n",
      "0 -0.439349  0.958167\n",
      "1 -2.326819 -0.603068\n",
      "2  2.766168 -0.355098\n"
     ]
    }
   ],
   "source": [
    "from skbio.stats.distance import DistanceMatrix\n",
    "from skbio.stats import ordination\n",
    "from scipy.spatial.distance import pdist, squareform, euclidean\n",
    "\n",
    "# L2 distance matrix\n",
    "D = squareform(pdist(X, metric='euclidean'))\n",
    "\n",
    "# PCoA\n",
    "k = 2\n",
    "pc_skbio = ordination.pcoa(DistanceMatrix(D, ids = list(range(3))), number_of_dimensions=k)\n",
    "print(pc_skbio.samples)"
   ]
  },
  {
   "cell_type": "markdown",
   "id": "6987310e-2255-4525-a940-21e79f32579b",
   "metadata": {},
   "source": [
    "#### PCA"
   ]
  },
  {
   "cell_type": "code",
   "execution_count": 86,
   "id": "21259b8a-331e-4af1-bf5a-7eee34b30c73",
   "metadata": {},
   "outputs": [
    {
     "name": "stdout",
     "output_type": "stream",
     "text": [
      "J:\n",
      " [[-0.2 -0.2 -0.2 -0.2 -0.2]\n",
      " [-0.2 -0.2 -0.2 -0.2 -0.2]\n",
      " [-0.2 -0.2 -0.2 -0.2 -0.2]\n",
      " [-0.2 -0.2 -0.2 -0.2 -0.2]\n",
      " [-0.2 -0.2 -0.2 -0.2 -0.2]]\n",
      "0:\n",
      " [-1. -1. -1. -1. -1.]\n"
     ]
    }
   ],
   "source": [
    "I = np.ones(5)\n",
    "n = 5 \n",
    "J =  - 1/n * np.outer(I, I)\n",
    "print('J:\\n', J)\n",
    "print('0:\\n',J @ I)\n"
   ]
  },
  {
   "cell_type": "code",
   "execution_count": 90,
   "id": "bd63c580-925f-44ef-b92f-648bd320928f",
   "metadata": {},
   "outputs": [
    {
     "name": "stdout",
     "output_type": "stream",
     "text": [
      "PCs:\n",
      " [[-0.43934865  0.95816694]\n",
      " [-2.3268189  -0.60306849]\n",
      " [ 2.76616754 -0.35509845]]\n"
     ]
    }
   ],
   "source": [
    "from sklearn.decomposition import PCA\n",
    "\n",
    "pca = PCA(n_components=2, svd_solver='full')\n",
    "pca_coords = pca.fit_transform(X)\n",
    "print('PCs:\\n',pca_coords)"
   ]
  },
  {
   "cell_type": "code",
   "execution_count": 91,
   "id": "c4ca0791-08df-4626-b587-fea57abdc21a",
   "metadata": {},
   "outputs": [
    {
     "name": "stdout",
     "output_type": "stream",
     "text": [
      "[[-0.33333333  0.         -1.        ]\n",
      " [-1.33333333 -2.          0.        ]\n",
      " [ 1.66666667  2.          1.        ]]\n",
      "Numpy  covariance matrix:\n",
      " [[2.33333333 3.         1.        ]\n",
      " [3.         4.         1.        ]\n",
      " [1.         1.         1.        ]]\n",
      "Manual covariance matrix:\n",
      " [[2.33333333 3.         1.        ]\n",
      " [3.         4.         1.        ]\n",
      " [1.         1.         1.        ]]\n"
     ]
    }
   ],
   "source": [
    "import numpy as np\n",
    "\n",
    "print(X)\n",
    "print(\"Numpy  covariance matrix:\\n\", np.cov(X.T))\n",
    "print(\"Manual covariance matrix:\\n\", (X.T @ X) / (X.shape[0] - 1))"
   ]
  },
  {
   "cell_type": "code",
   "execution_count": null,
   "id": "a44e4a88-0acd-4183-97b8-7708ee4305cf",
   "metadata": {},
   "outputs": [],
   "source": [
    "data = sc.pp.subsample(adata, fraction = 0.01, copy = True, random_state = 42) \n",
    "data  = data[:100]\n",
    "# data = data.X.toarray()\n",
    "data.shape"
   ]
  },
  {
   "cell_type": "code",
   "execution_count": 104,
   "id": "df6cf532-68fb-472e-a831-053d690fdcb7",
   "metadata": {},
   "outputs": [
    {
     "name": "stdout",
     "output_type": "stream",
     "text": [
      "[[-1.09785242  0.21225396]\n",
      " [-0.99092452 -0.21962346]\n",
      " [ 2.08877695  0.0073695 ]]\n"
     ]
    }
   ],
   "source": [
    "data = np.array([[0.        , 0.29618223, 1.98029366],\n",
    "                 [0.29618223, 0.        , 1.8302808 ],\n",
    "                 [1.98029366, 1.8302808 , 0.        ]])\n",
    "from skbio.stats.distance import DistanceMatrix\n",
    "from skbio.stats import ordination\n",
    "dm = DistanceMatrix(squareform(pdist(data, metric='euclidean')), ids = list(range(3)))\n",
    "pc_skbio = ordination.pcoa(dm, number_of_dimensions=2, inplace=True)\n",
    "print(pc_skbio.samples.values)"
   ]
  },
  {
   "cell_type": "code",
   "execution_count": 101,
   "id": "96db572b-8566-47a0-ac35-51ccf2882056",
   "metadata": {},
   "outputs": [
    {
     "data": {
      "text/plain": [
       "array([[-1.09785242, -0.21225396],\n",
       "       [-0.99092452,  0.21962346],\n",
       "       [ 2.08877695, -0.0073695 ]])"
      ]
     },
     "execution_count": 101,
     "metadata": {},
     "output_type": "execute_result"
    }
   ],
   "source": [
    "from sklearn.decomposition import PCA\n",
    "\n",
    "a = np.array(data)\n",
    "pca = PCA(n_components=2, svd_solver='full')\n",
    "pca_coords = pca.fit_transform(a)\n",
    "pca_coords"
   ]
  },
  {
   "cell_type": "code",
   "execution_count": 110,
   "id": "4e3fbbec-1f45-4992-90bd-752f86123246",
   "metadata": {},
   "outputs": [
    {
     "data": {
      "text/plain": [
       "array([[1, 0, 3],\n",
       "       [4, 2, 6],\n",
       "       [7, 8, 9],\n",
       "       [0, 2, 1]])"
      ]
     },
     "execution_count": 110,
     "metadata": {},
     "output_type": "execute_result"
    }
   ],
   "source": [
    "X = np.array([\n",
    "    [1, 0, 3],\n",
    "    [4, 2, 6],\n",
    "    [7, 8, 9],\n",
    "    [0, 2, 1]\n",
    "])\n",
    "X"
   ]
  },
  {
   "cell_type": "code",
   "execution_count": 120,
   "id": "5e5c4107-589a-4e11-ba3e-f4dd450e9035",
   "metadata": {},
   "outputs": [
    {
     "name": "stdout",
     "output_type": "stream",
     "text": [
      "Eigenvalues of Covariance Matrix (X^TX):\n",
      " [ 6.47032607e+02  2.96739296e+00 -1.80720805e-14 -6.18478049e-17]\n",
      "\n",
      "Eigenvectors of Covariance Matrix (X^TX):\n",
      " [[-4.03617572e-01  7.32866192e-01  4.89586905e-01 -1.19976920e-04]\n",
      " [-4.64744130e-01  2.89849777e-01 -8.35819668e-01 -4.08088311e-01]\n",
      " [-5.25870689e-01 -1.53166638e-01  2.02878621e-01  8.16536554e-01]\n",
      " [-5.86997247e-01 -5.96183053e-01  1.43354142e-01 -4.08328265e-01]]\n",
      "Eigenvalues of Gram Matrix (XX^T):\n",
      " [-1.91892689e-14  2.96739296e+00  6.47032607e+02]\n",
      "\n",
      "Eigenvectors of Gram Matrix (XX^T):\n",
      " [[ 0.40824829 -0.88915331 -0.20673589]\n",
      " [-0.81649658 -0.25438183 -0.51828874]\n",
      " [ 0.40824829  0.38038964 -0.82984158]]\n"
     ]
    }
   ],
   "source": [
    "import numpy as np\n",
    "\n",
    "# Example matrix X\n",
    "X = np.array([[1, 2, 3, 4],\n",
    "              [5, 6, 7, 8],\n",
    "              [9, 10, 11, 12]])\n",
    "\n",
    "# Compute the covariance matrix\n",
    "covariance_matrix = np.dot(X.T, X)\n",
    "\n",
    "# Perform eigendecomposition of covariance matrix\n",
    "eigenvalues_cov, eigenvectors_cov = np.linalg.eig(covariance_matrix)\n",
    "\n",
    "print(\"Eigenvalues of Covariance Matrix (X^TX):\\n\", eigenvalues_cov)\n",
    "print(\"\\nEigenvectors of Covariance Matrix (X^TX):\\n\", eigenvectors_cov)\n",
    "\n",
    "# Compute the Gram matrix\n",
    "Gram = np.dot(X, X.T)\n",
    "\n",
    "# Perform eigendecomposition of Gram matrix\n",
    "eigenvalues_gram, eigenvectors_gram = np.linalg.eigh(Gram)\n",
    "\n",
    "print(\"Eigenvalues of Gram Matrix (XX^T):\\n\", eigenvalues_gram)\n",
    "print(\"\\nEigenvectors of Gram Matrix (XX^T):\\n\", eigenvectors_gram)\n",
    "\n"
   ]
  },
  {
   "cell_type": "code",
   "execution_count": 121,
   "id": "d6008513-f759-40fe-b76e-2e56a4984275",
   "metadata": {},
   "outputs": [
    {
     "name": "stdout",
     "output_type": "stream",
     "text": [
      "Original Eigenvectors of Covariance Matrix (X^TX):\n",
      " [[-0.47967118 -0.77669099  0.40824829]\n",
      " [-0.57236779 -0.07568647 -0.81649658]\n",
      " [-0.66506441  0.62531805  0.40824829]]\n",
      "\n",
      "Transformed Eigenvectors obtained from Gram Matrix (XX^T):\n",
      " [[-2.84703369e-02 -7.26987227e-01  1.26846926e+07]\n",
      " [-3.39722390e-02 -7.08429706e-02 -2.53693851e+07]\n",
      " [-3.94741412e-02  5.85301285e-01  1.26846926e+07]]\n",
      "\n",
      "Dot Products between corresponding eigenvectors:\n",
      "Eigenvector 1 : 8436137.152720341\n",
      "Eigenvector 2 : 15863934.419446098\n",
      "Eigenvector 3 : 5178503.563696462\n"
     ]
    }
   ],
   "source": [
    "import numpy as np\n",
    "\n",
    "# Example matrix X\n",
    "X = np.array([[1, 2, 3],\n",
    "              [4, 5, 6],\n",
    "              [7, 8, 9]])\n",
    "\n",
    "# Compute the covariance matrix\n",
    "covariance_matrix = np.dot(X.T, X)\n",
    "\n",
    "# Perform eigendecomposition of covariance matrix\n",
    "eigenvalues_cov, eigenvectors_cov = np.linalg.eig(covariance_matrix)\n",
    "\n",
    "# Compute the Gram matrix\n",
    "Gram = np.dot(X, X.T)\n",
    "\n",
    "# Perform eigendecomposition of Gram matrix\n",
    "eigenvalues_gram, eigenvectors_gram = np.linalg.eigh(Gram)\n",
    "\n",
    "# Transform eigenvectors obtained from Gram matrix\n",
    "transformed_eigenvectors_gram = np.dot(np.linalg.inv(np.diag(np.sqrt(eigenvalues_cov))), eigenvectors_cov.T).T\n",
    "\n",
    "# Compare eigenvectors\n",
    "print(\"Original Eigenvectors of Covariance Matrix (X^TX):\\n\", eigenvectors_cov)\n",
    "print(\"\\nTransformed Eigenvectors obtained from Gram Matrix (XX^T):\\n\", transformed_eigenvectors_gram)\n",
    "\n",
    "# Calculate the dot product between the original and transformed eigenvectors\n",
    "dot_products = np.abs(np.diag(np.dot(eigenvectors_cov.T, transformed_eigenvectors_gram.T)))\n",
    "\n",
    "print(\"\\nDot Products between corresponding eigenvectors:\")\n",
    "for i, dp in enumerate(dot_products):\n",
    "    print(\"Eigenvector\", i+1, \":\", dp)\n"
   ]
  },
  {
   "cell_type": "code",
   "execution_count": 122,
   "id": "012e4728-c4c2-4475-bece-683e3c7855da",
   "metadata": {},
   "outputs": [
    {
     "data": {
      "text/plain": [
       "array([[-2.14837238e-01,  8.87230688e-01,  3.29434571e-07],\n",
       "       [-5.20587389e-01,  2.49643953e-01,  1.06936877e-07],\n",
       "       [-8.26337541e-01, -3.87942782e-01, -1.08661665e-07]])"
      ]
     },
     "execution_count": 122,
     "metadata": {},
     "output_type": "execute_result"
    }
   ],
   "source": [
    "import numpy as np\n",
    "\n",
    "# Compute the covariance matrix\n",
    "covariance_matrix = np.dot(X.T, X)\n",
    "\n",
    "# Perform eigendecomposition of covariance matrix\n",
    "eigenvalues_cov, eigenvectors_cov = np.linalg.eig(covariance_matrix)\n",
    "\n",
    "# Compute the singular values and create the diagonal matrix\n",
    "Sigma = np.sqrt(np.diag(eigenvalues_cov))\n",
    "\n",
    "# Transform eigenvectors obtained from Gram matrix\n",
    "transformed_eigenvectors_gram = np.dot(np.linalg.inv(Sigma), np.dot(eigenvectors_cov.T, X.T)).T\n",
    "transformed_eigenvectors_gram"
   ]
  },
  {
   "cell_type": "code",
   "execution_count": null,
   "id": "2f8b71e2-ed4d-480e-8e39-1213915c6c99",
   "metadata": {},
   "outputs": [],
   "source": [
    "# Exclude zero eigenvalues\n",
    "nonzero_indices = eigenvalues > 0\n",
    "U = U[:, nonzero_indices]\n",
    "eigenvalues = eigenvalues[nonzero_indices]\n",
    "\n",
    "# Compute the singular values and create the diagonal matrix\n",
    "Sigma = np.sqrt(np.diag(eigenvalues))\n",
    "\n",
    "# Compute V using the relation V = Σ^-1 * U^T * X\n",
    "V = np.dot(np.linalg.pinv(Sigma), np.dot(U.T, X))\n",
    "\n",
    "# Now, V contains the eigenvectors of the original matrix X\n",
    "print(\"Eigenvectors of X:\\n\", V)\n"
   ]
  },
  {
   "cell_type": "markdown",
   "id": "0456616d-aa67-4b40-83c9-bbdad793d1d9",
   "metadata": {},
   "source": [
    "### Leiden"
   ]
  },
  {
   "cell_type": "markdown",
   "id": "cf71a48a-72dd-4ec4-847d-d540cb6cfd87",
   "metadata": {},
   "source": [
    "PCA"
   ]
  },
  {
   "cell_type": "code",
   "execution_count": 77,
   "id": "b7f94259-1454-4241-ba32-2bf670dc62d2",
   "metadata": {},
   "outputs": [
    {
     "data": {
      "text/plain": [
       "AnnData object with n_obs × n_vars = 6877 × 1714\n",
       "    obs: 'organ_tissue', 'method', 'donor', 'anatomical_information', 'n_counts_UMIs', 'n_genes', 'cell_ontology_class', 'free_annotation', 'manually_annotated', 'compartment', 'gender', 'tissue', 'tissue_celltype', 'n_genes_by_counts', 'total_counts', 'total_counts_mt', 'pct_counts_mt', 'label'\n",
       "    var: 'gene_symbol', 'feature_type', 'ensemblid', 'highly_variable', 'means', 'dispersions', 'dispersions_norm', 'mean', 'std', 'n_cells', 'mt', 'n_cells_by_counts', 'mean_counts', 'pct_dropout_by_counts', 'total_counts'\n",
       "    uns: '_scvi', '_training_mode', 'dendrogram_cell_type_tissue', 'dendrogram_computational_compartment_assignment', 'dendrogram_consensus_prediction', 'dendrogram_tissue_cell_type', 'donor_colors', 'donor_method_colors', 'hvg', 'method_colors', 'neighbors', 'sex_colors', 'tissue_colors', 'umap', 'log1p'\n",
       "    obsm: 'X_pca', 'X_scvi', 'X_scvi_umap', 'X_umap'\n",
       "    layers: 'raw_counts'\n",
       "    obsp: 'connectivities', 'distances'"
      ]
     },
     "execution_count": 77,
     "metadata": {},
     "output_type": "execute_result"
    }
   ],
   "source": [
    "sc.pp.subsample(adata, fraction = 0.7, copy = True, random_state = 42) "
   ]
  },
  {
   "cell_type": "code",
   "execution_count": 85,
   "id": "0749c220-2029-4c38-a42b-dc39067e8ef9",
   "metadata": {},
   "outputs": [
    {
     "name": "stdout",
     "output_type": "stream",
     "text": [
      "PCA running time: 1.0558085441589355\n"
     ]
    },
    {
     "data": {
      "text/plain": [
       "12"
      ]
     },
     "execution_count": 85,
     "metadata": {},
     "output_type": "execute_result"
    }
   ],
   "source": [
    "# leiden clustering\n",
    "data = sc.pp.subsample(adata, fraction = 0.7, copy = True, random_state = 99999) \n",
    "## PCA\n",
    "start_time = time.time()\n",
    "sc.tl.pca(data, svd_solver='arpack')\n",
    "print(\"PCA running time:\", time.time() - start_time)\n",
    "## KNN\n",
    "sc.pp.neighbors(data, n_neighbors = 10, n_pcs=40, metric = 'l1', use_rep = 'X_pca', key_added = 'neighbors_pca')\n",
    "## Leiden\n",
    "sc.tl.leiden(data, resolution = 0.4,  neighbors_key = 'neighbors_pca', key_added  = 'leiden_pca')\n",
    "len(data.obs['leiden_pca'].unique())"
   ]
  },
  {
   "cell_type": "code",
   "execution_count": null,
   "id": "aa093c67-5b47-49a6-8001-4616aabde0ea",
   "metadata": {},
   "outputs": [],
   "source": [
    "Counter(adata.obs['leiden'])"
   ]
  },
  {
   "cell_type": "markdown",
   "id": "cd215115-c80f-4aa8-a9fa-07b7f3b787cd",
   "metadata": {},
   "source": [
    "PCoA(MDS)"
   ]
  },
  {
   "cell_type": "markdown",
   "id": "ad7e23a5-6064-4340-93cf-568838f54525",
   "metadata": {
    "jp-MarkdownHeadingCollapsed": true
   },
   "source": [
    "### BanditPAM"
   ]
  },
  {
   "cell_type": "code",
   "execution_count": 7,
   "id": "efc20a96-a8dd-4d7c-982b-09d92e9adcbc",
   "metadata": {},
   "outputs": [],
   "source": [
    "kmed = KMedoids(n_medoids = 11, algorithm=\"BanditPAM\")\n",
    "kmed.fit(data.X.toarray(), 'cos')\n",
    "data.obs['cos'] = pd.Series(kmed.labels, index=data.obs.index, dtype=\"category\")"
   ]
  },
  {
   "cell_type": "code",
   "execution_count": 150,
   "id": "24c79c1c-9b0a-4653-9130-d3be9a5d4e48",
   "metadata": {},
   "outputs": [
    {
     "data": {
      "text/plain": [
       "12"
      ]
     },
     "execution_count": 150,
     "metadata": {},
     "output_type": "execute_result"
    }
   ],
   "source": [
    "len(data.obs['label_2'].unique())"
   ]
  },
  {
   "cell_type": "code",
   "execution_count": 12,
   "id": "fd3b3006-24e0-494f-a750-f4f241837a7f",
   "metadata": {},
   "outputs": [],
   "source": [
    "data.obs['cos'] = pd.Categorical(values=kmed.labels, categories=np.unique(kmed.labels))"
   ]
  },
  {
   "cell_type": "markdown",
   "id": "564a2ff8-b4ff-4c2a-91d1-890e893f27b1",
   "metadata": {
    "jp-MarkdownHeadingCollapsed": true
   },
   "source": [
    "### clustering result"
   ]
  },
  {
   "cell_type": "code",
   "execution_count": 21,
   "id": "1e425ccb-ae24-4999-9e9e-63ca46ca34c2",
   "metadata": {},
   "outputs": [
    {
     "name": "stderr",
     "output_type": "stream",
     "text": [
      "/home/chunchua/miniconda3/envs/lab/lib/python3.11/site-packages/scanpy/plotting/_tools/scatterplots.py:1251: FutureWarning: The default value of 'ignore' for the `na_action` parameter in pandas.Categorical.map is deprecated and will be changed to 'None' in a future version. Please set na_action to the desired value to avoid seeing this warning\n",
      "  color_vector = pd.Categorical(values.map(color_map))\n",
      "/home/chunchua/miniconda3/envs/lab/lib/python3.11/site-packages/scanpy/plotting/_tools/scatterplots.py:394: UserWarning: No data for colormapping provided via 'c'. Parameters 'cmap' will be ignored\n",
      "  cax = scatter(\n"
     ]
    },
    {
     "data": {
      "image/png": "[encoded data removed]",
      "text/plain": [
       "<Figure size 640x480 with 1 Axes>"
      ]
     },
     "metadata": {},
     "output_type": "display_data"
    }
   ],
   "source": [
    "# UMAP embedding based on KNN\n",
    "sc.tl.umap(data)\n",
    "sc.pl.umap(data, color = ['leiden_pca'])#, 'leiden_pcoa', 'label_2'])"
   ]
  },
  {
   "cell_type": "code",
   "execution_count": 22,
   "id": "ca8f8b8e-401a-416e-ae8a-88e4dbfe6e18",
   "metadata": {},
   "outputs": [
    {
     "data": {
      "text/plain": [
       "0.7211077325181372"
      ]
     },
     "execution_count": 22,
     "metadata": {},
     "output_type": "execute_result"
    }
   ],
   "source": [
    "normalized_mutual_info_score(data.obs['label_2'], data.obs['leiden_pca'])"
   ]
  },
  {
   "cell_type": "code",
   "execution_count": 140,
   "id": "236f61ce-ff9a-41d3-aaa3-0a4c1ee39957",
   "metadata": {},
   "outputs": [
    {
     "data": {
      "text/plain": [
       "0.9444014966872378"
      ]
     },
     "execution_count": 140,
     "metadata": {},
     "output_type": "execute_result"
    }
   ],
   "source": [
    "## KNN\n",
    "sc.pp.neighbors(data, n_neighbors = 10, metric = 'correlation', use_rep = 'X_pcoa', key_added = 'neighbors_pcoa')\n",
    "## Leiden\n",
    "sc.tl.leiden(data, resolution = 0.3, neighbors_key = 'neighbors_pcoa', key_added  = 'leiden_pcoa')\n",
    "normalized_mutual_info_score(data.obs['label_2'], data.obs['leiden_pcoa'])"
   ]
  },
  {
   "cell_type": "markdown",
   "id": "ecd562c9-e3c6-4008-bb4f-3e6e84c4ba71",
   "metadata": {},
   "source": [
    "## Experiment"
   ]
  },
  {
   "cell_type": "code",
   "execution_count": 69,
   "id": "c69f7425-6ef4-42e2-b94f-5238c885310f",
   "metadata": {},
   "outputs": [
    {
     "data": {
      "text/html": [
       "<div>\n",
       "<style scoped>\n",
       "    .dataframe tbody tr th:only-of-type {\n",
       "        vertical-align: middle;\n",
       "    }\n",
       "\n",
       "    .dataframe tbody tr th {\n",
       "        vertical-align: top;\n",
       "    }\n",
       "\n",
       "    .dataframe thead th {\n",
       "        text-align: right;\n",
       "    }\n",
       "</style>\n",
       "<table border=\"1\" class=\"dataframe\">\n",
       "  <thead>\n",
       "    <tr style=\"text-align: right;\">\n",
       "      <th></th>\n",
       "      <th>trial</th>\n",
       "      <th>dataset</th>\n",
       "      <th>algorithm</th>\n",
       "      <th>rd_metric</th>\n",
       "      <th>alg_metric</th>\n",
       "      <th>NMI</th>\n",
       "      <th>time</th>\n",
       "      <th>#k</th>\n",
       "    </tr>\n",
       "  </thead>\n",
       "  <tbody>\n",
       "    <tr>\n",
       "      <th>0</th>\n",
       "      <td>0</td>\n",
       "      <td>TMS_fasq</td>\n",
       "      <td>leiden</td>\n",
       "      <td>pca</td>\n",
       "      <td>l1</td>\n",
       "      <td>0.931625</td>\n",
       "      <td>31.252245</td>\n",
       "      <td>12</td>\n",
       "    </tr>\n",
       "    <tr>\n",
       "      <th>1</th>\n",
       "      <td>0</td>\n",
       "      <td>TMS_fasq</td>\n",
       "      <td>leiden</td>\n",
       "      <td>pca</td>\n",
       "      <td>l2</td>\n",
       "      <td>0.917861</td>\n",
       "      <td>6.534030</td>\n",
       "      <td>13</td>\n",
       "    </tr>\n",
       "    <tr>\n",
       "      <th>2</th>\n",
       "      <td>0</td>\n",
       "      <td>TMS_fasq</td>\n",
       "      <td>leiden</td>\n",
       "      <td>pca</td>\n",
       "      <td>cosine</td>\n",
       "      <td>0.920898</td>\n",
       "      <td>7.414764</td>\n",
       "      <td>13</td>\n",
       "    </tr>\n",
       "    <tr>\n",
       "      <th>3</th>\n",
       "      <td>0</td>\n",
       "      <td>TMS_fasq</td>\n",
       "      <td>leiden</td>\n",
       "      <td>pca</td>\n",
       "      <td>correlation</td>\n",
       "      <td>0.924909</td>\n",
       "      <td>7.523328</td>\n",
       "      <td>14</td>\n",
       "    </tr>\n",
       "    <tr>\n",
       "      <th>4</th>\n",
       "      <td>0</td>\n",
       "      <td>TMS_fasq</td>\n",
       "      <td>leiden</td>\n",
       "      <td>l1</td>\n",
       "      <td>l1</td>\n",
       "      <td>0.941711</td>\n",
       "      <td>1.037526</td>\n",
       "      <td>12</td>\n",
       "    </tr>\n",
       "    <tr>\n",
       "      <th>...</th>\n",
       "      <td>...</td>\n",
       "      <td>...</td>\n",
       "      <td>...</td>\n",
       "      <td>...</td>\n",
       "      <td>...</td>\n",
       "      <td>...</td>\n",
       "      <td>...</td>\n",
       "      <td>...</td>\n",
       "    </tr>\n",
       "    <tr>\n",
       "      <th>1135</th>\n",
       "      <td>11</td>\n",
       "      <td>nathon</td>\n",
       "      <td>leiden</td>\n",
       "      <td>cosine</td>\n",
       "      <td>correlation</td>\n",
       "      <td>0.292608</td>\n",
       "      <td>3.484659</td>\n",
       "      <td>12</td>\n",
       "    </tr>\n",
       "    <tr>\n",
       "      <th>1136</th>\n",
       "      <td>11</td>\n",
       "      <td>nathon</td>\n",
       "      <td>leiden</td>\n",
       "      <td>correlation</td>\n",
       "      <td>l1</td>\n",
       "      <td>0.281051</td>\n",
       "      <td>3.762311</td>\n",
       "      <td>11</td>\n",
       "    </tr>\n",
       "    <tr>\n",
       "      <th>1137</th>\n",
       "      <td>11</td>\n",
       "      <td>nathon</td>\n",
       "      <td>leiden</td>\n",
       "      <td>correlation</td>\n",
       "      <td>l2</td>\n",
       "      <td>0.287533</td>\n",
       "      <td>3.723651</td>\n",
       "      <td>10</td>\n",
       "    </tr>\n",
       "    <tr>\n",
       "      <th>1138</th>\n",
       "      <td>11</td>\n",
       "      <td>nathon</td>\n",
       "      <td>leiden</td>\n",
       "      <td>correlation</td>\n",
       "      <td>cosine</td>\n",
       "      <td>0.281199</td>\n",
       "      <td>4.062556</td>\n",
       "      <td>10</td>\n",
       "    </tr>\n",
       "    <tr>\n",
       "      <th>1139</th>\n",
       "      <td>11</td>\n",
       "      <td>nathon</td>\n",
       "      <td>leiden</td>\n",
       "      <td>correlation</td>\n",
       "      <td>correlation</td>\n",
       "      <td>0.280885</td>\n",
       "      <td>2.938000</td>\n",
       "      <td>10</td>\n",
       "    </tr>\n",
       "  </tbody>\n",
       "</table>\n",
       "<p>1140 rows × 8 columns</p>\n",
       "</div>"
      ],
      "text/plain": [
       "      trial   dataset algorithm    rd_metric   alg_metric       NMI  \\\n",
       "0         0  TMS_fasq    leiden          pca           l1  0.931625   \n",
       "1         0  TMS_fasq    leiden          pca           l2  0.917861   \n",
       "2         0  TMS_fasq    leiden          pca       cosine  0.920898   \n",
       "3         0  TMS_fasq    leiden          pca  correlation  0.924909   \n",
       "4         0  TMS_fasq    leiden           l1           l1  0.941711   \n",
       "...     ...       ...       ...          ...          ...       ...   \n",
       "1135     11    nathon    leiden       cosine  correlation  0.292608   \n",
       "1136     11    nathon    leiden  correlation           l1  0.281051   \n",
       "1137     11    nathon    leiden  correlation           l2  0.287533   \n",
       "1138     11    nathon    leiden  correlation       cosine  0.281199   \n",
       "1139     11    nathon    leiden  correlation  correlation  0.280885   \n",
       "\n",
       "           time  #k  \n",
       "0     31.252245  12  \n",
       "1      6.534030  13  \n",
       "2      7.414764  13  \n",
       "3      7.523328  14  \n",
       "4      1.037526  12  \n",
       "...         ...  ..  \n",
       "1135   3.484659  12  \n",
       "1136   3.762311  11  \n",
       "1137   3.723651  10  \n",
       "1138   4.062556  10  \n",
       "1139   2.938000  10  \n",
       "\n",
       "[1140 rows x 8 columns]"
      ]
     },
     "execution_count": 69,
     "metadata": {},
     "output_type": "execute_result"
    }
   ],
   "source": [
    "# res = pd.DataFrame(columns=['trial', 'dataset', 'algorithm', 'rd_metric', 'alg_metric', 'NMI', 'time', '#k'])\n",
    "res = pd.read_csv('results_0410.csv')\n",
    "res"
   ]
  },
  {
   "cell_type": "code",
   "execution_count": 20,
   "id": "4df428d7-ea9f-4cc5-9ed5-dafc7d0fdf6a",
   "metadata": {},
   "outputs": [
    {
     "data": {
      "text/plain": [
       "AnnData object with n_obs × n_vars = 6905 × 2613\n",
       "    obs: 'organ_tissue', 'method', 'donor', 'anatomical_information', 'n_counts_UMIs', 'n_genes', 'cell_ontology_class', 'free_annotation', 'manually_annotated', 'compartment', 'gender', 'tissue', 'tissue_celltype', 'n_genes_by_counts', 'total_counts', 'total_counts_mt', 'pct_counts_mt', 'label'\n",
       "    var: 'gene_symbol', 'feature_type', 'ensemblid', 'highly_variable', 'means', 'dispersions', 'dispersions_norm', 'mean', 'std', 'n_cells', 'mt', 'n_cells_by_counts', 'mean_counts', 'pct_dropout_by_counts', 'total_counts'\n",
       "    uns: '_scvi', '_training_mode', 'dendrogram_cell_type_tissue', 'dendrogram_computational_compartment_assignment', 'dendrogram_consensus_prediction', 'dendrogram_tissue_cell_type', 'donor_colors', 'donor_method_colors', 'hvg', 'method_colors', 'neighbors', 'sex_colors', 'tissue_colors', 'umap', 'log1p'\n",
       "    obsm: 'X_pca', 'X_scvi', 'X_scvi_umap', 'X_umap'\n",
       "    layers: 'raw_counts'\n",
       "    obsp: 'connectivities', 'distances'"
      ]
     },
     "execution_count": 20,
     "metadata": {},
     "output_type": "execute_result"
    }
   ],
   "source": [
    "sc.pp.subsample(adata, fraction = 0.045, copy = True, random_state =42+72221) "
   ]
  },
  {
   "cell_type": "code",
   "execution_count": 86,
   "id": "6eb0bb10-6ae6-414b-89fe-23f50399cb94",
   "metadata": {},
   "outputs": [
    {
     "name": "stdout",
     "output_type": "stream",
     "text": [
      "Algorithm: l, Trial: 0, Feature: pca, Metric: l1\t, NMI: 0.7967160151104139, \t Time: 2.0159807205200195 k: 12\n",
      "Algorithm: l, Trial: 0, Feature: pca, Metric: l2\t, NMI: 0.8080674525584121, \t Time: 1.6986353397369385 k: 13\n",
      "Algorithm: l, Trial: 0, Feature: pca, Metric: cos\t, NMI: 0.7886903885026525, \t Time: 1.7922754287719727 k: 15\n",
      "Algorithm: l, Trial: 0, Feature: pca, Metric: cor\t, NMI: 0.7840238929302813, \t Time: 1.874445915222168 k: 15\n",
      "Algorithm: l, Trial: 0, Feature: l1, Metric: l1\t, NMI: 0.8058845621148968, \t Time: 1.8269364833831787 k: 12\n",
      "Algorithm: l, Trial: 0, Feature: l1, Metric: l2\t, NMI: 0.7996878475250441, \t Time: 1.937988519668579 k: 13\n",
      "Algorithm: l, Trial: 0, Feature: l1, Metric: cos\t, NMI: 0.7894796459193989, \t Time: 1.4618589878082275 k: 15\n",
      "Algorithm: l, Trial: 0, Feature: l1, Metric: cor\t, NMI: 0.7907878257989668, \t Time: 1.7764227390289307 k: 16\n",
      "Algorithm: l, Trial: 0, Feature: l2, Metric: l1\t, NMI: 0.7966210066175274, \t Time: 1.8544731140136719 k: 12\n",
      "Algorithm: l, Trial: 0, Feature: l2, Metric: l2\t, NMI: 0.8018701321714485, \t Time: 1.3766441345214844 k: 12\n",
      "Algorithm: l, Trial: 0, Feature: l2, Metric: cos\t, NMI: 0.7886903885026525, \t Time: 1.775139331817627 k: 15\n",
      "Algorithm: l, Trial: 0, Feature: l2, Metric: cor\t, NMI: 0.7885250624649759, \t Time: 2.6491737365722656 k: 14\n",
      "Algorithm: l, Trial: 0, Feature: cos, Metric: l1\t, NMI: 0.8280448341126851, \t Time: 1.616528034210205 k: 9\n",
      "Algorithm: l, Trial: 0, Feature: cos, Metric: l2\t, NMI: 0.8280447247069224, \t Time: 1.646101951599121 k: 9\n",
      "Algorithm: l, Trial: 0, Feature: cos, Metric: cos\t, NMI: 0.810553530838442, \t Time: 2.010545015335083 k: 12\n",
      "Algorithm: l, Trial: 0, Feature: cos, Metric: cor\t, NMI: 0.8230196311664012, \t Time: 1.8623433113098145 k: 11\n",
      "Algorithm: l, Trial: 0, Feature: cor, Metric: l1\t, NMI: 0.8255096884653145, \t Time: 1.6398274898529053 k: 9\n",
      "Algorithm: l, Trial: 0, Feature: cor, Metric: l2\t, NMI: 0.816307149449257, \t Time: 1.4730710983276367 k: 10\n",
      "Algorithm: l, Trial: 0, Feature: cor, Metric: cos\t, NMI: 0.819159499848341, \t Time: 1.6874845027923584 k: 11\n",
      "Algorithm: l, Trial: 0, Feature: cor, Metric: cor\t, NMI: 0.829810154617576, \t Time: 1.6784477233886719 k: 10\n",
      "Algorithm: l, Trial: 1, Feature: pca, Metric: l1\t, NMI: 0.7941944675853226, \t Time: 1.5614309310913086 k: 13\n",
      "Algorithm: l, Trial: 1, Feature: pca, Metric: l2\t, NMI: 0.7856386002121495, \t Time: 1.4877972602844238 k: 13\n",
      "Algorithm: l, Trial: 1, Feature: pca, Metric: cos\t, NMI: 0.7949107567782885, \t Time: 1.5902223587036133 k: 16\n",
      "Algorithm: l, Trial: 1, Feature: pca, Metric: cor\t, NMI: 0.7861599608950356, \t Time: 1.619621753692627 k: 17\n",
      "Algorithm: l, Trial: 1, Feature: l1, Metric: l1\t, NMI: 0.7995418700825158, \t Time: 1.9403815269470215 k: 11\n",
      "Algorithm: l, Trial: 1, Feature: l1, Metric: l2\t, NMI: 0.8089444931360298, \t Time: 1.7813189029693604 k: 12\n",
      "Algorithm: l, Trial: 1, Feature: l1, Metric: cos\t, NMI: 0.7948977553976926, \t Time: 1.6286251544952393 k: 15\n",
      "Algorithm: l, Trial: 1, Feature: l1, Metric: cor\t, NMI: 0.7973350404250543, \t Time: 1.6204683780670166 k: 15\n",
      "Algorithm: l, Trial: 1, Feature: l2, Metric: l1\t, NMI: 0.7929132428687603, \t Time: 1.582564353942871 k: 13\n",
      "Algorithm: l, Trial: 1, Feature: l2, Metric: l2\t, NMI: 0.7857839248849775, \t Time: 1.5218892097473145 k: 13\n",
      "Algorithm: l, Trial: 1, Feature: l2, Metric: cos\t, NMI: 0.7970915765142977, \t Time: 1.9541409015655518 k: 16\n",
      "Algorithm: l, Trial: 1, Feature: l2, Metric: cor\t, NMI: 0.7866552368064436, \t Time: 1.8895025253295898 k: 17\n",
      "Algorithm: l, Trial: 1, Feature: cos, Metric: l1\t, NMI: 0.8161212176841646, \t Time: 1.6028861999511719 k: 11\n",
      "Algorithm: l, Trial: 1, Feature: cos, Metric: l2\t, NMI: 0.7993396830002063, \t Time: 1.6583614349365234 k: 12\n",
      "Algorithm: l, Trial: 1, Feature: cos, Metric: cos\t, NMI: 0.8060693115079044, \t Time: 1.987788438796997 k: 13\n",
      "Algorithm: l, Trial: 1, Feature: cos, Metric: cor\t, NMI: 0.807687794765245, \t Time: 1.51432466506958 k: 13\n",
      "Algorithm: l, Trial: 1, Feature: cor, Metric: l1\t, NMI: 0.8156022742670854, \t Time: 1.6650772094726562 k: 10\n",
      "Algorithm: l, Trial: 1, Feature: cor, Metric: l2\t, NMI: 0.8080642157501633, \t Time: 1.6221182346343994 k: 13\n",
      "Algorithm: l, Trial: 1, Feature: cor, Metric: cos\t, NMI: 0.8092796977057922, \t Time: 1.502587080001831 k: 13\n",
      "Algorithm: l, Trial: 1, Feature: cor, Metric: cor\t, NMI: 0.8056332631096843, \t Time: 1.8344297409057617 k: 13\n",
      "Algorithm: l, Trial: 2, Feature: pca, Metric: l1\t, NMI: 0.8029655835195827, \t Time: 1.8580589294433594 k: 11\n",
      "Algorithm: l, Trial: 2, Feature: pca, Metric: l2\t, NMI: 0.7892295973167143, \t Time: 1.7363708019256592 k: 13\n",
      "Algorithm: l, Trial: 2, Feature: pca, Metric: cos\t, NMI: 0.800914805478487, \t Time: 2.060661792755127 k: 14\n",
      "Algorithm: l, Trial: 2, Feature: pca, Metric: cor\t, NMI: 0.7910947365852503, \t Time: 1.5724287033081055 k: 12\n",
      "Algorithm: l, Trial: 2, Feature: l1, Metric: l1\t, NMI: 0.8073273083410355, \t Time: 1.646392583847046 k: 11\n",
      "Algorithm: l, Trial: 2, Feature: l1, Metric: l2\t, NMI: 0.8209228739251151, \t Time: 1.7766902446746826 k: 10\n",
      "Algorithm: l, Trial: 2, Feature: l1, Metric: cos\t, NMI: 0.8055190066218868, \t Time: 2.1000428199768066 k: 12\n",
      "Algorithm: l, Trial: 2, Feature: l1, Metric: cor\t, NMI: 0.7991694930564356, \t Time: 1.79052734375 k: 12\n",
      "Algorithm: l, Trial: 2, Feature: l2, Metric: l1\t, NMI: 0.7899003321437517, \t Time: 1.5723085403442383 k: 11\n",
      "Algorithm: l, Trial: 2, Feature: l2, Metric: l2\t, NMI: 0.7900704450902941, \t Time: 1.5873363018035889 k: 13\n",
      "Algorithm: l, Trial: 2, Feature: l2, Metric: cos\t, NMI: 0.7988288807054024, \t Time: 1.7895476818084717 k: 13\n",
      "Algorithm: l, Trial: 2, Feature: l2, Metric: cor\t, NMI: 0.8029595236421194, \t Time: 1.6113817691802979 k: 12\n",
      "Algorithm: l, Trial: 2, Feature: cos, Metric: l1\t, NMI: 0.8233185115688326, \t Time: 1.509131669998169 k: 9\n",
      "Algorithm: l, Trial: 2, Feature: cos, Metric: l2\t, NMI: 0.8067660404261571, \t Time: 1.6341283321380615 k: 11\n",
      "Algorithm: l, Trial: 2, Feature: cos, Metric: cos\t, NMI: 0.8279693162511813, \t Time: 1.6533458232879639 k: 10\n",
      "Algorithm: l, Trial: 2, Feature: cos, Metric: cor\t, NMI: 0.8247068825523438, \t Time: 1.4807374477386475 k: 10\n",
      "Algorithm: l, Trial: 2, Feature: cor, Metric: l1\t, NMI: 0.8223811522478566, \t Time: 1.6358530521392822 k: 9\n",
      "Algorithm: l, Trial: 2, Feature: cor, Metric: l2\t, NMI: 0.8293095158862498, \t Time: 1.6447272300720215 k: 9\n",
      "Algorithm: l, Trial: 2, Feature: cor, Metric: cos\t, NMI: 0.8120554404325826, \t Time: 1.694718360900879 k: 11\n",
      "Algorithm: l, Trial: 2, Feature: cor, Metric: cor\t, NMI: 0.8312898483812875, \t Time: 1.524829626083374 k: 9\n",
      "Algorithm: l, Trial: 3, Feature: pca, Metric: l1\t, NMI: 0.7912671182256685, \t Time: 1.6706774234771729 k: 13\n",
      "Algorithm: l, Trial: 3, Feature: pca, Metric: l2\t, NMI: 0.7842823712841527, \t Time: 2.268958806991577 k: 12\n",
      "Algorithm: l, Trial: 3, Feature: pca, Metric: cos\t, NMI: 0.7915856658139898, \t Time: 1.7713243961334229 k: 15\n",
      "Algorithm: l, Trial: 3, Feature: pca, Metric: cor\t, NMI: 0.7819869497366391, \t Time: 1.4769306182861328 k: 14\n",
      "Algorithm: l, Trial: 3, Feature: l1, Metric: l1\t, NMI: 0.7948006896846254, \t Time: 1.774489164352417 k: 11\n",
      "Algorithm: l, Trial: 3, Feature: l1, Metric: l2\t, NMI: 0.8017069344877732, \t Time: 1.8493986129760742 k: 12\n",
      "Algorithm: l, Trial: 3, Feature: l1, Metric: cos\t, NMI: 0.7884409871629413, \t Time: 1.8841993808746338 k: 12\n",
      "Algorithm: l, Trial: 3, Feature: l1, Metric: cor\t, NMI: 0.7977270269189479, \t Time: 1.9576151371002197 k: 12\n",
      "Algorithm: l, Trial: 3, Feature: l2, Metric: l1\t, NMI: 0.7962590262090922, \t Time: 1.6563804149627686 k: 12\n",
      "Algorithm: l, Trial: 3, Feature: l2, Metric: l2\t, NMI: 0.7990189025980853, \t Time: 1.7178263664245605 k: 12\n",
      "Algorithm: l, Trial: 3, Feature: l2, Metric: cos\t, NMI: 0.7851484568607586, \t Time: 1.6623156070709229 k: 15\n",
      "Algorithm: l, Trial: 3, Feature: l2, Metric: cor\t, NMI: 0.7824914688205867, \t Time: 1.6177866458892822 k: 15\n",
      "Algorithm: l, Trial: 3, Feature: cos, Metric: l1\t, NMI: 0.8232696471130233, \t Time: 1.8098416328430176 k: 10\n",
      "Algorithm: l, Trial: 3, Feature: cos, Metric: l2\t, NMI: 0.8065268603425808, \t Time: 1.774000644683838 k: 12\n",
      "Algorithm: l, Trial: 3, Feature: cos, Metric: cos\t, NMI: 0.8186964105547391, \t Time: 1.6681914329528809 k: 11\n",
      "Algorithm: l, Trial: 3, Feature: cos, Metric: cor\t, NMI: 0.8166564639269053, \t Time: 1.8418982028961182 k: 11\n",
      "Algorithm: l, Trial: 3, Feature: cor, Metric: l1\t, NMI: 0.8214378308123407, \t Time: 1.5935540199279785 k: 11\n",
      "Algorithm: l, Trial: 3, Feature: cor, Metric: l2\t, NMI: 0.8050269740017992, \t Time: 2.0687379837036133 k: 12\n",
      "Algorithm: l, Trial: 3, Feature: cor, Metric: cos\t, NMI: 0.8209670562235339, \t Time: 1.98421311378479 k: 11\n",
      "Algorithm: l, Trial: 3, Feature: cor, Metric: cor\t, NMI: 0.8130357035494751, \t Time: 1.9338552951812744 k: 12\n",
      "Algorithm: l, Trial: 4, Feature: pca, Metric: l1\t, NMI: 0.8042907359958477, \t Time: 1.858682632446289 k: 13\n",
      "Algorithm: l, Trial: 4, Feature: pca, Metric: l2\t, NMI: 0.8102032363236265, \t Time: 1.521752119064331 k: 12\n",
      "Algorithm: l, Trial: 4, Feature: pca, Metric: cos\t, NMI: 0.8170679887974395, \t Time: 1.5723438262939453 k: 12\n",
      "Algorithm: l, Trial: 4, Feature: pca, Metric: cor\t, NMI: 0.8171027674234095, \t Time: 1.8621399402618408 k: 13\n",
      "Algorithm: l, Trial: 4, Feature: l1, Metric: l1\t, NMI: 0.8261019476517668, \t Time: 1.6607613563537598 k: 11\n",
      "Algorithm: l, Trial: 4, Feature: l1, Metric: l2\t, NMI: 0.8256861678121629, \t Time: 1.8662405014038086 k: 12\n",
      "Algorithm: l, Trial: 4, Feature: l1, Metric: cos\t, NMI: 0.8090165602300388, \t Time: 1.791093349456787 k: 14\n",
      "Algorithm: l, Trial: 4, Feature: l1, Metric: cor\t, NMI: 0.8097824733025765, \t Time: 1.940721035003662 k: 14\n",
      "Algorithm: l, Trial: 4, Feature: l2, Metric: l1\t, NMI: 0.8042795313477933, \t Time: 2.03043794631958 k: 13\n",
      "Algorithm: l, Trial: 4, Feature: l2, Metric: l2\t, NMI: 0.800775011760731, \t Time: 1.4991309642791748 k: 12\n",
      "Algorithm: l, Trial: 4, Feature: l2, Metric: cos\t, NMI: 0.816616539882967, \t Time: 1.5595898628234863 k: 12\n",
      "Algorithm: l, Trial: 4, Feature: l2, Metric: cor\t, NMI: 0.8182045896391413, \t Time: 1.5634784698486328 k: 12\n",
      "Algorithm: l, Trial: 4, Feature: cos, Metric: l1\t, NMI: 0.8426706874328503, \t Time: 1.6292998790740967 k: 9\n",
      "Algorithm: l, Trial: 4, Feature: cos, Metric: l2\t, NMI: 0.8196354262023215, \t Time: 1.7703125476837158 k: 10\n",
      "Algorithm: l, Trial: 4, Feature: cos, Metric: cos\t, NMI: 0.8256986071380378, \t Time: 2.1498053073883057 k: 12\n",
      "Algorithm: l, Trial: 4, Feature: cos, Metric: cor\t, NMI: 0.8131239705617023, \t Time: 1.8534612655639648 k: 11\n",
      "Algorithm: l, Trial: 4, Feature: cor, Metric: l1\t, NMI: 0.8085709290550083, \t Time: 1.5593245029449463 k: 11\n",
      "Algorithm: l, Trial: 4, Feature: cor, Metric: l2\t, NMI: 0.8255674235241861, \t Time: 1.6033883094787598 k: 10\n",
      "Algorithm: l, Trial: 4, Feature: cor, Metric: cos\t, NMI: 0.8294494823105746, \t Time: 1.6528067588806152 k: 11\n",
      "Algorithm: l, Trial: 4, Feature: cor, Metric: cor\t, NMI: 0.8114247993341394, \t Time: 1.979022741317749 k: 12\n",
      "Algorithm: l, Trial: 5, Feature: pca, Metric: l1\t, NMI: 0.7836307398281457, \t Time: 1.9874441623687744 k: 13\n",
      "Algorithm: l, Trial: 5, Feature: pca, Metric: l2\t, NMI: 0.8037623937453691, \t Time: 1.5630388259887695 k: 13\n",
      "Algorithm: l, Trial: 5, Feature: pca, Metric: cos\t, NMI: 0.7963494969640267, \t Time: 2.488421678543091 k: 14\n",
      "Algorithm: l, Trial: 5, Feature: pca, Metric: cor\t, NMI: 0.7797630524075595, \t Time: 1.7283353805541992 k: 14\n",
      "Algorithm: l, Trial: 5, Feature: l1, Metric: l1\t, NMI: 0.806183555965549, \t Time: 1.659571886062622 k: 12\n",
      "Algorithm: l, Trial: 5, Feature: l1, Metric: l2\t, NMI: 0.8219389503143598, \t Time: 2.0398266315460205 k: 13\n",
      "Algorithm: l, Trial: 5, Feature: l1, Metric: cos\t, NMI: 0.7933438765273925, \t Time: 1.7818913459777832 k: 14\n",
      "Algorithm: l, Trial: 5, Feature: l1, Metric: cor\t, NMI: 0.793069207725023, \t Time: 1.609621286392212 k: 14\n",
      "Algorithm: l, Trial: 5, Feature: l2, Metric: l1\t, NMI: 0.7846227468029612, \t Time: 2.0124335289001465 k: 13\n",
      "Algorithm: l, Trial: 5, Feature: l2, Metric: l2\t, NMI: 0.7899837468818679, \t Time: 1.585308313369751 k: 13\n",
      "Algorithm: l, Trial: 5, Feature: l2, Metric: cos\t, NMI: 0.7947288774583853, \t Time: 1.7617578506469727 k: 14\n",
      "Algorithm: l, Trial: 5, Feature: l2, Metric: cor\t, NMI: 0.7943340132719181, \t Time: 2.225222110748291 k: 14\n",
      "Algorithm: l, Trial: 5, Feature: cos, Metric: l1\t, NMI: 0.8241158668645374, \t Time: 1.6388750076293945 k: 10\n",
      "Algorithm: l, Trial: 5, Feature: cos, Metric: l2\t, NMI: 0.8079475626710435, \t Time: 1.660881757736206 k: 11\n",
      "Algorithm: l, Trial: 5, Feature: cos, Metric: cos\t, NMI: 0.8085542084865367, \t Time: 1.6761300563812256 k: 11\n",
      "Algorithm: l, Trial: 5, Feature: cos, Metric: cor\t, NMI: 0.8233474331558155, \t Time: 1.705291509628296 k: 10\n",
      "Algorithm: l, Trial: 5, Feature: cor, Metric: l1\t, NMI: 0.8219661472328524, \t Time: 1.7018661499023438 k: 10\n",
      "Algorithm: l, Trial: 5, Feature: cor, Metric: l2\t, NMI: 0.8033835432311077, \t Time: 1.5451560020446777 k: 12\n",
      "Algorithm: l, Trial: 5, Feature: cor, Metric: cos\t, NMI: 0.8061399272127803, \t Time: 1.9016613960266113 k: 13\n",
      "Algorithm: l, Trial: 5, Feature: cor, Metric: cor\t, NMI: 0.8231704336745187, \t Time: 2.0910990238189697 k: 13\n",
      "Algorithm: l, Trial: 6, Feature: pca, Metric: l1\t, NMI: 0.7877173343229805, \t Time: 1.7830440998077393 k: 13\n",
      "Algorithm: l, Trial: 6, Feature: pca, Metric: l2\t, NMI: 0.7923717832107346, \t Time: 2.151615858078003 k: 13\n",
      "Algorithm: l, Trial: 6, Feature: pca, Metric: cos\t, NMI: 0.7906998091256494, \t Time: 1.628650426864624 k: 14\n",
      "Algorithm: l, Trial: 6, Feature: pca, Metric: cor\t, NMI: 0.7903068529810162, \t Time: 1.964766263961792 k: 14\n",
      "Algorithm: l, Trial: 6, Feature: l1, Metric: l1\t, NMI: 0.8170711414747861, \t Time: 1.6554210186004639 k: 12\n",
      "Algorithm: l, Trial: 6, Feature: l1, Metric: l2\t, NMI: 0.8140130264030501, \t Time: 1.6030097007751465 k: 12\n",
      "Algorithm: l, Trial: 6, Feature: l1, Metric: cos\t, NMI: 0.8014448801690696, \t Time: 1.7899701595306396 k: 14\n",
      "Algorithm: l, Trial: 6, Feature: l1, Metric: cor\t, NMI: 0.7951648832487801, \t Time: 1.6549274921417236 k: 13\n",
      "Algorithm: l, Trial: 6, Feature: l2, Metric: l1\t, NMI: 0.7787088535977873, \t Time: 1.7330927848815918 k: 14\n",
      "Algorithm: l, Trial: 6, Feature: l2, Metric: l2\t, NMI: 0.7854127830153391, \t Time: 1.762728214263916 k: 13\n",
      "Algorithm: l, Trial: 6, Feature: l2, Metric: cos\t, NMI: 0.7893992143937466, \t Time: 1.6289994716644287 k: 14\n",
      "Algorithm: l, Trial: 6, Feature: l2, Metric: cor\t, NMI: 0.7985144835919734, \t Time: 1.6262741088867188 k: 14\n",
      "Algorithm: l, Trial: 6, Feature: cos, Metric: l1\t, NMI: 0.8217758274969577, \t Time: 1.4912335872650146 k: 10\n",
      "Algorithm: l, Trial: 6, Feature: cos, Metric: l2\t, NMI: 0.8252830155832476, \t Time: 1.5305721759796143 k: 10\n",
      "Algorithm: l, Trial: 6, Feature: cos, Metric: cos\t, NMI: 0.8200069683183954, \t Time: 1.7060766220092773 k: 12\n",
      "Algorithm: l, Trial: 6, Feature: cos, Metric: cor\t, NMI: 0.8195556219085199, \t Time: 1.7951180934906006 k: 12\n",
      "Algorithm: l, Trial: 6, Feature: cor, Metric: l1\t, NMI: 0.817214459039585, \t Time: 1.5018129348754883 k: 11\n",
      "Algorithm: l, Trial: 6, Feature: cor, Metric: l2\t, NMI: 0.8186067579789006, \t Time: 1.6254258155822754 k: 11\n",
      "Algorithm: l, Trial: 6, Feature: cor, Metric: cos\t, NMI: 0.8220008523066825, \t Time: 1.6992831230163574 k: 11\n",
      "Algorithm: l, Trial: 6, Feature: cor, Metric: cor\t, NMI: 0.8214603112190194, \t Time: 2.004641532897949 k: 11\n",
      "Algorithm: l, Trial: 7, Feature: pca, Metric: l1\t, NMI: 0.8139038719924624, \t Time: 1.717376947402954 k: 13\n",
      "Algorithm: l, Trial: 7, Feature: pca, Metric: l2\t, NMI: 0.8156534763932697, \t Time: 2.656205654144287 k: 13\n",
      "Algorithm: l, Trial: 7, Feature: pca, Metric: cos\t, NMI: 0.7930177028813081, \t Time: 1.767052173614502 k: 14\n",
      "Algorithm: l, Trial: 7, Feature: pca, Metric: cor\t, NMI: 0.8006264396937796, \t Time: 1.8955202102661133 k: 14\n",
      "Algorithm: l, Trial: 7, Feature: l1, Metric: l1\t, NMI: 0.8167070404967791, \t Time: 1.9853794574737549 k: 12\n",
      "Algorithm: l, Trial: 7, Feature: l1, Metric: l2\t, NMI: 0.8203395440681267, \t Time: 2.0042483806610107 k: 12\n",
      "Algorithm: l, Trial: 7, Feature: l1, Metric: cos\t, NMI: 0.7949777478851243, \t Time: 1.8171405792236328 k: 13\n",
      "Algorithm: l, Trial: 7, Feature: l1, Metric: cor\t, NMI: 0.7937677774277523, \t Time: 1.6537902355194092 k: 13\n",
      "Algorithm: l, Trial: 7, Feature: l2, Metric: l1\t, NMI: 0.807627146700668, \t Time: 1.6838288307189941 k: 12\n",
      "Algorithm: l, Trial: 7, Feature: l2, Metric: l2\t, NMI: 0.8126432379883565, \t Time: 1.7285194396972656 k: 13\n",
      "Algorithm: l, Trial: 7, Feature: l2, Metric: cos\t, NMI: 0.8101386941064603, \t Time: 1.9324090480804443 k: 14\n",
      "Algorithm: l, Trial: 7, Feature: l2, Metric: cor\t, NMI: 0.8163507664474434, \t Time: 1.5797748565673828 k: 13\n",
      "Algorithm: l, Trial: 7, Feature: cos, Metric: l1\t, NMI: 0.8284658586994316, \t Time: 1.8346714973449707 k: 10\n",
      "Algorithm: l, Trial: 7, Feature: cos, Metric: l2\t, NMI: 0.8230742035397779, \t Time: 1.8357958793640137 k: 11\n",
      "Algorithm: l, Trial: 7, Feature: cos, Metric: cos\t, NMI: 0.8296755504912018, \t Time: 1.7265620231628418 k: 11\n",
      "Algorithm: l, Trial: 7, Feature: cos, Metric: cor\t, NMI: 0.8051386053832519, \t Time: 1.851860761642456 k: 13\n",
      "Algorithm: l, Trial: 7, Feature: cor, Metric: l1\t, NMI: 0.8180508428363822, \t Time: 1.6570734977722168 k: 11\n",
      "Algorithm: l, Trial: 7, Feature: cor, Metric: l2\t, NMI: 0.8073708180941718, \t Time: 1.8017377853393555 k: 12\n",
      "Algorithm: l, Trial: 7, Feature: cor, Metric: cos\t, NMI: 0.8152925310090389, \t Time: 1.8672599792480469 k: 12\n",
      "Algorithm: l, Trial: 7, Feature: cor, Metric: cor\t, NMI: 0.8221115509988204, \t Time: 1.7078759670257568 k: 12\n",
      "Algorithm: l, Trial: 8, Feature: pca, Metric: l1\t, NMI: 0.7894554090424716, \t Time: 1.5744872093200684 k: 12\n",
      "Algorithm: l, Trial: 8, Feature: pca, Metric: l2\t, NMI: 0.799963994218898, \t Time: 1.5676677227020264 k: 12\n",
      "Algorithm: l, Trial: 8, Feature: pca, Metric: cos\t, NMI: 0.782756709638294, \t Time: 1.6390340328216553 k: 14\n",
      "Algorithm: l, Trial: 8, Feature: pca, Metric: cor\t, NMI: 0.8093834523051203, \t Time: 1.7732360363006592 k: 14\n",
      "Algorithm: l, Trial: 8, Feature: l1, Metric: l1\t, NMI: 0.8142556689423202, \t Time: 2.1404261589050293 k: 12\n",
      "Algorithm: l, Trial: 8, Feature: l1, Metric: l2\t, NMI: 0.7979583306644931, \t Time: 1.910597801208496 k: 13\n",
      "Algorithm: l, Trial: 8, Feature: l1, Metric: cos\t, NMI: 0.7979745320417904, \t Time: 1.9867067337036133 k: 13\n",
      "Algorithm: l, Trial: 8, Feature: l1, Metric: cor\t, NMI: 0.7916956987579914, \t Time: 1.8216233253479004 k: 14\n",
      "Algorithm: l, Trial: 8, Feature: l2, Metric: l1\t, NMI: 0.7896715561799387, \t Time: 1.580547571182251 k: 12\n",
      "Algorithm: l, Trial: 8, Feature: l2, Metric: l2\t, NMI: 0.79727804693783, \t Time: 2.038006544113159 k: 12\n",
      "Algorithm: l, Trial: 8, Feature: l2, Metric: cos\t, NMI: 0.7896248886377679, \t Time: 1.7711098194122314 k: 14\n",
      "Algorithm: l, Trial: 8, Feature: l2, Metric: cor\t, NMI: 0.7891529207052322, \t Time: 1.6269409656524658 k: 14\n",
      "Algorithm: l, Trial: 8, Feature: cos, Metric: l1\t, NMI: 0.8232336764123213, \t Time: 1.5159761905670166 k: 10\n",
      "Algorithm: l, Trial: 8, Feature: cos, Metric: l2\t, NMI: 0.8305714534778809, \t Time: 1.6769740581512451 k: 10\n",
      "Algorithm: l, Trial: 8, Feature: cos, Metric: cos\t, NMI: 0.8143002085005764, \t Time: 2.1534273624420166 k: 14\n",
      "Algorithm: l, Trial: 8, Feature: cos, Metric: cor\t, NMI: 0.8303347262242874, \t Time: 1.660698652267456 k: 10\n",
      "Algorithm: l, Trial: 8, Feature: cor, Metric: l1\t, NMI: 0.8275611871674997, \t Time: 1.5016462802886963 k: 10\n",
      "Algorithm: l, Trial: 8, Feature: cor, Metric: l2\t, NMI: 0.8138544178630686, \t Time: 1.6629064083099365 k: 11\n",
      "Algorithm: l, Trial: 8, Feature: cor, Metric: cos\t, NMI: 0.8323963369918488, \t Time: 1.5658528804779053 k: 10\n",
      "Algorithm: l, Trial: 8, Feature: cor, Metric: cor\t, NMI: 0.8153802887158504, \t Time: 1.8225610256195068 k: 12\n",
      "Algorithm: l, Trial: 9, Feature: pca, Metric: l1\t, NMI: 0.7844584751279533, \t Time: 1.314408540725708 k: 13\n",
      "Algorithm: l, Trial: 9, Feature: pca, Metric: l2\t, NMI: 0.7989661581985884, \t Time: 1.5084307193756104 k: 12\n",
      "Algorithm: l, Trial: 9, Feature: pca, Metric: cos\t, NMI: 0.7777314015917027, \t Time: 1.4210247993469238 k: 15\n",
      "Algorithm: l, Trial: 9, Feature: pca, Metric: cor\t, NMI: 0.7895615171318638, \t Time: 1.9450898170471191 k: 14\n",
      "Algorithm: l, Trial: 9, Feature: l1, Metric: l1\t, NMI: 0.8118518671776045, \t Time: 2.255951166152954 k: 12\n",
      "Algorithm: l, Trial: 9, Feature: l1, Metric: l2\t, NMI: 0.809088486273098, \t Time: 2.18066668510437 k: 12\n",
      "Algorithm: l, Trial: 9, Feature: l1, Metric: cos\t, NMI: 0.7897683741295843, \t Time: 2.904731512069702 k: 14\n",
      "Algorithm: l, Trial: 9, Feature: l1, Metric: cor\t, NMI: 0.7907043636292306, \t Time: 2.0801451206207275 k: 14\n",
      "Algorithm: l, Trial: 9, Feature: l2, Metric: l1\t, NMI: 0.7847147403257188, \t Time: 1.6145002841949463 k: 13\n",
      "Algorithm: l, Trial: 9, Feature: l2, Metric: l2\t, NMI: 0.8009269888507409, \t Time: 1.7487735748291016 k: 12\n",
      "Algorithm: l, Trial: 9, Feature: l2, Metric: cos\t, NMI: 0.7913980053658636, \t Time: 1.953425407409668 k: 15\n",
      "Algorithm: l, Trial: 9, Feature: l2, Metric: cor\t, NMI: 0.7909508692140684, \t Time: 1.6210815906524658 k: 15\n",
      "Algorithm: l, Trial: 9, Feature: cos, Metric: l1\t, NMI: 0.8201206406764402, \t Time: 1.6503081321716309 k: 11\n",
      "Algorithm: l, Trial: 9, Feature: cos, Metric: l2\t, NMI: 0.8054271489107003, \t Time: 1.6280550956726074 k: 13\n",
      "Algorithm: l, Trial: 9, Feature: cos, Metric: cos\t, NMI: 0.8091249654229002, \t Time: 1.6936023235321045 k: 13\n",
      "Algorithm: l, Trial: 9, Feature: cos, Metric: cor\t, NMI: 0.8099187611821476, \t Time: 1.6516668796539307 k: 13\n",
      "Algorithm: l, Trial: 9, Feature: cor, Metric: l1\t, NMI: 0.8188309067322083, \t Time: 1.6329045295715332 k: 12\n",
      "Algorithm: l, Trial: 9, Feature: cor, Metric: l2\t, NMI: 0.8029521564301302, \t Time: 1.6313245296478271 k: 13\n",
      "Algorithm: l, Trial: 9, Feature: cor, Metric: cos\t, NMI: 0.8125999427569649, \t Time: 1.822805404663086 k: 13\n",
      "Algorithm: l, Trial: 9, Feature: cor, Metric: cor\t, NMI: 0.8130291575443184, \t Time: 1.7030625343322754 k: 13\n",
      "Algorithm: l, Trial: 10, Feature: pca, Metric: l1\t, NMI: 0.7919662438124204, \t Time: 1.7200603485107422 k: 13\n",
      "Algorithm: l, Trial: 10, Feature: pca, Metric: l2\t, NMI: 0.7967295379619632, \t Time: 1.696821928024292 k: 11\n",
      "Algorithm: l, Trial: 10, Feature: pca, Metric: cos\t, NMI: 0.788679257475596, \t Time: 1.8159801959991455 k: 16\n",
      "Algorithm: l, Trial: 10, Feature: pca, Metric: cor\t, NMI: 0.7783966525074694, \t Time: 1.9404926300048828 k: 16\n",
      "Algorithm: l, Trial: 10, Feature: l1, Metric: l1\t, NMI: 0.808193643330515, \t Time: 1.9826836585998535 k: 12\n",
      "Algorithm: l, Trial: 10, Feature: l1, Metric: l2\t, NMI: 0.7833215728896422, \t Time: 1.6487805843353271 k: 13\n",
      "Algorithm: l, Trial: 10, Feature: l1, Metric: cos\t, NMI: 0.7838617042024779, \t Time: 2.276440382003784 k: 15\n",
      "Algorithm: l, Trial: 10, Feature: l1, Metric: cor\t, NMI: 0.7949940270833532, \t Time: 1.6628901958465576 k: 14\n",
      "Algorithm: l, Trial: 10, Feature: l2, Metric: l1\t, NMI: 0.7928323938028282, \t Time: 1.599757194519043 k: 13\n",
      "Algorithm: l, Trial: 10, Feature: l2, Metric: l2\t, NMI: 0.8016847840982617, \t Time: 1.6805365085601807 k: 12\n",
      "Algorithm: l, Trial: 10, Feature: l2, Metric: cos\t, NMI: 0.7870032336106253, \t Time: 1.9243011474609375 k: 16\n",
      "Algorithm: l, Trial: 10, Feature: l2, Metric: cor\t, NMI: 0.7917482808762444, \t Time: 1.6384897232055664 k: 15\n",
      "Algorithm: l, Trial: 10, Feature: cos, Metric: l1\t, NMI: 0.8201573177621427, \t Time: 1.6819205284118652 k: 9\n",
      "Algorithm: l, Trial: 10, Feature: cos, Metric: l2\t, NMI: 0.8242109281277181, \t Time: 1.673933744430542 k: 9\n",
      "Algorithm: l, Trial: 10, Feature: cos, Metric: cos\t, NMI: 0.8160935469889308, \t Time: 1.711292028427124 k: 12\n",
      "Algorithm: l, Trial: 10, Feature: cos, Metric: cor\t, NMI: 0.8139137716474162, \t Time: 1.8485960960388184 k: 12\n",
      "Algorithm: l, Trial: 10, Feature: cor, Metric: l1\t, NMI: 0.8215994806864683, \t Time: 1.9462127685546875 k: 9\n",
      "Algorithm: l, Trial: 10, Feature: cor, Metric: l2\t, NMI: 0.8070731356172853, \t Time: 1.7801570892333984 k: 10\n",
      "Algorithm: l, Trial: 10, Feature: cor, Metric: cos\t, NMI: 0.8075502550120999, \t Time: 1.6703028678894043 k: 12\n",
      "Algorithm: l, Trial: 10, Feature: cor, Metric: cor\t, NMI: 0.8247605631120805, \t Time: 1.6788339614868164 k: 10\n",
      "Algorithm: l, Trial: 11, Feature: pca, Metric: l1\t, NMI: 0.7958713384779483, \t Time: 1.981687068939209 k: 13\n",
      "Algorithm: l, Trial: 11, Feature: pca, Metric: l2\t, NMI: 0.8013498228836505, \t Time: 1.8715076446533203 k: 13\n",
      "Algorithm: l, Trial: 11, Feature: pca, Metric: cos\t, NMI: 0.8016908577215633, \t Time: 1.9061837196350098 k: 14\n",
      "Algorithm: l, Trial: 11, Feature: pca, Metric: cor\t, NMI: 0.8013657676233095, \t Time: 1.4370381832122803 k: 15\n",
      "Algorithm: l, Trial: 11, Feature: l1, Metric: l1\t, NMI: 0.8236747930459062, \t Time: 1.6801915168762207 k: 11\n",
      "Algorithm: l, Trial: 11, Feature: l1, Metric: l2\t, NMI: 0.815834812830041, \t Time: 1.963087797164917 k: 12\n",
      "Algorithm: l, Trial: 11, Feature: l1, Metric: cos\t, NMI: 0.8102717265871799, \t Time: 1.6907620429992676 k: 13\n",
      "Algorithm: l, Trial: 11, Feature: l1, Metric: cor\t, NMI: 0.8241393252455195, \t Time: 2.079646110534668 k: 13\n",
      "Algorithm: l, Trial: 11, Feature: l2, Metric: l1\t, NMI: 0.7970598073210025, \t Time: 1.69071626663208 k: 13\n",
      "Algorithm: l, Trial: 11, Feature: l2, Metric: l2\t, NMI: 0.7960852264598131, \t Time: 2.117847442626953 k: 12\n",
      "Algorithm: l, Trial: 11, Feature: l2, Metric: cos\t, NMI: 0.8001550978618527, \t Time: 1.752744436264038 k: 15\n",
      "Algorithm: l, Trial: 11, Feature: l2, Metric: cor\t, NMI: 0.807013183546028, \t Time: 1.5998449325561523 k: 13\n",
      "Algorithm: l, Trial: 11, Feature: cos, Metric: l1\t, NMI: 0.8285817122602032, \t Time: 1.625687599182129 k: 10\n",
      "Algorithm: l, Trial: 11, Feature: cos, Metric: l2\t, NMI: 0.8097974272802323, \t Time: 1.9751629829406738 k: 12\n",
      "Algorithm: l, Trial: 11, Feature: cos, Metric: cos\t, NMI: 0.8274925655343899, \t Time: 1.716813087463379 k: 11\n",
      "Algorithm: l, Trial: 11, Feature: cos, Metric: cor\t, NMI: 0.8184958741931356, \t Time: 1.686544418334961 k: 12\n",
      "Algorithm: l, Trial: 11, Feature: cor, Metric: l1\t, NMI: 0.8236428151246779, \t Time: 1.62764310836792 k: 12\n",
      "Algorithm: l, Trial: 11, Feature: cor, Metric: l2\t, NMI: 0.803515195018831, \t Time: 1.2254970073699951 k: 12\n",
      "Algorithm: l, Trial: 11, Feature: cor, Metric: cos\t, NMI: 0.8080998657216237, \t Time: 1.430974006652832 k: 13\n",
      "Algorithm: l, Trial: 11, Feature: cor, Metric: cor\t, NMI: 0.7994077607991594, \t Time: 1.7708942890167236 k: 13\n",
      "Algorithm: l, Trial: 12, Feature: pca, Metric: l1\t, NMI: 0.7967370800710237, \t Time: 1.6338467597961426 k: 12\n",
      "Algorithm: l, Trial: 12, Feature: pca, Metric: l2\t, NMI: 0.7844750104758363, \t Time: 1.3527281284332275 k: 12\n",
      "Algorithm: l, Trial: 12, Feature: pca, Metric: cos\t, NMI: 0.7903528554956212, \t Time: 1.5553534030914307 k: 15\n",
      "Algorithm: l, Trial: 12, Feature: pca, Metric: cor\t, NMI: 0.7925756001256712, \t Time: 1.4024100303649902 k: 14\n",
      "Algorithm: l, Trial: 12, Feature: l1, Metric: l1\t, NMI: 0.8117901757182588, \t Time: 1.9090991020202637 k: 12\n",
      "Algorithm: l, Trial: 12, Feature: l1, Metric: l2\t, NMI: 0.8135172727645724, \t Time: 1.4863252639770508 k: 12\n",
      "Algorithm: l, Trial: 12, Feature: l1, Metric: cos\t, NMI: 0.7975797973649681, \t Time: 1.940199613571167 k: 14\n",
      "Algorithm: l, Trial: 12, Feature: l1, Metric: cor\t, NMI: 0.7965074433561945, \t Time: 2.0507655143737793 k: 14\n",
      "Algorithm: l, Trial: 12, Feature: l2, Metric: l1\t, NMI: 0.7901147525641655, \t Time: 1.4790494441986084 k: 12\n",
      "Algorithm: l, Trial: 12, Feature: l2, Metric: l2\t, NMI: 0.7846927463910055, \t Time: 1.5373921394348145 k: 12\n",
      "Algorithm: l, Trial: 12, Feature: l2, Metric: cos\t, NMI: 0.7903528554956212, \t Time: 1.6609933376312256 k: 15\n",
      "Algorithm: l, Trial: 12, Feature: l2, Metric: cor\t, NMI: 0.7974931475533347, \t Time: 1.9280767440795898 k: 16\n",
      "Algorithm: l, Trial: 12, Feature: cos, Metric: l1\t, NMI: 0.8185536697299156, \t Time: 1.8344688415527344 k: 11\n",
      "Algorithm: l, Trial: 12, Feature: cos, Metric: l2\t, NMI: 0.8237518829268194, \t Time: 1.647491216659546 k: 10\n",
      "Algorithm: l, Trial: 12, Feature: cos, Metric: cos\t, NMI: 0.8081292266326966, \t Time: 1.7071294784545898 k: 13\n",
      "Algorithm: l, Trial: 12, Feature: cos, Metric: cor\t, NMI: 0.8024552304079, \t Time: 1.850245475769043 k: 13\n",
      "Algorithm: l, Trial: 12, Feature: cor, Metric: l1\t, NMI: 0.8215786281083363, \t Time: 1.9586074352264404 k: 10\n",
      "Algorithm: l, Trial: 12, Feature: cor, Metric: l2\t, NMI: 0.8147028675557957, \t Time: 2.108116626739502 k: 10\n",
      "Algorithm: l, Trial: 12, Feature: cor, Metric: cos\t, NMI: 0.802081688060549, \t Time: 1.6875700950622559 k: 12\n",
      "Algorithm: l, Trial: 12, Feature: cor, Metric: cor\t, NMI: 0.8213513610211134, \t Time: 1.7024071216583252 k: 11\n",
      "Algorithm: l, Trial: 13, Feature: pca, Metric: l1\t, NMI: 0.7956848347350968, \t Time: 1.5444839000701904 k: 13\n",
      "Algorithm: l, Trial: 13, Feature: pca, Metric: l2\t, NMI: 0.7867786284204664, \t Time: 1.3747508525848389 k: 12\n",
      "Algorithm: l, Trial: 13, Feature: pca, Metric: cos\t, NMI: 0.7953666972495983, \t Time: 1.383690595626831 k: 15\n",
      "Algorithm: l, Trial: 13, Feature: pca, Metric: cor\t, NMI: 0.8151908773561587, \t Time: 1.545283555984497 k: 13\n",
      "Algorithm: l, Trial: 13, Feature: l1, Metric: l1\t, NMI: 0.8106735527229242, \t Time: 1.774583101272583 k: 12\n",
      "Algorithm: l, Trial: 13, Feature: l1, Metric: l2\t, NMI: 0.7946005090569452, \t Time: 1.5866775512695312 k: 13\n",
      "Algorithm: l, Trial: 13, Feature: l1, Metric: cos\t, NMI: 0.8063387267653289, \t Time: 2.193739414215088 k: 14\n",
      "Algorithm: l, Trial: 13, Feature: l1, Metric: cor\t, NMI: 0.8040380832939594, \t Time: 1.7736051082611084 k: 13\n",
      "Algorithm: l, Trial: 13, Feature: l2, Metric: l1\t, NMI: 0.8033451788922777, \t Time: 1.8792724609375 k: 13\n",
      "Algorithm: l, Trial: 13, Feature: l2, Metric: l2\t, NMI: 0.7865509124629416, \t Time: 1.377976417541504 k: 12\n",
      "Algorithm: l, Trial: 13, Feature: l2, Metric: cos\t, NMI: 0.7896637934358915, \t Time: 1.6153795719146729 k: 14\n",
      "Algorithm: l, Trial: 13, Feature: l2, Metric: cor\t, NMI: 0.7831493311821044, \t Time: 1.5936908721923828 k: 13\n",
      "Algorithm: l, Trial: 13, Feature: cos, Metric: l1\t, NMI: 0.8205845820252287, \t Time: 1.644531011581421 k: 11\n",
      "Algorithm: l, Trial: 13, Feature: cos, Metric: l2\t, NMI: 0.8223162859312515, \t Time: 1.8157942295074463 k: 11\n",
      "Algorithm: l, Trial: 13, Feature: cos, Metric: cos\t, NMI: 0.8058977246060138, \t Time: 1.6960818767547607 k: 12\n",
      "Algorithm: l, Trial: 13, Feature: cos, Metric: cor\t, NMI: 0.8084444779038152, \t Time: 1.6759753227233887 k: 11\n",
      "Algorithm: l, Trial: 13, Feature: cor, Metric: l1\t, NMI: 0.8034692271921018, \t Time: 1.7002017498016357 k: 12\n",
      "Algorithm: l, Trial: 13, Feature: cor, Metric: l2\t, NMI: 0.8074417601239772, \t Time: 1.5031449794769287 k: 12\n",
      "Algorithm: l, Trial: 13, Feature: cor, Metric: cos\t, NMI: 0.8278625064132619, \t Time: 2.163991689682007 k: 12\n",
      "Algorithm: l, Trial: 13, Feature: cor, Metric: cor\t, NMI: 0.8235259273598382, \t Time: 1.6821599006652832 k: 11\n",
      "Algorithm: l, Trial: 14, Feature: pca, Metric: l1\t, NMI: 0.7935892090160328, \t Time: 1.7689220905303955 k: 13\n",
      "Algorithm: l, Trial: 14, Feature: pca, Metric: l2\t, NMI: 0.7930348591522448, \t Time: 1.5523574352264404 k: 14\n",
      "Algorithm: l, Trial: 14, Feature: pca, Metric: cos\t, NMI: 0.8155510662002113, \t Time: 1.7778761386871338 k: 14\n",
      "Algorithm: l, Trial: 14, Feature: pca, Metric: cor\t, NMI: 0.794450132285252, \t Time: 1.572103500366211 k: 14\n",
      "Algorithm: l, Trial: 14, Feature: l1, Metric: l1\t, NMI: 0.8136326662514132, \t Time: 2.7751927375793457 k: 12\n",
      "Algorithm: l, Trial: 14, Feature: l1, Metric: l2\t, NMI: 0.8099000801468791, \t Time: 2.109591007232666 k: 13\n",
      "Algorithm: l, Trial: 14, Feature: l1, Metric: cos\t, NMI: 0.8030071969877842, \t Time: 2.1057660579681396 k: 14\n",
      "Algorithm: l, Trial: 14, Feature: l1, Metric: cor\t, NMI: 0.8065099269533685, \t Time: 1.7941226959228516 k: 13\n",
      "Algorithm: l, Trial: 14, Feature: l2, Metric: l1\t, NMI: 0.7944190119101623, \t Time: 1.7383859157562256 k: 13\n",
      "Algorithm: l, Trial: 14, Feature: l2, Metric: l2\t, NMI: 0.7934222818486252, \t Time: 1.7343344688415527 k: 14\n",
      "Algorithm: l, Trial: 14, Feature: l2, Metric: cos\t, NMI: 0.8154069870501007, \t Time: 1.7817285060882568 k: 14\n",
      "Algorithm: l, Trial: 14, Feature: l2, Metric: cor\t, NMI: 0.8151701742123155, \t Time: 1.5941393375396729 k: 14\n",
      "Algorithm: l, Trial: 14, Feature: cos, Metric: l1\t, NMI: 0.825936775942825, \t Time: 1.8174409866333008 k: 11\n",
      "Algorithm: l, Trial: 14, Feature: cos, Metric: l2\t, NMI: 0.8153154970197605, \t Time: 1.6773734092712402 k: 12\n",
      "Algorithm: l, Trial: 14, Feature: cos, Metric: cos\t, NMI: 0.8143968127463134, \t Time: 1.6812446117401123 k: 12\n",
      "Algorithm: l, Trial: 14, Feature: cos, Metric: cor\t, NMI: 0.8289619254749018, \t Time: 1.6998577117919922 k: 11\n",
      "Algorithm: l, Trial: 14, Feature: cor, Metric: l1\t, NMI: 0.8279236714592311, \t Time: 1.646233320236206 k: 11\n",
      "Algorithm: l, Trial: 14, Feature: cor, Metric: l2\t, NMI: 0.8284386976436262, \t Time: 1.6490683555603027 k: 11\n",
      "Algorithm: l, Trial: 14, Feature: cor, Metric: cos\t, NMI: 0.8291144137938814, \t Time: 1.688920497894287 k: 11\n",
      "Algorithm: l, Trial: 14, Feature: cor, Metric: cor\t, NMI: 0.8218196787473677, \t Time: 1.698885440826416 k: 11\n"
     ]
    }
   ],
   "source": [
    "import time\n",
    "import numpy as np\n",
    "import pandas as pd\n",
    "import scipy\n",
    "import scanpy as sc\n",
    "from banditpam import KMedoids\n",
    "from collections import Counter\n",
    "from sklearn.metrics import normalized_mutual_info_score\n",
    "\n",
    "import warnings\n",
    "\n",
    "warnings.simplefilter(action='ignore', category=FutureWarning)\n",
    "\n",
    "def get_stats(data, start_time, key):\n",
    "    run_time = time.time() - start_time\n",
    "    nmi = normalized_mutual_info_score(data.obs[label], data.obs[key])\n",
    "    k = len(np.unique(data.obs[key]))\n",
    "    return run_time, nmi, k\n",
    "\n",
    "metric_dict = {\n",
    "    'leiden': ['l1','l2','cosine','correlation'],\n",
    "    'banditpam': ['L1', 'L2', 'cos', 'pearson'],\n",
    "}\n",
    "rd_metrics = ['pca', 'l1','l2','cosine','correlation']\n",
    "# algorithms = ['banditpam', 'leiden']\n",
    "algorithms = ['leiden']\n",
    "n_trials = 15\n",
    "resolution =  0.4\n",
    "\n",
    "\n",
    "K = 12\n",
    "\n",
    "for trial in range(n_trials):\n",
    "\n",
    "    # load data & sampling\n",
    "    data = adata.copy()\n",
    "    data = sc.pp.subsample(data, fraction = 0.7, copy = True, random_state = 42 * trial+42+66787) \n",
    "    ## convert to dense matrix\n",
    "    data.X = data.X.toarray()\n",
    "    \n",
    "\n",
    "    # preprocess\n",
    "    ## pca\n",
    "    sc.tl.pca(data, svd_solver='arpack')\n",
    "\n",
    "    ## pcoa\n",
    "    for metric in ['l1','l2','cosine','correlation']:\n",
    "        dist_matrix = distance_matrix(data, metric)\n",
    "        data.obsm[f'X_{metric}'] = pcoa(dist_matrix, n_components=50)\n",
    "\n",
    "    for alg in algorithms:\n",
    "        for rd_metric in rd_metrics:\n",
    "            for alg_metric in metric_dict[alg]:\n",
    "                key = f'{alg}_{rd_metric}_{alg_metric}'\n",
    "\n",
    "                start_time = time.time()\n",
    "                if alg == 'leiden':\n",
    "                    sc.pp.neighbors(data, n_neighbors = 10, metric = alg_metric, use_rep = f'X_{rd_metric}', key_added = f'neighbors_{rd_metric}')\n",
    "                    sc.tl.leiden(data, resolution=resolution, neighbors_key = f'neighbors_{rd_metric}', key_added=key)\n",
    "                elif alg == 'banditpam': \n",
    "                    kmed = KMedoids(n_medoids=K, algorithm=\"BanditPAM\")\n",
    "                    kmed.fit(data.obsm[f'X_{rd_metric}'], alg_metric)\n",
    "                    data.obs[key] = pd.Categorical(values=kmed.labels, categories=np.unique(kmed.labels))\n",
    "                \n",
    "                \n",
    "                run_time, nmi, k = get_stats(data, start_time, key = key)\n",
    "\n",
    "                new_entry = {\n",
    "                    'trial': trial,\n",
    "                    'dataset': 'TS_faasq',\n",
    "                    'algorithm': alg,\n",
    "                    'rd_metric': rd_metric,\n",
    "                    'alg_metric': alg_metric,\n",
    "                    'NMI': nmi,\n",
    "                    'time': run_time,\n",
    "                    '#k': k\n",
    "                } \n",
    "                res.loc[len(res.index)] = new_entry.values() \n",
    "\n",
    "\n",
    "                \n",
    "                print(f\"Algorithm: {alg[0]}, Trial: {trial}, Feature: {rd_metric[:3]}, Metric: {alg_metric[:3]}\\t, NMI: {nmi}, \\t Time: {run_time}\", \"k:\", k)\n",
    "                \n",
    "                res.to_csv('results_0410.csv', index=False)\n"
   ]
  },
  {
   "cell_type": "code",
   "execution_count": null,
   "id": "d90e60a7-5467-40b9-8816-8794c30f4de2",
   "metadata": {},
   "outputs": [],
   "source": [
    "# testing server\n",
    "print('42')"
   ]
  }
 ],
 "metadata": {
  "kernelspec": {
   "display_name": "lab",
   "language": "python",
   "name": "lab"
  },
  "language_info": {
   "codemirror_mode": {
    "name": "ipython",
    "version": 3
   },
   "file_extension": ".py",
   "mimetype": "text/x-python",
   "name": "python",
   "nbconvert_exporter": "python",
   "pygments_lexer": "ipython3",
   "version": "3.11.5"
  }
 },
 "nbformat": 4,
 "nbformat_minor": 5
}
