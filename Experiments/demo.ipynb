{
 "cells": [
  {
   "cell_type": "markdown",
   "id": "144b9ff9-8cbd-4fd5-ae5d-939885f5ef57",
   "metadata": {},
   "source": [
    "## 0. Package"
   ]
  },
  {
   "cell_type": "code",
   "execution_count": 1,
   "id": "ba503f4b-a675-400f-bfeb-66cb369f60f7",
   "metadata": {},
   "outputs": [],
   "source": [
    "import pandas as pd\n",
    "\n",
    "from pipeline import dl, pp, cl, pl, utils\n",
    "from collections import Counter\n",
    "\n",
    "# hide warning\n",
    "import warnings\n",
    "warnings.simplefilter(action='ignore', category=FutureWarning)\n",
    "\n",
    "# auto load change to package\n",
    "%load_ext autoreload\n",
    "%autoreload 2"
   ]
  },
  {
   "cell_type": "markdown",
   "id": "764669e3-b226-4c51-ab63-eb60d4bcdaf0",
   "metadata": {},
   "source": [
    "## 1. Data Loading"
   ]
  },
  {
   "cell_type": "markdown",
   "id": "8364790a-39e1-4ac6-a4ac-51a8254618b4",
   "metadata": {},
   "source": [
    "__dataset__"
   ]
  },
  {
   "cell_type": "code",
   "execution_count": 2,
   "id": "e317129e-f51e-4476-a23d-a68ffaa8690e",
   "metadata": {},
   "outputs": [
    {
     "data": {
      "text/plain": [
       "0    /projects/zhanglab/data/sc_data/TMS_2020/tabul...\n",
       "1    /projects/zhanglab/data/sc_data/TMS_2020/tabul...\n",
       "2    /projects/zhanglab/data/sc_data/TS_Science_202...\n",
       "3    /projects/zhanglab/data/sc_data/TS_Science_202...\n",
       "4    /projects/zhanglab/data/sc_data/nathan_2021/ra...\n",
       "Name: 0, dtype: object"
      ]
     },
     "execution_count": 2,
     "metadata": {},
     "output_type": "execute_result"
    }
   ],
   "source": [
    "dataset_path = pd.read_csv('dataset.txt', header = None, index_col=None)\n",
    "dataset_path[0]"
   ]
  },
  {
   "cell_type": "markdown",
   "id": "a8e0ed92-1954-4ba3-99e5-0d6f8420efdb",
   "metadata": {},
   "source": [
    "__load data__"
   ]
  },
  {
   "cell_type": "code",
   "execution_count": 3,
   "id": "c9ca7308-a600-4865-b746-c622a3ea71b8",
   "metadata": {},
   "outputs": [
    {
     "name": "stdout",
     "output_type": "stream",
     "text": [
      "load:  /projects/zhanglab/data/sc_data/TMS_2020/tabula-muris-senis-facs-official-raw-obj.h5ad\n",
      "n_obs × n_vars:  (110824, 22966)\n",
      "running time:  0.0001323223114013672\n"
     ]
    }
   ],
   "source": [
    "file = dataset_path[0][0]\n",
    "\n",
    "adata = dl.load_data(file)"
   ]
  },
  {
   "cell_type": "markdown",
   "id": "e31844f2-f4b5-42fc-a63a-384ecbe55a9c",
   "metadata": {},
   "source": [
    "## 2. Data Pre-Processing"
   ]
  },
  {
   "cell_type": "code",
   "execution_count": 4,
   "id": "ab7a0a0c-558d-4a80-9303-983ce5ec4060",
   "metadata": {},
   "outputs": [],
   "source": [
    "target = 'free_annotation'\n",
    "# Counter(adata.obs[target])\n",
    "k = 30"
   ]
  },
  {
   "cell_type": "markdown",
   "id": "667c16b7-4f87-42ed-bc19-3168da8c814c",
   "metadata": {},
   "source": [
    "### 2.1 preprocessing"
   ]
  },
  {
   "cell_type": "markdown",
   "id": "e089213f-000f-416a-9c5b-070aca967b03",
   "metadata": {},
   "source": [
    "__min genes/cells & normalization__"
   ]
  },
  {
   "cell_type": "code",
   "execution_count": 5,
   "id": "2753bb6c-c3f1-4632-a2e6-ac5fa2936e5d",
   "metadata": {},
   "outputs": [
    {
     "name": "stdout",
     "output_type": "stream",
     "text": [
      "n_obs × n_vars:  (110823, 14034)\n"
     ]
    }
   ],
   "source": [
    "adata = pp.preprocess(adata, min_genes = 500, min_cells = 2000, target_sum = 1e4)"
   ]
  },
  {
   "cell_type": "markdown",
   "id": "a846a764-99e7-4124-a1da-1bf5dedc65f3",
   "metadata": {},
   "source": [
    "__highly-variable genes__"
   ]
  },
  {
   "cell_type": "code",
   "execution_count": 6,
   "id": "cc867f92-56e9-4e9a-aa4e-4060de2dfe97",
   "metadata": {},
   "outputs": [
    {
     "name": "stdout",
     "output_type": "stream",
     "text": [
      "n_obs × n_vars:  (110823, 2800)\n"
     ]
    }
   ],
   "source": [
    "adata = pp.hvg(adata)"
   ]
  },
  {
   "cell_type": "markdown",
   "id": "6da17a48-9576-4a17-ac92-76dc76ace0f9",
   "metadata": {},
   "source": [
    "### 2.2 Celltypes"
   ]
  },
  {
   "cell_type": "markdown",
   "id": "f936e2b0-9c19-47c1-8b10-408b66fc68a3",
   "metadata": {},
   "source": [
    "__filter large clusters__"
   ]
  },
  {
   "cell_type": "code",
   "execution_count": 20,
   "id": "22fd9b79-67cf-4c25-84b3-74c669f6502c",
   "metadata": {},
   "outputs": [
    {
     "name": "stdout",
     "output_type": "stream",
     "text": [
      "#k: 30\n",
      "#k: 30\n"
     ]
    },
    {
     "data": {
      "text/plain": [
       "Counter({'mesenchymal progenitor': 4733,\n",
       "         'fibroblast of cardiac tissue': 3711,\n",
       "         'granulocyte': 3123,\n",
       "         'naïve B cell': 2959,\n",
       "         'coronary vascular endothelial cell': 2718,\n",
       "         'CD79a B cell': 2639,\n",
       "         'Endothelial cell': 2190,\n",
       "         'basal cell': 2029,\n",
       "         'Capillary': 1790,\n",
       "         'DN4 thymocyte': 1756,\n",
       "         'Lgr5- amplifying undifferentiated cell': 1704,\n",
       "         'outer bulge': 1555,\n",
       "         'MPP Fraction B + C': 1297,\n",
       "         'monocyte': 1281,\n",
       "         'monocyte + promonocyte': 1015,\n",
       "         'DN to DP transition (most are Cd8+/ Cd4+, some undergoing VDJ recombination)': 1001,\n",
       "         'MPP Fraction A + HSC': 964,\n",
       "         'MPP Fraction B': 942,\n",
       "         'pre B cell': 856,\n",
       "         'B cell': 654,\n",
       "         'Lgr5+ undifferentiated cell (Distal)': 651,\n",
       "         'proliferating thymocyte; DN to DP transition, dividing (some are Cd8+/ Cd4+, some undergoing VDJ recombination)': 624,\n",
       "         'Enterocyte (Proximal)': 613,\n",
       "         'macrophage': 608,\n",
       "         'pancreatic B cell': 596,\n",
       "         'immature B cell': 589,\n",
       "         'bladder mesenchymal cell (Car3+)': 578,\n",
       "         'pancreatic acinar cell': 575,\n",
       "         'Reg4/cKit+ deep crypt secretory cells (Distal)': 563,\n",
       "         'luminal progenitor cell': 550})"
      ]
     },
     "execution_count": 20,
     "metadata": {},
     "output_type": "execute_result"
    }
   ],
   "source": [
    "adata, celltypes = dl.filter_top_k_clusters(adata, target, k = k)\n",
    "celltypes"
   ]
  },
  {
   "cell_type": "markdown",
   "id": "21576337-1ef1-49c9-9823-ea17b1e98216",
   "metadata": {},
   "source": [
    "__encoding__"
   ]
  },
  {
   "cell_type": "code",
   "execution_count": 8,
   "id": "30edf634-6db3-49ec-ab4a-d3a28b46810e",
   "metadata": {},
   "outputs": [
    {
     "name": "stderr",
     "output_type": "stream",
     "text": [
      "/home/chunchua/ScClusterMetric/experiments/pipeline/dl.py:61: ImplicitModificationWarning: Trying to modify attribute `.obs` of view, initializing view as actual.\n",
      "  adata.obs['label'] = labels\n"
     ]
    },
    {
     "data": {
      "text/plain": [
       "{'pancreatic B cell': 0,\n",
       " 'outer bulge': 1,\n",
       " 'B cell': 2,\n",
       " 'CD79a B cell': 3,\n",
       " 'fibroblast of cardiac tissue': 4,\n",
       " 'pancreatic acinar cell': 5,\n",
       " 'coronary vascular endothelial cell': 6,\n",
       " 'monocyte': 7,\n",
       " 'proliferating thymocyte; DN to DP transition, dividing (some are Cd8+/ Cd4+, some undergoing VDJ recombination)': 8,\n",
       " 'macrophage': 9,\n",
       " 'Endothelial cell': 10,\n",
       " 'bladder mesenchymal cell (Car3+)': 11,\n",
       " 'Lgr5+ undifferentiated cell (Distal)': 12,\n",
       " 'granulocyte': 13,\n",
       " 'mesenchymal progenitor': 14,\n",
       " 'Lgr5- amplifying undifferentiated cell': 15,\n",
       " 'Reg4/cKit+ deep crypt secretory cells (Distal)': 16,\n",
       " 'Enterocyte (Proximal)': 17,\n",
       " 'Capillary': 18,\n",
       " 'naïve B cell': 19,\n",
       " 'immature B cell': 20,\n",
       " 'pre B cell': 21,\n",
       " 'monocyte + promonocyte': 22,\n",
       " 'MPP Fraction B + C': 23,\n",
       " 'MPP Fraction A + HSC': 24,\n",
       " 'MPP Fraction B': 25,\n",
       " 'DN4 thymocyte': 26,\n",
       " 'DN to DP transition (most are Cd8+/ Cd4+, some undergoing VDJ recombination)': 27,\n",
       " 'basal cell': 28,\n",
       " 'luminal progenitor cell': 29}"
      ]
     },
     "execution_count": 8,
     "metadata": {},
     "output_type": "execute_result"
    }
   ],
   "source": [
    "labels, labels_dict = dl.label_encode(adata, target)\n",
    "labels_dict"
   ]
  },
  {
   "cell_type": "markdown",
   "id": "80545348-0893-456a-9821-44ca240fe780",
   "metadata": {},
   "source": [
    "## 3. Dimensionality Reduction"
   ]
  },
  {
   "cell_type": "code",
   "execution_count": 9,
   "id": "48a51768-a31c-4488-9f3f-2ddab49cf3f6",
   "metadata": {},
   "outputs": [],
   "source": [
    "import scanpy as sc\n",
    "data = sc.pp.subsample(adata, fraction = 0.01, copy = True, random_state = 42) "
   ]
  },
  {
   "cell_type": "markdown",
   "id": "af45c631-773a-453c-871d-02985b26cf4f",
   "metadata": {},
   "source": [
    "### PCoA"
   ]
  },
  {
   "cell_type": "code",
   "execution_count": 10,
   "id": "dbe1e6fb-5602-4cad-bd36-63fe16fcfffd",
   "metadata": {},
   "outputs": [
    {
     "name": "stdout",
     "output_type": "stream",
     "text": [
      "dm: (448, 448), running time: 0.1149907112121582\n",
      "pcoa: (448, 50), running time: 0.0377039909362793\n"
     ]
    },
    {
     "data": {
      "image/png": "[encoded data removed]",
      "text/plain": [
       "<Figure size 800x400 with 2 Axes>"
      ]
     },
     "metadata": {},
     "output_type": "display_data"
    }
   ],
   "source": [
    "metric = 'l2'\n",
    "data = cl.compute_distance_matrix(data, 'l2', True)\n",
    "data = cl.compute_pcoa(data, 'l2', 50, verbose = True)\n",
    "\n",
    "pl.plot_scree(data.uns['pcoa']['l2_eigvals'])"
   ]
  },
  {
   "cell_type": "markdown",
   "id": "4f964542-256e-4f89-a17f-3d1b512ab488",
   "metadata": {},
   "source": [
    "### PCA"
   ]
  },
  {
   "cell_type": "code",
   "execution_count": 244,
   "id": "9efb4937-a630-4ca7-9397-b4474ec821f8",
   "metadata": {},
   "outputs": [
    {
     "data": {
      "image/png": "[encoded data removed]",
      "text/plain": [
       "<Figure size 640x480 with 1 Axes>"
      ]
     },
     "metadata": {},
     "output_type": "display_data"
    }
   ],
   "source": [
    "sc.tl.pca(data, svd_solver=\"arpack\")\n",
    "sc.pl.pca_variance_ratio(data, log=True)"
   ]
  },
  {
   "cell_type": "markdown",
   "id": "22cfef50-60dd-42bb-a611-f370a18f3eb1",
   "metadata": {},
   "source": [
    "### run/save all metric for experiement"
   ]
  },
  {
   "cell_type": "code",
   "execution_count": 46,
   "id": "73c7728d-625b-4495-98ec-72c32bcdd3f2",
   "metadata": {},
   "outputs": [
    {
     "data": {
      "text/plain": [
       "AnnData object with n_obs × n_vars = 30000 × 2800\n",
       "    obs: 'FACS.selection', 'age', 'cell', 'cell_ontology_class', 'cell_ontology_id', 'free_annotation', 'method', 'mouse.id', 'sex', 'subtissue', 'tissue', 'n_genes', 'n_counts', 'n_genes_by_counts', 'total_counts', 'total_counts_mt', 'pct_counts_mt', 'label'\n",
       "    var: 'n_cells', 'mt', 'n_cells_by_counts', 'mean_counts', 'pct_dropout_by_counts', 'total_counts', 'highly_variable', 'means', 'dispersions', 'dispersions_norm'\n",
       "    uns: 'log1p', 'hvg'"
      ]
     },
     "execution_count": 46,
     "metadata": {},
     "output_type": "execute_result"
    }
   ],
   "source": [
    "data = sc.pp.subsample(adata, n_obs = 30000, copy = True, random_state = 42)\n",
    "data"
   ]
  },
  {
   "cell_type": "code",
   "execution_count": 11,
   "id": "4ce6a507-f09d-4536-80db-107e09b22261",
   "metadata": {},
   "outputs": [
    {
     "name": "stdout",
     "output_type": "stream",
     "text": [
      "[l1]\n",
      "dm: (448, 448), running time: 0.24784541130065918\n",
      "pcoa: (448, 50), running time: 0.04351472854614258\n",
      "[l2]\n",
      "dm: (448, 448), running time: 0.13259029388427734\n",
      "pcoa: (448, 50), running time: 0.030319929122924805\n",
      "[cosine]\n",
      "dm: (448, 448), running time: 0.23345613479614258\n",
      "pcoa: (448, 50), running time: 0.04003024101257324\n",
      "[correlation]\n",
      "dm: (448, 448), running time: 0.24038219451904297\n",
      "pcoa: (448, 50), running time: 0.041905879974365234\n"
     ]
    }
   ],
   "source": [
    "# pcoa\n",
    "for metric in ['l1','l2','cosine','correlation']:\n",
    "    print(f'[{metric}]')\n",
    "    data = cl.compute_distance_matrix(data, metric, verbose = True)\n",
    "    data = cl.compute_pcoa(data, metric, 50, verbose = True)\n",
    "\n",
    "# pca\n",
    "sc.tl.pca(data, svd_solver=\"arpack\")\n",
    "\n",
    "data.write('/projects/zhanglab/users/david/data/TMS_fasq_300K.h5ad')"
   ]
  },
  {
   "cell_type": "markdown",
   "id": "49752962-b4e9-49b5-8fe9-ec99acf23411",
   "metadata": {},
   "source": [
    "## 4. Clustering"
   ]
  },
  {
   "cell_type": "markdown",
   "id": "c5128040-e793-4157-bca8-e4e1b6711fae",
   "metadata": {},
   "source": [
    "### KNN + Leiden"
   ]
  },
  {
   "cell_type": "code",
   "execution_count": 17,
   "id": "21dd0e01-1110-4e83-ae15-b82b1fc035df",
   "metadata": {},
   "outputs": [],
   "source": [
    "for rd_metric in ['pca', 'l1','l2','cosine','correlation']:\n",
    "    for alg_metric in ['l1','l2','cosine','correlation']:\n",
    "        data = cl.compute_KNN(data, rd_metric, alg_metric)\n",
    "        data = cl.compute_leiden(data, 1, rd_metric, alg_metric)"
   ]
  },
  {
   "cell_type": "markdown",
   "id": "654f5205-f3b7-4157-af55-b51ecfbdb842",
   "metadata": {},
   "source": [
    "### evaluate"
   ]
  },
  {
   "cell_type": "code",
   "execution_count": 13,
   "id": "06453382-44a7-4343-9ae6-bb5515eeda60",
   "metadata": {},
   "outputs": [
    {
     "data": {
      "text/plain": [
       "AnnData object with n_obs × n_vars = 448 × 2800\n",
       "    obs: 'FACS.selection', 'age', 'cell', 'cell_ontology_class', 'cell_ontology_id', 'free_annotation', 'method', 'mouse.id', 'sex', 'subtissue', 'tissue', 'n_genes', 'n_counts', 'n_genes_by_counts', 'total_counts', 'total_counts_mt', 'pct_counts_mt', 'label', 'leiden_pca_l1', 'leiden_pca_l2', 'leiden_pca_cosine', 'leiden_pca_correlation', 'leiden_l1_l1', 'leiden_l1_l2', 'leiden_l1_cosine', 'leiden_l1_correlation', 'leiden_l2_l1', 'leiden_l2_l2', 'leiden_l2_cosine', 'leiden_l2_correlation', 'leiden_cosine_l1', 'leiden_cosine_l2', 'leiden_cosine_cosine', 'leiden_cosine_correlation', 'leiden_correlation_l1', 'leiden_correlation_l2', 'leiden_correlation_cosine', 'leiden_correlation_correlation'\n",
       "    var: 'n_cells', 'mt', 'n_cells_by_counts', 'mean_counts', 'pct_dropout_by_counts', 'total_counts', 'highly_variable', 'means', 'dispersions', 'dispersions_norm'\n",
       "    uns: 'log1p', 'hvg', 'time', 'pcoa', 'pca', 'KNN_l1', 'leiden', 'KNN_l2', 'KNN_cosine', 'KNN_correlation'\n",
       "    obsm: 'X_l2', 'X_l1', 'X_cosine', 'X_correlation', 'X_pca'\n",
       "    varm: 'PCs'\n",
       "    obsp: 'dm_l2', 'dm_l1', 'dm_cosine', 'dm_correlation', 'KNN_l1_distances', 'KNN_l1_connectivities', 'KNN_l2_distances', 'KNN_l2_connectivities', 'KNN_cosine_distances', 'KNN_cosine_connectivities', 'KNN_correlation_distances', 'KNN_correlation_connectivities'"
      ]
     },
     "execution_count": 13,
     "metadata": {},
     "output_type": "execute_result"
    }
   ],
   "source": [
    "data"
   ]
  },
  {
   "cell_type": "code",
   "execution_count": 30,
   "id": "c023c877-c8fb-45e4-9c26-c9743ef402f5",
   "metadata": {},
   "outputs": [],
   "source": [
    "res = pd.DataFrame(columns=['dataset', 'algorithm', 'rd_metric', 'alg_metric', 'NMI', 'ARI', 'FM', 'Jaccard', '#k', 'write'])\n",
    "write_path = '/projects/zhanglab/users/david/data/TMS_fasq_300K.h5ad'"
   ]
  },
  {
   "cell_type": "code",
   "execution_count": 31,
   "id": "2697e39c-7715-4567-9018-57fd8e317c30",
   "metadata": {},
   "outputs": [
    {
     "name": "stdout",
     "output_type": "stream",
     "text": [
      "RD: pca, AL:  l1 0.01 seconds\n",
      "RD: pca, AL:  l2 0.01 seconds\n",
      "RD: pca, AL: cos 0.01 seconds\n",
      "RD: pca, AL: cor 0.01 seconds\n",
      "RD:  l1, AL:  l1 0.01 seconds\n",
      "RD:  l1, AL:  l2 0.01 seconds\n",
      "RD:  l1, AL: cos 0.01 seconds\n",
      "RD:  l1, AL: cor 0.01 seconds\n",
      "RD:  l2, AL:  l1 0.01 seconds\n",
      "RD:  l2, AL:  l2 0.01 seconds\n",
      "RD:  l2, AL: cos 0.01 seconds\n",
      "RD:  l2, AL: cor 0.01 seconds\n",
      "RD: cos, AL:  l1 0.01 seconds\n",
      "RD: cos, AL:  l2 0.01 seconds\n",
      "RD: cos, AL: cos 0.01 seconds\n",
      "RD: cos, AL: cor 0.01 seconds\n",
      "RD: cor, AL:  l1 0.01 seconds\n",
      "RD: cor, AL:  l2 0.01 seconds\n",
      "RD: cor, AL: cos 0.01 seconds\n",
      "RD: cor, AL: cor 0.01 seconds\n"
     ]
    }
   ],
   "source": [
    "import time\n",
    "for rd_metric in ['pca', 'l1','l2','cosine','correlation']:\n",
    "    for alg_metric in ['l1','l2','cosine','correlation']:\n",
    "\n",
    "        start_time = time.time()\n",
    "                \n",
    "        # data = cl.compute_KNN(data, rd_metric, alg_metric)\n",
    "        # data = cl.compute_leiden(data, 1, rd_metric, alg_metric)\n",
    "\n",
    "        entry = utils.get_stats(data, target, rd_metric, alg_metric, write_path)\n",
    "        \n",
    "        res.loc[len(res.index)] = entry.values() \n",
    "\n",
    "        print(f\"RD: {rd_metric[:3]:>3}, AL: {alg_metric[:3]:>3} {time.time()-start_time:.2f} seconds\")\n",
    "        \n",
    "        # res.to_csv('results_051324.csv', index=False)\n"
   ]
  },
  {
   "cell_type": "code",
   "execution_count": 32,
   "id": "ea374037-5010-47bf-a706-e63eeda1c4ec",
   "metadata": {},
   "outputs": [
    {
     "data": {
      "text/html": [
       "<div>\n",
       "<style scoped>\n",
       "    .dataframe tbody tr th:only-of-type {\n",
       "        vertical-align: middle;\n",
       "    }\n",
       "\n",
       "    .dataframe tbody tr th {\n",
       "        vertical-align: top;\n",
       "    }\n",
       "\n",
       "    .dataframe thead th {\n",
       "        text-align: right;\n",
       "    }\n",
       "</style>\n",
       "<table border=\"1\" class=\"dataframe\">\n",
       "  <thead>\n",
       "    <tr style=\"text-align: right;\">\n",
       "      <th></th>\n",
       "      <th>dataset</th>\n",
       "      <th>algorithm</th>\n",
       "      <th>rd_metric</th>\n",
       "      <th>alg_metric</th>\n",
       "      <th>NMI</th>\n",
       "      <th>ARI</th>\n",
       "      <th>FM</th>\n",
       "      <th>Jaccard</th>\n",
       "      <th>#k</th>\n",
       "      <th>write</th>\n",
       "    </tr>\n",
       "  </thead>\n",
       "  <tbody>\n",
       "    <tr>\n",
       "      <th>0</th>\n",
       "      <td>TS_fasq</td>\n",
       "      <td>leiden</td>\n",
       "      <td>pca</td>\n",
       "      <td>l1</td>\n",
       "      <td>0.904667</td>\n",
       "      <td>0.796237</td>\n",
       "      <td>0.816982</td>\n",
       "      <td>0.0</td>\n",
       "      <td>19</td>\n",
       "      <td>/projects/zhanglab/users/david/data/TMS_fasq_3...</td>\n",
       "    </tr>\n",
       "    <tr>\n",
       "      <th>1</th>\n",
       "      <td>TS_fasq</td>\n",
       "      <td>leiden</td>\n",
       "      <td>pca</td>\n",
       "      <td>l2</td>\n",
       "      <td>0.904585</td>\n",
       "      <td>0.795864</td>\n",
       "      <td>0.816676</td>\n",
       "      <td>0.0</td>\n",
       "      <td>19</td>\n",
       "      <td>/projects/zhanglab/users/david/data/TMS_fasq_3...</td>\n",
       "    </tr>\n",
       "    <tr>\n",
       "      <th>2</th>\n",
       "      <td>TS_fasq</td>\n",
       "      <td>leiden</td>\n",
       "      <td>pca</td>\n",
       "      <td>cosine</td>\n",
       "      <td>0.913352</td>\n",
       "      <td>0.804618</td>\n",
       "      <td>0.825129</td>\n",
       "      <td>0.0</td>\n",
       "      <td>19</td>\n",
       "      <td>/projects/zhanglab/users/david/data/TMS_fasq_3...</td>\n",
       "    </tr>\n",
       "    <tr>\n",
       "      <th>3</th>\n",
       "      <td>TS_fasq</td>\n",
       "      <td>leiden</td>\n",
       "      <td>pca</td>\n",
       "      <td>correlation</td>\n",
       "      <td>0.913352</td>\n",
       "      <td>0.804618</td>\n",
       "      <td>0.825129</td>\n",
       "      <td>0.0</td>\n",
       "      <td>19</td>\n",
       "      <td>/projects/zhanglab/users/david/data/TMS_fasq_3...</td>\n",
       "    </tr>\n",
       "    <tr>\n",
       "      <th>4</th>\n",
       "      <td>TS_fasq</td>\n",
       "      <td>leiden</td>\n",
       "      <td>l1</td>\n",
       "      <td>l1</td>\n",
       "      <td>0.893142</td>\n",
       "      <td>0.747174</td>\n",
       "      <td>0.777012</td>\n",
       "      <td>0.0</td>\n",
       "      <td>17</td>\n",
       "      <td>/projects/zhanglab/users/david/data/TMS_fasq_3...</td>\n",
       "    </tr>\n",
       "    <tr>\n",
       "      <th>5</th>\n",
       "      <td>TS_fasq</td>\n",
       "      <td>leiden</td>\n",
       "      <td>l1</td>\n",
       "      <td>l2</td>\n",
       "      <td>0.901321</td>\n",
       "      <td>0.766069</td>\n",
       "      <td>0.793275</td>\n",
       "      <td>0.0</td>\n",
       "      <td>18</td>\n",
       "      <td>/projects/zhanglab/users/david/data/TMS_fasq_3...</td>\n",
       "    </tr>\n",
       "    <tr>\n",
       "      <th>6</th>\n",
       "      <td>TS_fasq</td>\n",
       "      <td>leiden</td>\n",
       "      <td>l1</td>\n",
       "      <td>cosine</td>\n",
       "      <td>0.907928</td>\n",
       "      <td>0.795824</td>\n",
       "      <td>0.817935</td>\n",
       "      <td>0.0</td>\n",
       "      <td>18</td>\n",
       "      <td>/projects/zhanglab/users/david/data/TMS_fasq_3...</td>\n",
       "    </tr>\n",
       "    <tr>\n",
       "      <th>7</th>\n",
       "      <td>TS_fasq</td>\n",
       "      <td>leiden</td>\n",
       "      <td>l1</td>\n",
       "      <td>correlation</td>\n",
       "      <td>0.907928</td>\n",
       "      <td>0.795824</td>\n",
       "      <td>0.817935</td>\n",
       "      <td>0.0</td>\n",
       "      <td>18</td>\n",
       "      <td>/projects/zhanglab/users/david/data/TMS_fasq_3...</td>\n",
       "    </tr>\n",
       "    <tr>\n",
       "      <th>8</th>\n",
       "      <td>TS_fasq</td>\n",
       "      <td>leiden</td>\n",
       "      <td>l2</td>\n",
       "      <td>l1</td>\n",
       "      <td>0.904667</td>\n",
       "      <td>0.796237</td>\n",
       "      <td>0.816982</td>\n",
       "      <td>0.0</td>\n",
       "      <td>19</td>\n",
       "      <td>/projects/zhanglab/users/david/data/TMS_fasq_3...</td>\n",
       "    </tr>\n",
       "    <tr>\n",
       "      <th>9</th>\n",
       "      <td>TS_fasq</td>\n",
       "      <td>leiden</td>\n",
       "      <td>l2</td>\n",
       "      <td>l2</td>\n",
       "      <td>0.904585</td>\n",
       "      <td>0.795864</td>\n",
       "      <td>0.816676</td>\n",
       "      <td>0.0</td>\n",
       "      <td>19</td>\n",
       "      <td>/projects/zhanglab/users/david/data/TMS_fasq_3...</td>\n",
       "    </tr>\n",
       "    <tr>\n",
       "      <th>10</th>\n",
       "      <td>TS_fasq</td>\n",
       "      <td>leiden</td>\n",
       "      <td>l2</td>\n",
       "      <td>cosine</td>\n",
       "      <td>0.913352</td>\n",
       "      <td>0.804618</td>\n",
       "      <td>0.825129</td>\n",
       "      <td>0.0</td>\n",
       "      <td>19</td>\n",
       "      <td>/projects/zhanglab/users/david/data/TMS_fasq_3...</td>\n",
       "    </tr>\n",
       "    <tr>\n",
       "      <th>11</th>\n",
       "      <td>TS_fasq</td>\n",
       "      <td>leiden</td>\n",
       "      <td>l2</td>\n",
       "      <td>correlation</td>\n",
       "      <td>0.913352</td>\n",
       "      <td>0.804618</td>\n",
       "      <td>0.825129</td>\n",
       "      <td>0.0</td>\n",
       "      <td>19</td>\n",
       "      <td>/projects/zhanglab/users/david/data/TMS_fasq_3...</td>\n",
       "    </tr>\n",
       "    <tr>\n",
       "      <th>12</th>\n",
       "      <td>TS_fasq</td>\n",
       "      <td>leiden</td>\n",
       "      <td>cosine</td>\n",
       "      <td>l1</td>\n",
       "      <td>0.885913</td>\n",
       "      <td>0.706764</td>\n",
       "      <td>0.729989</td>\n",
       "      <td>0.0</td>\n",
       "      <td>19</td>\n",
       "      <td>/projects/zhanglab/users/david/data/TMS_fasq_3...</td>\n",
       "    </tr>\n",
       "    <tr>\n",
       "      <th>13</th>\n",
       "      <td>TS_fasq</td>\n",
       "      <td>leiden</td>\n",
       "      <td>cosine</td>\n",
       "      <td>l2</td>\n",
       "      <td>0.887886</td>\n",
       "      <td>0.712209</td>\n",
       "      <td>0.735100</td>\n",
       "      <td>0.0</td>\n",
       "      <td>19</td>\n",
       "      <td>/projects/zhanglab/users/david/data/TMS_fasq_3...</td>\n",
       "    </tr>\n",
       "    <tr>\n",
       "      <th>14</th>\n",
       "      <td>TS_fasq</td>\n",
       "      <td>leiden</td>\n",
       "      <td>cosine</td>\n",
       "      <td>cosine</td>\n",
       "      <td>0.900243</td>\n",
       "      <td>0.737981</td>\n",
       "      <td>0.756669</td>\n",
       "      <td>0.0</td>\n",
       "      <td>20</td>\n",
       "      <td>/projects/zhanglab/users/david/data/TMS_fasq_3...</td>\n",
       "    </tr>\n",
       "    <tr>\n",
       "      <th>15</th>\n",
       "      <td>TS_fasq</td>\n",
       "      <td>leiden</td>\n",
       "      <td>cosine</td>\n",
       "      <td>correlation</td>\n",
       "      <td>0.897355</td>\n",
       "      <td>0.734588</td>\n",
       "      <td>0.753396</td>\n",
       "      <td>0.0</td>\n",
       "      <td>20</td>\n",
       "      <td>/projects/zhanglab/users/david/data/TMS_fasq_3...</td>\n",
       "    </tr>\n",
       "    <tr>\n",
       "      <th>16</th>\n",
       "      <td>TS_fasq</td>\n",
       "      <td>leiden</td>\n",
       "      <td>correlation</td>\n",
       "      <td>l1</td>\n",
       "      <td>0.900661</td>\n",
       "      <td>0.776677</td>\n",
       "      <td>0.802384</td>\n",
       "      <td>0.0</td>\n",
       "      <td>18</td>\n",
       "      <td>/projects/zhanglab/users/david/data/TMS_fasq_3...</td>\n",
       "    </tr>\n",
       "    <tr>\n",
       "      <th>17</th>\n",
       "      <td>TS_fasq</td>\n",
       "      <td>leiden</td>\n",
       "      <td>correlation</td>\n",
       "      <td>l2</td>\n",
       "      <td>0.900243</td>\n",
       "      <td>0.737981</td>\n",
       "      <td>0.756669</td>\n",
       "      <td>0.0</td>\n",
       "      <td>20</td>\n",
       "      <td>/projects/zhanglab/users/david/data/TMS_fasq_3...</td>\n",
       "    </tr>\n",
       "    <tr>\n",
       "      <th>18</th>\n",
       "      <td>TS_fasq</td>\n",
       "      <td>leiden</td>\n",
       "      <td>correlation</td>\n",
       "      <td>cosine</td>\n",
       "      <td>0.897297</td>\n",
       "      <td>0.734296</td>\n",
       "      <td>0.753149</td>\n",
       "      <td>0.0</td>\n",
       "      <td>20</td>\n",
       "      <td>/projects/zhanglab/users/david/data/TMS_fasq_3...</td>\n",
       "    </tr>\n",
       "    <tr>\n",
       "      <th>19</th>\n",
       "      <td>TS_fasq</td>\n",
       "      <td>leiden</td>\n",
       "      <td>correlation</td>\n",
       "      <td>correlation</td>\n",
       "      <td>0.897311</td>\n",
       "      <td>0.734369</td>\n",
       "      <td>0.753211</td>\n",
       "      <td>0.0</td>\n",
       "      <td>20</td>\n",
       "      <td>/projects/zhanglab/users/david/data/TMS_fasq_3...</td>\n",
       "    </tr>\n",
       "  </tbody>\n",
       "</table>\n",
       "</div>"
      ],
      "text/plain": [
       "    dataset algorithm    rd_metric   alg_metric       NMI       ARI        FM  \\\n",
       "0   TS_fasq    leiden          pca           l1  0.904667  0.796237  0.816982   \n",
       "1   TS_fasq    leiden          pca           l2  0.904585  0.795864  0.816676   \n",
       "2   TS_fasq    leiden          pca       cosine  0.913352  0.804618  0.825129   \n",
       "3   TS_fasq    leiden          pca  correlation  0.913352  0.804618  0.825129   \n",
       "4   TS_fasq    leiden           l1           l1  0.893142  0.747174  0.777012   \n",
       "5   TS_fasq    leiden           l1           l2  0.901321  0.766069  0.793275   \n",
       "6   TS_fasq    leiden           l1       cosine  0.907928  0.795824  0.817935   \n",
       "7   TS_fasq    leiden           l1  correlation  0.907928  0.795824  0.817935   \n",
       "8   TS_fasq    leiden           l2           l1  0.904667  0.796237  0.816982   \n",
       "9   TS_fasq    leiden           l2           l2  0.904585  0.795864  0.816676   \n",
       "10  TS_fasq    leiden           l2       cosine  0.913352  0.804618  0.825129   \n",
       "11  TS_fasq    leiden           l2  correlation  0.913352  0.804618  0.825129   \n",
       "12  TS_fasq    leiden       cosine           l1  0.885913  0.706764  0.729989   \n",
       "13  TS_fasq    leiden       cosine           l2  0.887886  0.712209  0.735100   \n",
       "14  TS_fasq    leiden       cosine       cosine  0.900243  0.737981  0.756669   \n",
       "15  TS_fasq    leiden       cosine  correlation  0.897355  0.734588  0.753396   \n",
       "16  TS_fasq    leiden  correlation           l1  0.900661  0.776677  0.802384   \n",
       "17  TS_fasq    leiden  correlation           l2  0.900243  0.737981  0.756669   \n",
       "18  TS_fasq    leiden  correlation       cosine  0.897297  0.734296  0.753149   \n",
       "19  TS_fasq    leiden  correlation  correlation  0.897311  0.734369  0.753211   \n",
       "\n",
       "    Jaccard  #k                                              write  \n",
       "0       0.0  19  /projects/zhanglab/users/david/data/TMS_fasq_3...  \n",
       "1       0.0  19  /projects/zhanglab/users/david/data/TMS_fasq_3...  \n",
       "2       0.0  19  /projects/zhanglab/users/david/data/TMS_fasq_3...  \n",
       "3       0.0  19  /projects/zhanglab/users/david/data/TMS_fasq_3...  \n",
       "4       0.0  17  /projects/zhanglab/users/david/data/TMS_fasq_3...  \n",
       "5       0.0  18  /projects/zhanglab/users/david/data/TMS_fasq_3...  \n",
       "6       0.0  18  /projects/zhanglab/users/david/data/TMS_fasq_3...  \n",
       "7       0.0  18  /projects/zhanglab/users/david/data/TMS_fasq_3...  \n",
       "8       0.0  19  /projects/zhanglab/users/david/data/TMS_fasq_3...  \n",
       "9       0.0  19  /projects/zhanglab/users/david/data/TMS_fasq_3...  \n",
       "10      0.0  19  /projects/zhanglab/users/david/data/TMS_fasq_3...  \n",
       "11      0.0  19  /projects/zhanglab/users/david/data/TMS_fasq_3...  \n",
       "12      0.0  19  /projects/zhanglab/users/david/data/TMS_fasq_3...  \n",
       "13      0.0  19  /projects/zhanglab/users/david/data/TMS_fasq_3...  \n",
       "14      0.0  20  /projects/zhanglab/users/david/data/TMS_fasq_3...  \n",
       "15      0.0  20  /projects/zhanglab/users/david/data/TMS_fasq_3...  \n",
       "16      0.0  18  /projects/zhanglab/users/david/data/TMS_fasq_3...  \n",
       "17      0.0  20  /projects/zhanglab/users/david/data/TMS_fasq_3...  \n",
       "18      0.0  20  /projects/zhanglab/users/david/data/TMS_fasq_3...  \n",
       "19      0.0  20  /projects/zhanglab/users/david/data/TMS_fasq_3...  "
      ]
     },
     "execution_count": 32,
     "metadata": {},
     "output_type": "execute_result"
    }
   ],
   "source": [
    "res"
   ]
  }
 ],
 "metadata": {
  "kernelspec": {
   "display_name": "Python 3 (ipykernel)",
   "language": "python",
   "name": "python3"
  },
  "language_info": {
   "codemirror_mode": {
    "name": "ipython",
    "version": 3
   },
   "file_extension": ".py",
   "mimetype": "text/x-python",
   "name": "python",
   "nbconvert_exporter": "python",
   "pygments_lexer": "ipython3",
   "version": "3.11.5"
  }
 },
 "nbformat": 4,
 "nbformat_minor": 5
}
