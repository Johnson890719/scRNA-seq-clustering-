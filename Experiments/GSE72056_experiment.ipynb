{
 "cells": [
  {
   "cell_type": "markdown",
   "id": "3f0a7484-2235-49a6-90c6-91df6d957337",
   "metadata": {},
   "source": [
    "# Experiment with different distance metrics & clustering algorithms"
   ]
  },
  {
   "cell_type": "code",
   "execution_count": 1,
   "id": "51e9cdfc-54af-45f2-9c80-cd521686c0ed",
   "metadata": {},
   "outputs": [
    {
     "data": {
      "application/javascript": [
       "IPython.notebook.set_autosave_interval(5000)"
      ]
     },
     "metadata": {},
     "output_type": "display_data"
    },
    {
     "name": "stdout",
     "output_type": "stream",
     "text": [
      "Autosaving every 5 seconds\n"
     ]
    }
   ],
   "source": [
    "import sys\n",
    "import logging\n",
    "\n",
    "nblog = open(\"nb.log\", \"a+\")\n",
    "sys.stdout.echo = nblog\n",
    "sys.stderr.echo = nblog\n",
    "\n",
    "get_ipython().log.handlers[0].stream = nblog\n",
    "get_ipython().log.setLevel(logging.INFO)\n",
    "\n",
    "%autosave 5"
   ]
  },
  {
   "cell_type": "code",
   "execution_count": 2,
   "id": "04533d89",
   "metadata": {},
   "outputs": [],
   "source": [
    "import time\n",
    "import numpy as np\n",
    "import pandas as pd\n",
    "import sklearn\n",
    "from sklearn.metrics.cluster import normalized_mutual_info_score\n",
    "\n",
    "import data_loader\n",
    "import pp\n",
    "import clustering\n",
    "\n",
    "import scanpy as sc\n",
    "\n",
    "\n",
    "%load_ext autoreload\n",
    "%autoreload 2"
   ]
  },
  {
   "cell_type": "code",
   "execution_count": 3,
   "id": "f1dd480d",
   "metadata": {},
   "outputs": [
    {
     "data": {
      "text/plain": [
       "AnnData object with n_obs × n_vars = 4645 × 22287\n",
       "    obs: 'n_genes', 'n_genes_by_counts', 'total_counts', 'total_counts_mt', 'pct_counts_mt'\n",
       "    var: 'n_cells', 'mt', 'n_cells_by_counts', 'mean_counts', 'pct_dropout_by_counts', 'total_counts'\n",
       "    uns: 'log1p'"
      ]
     },
     "execution_count": 3,
     "metadata": {},
     "output_type": "execute_result"
    }
   ],
   "source": [
    "# Local path \n",
    "DATA_PATH = '/projects/zhanglab/users/johnson/data/GSE72056_processed.h5ad'\n",
    "\n",
    "# Loading raw data\n",
    "adata = data_loader.load_annData(DATA_PATH)    \n",
    "adata.var_names_make_unique()\n",
    "adata"
   ]
  },
  {
   "cell_type": "markdown",
   "id": "77932e9c",
   "metadata": {},
   "source": [
    "## Data Preprocessing"
   ]
  },
  {
   "cell_type": "code",
   "execution_count": 4,
   "id": "93c56994",
   "metadata": {},
   "outputs": [
    {
     "name": "stdout",
     "output_type": "stream",
     "text": [
      "WARNING: adata.X seems to be already log-transformed.\n"
     ]
    },
    {
     "name": "stderr",
     "output_type": "stream",
     "text": [
      "/home/yenhsian/miniconda3/lib/python3.11/site-packages/scanpy/preprocessing/_highly_variable_genes.py:220: FutureWarning: The default of observed=False is deprecated and will be changed to True in a future version of pandas. Pass observed=False to retain current behavior or observed=True to adopt the future default and silence this warning.\n",
      "  disp_grouped = df.groupby('mean_bin')['dispersions']\n"
     ]
    },
    {
     "data": {
      "text/plain": [
       "AnnData object with n_obs × n_vars = 4644 × 21120\n",
       "    obs: 'n_genes', 'n_genes_by_counts', 'total_counts', 'total_counts_mt', 'pct_counts_mt'\n",
       "    var: 'n_cells', 'mt', 'n_cells_by_counts', 'mean_counts', 'pct_dropout_by_counts', 'total_counts', 'highly_variable', 'means', 'dispersions', 'dispersions_norm'\n",
       "    uns: 'log1p', 'hvg'"
      ]
     },
     "execution_count": 4,
     "metadata": {},
     "output_type": "execute_result"
    }
   ],
   "source": [
    "# Preprocess data # pp.preprocess(adata)\n",
    "pp.filter_cell(adata, min_genes = 1500)\n",
    "pp.filter_gene(adata, min_cells = 10)\n",
    "pp.filter_mt_genes(adata)\n",
    "pp.normalize_size(adata, target_sum = 1e4)\n",
    "pp.normalize_log(adata)\n",
    "pp.highly_variable_genes(adata, min_mean = 0.0125, max_mean = 3, min_disp = 0.5)\n",
    "adata"
   ]
  },
  {
   "cell_type": "markdown",
   "id": "2bd4bb98-bc50-478b-8a42-9db6b0efb656",
   "metadata": {},
   "source": [
    "## Clustering"
   ]
  },
  {
   "cell_type": "markdown",
   "id": "73d5ceed",
   "metadata": {},
   "source": [
    "### Leidon"
   ]
  },
  {
   "cell_type": "code",
   "execution_count": 5,
   "id": "68fc8dec",
   "metadata": {},
   "outputs": [
    {
     "name": "stdout",
     "output_type": "stream",
     "text": [
      "leiden completed, time=1.8s\n"
     ]
    }
   ],
   "source": [
    "# PCA\n",
    "clustering.pca(adata, svd_solver='arpack')\n",
    "# KNN\n",
    "clustering.neighbors(adata, n_neighbors = 10, use_pca = True)\n",
    "# Leiden-clustering based on PCA\n",
    "clustering.cluster_leiden(adata)\n",
    "# UMAP embedding based on KNN\n",
    "sc.tl.umap(adata)"
   ]
  },
  {
   "cell_type": "markdown",
   "id": "153b932c-4dd8-4520-b19a-e204896e448f",
   "metadata": {},
   "source": [
    "### K-medoids"
   ]
  },
  {
   "cell_type": "markdown",
   "id": "e5a56171-0bfd-4f23-af64-9f0273e8dab6",
   "metadata": {},
   "source": [
    "#### true labels\n",
    "\n",
    "parse true labels from cell's name"
   ]
  },
  {
   "cell_type": "code",
   "execution_count": 6,
   "id": "638842cf-fc13-4d9f-93d7-9692e5443ede",
   "metadata": {},
   "outputs": [
    {
     "data": {
      "text/plain": [
       "{'CY72': 0,\n",
       " 'CY58': 1,\n",
       " 'CY71': 2,\n",
       " 'CY81': 3,\n",
       " 'CY80': 4,\n",
       " 'CY74': 5,\n",
       " 'CY79': 6,\n",
       " 'CY82': 7,\n",
       " 'CY53': 8,\n",
       " 'CY59': 9,\n",
       " 'CY67': 10,\n",
       " 'CY65': 11,\n",
       " 'CY78': 12,\n",
       " 'CY84': 13,\n",
       " 'CY60': 14,\n",
       " 'CY88': 15,\n",
       " 'CY89': 16,\n",
       " 'CY75': 17,\n",
       " 'CY94': 18,\n",
       " 'SS2_': 19,\n",
       " 'MONI': 20}"
      ]
     },
     "execution_count": 6,
     "metadata": {},
     "output_type": "execute_result"
    }
   ],
   "source": [
    "# Classification based on the name of data\n",
    "from collections import Counter\n",
    "\n",
    "def encode(celltypes):\n",
    "    labels_dict = {}\n",
    "    labels = []\n",
    "    cur = 0\n",
    "\n",
    "    for c in celltypes:\n",
    "        if c not in labels_dict:\n",
    "            labels_dict[c] = cur\n",
    "            cur += 1 # increase smallest index\n",
    "        labels.append(labels_dict[c])\n",
    "    return labels, labels_dict\n",
    "\n",
    "\n",
    "celltypes = pd.Series(adata.obs_names).apply(lambda x : x[:4].upper())\n",
    "labels, labels_dict = encode(celltypes)\n",
    "\n",
    "adata.obs['true_label'] = labels\n",
    "labels_dict"
   ]
  },
  {
   "cell_type": "markdown",
   "id": "4ae2dcdd-d5c8-416c-b3dd-f8acb995b144",
   "metadata": {},
   "source": [
    "#### Clustering with different metrics"
   ]
  },
  {
   "cell_type": "code",
   "execution_count": null,
   "id": "d1ec8e20-34bb-4736-9ef2-c877c43b8cf6",
   "metadata": {},
   "outputs": [
    {
     "name": "stdout",
     "output_type": "stream",
     "text": [
      "kmed_L1 (K = 1) completed, time=30.7s\n",
      "kmed_L1 (K = 2) completed, time=109.4s\n",
      "kmed_L1 (K = 3) completed, time=66.9s\n",
      "kmed_L1 (K = 4) completed, time=152.7s\n",
      "kmed_L1 (K = 5) completed, time=174.9s\n"
     ]
    }
   ],
   "source": [
    "from banditpam import KMedoids\n",
    "from sklearn.metrics.cluster import normalized_mutual_info_score \n",
    "\n",
    "df_score = pd.DataFrame()\n",
    "df_score.index.name = 'k'\n",
    "\n",
    "for metric in ['L1', 'L2', 'inf', 'cos', 'manhattan']:\n",
    "\n",
    "    score_list = []\n",
    "    for k in range(1, 9):\n",
    "        clustering.cluster_banditpam(adata, n_medoids = k, metric = metric)\n",
    "        nmi = normalized_mutual_info_score(adata.obs['true_label'], adata.obs['kmed_'+metric])\n",
    "        score_list.append(nmi)\n",
    "    df_score[metric] = score_list\n",
    "\n",
    "df_score.index = range(1,9)\n",
    "df_score"
   ]
  },
  {
   "cell_type": "markdown",
   "id": "d08057ff-2eca-453f-b7c9-32f8b094a60d",
   "metadata": {},
   "source": [
    "#### Find best K"
   ]
  },
  {
   "cell_type": "code",
   "execution_count": null,
   "id": "b463bbdb-03e8-4176-9438-54acfe88b4d0",
   "metadata": {},
   "outputs": [],
   "source": [
    "import matplotlib.pyplot as plt\n",
    "colormap = plt.get_cmap('tab10')\n",
    "\n",
    "for i, metric in enumerate(['L1', 'L2', 'inf', 'cos']):\n",
    "    plt.plot(df_score.index, df_score[metric], label=metric, color=colormap(i))\n",
    "\n",
    "plt.title('NMI v.s. number of K')\n",
    "plt.xlabel('K')\n",
    "plt.ylabel('NMI')\n",
    "plt.legend()\n",
    "plt.show()"
   ]
  },
  {
   "cell_type": "code",
   "execution_count": null,
   "id": "628d2cec-f308-46ad-897b-a5bd00dcf68f",
   "metadata": {},
   "outputs": [],
   "source": [
    "clustering.cluster_banditpam(adata, n_medoids = 5, metric = 'L1')\n",
    "clustering.cluster_banditpam(adata, n_medoids = 7, metric = 'L2')\n",
    "clustering.cluster_banditpam(adata, n_medoids = 7, metric = 'inf')\n",
    "clustering.cluster_banditpam(adata, n_medoids = 6, metric = 'cos')\n",
    "clustering.cluster_banditpam(adata, n_medoids = 6, metric = 'manhattan')"
   ]
  },
  {
   "cell_type": "code",
   "execution_count": null,
   "id": "4740ed79-83d1-4a5a-b685-1d0d939887ed",
   "metadata": {},
   "outputs": [],
   "source": [
    "adata.obs"
   ]
  },
  {
   "cell_type": "markdown",
   "id": "0fbffe99-9808-4b94-8098-bd23cf6dfdfe",
   "metadata": {},
   "source": [
    "#### Visualize clustering result "
   ]
  },
  {
   "cell_type": "code",
   "execution_count": null,
   "id": "27e2d1b8-f298-4296-90aa-f2f099b8ac1c",
   "metadata": {},
   "outputs": [],
   "source": [
    "# True labels are stored in adata.obs\n",
    "import warnings\n",
    "warnings.filterwarnings('ignore')\n",
    "sc.pl.umap(adata, color=['leiden', 'kmed_L1' , 'kmed_L2' , 'kmed_inf', 'kmed_cos', 'kmed_manhattan' ,'true_label'])"
   ]
  },
  {
   "cell_type": "markdown",
   "id": "78e27f33-ebaf-4871-b630-db2647300db7",
   "metadata": {},
   "source": [
    "#### Benchmarking clustering\n",
    "\n",
    "use NMI"
   ]
  },
  {
   "cell_type": "code",
   "execution_count": null,
   "id": "c90d6777-f42d-4eee-941e-bf3c03aa68eb",
   "metadata": {},
   "outputs": [],
   "source": [
    "from sklearn.metrics import normalized_mutual_info_score\n",
    "\n",
    "print('leiden: ', normalized_mutual_info_score(adata.obs['true_label'], adata.obs['leiden']))\n",
    "for metric in ['L1', 'L2', 'inf', 'cos', 'manhattan']:\n",
    "    print(f\"kmed {metric}: {normalized_mutual_info_score(adata.obs['true_label'], adata.obs['kmed_'+metric])}\")"
   ]
  },
  {
   "cell_type": "code",
   "execution_count": null,
   "id": "72e725c4-6e2c-455d-be30-13ec07899aff",
   "metadata": {},
   "outputs": [],
   "source": []
  }
 ],
 "metadata": {
  "kernelspec": {
   "display_name": "Python 3 (ipykernel)",
   "language": "python",
   "name": "python3"
  },
  "language_info": {
   "codemirror_mode": {
    "name": "ipython",
    "version": 3
   },
   "file_extension": ".py",
   "mimetype": "text/x-python",
   "name": "python",
   "nbconvert_exporter": "python",
   "pygments_lexer": "ipython3",
   "version": "3.11.5"
  }
 },
 "nbformat": 4,
 "nbformat_minor": 5
}
