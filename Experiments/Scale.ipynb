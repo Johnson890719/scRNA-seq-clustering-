{
 "cells": [
  {
   "cell_type": "code",
   "execution_count": 1,
   "id": "16d27bb1-2383-4e92-9557-13c0e8dc7c13",
   "metadata": {},
   "outputs": [],
   "source": [
    "import sys\n",
    "import time\n",
    "import scipy\n",
    "import logging\n",
    "import anndata\n",
    "import numpy as np\n",
    "import pandas as pd\n",
    "import scanpy as sc\n",
    "from sklearn.metrics.pairwise import pairwise_distances\n",
    "from sklearn.neighbors import NearestNeighbors\n",
    "import matplotlib.pyplot as plt"
   ]
  },
  {
   "cell_type": "code",
   "execution_count": 86,
   "id": "8fda9c03-b473-4603-9f41-d1257c0014e0",
   "metadata": {},
   "outputs": [
    {
     "data": {
      "text/plain": [
       "array([[ 10,  20,  30,  40,  50],\n",
       "       [ 40,  50,  60,  70,  80],\n",
       "       [ 70,  80,  90, 100, 110],\n",
       "       [ 35,  45,  55,  65,  75],\n",
       "       [  5,  15,  25,  35,  45],\n",
       "       [  1,   2,   3,   4,   5]])"
      ]
     },
     "execution_count": 86,
     "metadata": {},
     "output_type": "execute_result"
    }
   ],
   "source": [
    "import numpy as np\n",
    "import scipy.sparse as sp\n",
    "import anndata\n",
    "\n",
    "matrix = np.array([\n",
    "    [10, 20, 30, 40 , 50],\n",
    "    [40, 50, 60, 70, 80],\n",
    "    [70, 80, 90, 100, 110],\n",
    "    [35, 45, 55, 65 , 75],\n",
    "    [5, 15, 25, 35, 45],\n",
    "    [1, 2, 3, 4, 5]\n",
    "])\n",
    "\n",
    "# Convert the matrix to a sparse CSR format for use in AnnData\n",
    "sparse_matrix = sp.csr_matrix(matrix)\n",
    "adata = anndata.AnnData(X=sparse_matrix)\n",
    "\n",
    "adata.X.toarray()"
   ]
  },
  {
   "cell_type": "code",
   "execution_count": 87,
   "id": "b7a7bb33-057f-45fb-a413-4688c79d122e",
   "metadata": {},
   "outputs": [
    {
     "name": "stdout",
     "output_type": "stream",
     "text": [
      "Applying log transformation\n"
     ]
    },
    {
     "data": {
      "text/plain": [
       "array([[6.503789 , 7.196187 , 7.6014023, 7.8889594, 8.112028 ],\n",
       "       [7.196187 , 7.419181 , 7.6014023, 7.7554817, 7.8889594],\n",
       "       [7.3502307, 7.4836817, 7.6014023, 7.7067127, 7.801982 ],\n",
       "       [7.149703 , 7.4008427, 7.6014023, 7.7683797, 7.911424 ],\n",
       "       [5.9939613, 7.09091  , 7.6014023, 7.9377317, 8.188967 ],\n",
       "       [6.503789 , 7.196187 , 7.6014023, 7.8889594, 8.112028 ]],\n",
       "      dtype=float32)"
      ]
     },
     "execution_count": 87,
     "metadata": {},
     "output_type": "execute_result"
    }
   ],
   "source": [
    "sc.pp.normalize_total(adata, target_sum=1e4)\n",
    "\n",
    "# Log transform\n",
    "print(\"Applying log transformation\")\n",
    "sc.pp.log1p(adata)\n",
    "\n",
    "# # High-variable gene selection\n",
    "# print(\"Selecting highly variable genes\")\n",
    "# sc.pp.highly_variable_genes(adata_raw, flavor='seurat', n_top_genes=2000)\n",
    "adata.X.toarray()"
   ]
  },
  {
   "cell_type": "code",
   "execution_count": 58,
   "id": "19ef76a9-bd8a-423c-8a32-f8603eecbdb1",
   "metadata": {},
   "outputs": [
    {
     "name": "stdout",
     "output_type": "stream",
     "text": [
      "#time start: 0.0s\n",
      "Downsampled shape of adata: (6, 5)\n",
      "Downsampled total counts: 656\n",
      "#time sub-sample counts: 0.0038s\n",
      "\n"
     ]
    },
    {
     "data": {
      "text/plain": [
       "array([[ 3, 15, 14, 20, 23],\n",
       "       [27, 30, 29, 27, 37],\n",
       "       [35, 45, 41, 48, 56],\n",
       "       [17, 19, 31, 32, 38],\n",
       "       [ 3,  8, 11, 20, 20],\n",
       "       [ 1,  0,  0,  2,  4]])"
      ]
     },
     "execution_count": 58,
     "metadata": {},
     "output_type": "execute_result"
    }
   ],
   "source": [
    "adata_downsample = subsample_anndata(adata,0.5,random_state=42,verbose=True)\n",
    "adata_downsample.X.toarray()"
   ]
  },
  {
   "cell_type": "code",
   "execution_count": 60,
   "id": "a874cc98-fa8f-4d1f-aaf4-50dcdba6c33e",
   "metadata": {},
   "outputs": [
    {
     "name": "stdout",
     "output_type": "stream",
     "text": [
      "Applying log transformation\n"
     ]
    },
    {
     "data": {
      "text/plain": [
       "array([[5.9939613, 7.6014023, 7.532445 , 7.8889594, 8.028672 ],\n",
       "       [7.4960976, 7.6014023, 7.567518 , 7.4960976, 7.8110285],\n",
       "       [7.3502307, 7.6014023, 7.508361 , 7.66591  , 7.8199935],\n",
       "       [7.124378 , 7.2355194, 7.7247887, 7.756523 , 7.928306 ],\n",
       "       [6.1838827, 7.163422 , 7.4816647, 8.079248 , 8.079248 ],\n",
       "       [7.26513  , 0.       , 0.       , 7.957927 , 8.6509   ]],\n",
       "      dtype=float32)"
      ]
     },
     "execution_count": 60,
     "metadata": {},
     "output_type": "execute_result"
    }
   ],
   "source": [
    "sc.pp.normalize_total(adata_downsample, target_sum=1e4)\n",
    "\n",
    "# Log transform\n",
    "print(\"Applying log transformation\")\n",
    "sc.pp.log1p(adata_downsample)\n",
    "\n",
    "# # High-variable gene selection\n",
    "# print(\"Selecting highly variable genes\")\n",
    "# sc.pp.highly_variable_genes(adata_downsample, flavor='seurat', n_top_genes=2000)\n",
    "adata_downsample.X.toarray()"
   ]
  },
  {
   "cell_type": "code",
   "execution_count": 88,
   "id": "0b8808e5-e923-465d-9e42-42ce88577b59",
   "metadata": {},
   "outputs": [
    {
     "data": {
      "text/plain": [
       "array([[0.0000000e+00, 2.4047035e-01, 1.3577032e-01, 2.9904428e-01,\n",
       "        1.0000000e+00, 1.0000000e+00],\n",
       "       [2.4047035e-01, 0.0000000e+00, 1.0000000e+00, 1.0000000e+00,\n",
       "        0.0000000e+00, 0.0000000e+00],\n",
       "       [1.3577032e-01, 1.0000000e+00, 0.0000000e+00, 9.5939922e-01,\n",
       "        0.0000000e+00, 0.0000000e+00],\n",
       "       [2.9904428e-01, 1.0000000e+00, 9.5939922e-01, 0.0000000e+00,\n",
       "        1.2954429e-10, 5.8175342e-06],\n",
       "       [1.0000000e+00, 0.0000000e+00, 0.0000000e+00, 1.2954429e-10,\n",
       "        0.0000000e+00, 1.0000000e+00],\n",
       "       [1.0000000e+00, 0.0000000e+00, 0.0000000e+00, 5.8175342e-06,\n",
       "        1.0000000e+00, 0.0000000e+00]], dtype=float32)"
      ]
     },
     "execution_count": 88,
     "metadata": {},
     "output_type": "execute_result"
    }
   ],
   "source": [
    "sc.pp.neighbors(adata, n_neighbors=4, metric='l2', use_rep='X')\n",
    "adata.obsp['connectivities'].toarray()"
   ]
  },
  {
   "cell_type": "code",
   "execution_count": 89,
   "id": "24a0a54a-f92d-4aff-9fee-352c8776add1",
   "metadata": {},
   "outputs": [
    {
     "data": {
      "text/plain": [
       "array([[0.        , 0.        , 0.        , 0.71684754, 0.52849388,\n",
       "        0.        ],\n",
       "       [0.77247477, 0.        , 0.19450785, 0.05628565, 0.        ,\n",
       "        0.        ],\n",
       "       [0.96356595, 0.19450785, 0.        , 0.25070712, 0.        ,\n",
       "        0.        ],\n",
       "       [0.71684754, 0.05628565, 0.25070712, 0.        , 0.        ,\n",
       "        0.        ],\n",
       "       [0.52849388, 0.        , 0.        , 1.23996258, 0.        ,\n",
       "        0.52849388],\n",
       "       [0.        , 0.        , 0.        , 0.71684754, 0.52849388,\n",
       "        0.        ]])"
      ]
     },
     "execution_count": 89,
     "metadata": {},
     "output_type": "execute_result"
    }
   ],
   "source": [
    "adata.obsp['distances'].toarray()"
   ]
  },
  {
   "cell_type": "code",
   "execution_count": 78,
   "id": "7acf14e5-0f55-4dd6-a24b-730c7053cbf7",
   "metadata": {},
   "outputs": [
    {
     "data": {
      "text/plain": [
       "array([[0.        , 0.        , 0.46113244, 0.53886896, 1.        ,\n",
       "        0.        ],\n",
       "       [0.        , 0.        , 1.        , 0.92422175, 0.29982132,\n",
       "        0.        ],\n",
       "       [0.46113244, 1.        , 0.        , 0.99999994, 0.57870203,\n",
       "        0.41876322],\n",
       "       [0.53886896, 0.92422175, 0.99999994, 0.        , 0.6852201 ,\n",
       "        0.58123785],\n",
       "       [1.        , 0.29982132, 0.57870203, 0.6852201 , 0.        ,\n",
       "        1.        ],\n",
       "       [0.        , 0.        , 0.41876322, 0.58123785, 1.        ,\n",
       "        0.        ]], dtype=float32)"
      ]
     },
     "execution_count": 78,
     "metadata": {},
     "output_type": "execute_result"
    }
   ],
   "source": [
    "sc.pp.neighbors(adata_downsample, n_neighbors=4, metric='l2', use_rep='X')\n",
    "adata_downsample.obsp['connectivities'].toarray()"
   ]
  },
  {
   "cell_type": "code",
   "execution_count": 65,
   "id": "3497e9d5-d88e-42d7-98c7-adffb1c59e78",
   "metadata": {},
   "outputs": [
    {
     "name": "stdout",
     "output_type": "stream",
     "text": [
      "[0.24047035 0.13577032 0.29904428 1.         1.        ]\n",
      "[0.         0.46113244 0.53886896 1.         0.        ]\n",
      "0.23684210526315794\n",
      "[0.24047035 1.         1.         0.        ]\n",
      "[0.         1.         0.92422175 0.29982132]\n",
      "0.7378647873726218\n",
      "[0.13577032 1.         0.9593992  0.         0.        ]\n",
      "[0.46113244 1.         0.99999994 0.57870203 0.41876322]\n",
      "0.8207826816681234\n",
      "[2.9904428e-01 1.0000000e+00 9.5939922e-01 1.2954429e-10 5.8175342e-06]\n",
      "[0.53886896 0.92422175 0.99999994 0.6852201  0.58123785]\n",
      "0.49999999999999994\n",
      "[1.0000000e+00 0.0000000e+00 0.0000000e+00 1.2954429e-10 1.0000000e+00]\n",
      "[1.         0.29982132 0.57870203 0.6852201  1.        ]\n",
      "0.9733285267845754\n",
      "[1.000000e+00 0.000000e+00 5.817534e-06 1.000000e+00]\n",
      "[0.         0.41876322 0.58123785 1.        ]\n",
      "0.10540925533894598\n"
     ]
    },
    {
     "data": {
      "text/plain": [
       "0.5623712260712374"
      ]
     },
     "execution_count": 65,
     "metadata": {},
     "output_type": "execute_result"
    }
   ],
   "source": [
    "cal_ranked_order(adata.obsp['connectivities'], adata_downsample.obsp['connectivities'])"
   ]
  },
  {
   "cell_type": "code",
   "execution_count": 106,
   "id": "97d719dc-9416-45f6-9ff8-479a9c33b997",
   "metadata": {},
   "outputs": [
    {
     "data": {
      "text/plain": [
       "-0.38132342184622575"
      ]
     },
     "execution_count": 106,
     "metadata": {},
     "output_type": "execute_result"
    }
   ],
   "source": [
    "from scipy.stats import spearmanr, pearsonr\n",
    "\n",
    "def cal_ranked_order(distances_raw, distances_noise):\n",
    "    # Calculate Spearman's rank correlation for neighbors\n",
    "    rank_correlation = []\n",
    "    for i in range(distances_raw.shape[0]):\n",
    "        raw_indices = distances_raw[i].indices\n",
    "        noise_indices = distances_noise[i].indices\n",
    "        all_indices = np.union1d(raw_indices, noise_indices)\n",
    "        raw_row = distances_raw[i, all_indices].toarray().flatten()\n",
    "        noise_row = distances_noise[i, all_indices].toarray().flatten()\n",
    "        raw_row[raw_row == 0] = int(1e9)\n",
    "        noise_row[noise_row == 0] = int(1e9)\n",
    "\n",
    "        corr, _ = spearmanr(raw_row, noise_row)\n",
    "        \n",
    "        rank_correlation.append(corr)\n",
    "    return np.nanmean(rank_correlation)\n",
    "\n",
    "metric = 'l2'\n",
    "adata_raw = anndata.read_h5ad('/projects/zhanglab/users/johnson/gene_downsampled_data_processed/Cano_filtered_sampled_7K.h5ad')\n",
    "adata_noise = anndata.read_h5ad('/projects/zhanglab/users/johnson/gene_downsampled_data_processed/Cano_filtered_sampled_7K_downsample_0.3.h5ad')\n",
    "distances_raw = adata_raw.obsp[f'neighbors_{metric}_distances']\n",
    "distances_noise = adata_noise.obsp[f'neighbors_{metric}_distances']\n",
    "\n",
    "cal_ranked_order(distances_raw, distances_noise)"
   ]
  },
  {
   "cell_type": "code",
   "execution_count": 101,
   "id": "7abd7535-880f-4327-b0e7-6af2d8adb25a",
   "metadata": {},
   "outputs": [
    {
     "data": {
      "text/plain": [
       "array([ 803, 1535, 2019, 2903, 3795, 4939, 5724, 6414, 6474], dtype=int32)"
      ]
     },
     "execution_count": 101,
     "metadata": {},
     "output_type": "execute_result"
    }
   ],
   "source": [
    "distances_raw[0].indices"
   ]
  },
  {
   "cell_type": "code",
   "execution_count": 100,
   "id": "ca969345-80ce-4c70-98f3-7b27cd4d4adc",
   "metadata": {},
   "outputs": [
    {
     "data": {
      "text/plain": [
       "array([1535, 1779, 3001, 4483, 4883, 4939, 6367, 6414, 6966], dtype=int32)"
      ]
     },
     "execution_count": 100,
     "metadata": {},
     "output_type": "execute_result"
    }
   ],
   "source": [
    "distances_noise[0].indices"
   ]
  },
  {
   "cell_type": "code",
   "execution_count": 99,
   "id": "3972ce54-18b9-4e12-beb3-3bace4399a07",
   "metadata": {},
   "outputs": [
    {
     "data": {
      "text/plain": [
       "array([0.17686637, 0.20358108, 0.19913092, 0.19783232, 0.2064757 ,\n",
       "       0.2044905 , 0.20384912, 0.20042785, 0.20078111])"
      ]
     },
     "execution_count": 99,
     "metadata": {},
     "output_type": "execute_result"
    }
   ],
   "source": [
    "distances_noise[0].data"
   ]
  },
  {
   "cell_type": "code",
   "execution_count": 31,
   "id": "6c117135-a689-4c6d-b076-0ba69a46c6b4",
   "metadata": {},
   "outputs": [
    {
     "data": {
      "text/plain": [
       "array([[0.        , 1.1912084 , 1.4368634 , ..., 0.        , 0.        ,\n",
       "        0.        ],\n",
       "       [0.        , 3.59409   , 1.1020641 , ..., 0.        , 0.        ,\n",
       "        0.        ],\n",
       "       [0.        , 0.        , 0.        , ..., 0.        , 0.        ,\n",
       "        0.        ],\n",
       "       ...,\n",
       "       [0.        , 0.        , 1.2014413 , ..., 0.        , 0.        ,\n",
       "        0.        ],\n",
       "       [0.        , 0.71196425, 0.        , ..., 0.        , 0.        ,\n",
       "        0.        ],\n",
       "       [0.        , 2.5525906 , 2.4113364 , ..., 0.        , 0.        ,\n",
       "        0.        ]], dtype=float32)"
      ]
     },
     "execution_count": 31,
     "metadata": {},
     "output_type": "execute_result"
    }
   ],
   "source": [
    "adata_raw.X.toarray()"
   ]
  },
  {
   "cell_type": "code",
   "execution_count": 32,
   "id": "82ded545-a42f-48f3-8104-5e4bf2eadb2f",
   "metadata": {},
   "outputs": [
    {
     "data": {
      "text/plain": [
       "array([[0.       , 1.0864942, 1.2860558, ..., 0.       , 0.       ,\n",
       "        0.       ],\n",
       "       [0.       , 3.6464157, 1.0018247, ..., 0.       , 0.       ,\n",
       "        0.       ],\n",
       "       [0.       , 0.       , 0.       , ..., 0.       , 0.       ,\n",
       "        0.       ],\n",
       "       ...,\n",
       "       [0.       , 0.       , 1.4635868, ..., 0.       , 0.       ,\n",
       "        0.       ],\n",
       "       [0.       , 0.9094163, 0.       , ..., 0.       , 0.       ,\n",
       "        0.       ],\n",
       "       [0.       , 2.422148 , 2.2468274, ..., 0.       , 0.       ,\n",
       "        0.       ]], dtype=float32)"
      ]
     },
     "execution_count": 32,
     "metadata": {},
     "output_type": "execute_result"
    }
   ],
   "source": [
    "adata_noise.X.toarray()"
   ]
  },
  {
   "cell_type": "code",
   "execution_count": 6,
   "id": "7e9f0b92-6876-4310-8996-22d9b3cfa1ed",
   "metadata": {},
   "outputs": [],
   "source": [
    "def subsample_anndata(adata,downsample_rate,random_state=0,verbose=True):\n",
    "    np.random.seed(random_state)\n",
    "    adata = adata.copy()\n",
    "    if verbose: \n",
    "        start_time=time.time()\n",
    "        print('#time start: 0.0s')\n",
    "    \n",
    "    # Sub-sample the counts for each cell   \n",
    "    Nc,G=adata.shape\n",
    "    Nr = adata.X.sum()/Nc\n",
    "    Nr_new = Nr * downsample_rate\n",
    "    Nrc = np.array(adata.X.sum(axis=1)).reshape(-1)\n",
    "    \n",
    "    ## change it to np array maybe \n",
    "    data_new = []\n",
    "    indices_new = []\n",
    "    indptr_new = [0]\n",
    "    \n",
    "    for icell, _ in enumerate(adata.obs_names):\n",
    "        target_Nrc = int(Nrc[icell]*downsample_rate)\n",
    "        if target_Nrc == 0:\n",
    "            print(f\"Warning: Cell {icell} is reduced to zero counts!\")\n",
    "        if target_Nrc>0:\n",
    "            ## subsample \n",
    "            idx_vec = []\n",
    "            idx_gene = []\n",
    "            temp = adata.X[icell].astype(int)\n",
    "            \n",
    "            for val,i_gene in zip(temp.data,temp.indices):\n",
    "                idx_gene.append(i_gene)\n",
    "                idx_vec.extend([i_gene]*val)\n",
    "            downsamp = np.random.choice(idx_vec,target_Nrc,replace=False)\n",
    "            indices,values = np.unique(downsamp,return_counts=True)\n",
    "            \n",
    "            ## set row value\n",
    "            data_new.extend(list(values))\n",
    "            indices_new.extend(list(indices))\n",
    "            indptr_new.append(values.shape[0]+indptr_new[-1])\n",
    "        else:\n",
    "            indptr_new.append(indptr_new[-1])\n",
    "        \n",
    "        if verbose and icell%5000==0 and icell>0:\n",
    "            print('## %d cells processed'%icell)\n",
    "    ## construct a new adata file\n",
    "    X_new = sp.csr_matrix((data_new, indices_new, indptr_new), shape=adata.shape)\n",
    "    adata.X = X_new\n",
    "    print(f\"Downsampled shape of adata: {adata.shape}\")\n",
    "    print(f\"Downsampled total counts: {adata.X.sum()}\")\n",
    "    \n",
    "    # Ensure no empty dataset\n",
    "    if adata.shape[0] == 0 or adata.shape[1] == 0:\n",
    "        print(\"Warning: Returned AnnData object has zero samples or zero features!\")\n",
    "    \n",
    "    if verbose: \n",
    "        print('#time sub-sample counts: %0.4fs\\n'%(time.time()-start_time)) \n",
    "    return adata"
   ]
  },
  {
   "cell_type": "code",
   "execution_count": 2,
   "id": "3ce29dc3-c7e4-4b07-9b7e-305e487c8c65",
   "metadata": {},
   "outputs": [],
   "source": [
    "import os\n",
    "import anndata\n",
    "import numpy as np\n",
    "import scanpy as sc\n",
    "from sklearn.metrics import pairwise_distances, silhouette_score\n",
    "import pandas as pd\n",
    "import scipy.sparse as sp\n",
    "import matplotlib.pyplot as plt\n",
    "import seaborn as sns\n",
    "import time\n",
    "from typing import Tuple\n",
    "\n",
    "def downsample(\n",
    "    adata, \n",
    "    downsample_ratio: float, \n",
    "    random_state: int = 42, \n",
    "    verbose: bool = True\n",
    ") -> Tuple:\n",
    "    \"\"\"\n",
    "    Downsample the counts for each cell in the AnnData object by a given downsample ratio.\n",
    "    This function reduces the read depth (gene counts) for each cell without changing the number of cells.\n",
    "    \n",
    "    Parameters:\n",
    "    - adata: AnnData object (with a sparse matrix as `adata.X`).\n",
    "    - downsample_ratio: The ratio to downsample the gene counts. Must be between 0 and 1.\n",
    "    - random_state: Seed for reproducibility (default: 42).\n",
    "    - verbose: Whether to print progress and timing information (default: True).\n",
    "    \n",
    "    Returns:\n",
    "    - adata_downsampled: AnnData object with downsampled counts.\n",
    "    - zero_count_cells: List of cell IDs (indices) that have zero counts after downsampling.\n",
    "    \"\"\"\n",
    "    if not (0 <= downsample_ratio <= 1):\n",
    "        raise ValueError(\"downsample_ratio must be between 0 and 1.\")\n",
    "    \n",
    "    rng = np.random.default_rng(seed=random_state)\n",
    "    adata_downsampled = adata.copy()  # Make a copy to avoid changing the original data\n",
    "    zero_count_cells = []\n",
    "    \n",
    "    if verbose:\n",
    "        start_time = time.time()\n",
    "        print(f\"Start downsampling with ratio {downsample_ratio}\")\n",
    "    \n",
    "    # Ensure the matrix is in CSR format for efficient row slicing\n",
    "    if not sp.isspmatrix_csr(adata_downsampled.X):\n",
    "        X = adata_downsampled.X.tocsr()\n",
    "    else:\n",
    "        X = adata_downsampled.X\n",
    "    \n",
    "    data_new = []\n",
    "    indices_new = []\n",
    "    indptr_new = [0]\n",
    "    \n",
    "    for icell in range(X.shape[0]):\n",
    "        row_start = X.indptr[icell]\n",
    "        row_end = X.indptr[icell + 1]\n",
    "        gene_indices = X.indices[row_start:row_end]\n",
    "        gene_counts = X.data[row_start:row_end]\n",
    "        total_counts = gene_counts.sum()\n",
    "        \n",
    "        target_counts = int(total_counts * downsample_ratio)\n",
    "        \n",
    "        if target_counts > 0:\n",
    "            # Expand gene indices according to their counts\n",
    "            # To avoid large memory usage, use multinomial sampling\n",
    "            # Calculate probabilities for each gene\n",
    "            probabilities = gene_counts / total_counts\n",
    "            # Sample target_counts from the multinomial distribution\n",
    "            sampled_counts = rng.multinomial(target_counts, probabilities)\n",
    "            non_zero = sampled_counts > 0\n",
    "            sampled_genes = gene_indices[non_zero]\n",
    "            sampled_gene_counts = sampled_counts[non_zero]\n",
    "            \n",
    "            if sampled_gene_counts.size == 0:\n",
    "                zero_count_cells.append(icell)\n",
    "            \n",
    "            data_new.extend(sampled_gene_counts)\n",
    "            indices_new.extend(sampled_genes)\n",
    "            indptr_new.append(len(data_new))\n",
    "        else:\n",
    "            zero_count_cells.append(icell)\n",
    "            indptr_new.append(len(data_new))\n",
    "        \n",
    "        # Optional progress report\n",
    "        if verbose and (icell + 1) % 5000 == 0:\n",
    "            print(f\"Processed {icell + 1} cells...\")\n",
    "    \n",
    "    # Construct the new downsampled sparse matrix\n",
    "    X_new = sp.csr_matrix((data_new, indices_new, indptr_new), shape=X.shape)\n",
    "    adata_downsampled.X = X_new\n",
    "    \n",
    "    if verbose:\n",
    "        elapsed_time = time.time() - start_time\n",
    "        print(f\"Downsampling completed in {elapsed_time:.2f} seconds.\")\n",
    "        print(f\"Number of cells with zero counts after downsampling: {len(zero_count_cells)}\")\n",
    "\n",
    "    return adata_downsampled"
   ]
  },
  {
   "cell_type": "code",
   "execution_count": 5,
   "id": "0c6da55f-e488-465c-9dce-33203e482485",
   "metadata": {},
   "outputs": [
    {
     "name": "stdout",
     "output_type": "stream",
     "text": [
      "Start downsampling with ratio 0.5\n",
      "Processed 5000 cells...\n",
      "Downsampling completed in 1.66 seconds.\n",
      "Number of cells with zero counts after downsampling: 0\n",
      "\n",
      "\n"
     ]
    }
   ],
   "source": [
    "# Load the data\n",
    "DATA_PATH = '/projects/zhanglab/users/johnson/sampled_data/MouseRetina_filtered_sampled_7K.h5ad'\n",
    "adata = anndata.read_h5ad(DATA_PATH)\n",
    "\n",
    "adata_downsampled, downsampled_cell_indices = downsample(adata, downsample_ratio=0.5)\n",
    "\n",
    "print(adata_downsampled.X[downsampled_cell_indices, :])\n",
    "print(adata.X[downsampled_cell_indices, :])"
   ]
  },
  {
   "cell_type": "code",
   "execution_count": 6,
   "id": "bac56de4-0d41-44fe-a0d2-7fb8890f6e0c",
   "metadata": {},
   "outputs": [
    {
     "name": "stdout",
     "output_type": "stream",
     "text": [
      "The dataset MouseRetina does NOT have all integer values in adata.X.\n",
      "The dataset HumanKidney does NOT have all integer values in adata.X.\n",
      "The dataset TSdrop has all integer values in adata.X.\n",
      "The dataset TMSfacs has all integer values in adata.X.\n",
      "The dataset TSfacs has all integer values in adata.X.\n",
      "The dataset Nathan has all integer values in adata.X.\n",
      "The dataset Cano has all integer values in adata.X.\n",
      "The dataset TMSdrop has all integer values in adata.X.\n"
     ]
    }
   ],
   "source": [
    "import os\n",
    "import numpy as np\n",
    "import anndata\n",
    "\n",
    "# Directory containing the datasets\n",
    "data_dir = '/projects/zhanglab/users/johnson/sampled_data'\n",
    "\n",
    "# Get list of files containing '7K' in their names, excluding 'TSfacs'\n",
    "file_list = [f for f in os.listdir(data_dir) if '7K' in f and f.endswith('.h5ad')]\n",
    "\n",
    "for filename in file_list:\n",
    "    dataset_path = os.path.join(data_dir, filename)\n",
    "    adata = anndata.read_h5ad(dataset_path)\n",
    "    dataset_name = filename.split('_')[0]\n",
    "    \n",
    "    # Check if all values in adata.X are integers\n",
    "    if np.all(np.equal(np.mod(adata.X.toarray(), 1), 0)):  # Check if all values are integers\n",
    "        print(f\"The dataset {dataset_name} has all integer values in adata.X.\")\n",
    "    else:\n",
    "        print(f\"The dataset {dataset_name} does NOT have all integer values in adata.X.\")"
   ]
  },
  {
   "cell_type": "code",
   "execution_count": 78,
   "id": "f3fb9be0-4355-4393-b962-5256a7cff489",
   "metadata": {},
   "outputs": [
    {
     "data": {
      "text/plain": [
       "['MouseRetina_filtered_sampled_7K.h5ad',\n",
       " 'HumanKidney_filtered_sampled_7K.h5ad',\n",
       " 'TSdrop_filtered_sampled_7K.h5ad',\n",
       " 'TMSfacs_filtered_sampled_7K.h5ad',\n",
       " 'TSfacs_filtered_sampled_7K.h5ad',\n",
       " 'Nathan_filtered_sampled_7K.h5ad',\n",
       " 'Cano_filtered_sampled_7K.h5ad',\n",
       " 'TMSdrop_filtered_sampled_7K.h5ad']"
      ]
     },
     "execution_count": 78,
     "metadata": {},
     "output_type": "execute_result"
    }
   ],
   "source": [
    "file_list = [f for f in os.listdir(data_dir) if '7K' in f and f.endswith('.h5ad') and f not in ['MouseRetina',  'HumanKidney', 'Nathan']]\n",
    "file_list"
   ]
  },
  {
   "cell_type": "code",
   "execution_count": 82,
   "id": "0bd1cf1a-2e77-4cb1-9e57-fa55ebd18ec7",
   "metadata": {},
   "outputs": [
    {
     "name": "stdout",
     "output_type": "stream",
     "text": [
      "\n",
      "Processing dataset: TSdrop\n"
     ]
    },
    {
     "name": "stderr",
     "output_type": "stream",
     "text": [
      "/home/yenhsian/miniconda3/envs/lab/lib/python3.9/site-packages/scanpy/preprocessing/_highly_variable_genes.py:220: FutureWarning: The default of observed=False is deprecated and will be changed to True in a future version of pandas. Pass observed=False to retain current behavior or observed=True to adopt the future default and silence this warning.\n",
      "  disp_grouped = df.groupby('mean_bin')['dispersions']\n"
     ]
    },
    {
     "name": "stdout",
     "output_type": "stream",
     "text": [
      "Computing distance matrices for original data in dataset TSdrop...\n",
      "Processing downsample ratio: 0.7\n",
      "#time start: 0.0s\n",
      "## 5000 cells processed\n",
      "Downsampled shape of adata: (7000, 36715)\n",
      "Downsampled total counts: 59687365\n",
      "#time sub-sample counts: 8.8232s\n",
      "\n"
     ]
    },
    {
     "name": "stderr",
     "output_type": "stream",
     "text": [
      "/home/yenhsian/miniconda3/envs/lab/lib/python3.9/site-packages/scanpy/preprocessing/_highly_variable_genes.py:220: FutureWarning: The default of observed=False is deprecated and will be changed to True in a future version of pandas. Pass observed=False to retain current behavior or observed=True to adopt the future default and silence this warning.\n",
      "  disp_grouped = df.groupby('mean_bin')['dispersions']\n"
     ]
    },
    {
     "name": "stdout",
     "output_type": "stream",
     "text": [
      "Computing distance matrices for modified data in dataset TSdrop with downsample ratio 0.7...\n",
      "Dataset: TSdrop, Downsample Ratio: 0.7\n",
      "Euclidean Silhouette Score (Original) = 0.05497058108448982\n",
      "Correlation Silhouette Score (Original) = 0.15205201697069004\n",
      "Euclidean Silhouette Score (Modified) = 0.041580915451049805\n",
      "Correlation Silhouette Score (Modified) = 0.14051106191727628\n",
      "Delta Euclidean Silhouette Score = -0.013389665633440018\n",
      "Delta Correlation Silhouette Score = -0.011540955053413765\n",
      "Processing downsample ratio: 0.5\n",
      "#time start: 0.0s\n",
      "## 5000 cells processed\n",
      "Downsampled shape of adata: (7000, 36715)\n",
      "Downsampled total counts: 42634392\n",
      "#time sub-sample counts: 8.3006s\n",
      "\n"
     ]
    },
    {
     "name": "stderr",
     "output_type": "stream",
     "text": [
      "/home/yenhsian/miniconda3/envs/lab/lib/python3.9/site-packages/scanpy/preprocessing/_highly_variable_genes.py:220: FutureWarning: The default of observed=False is deprecated and will be changed to True in a future version of pandas. Pass observed=False to retain current behavior or observed=True to adopt the future default and silence this warning.\n",
      "  disp_grouped = df.groupby('mean_bin')['dispersions']\n"
     ]
    },
    {
     "name": "stdout",
     "output_type": "stream",
     "text": [
      "Computing distance matrices for modified data in dataset TSdrop with downsample ratio 0.5...\n",
      "Dataset: TSdrop, Downsample Ratio: 0.5\n",
      "Euclidean Silhouette Score (Original) = 0.05497058108448982\n",
      "Correlation Silhouette Score (Original) = 0.15205201697069004\n",
      "Euclidean Silhouette Score (Modified) = 0.020340602844953537\n",
      "Correlation Silhouette Score (Modified) = 0.12999367726173572\n",
      "Delta Euclidean Silhouette Score = -0.034629978239536285\n",
      "Delta Correlation Silhouette Score = -0.022058339708954322\n",
      "Processing downsample ratio: 0.3\n",
      "#time start: 0.0s\n",
      "## 5000 cells processed\n",
      "Downsampled shape of adata: (7000, 36715)\n",
      "Downsampled total counts: 25578525\n",
      "#time sub-sample counts: 7.5475s\n",
      "\n"
     ]
    },
    {
     "name": "stderr",
     "output_type": "stream",
     "text": [
      "/home/yenhsian/miniconda3/envs/lab/lib/python3.9/site-packages/scanpy/preprocessing/_highly_variable_genes.py:220: FutureWarning: The default of observed=False is deprecated and will be changed to True in a future version of pandas. Pass observed=False to retain current behavior or observed=True to adopt the future default and silence this warning.\n",
      "  disp_grouped = df.groupby('mean_bin')['dispersions']\n"
     ]
    },
    {
     "name": "stdout",
     "output_type": "stream",
     "text": [
      "Computing distance matrices for modified data in dataset TSdrop with downsample ratio 0.3...\n",
      "Dataset: TSdrop, Downsample Ratio: 0.3\n",
      "Euclidean Silhouette Score (Original) = 0.05497058108448982\n",
      "Correlation Silhouette Score (Original) = 0.15205201697069004\n",
      "Euclidean Silhouette Score (Modified) = -0.017963532358407974\n",
      "Correlation Silhouette Score (Modified) = 0.11407698184336525\n",
      "Delta Euclidean Silhouette Score = -0.0729341134428978\n",
      "Delta Correlation Silhouette Score = -0.037975035127324794\n",
      "\n",
      "Processing dataset: TMSfacs\n"
     ]
    },
    {
     "name": "stderr",
     "output_type": "stream",
     "text": [
      "/home/yenhsian/miniconda3/envs/lab/lib/python3.9/site-packages/scanpy/preprocessing/_highly_variable_genes.py:220: FutureWarning: The default of observed=False is deprecated and will be changed to True in a future version of pandas. Pass observed=False to retain current behavior or observed=True to adopt the future default and silence this warning.\n",
      "  disp_grouped = df.groupby('mean_bin')['dispersions']\n"
     ]
    },
    {
     "name": "stdout",
     "output_type": "stream",
     "text": [
      "Computing distance matrices for original data in dataset TMSfacs...\n",
      "Processing downsample ratio: 0.7\n",
      "#time start: 0.0s\n",
      "## 5000 cells processed\n",
      "Downsampled shape of adata: (7000, 22953)\n",
      "Downsampled total counts: 5325995461\n",
      "#time sub-sample counts: 421.8366s\n",
      "\n"
     ]
    },
    {
     "name": "stderr",
     "output_type": "stream",
     "text": [
      "/home/yenhsian/miniconda3/envs/lab/lib/python3.9/site-packages/scanpy/preprocessing/_highly_variable_genes.py:220: FutureWarning: The default of observed=False is deprecated and will be changed to True in a future version of pandas. Pass observed=False to retain current behavior or observed=True to adopt the future default and silence this warning.\n",
      "  disp_grouped = df.groupby('mean_bin')['dispersions']\n"
     ]
    },
    {
     "name": "stdout",
     "output_type": "stream",
     "text": [
      "Computing distance matrices for modified data in dataset TMSfacs with downsample ratio 0.7...\n",
      "Dataset: TMSfacs, Downsample Ratio: 0.7\n",
      "Euclidean Silhouette Score (Original) = 0.07776538282632828\n",
      "Correlation Silhouette Score (Original) = 0.18611514751371763\n",
      "Euclidean Silhouette Score (Modified) = 0.07632727175951004\n",
      "Correlation Silhouette Score (Modified) = 0.18470851351330664\n",
      "Delta Euclidean Silhouette Score = -0.0014381110668182373\n",
      "Delta Correlation Silhouette Score = -0.0014066340004109945\n",
      "Processing downsample ratio: 0.5\n",
      "#time start: 0.0s\n",
      "## 5000 cells processed\n",
      "Dataset: TMSfacs, Downsample Ratio: 0.5\n",
      "Euclidean Silhouette Score (Original) = 0.07776538282632828\n",
      "Correlation Silhouette Score (Original) = 0.18611514751371763\n",
      "Euclidean Silhouette Score (Modified) = 0.07537327706813812\n",
      "Correlation Silhouette Score (Modified) = 0.1835754594712275\n",
      "Delta Euclidean Silhouette Score = -0.002392105758190155\n",
      "Delta Correlation Silhouette Score = -0.0025396880424901347\n",
      "Processing downsample ratio: 0.3\n",
      "#time start: 0.0s\n",
      "## 5000 cells processed\n",
      "Downsampled shape of adata: (7000, 22953)\n",
      "Downsampled total counts: 2282567781\n",
      "#time sub-sample counts: 371.0735s\n",
      "\n"
     ]
    },
    {
     "name": "stderr",
     "output_type": "stream",
     "text": [
      "/home/yenhsian/miniconda3/envs/lab/lib/python3.9/site-packages/scanpy/preprocessing/_highly_variable_genes.py:220: FutureWarning: The default of observed=False is deprecated and will be changed to True in a future version of pandas. Pass observed=False to retain current behavior or observed=True to adopt the future default and silence this warning.\n",
      "  disp_grouped = df.groupby('mean_bin')['dispersions']\n"
     ]
    },
    {
     "name": "stdout",
     "output_type": "stream",
     "text": [
      "Computing distance matrices for modified data in dataset TMSfacs with downsample ratio 0.3...\n",
      "Dataset: TMSfacs, Downsample Ratio: 0.3\n",
      "Euclidean Silhouette Score (Original) = 0.07776538282632828\n",
      "Correlation Silhouette Score (Original) = 0.18611514751371763\n",
      "Euclidean Silhouette Score (Modified) = 0.07454989105463028\n",
      "Correlation Silhouette Score (Modified) = 0.18268373332373547\n",
      "Delta Euclidean Silhouette Score = -0.003215491771697998\n",
      "Delta Correlation Silhouette Score = -0.0034314141899821626\n",
      "\n",
      "Processing dataset: TSfacs\n"
     ]
    },
    {
     "name": "stderr",
     "output_type": "stream",
     "text": [
      "/home/yenhsian/miniconda3/envs/lab/lib/python3.9/site-packages/scanpy/preprocessing/_highly_variable_genes.py:220: FutureWarning: The default of observed=False is deprecated and will be changed to True in a future version of pandas. Pass observed=False to retain current behavior or observed=True to adopt the future default and silence this warning.\n",
      "  disp_grouped = df.groupby('mean_bin')['dispersions']\n"
     ]
    },
    {
     "name": "stdout",
     "output_type": "stream",
     "text": [
      "Computing distance matrices for original data in dataset TSfacs...\n",
      "Processing downsample ratio: 0.7\n",
      "#time start: 0.0s\n",
      "## 5000 cells processed\n",
      "Downsampled shape of adata: (7000, 34963)\n",
      "Downsampled total counts: 3436437054\n",
      "#time sub-sample counts: 262.2339s\n",
      "\n"
     ]
    },
    {
     "name": "stderr",
     "output_type": "stream",
     "text": [
      "/home/yenhsian/miniconda3/envs/lab/lib/python3.9/site-packages/scanpy/preprocessing/_highly_variable_genes.py:220: FutureWarning: The default of observed=False is deprecated and will be changed to True in a future version of pandas. Pass observed=False to retain current behavior or observed=True to adopt the future default and silence this warning.\n",
      "  disp_grouped = df.groupby('mean_bin')['dispersions']\n"
     ]
    },
    {
     "name": "stdout",
     "output_type": "stream",
     "text": [
      "Computing distance matrices for modified data in dataset TSfacs with downsample ratio 0.7...\n",
      "Dataset: TSfacs, Downsample Ratio: 0.7\n",
      "Euclidean Silhouette Score (Original) = -0.062422528862953186\n",
      "Correlation Silhouette Score (Original) = 0.051286422980455486\n",
      "Euclidean Silhouette Score (Modified) = -0.07080026715993881\n",
      "Correlation Silhouette Score (Modified) = 0.04725462930089267\n",
      "Delta Euclidean Silhouette Score = -0.008377738296985626\n",
      "Delta Correlation Silhouette Score = -0.0040317936795628145\n",
      "Processing downsample ratio: 0.5\n",
      "#time start: 0.0s\n",
      "## 5000 cells processed\n",
      "Downsampled shape of adata: (7000, 34963)\n",
      "Downsampled total counts: 2454598484\n",
      "#time sub-sample counts: 245.7424s\n",
      "\n"
     ]
    },
    {
     "name": "stderr",
     "output_type": "stream",
     "text": [
      "/home/yenhsian/miniconda3/envs/lab/lib/python3.9/site-packages/scanpy/preprocessing/_highly_variable_genes.py:220: FutureWarning: The default of observed=False is deprecated and will be changed to True in a future version of pandas. Pass observed=False to retain current behavior or observed=True to adopt the future default and silence this warning.\n",
      "  disp_grouped = df.groupby('mean_bin')['dispersions']\n"
     ]
    },
    {
     "name": "stdout",
     "output_type": "stream",
     "text": [
      "Computing distance matrices for modified data in dataset TSfacs with downsample ratio 0.5...\n",
      "Dataset: TSfacs, Downsample Ratio: 0.5\n",
      "Euclidean Silhouette Score (Original) = -0.062422528862953186\n",
      "Correlation Silhouette Score (Original) = 0.051286422980455486\n",
      "Euclidean Silhouette Score (Modified) = -0.07119888067245483\n",
      "Correlation Silhouette Score (Modified) = 0.04761713277314874\n",
      "Delta Euclidean Silhouette Score = -0.008776351809501648\n",
      "Delta Correlation Silhouette Score = -0.003669290207306747\n",
      "Processing downsample ratio: 0.3\n",
      "#time start: 0.0s\n",
      "## 5000 cells processed\n",
      "Downsampled shape of adata: (7000, 34963)\n",
      "Downsampled total counts: 1472756985\n",
      "#time sub-sample counts: 228.2041s\n",
      "\n"
     ]
    },
    {
     "name": "stderr",
     "output_type": "stream",
     "text": [
      "/home/yenhsian/miniconda3/envs/lab/lib/python3.9/site-packages/scanpy/preprocessing/_highly_variable_genes.py:220: FutureWarning: The default of observed=False is deprecated and will be changed to True in a future version of pandas. Pass observed=False to retain current behavior or observed=True to adopt the future default and silence this warning.\n",
      "  disp_grouped = df.groupby('mean_bin')['dispersions']\n"
     ]
    },
    {
     "name": "stdout",
     "output_type": "stream",
     "text": [
      "Computing distance matrices for modified data in dataset TSfacs with downsample ratio 0.3...\n",
      "Dataset: TSfacs, Downsample Ratio: 0.3\n",
      "Euclidean Silhouette Score (Original) = -0.062422528862953186\n",
      "Correlation Silhouette Score (Original) = 0.051286422980455486\n",
      "Euclidean Silhouette Score (Modified) = -0.07310415804386139\n",
      "Correlation Silhouette Score (Modified) = 0.04679972909077001\n",
      "Delta Euclidean Silhouette Score = -0.010681629180908203\n",
      "Delta Correlation Silhouette Score = -0.004486693889685478\n",
      "\n",
      "Processing dataset: Cano\n"
     ]
    },
    {
     "name": "stderr",
     "output_type": "stream",
     "text": [
      "/home/yenhsian/miniconda3/envs/lab/lib/python3.9/site-packages/scanpy/preprocessing/_highly_variable_genes.py:220: FutureWarning: The default of observed=False is deprecated and will be changed to True in a future version of pandas. Pass observed=False to retain current behavior or observed=True to adopt the future default and silence this warning.\n",
      "  disp_grouped = df.groupby('mean_bin')['dispersions']\n"
     ]
    },
    {
     "name": "stdout",
     "output_type": "stream",
     "text": [
      "Computing distance matrices for original data in dataset Cano...\n",
      "Processing downsample ratio: 0.7\n",
      "#time start: 0.0s\n",
      "## 5000 cells processed\n",
      "Downsampled shape of adata: (7000, 20601)\n",
      "Downsampled total counts: 81914200\n",
      "#time sub-sample counts: 11.7538s\n",
      "\n"
     ]
    },
    {
     "name": "stderr",
     "output_type": "stream",
     "text": [
      "/home/yenhsian/miniconda3/envs/lab/lib/python3.9/site-packages/scanpy/preprocessing/_highly_variable_genes.py:220: FutureWarning: The default of observed=False is deprecated and will be changed to True in a future version of pandas. Pass observed=False to retain current behavior or observed=True to adopt the future default and silence this warning.\n",
      "  disp_grouped = df.groupby('mean_bin')['dispersions']\n"
     ]
    },
    {
     "name": "stdout",
     "output_type": "stream",
     "text": [
      "Computing distance matrices for modified data in dataset Cano with downsample ratio 0.7...\n",
      "Dataset: Cano, Downsample Ratio: 0.7\n",
      "Euclidean Silhouette Score (Original) = -0.003307752776890993\n",
      "Correlation Silhouette Score (Original) = 0.0018496191747207863\n",
      "Euclidean Silhouette Score (Modified) = -0.006971055641770363\n",
      "Correlation Silhouette Score (Modified) = 0.0012097025101595951\n",
      "Delta Euclidean Silhouette Score = -0.0036633028648793697\n",
      "Delta Correlation Silhouette Score = -0.0006399166645611912\n",
      "Processing downsample ratio: 0.5\n",
      "#time start: 0.0s\n",
      "## 5000 cells processed\n",
      "Downsampled shape of adata: (7000, 20601)\n",
      "Downsampled total counts: 58510743\n",
      "#time sub-sample counts: 10.9981s\n",
      "\n"
     ]
    },
    {
     "name": "stderr",
     "output_type": "stream",
     "text": [
      "/home/yenhsian/miniconda3/envs/lab/lib/python3.9/site-packages/scanpy/preprocessing/_highly_variable_genes.py:220: FutureWarning: The default of observed=False is deprecated and will be changed to True in a future version of pandas. Pass observed=False to retain current behavior or observed=True to adopt the future default and silence this warning.\n",
      "  disp_grouped = df.groupby('mean_bin')['dispersions']\n"
     ]
    },
    {
     "name": "stdout",
     "output_type": "stream",
     "text": [
      "Computing distance matrices for modified data in dataset Cano with downsample ratio 0.5...\n",
      "Dataset: Cano, Downsample Ratio: 0.5\n",
      "Euclidean Silhouette Score (Original) = -0.003307752776890993\n",
      "Correlation Silhouette Score (Original) = 0.0018496191747207863\n",
      "Euclidean Silhouette Score (Modified) = -0.010001590475440025\n",
      "Correlation Silhouette Score (Modified) = -0.001143294451650463\n",
      "Delta Euclidean Silhouette Score = -0.006693837698549032\n",
      "Delta Correlation Silhouette Score = -0.002992913626371249\n",
      "Processing downsample ratio: 0.3\n",
      "#time start: 0.0s\n",
      "## 5000 cells processed\n",
      "Downsampled shape of adata: (7000, 20601)\n",
      "Downsampled total counts: 35104366\n",
      "#time sub-sample counts: 10.2334s\n",
      "\n"
     ]
    },
    {
     "name": "stderr",
     "output_type": "stream",
     "text": [
      "/home/yenhsian/miniconda3/envs/lab/lib/python3.9/site-packages/scanpy/preprocessing/_highly_variable_genes.py:220: FutureWarning: The default of observed=False is deprecated and will be changed to True in a future version of pandas. Pass observed=False to retain current behavior or observed=True to adopt the future default and silence this warning.\n",
      "  disp_grouped = df.groupby('mean_bin')['dispersions']\n"
     ]
    },
    {
     "name": "stdout",
     "output_type": "stream",
     "text": [
      "Computing distance matrices for modified data in dataset Cano with downsample ratio 0.3...\n",
      "Dataset: Cano, Downsample Ratio: 0.3\n",
      "Euclidean Silhouette Score (Original) = -0.003307752776890993\n",
      "Correlation Silhouette Score (Original) = 0.0018496191747207863\n",
      "Euclidean Silhouette Score (Modified) = -0.012189730070531368\n",
      "Correlation Silhouette Score (Modified) = -0.004004818988671793\n",
      "Delta Euclidean Silhouette Score = -0.008881976827979088\n",
      "Delta Correlation Silhouette Score = -0.005854438163392579\n",
      "\n",
      "Processing dataset: TMSdrop\n"
     ]
    },
    {
     "name": "stderr",
     "output_type": "stream",
     "text": [
      "/home/yenhsian/miniconda3/envs/lab/lib/python3.9/site-packages/scanpy/preprocessing/_highly_variable_genes.py:220: FutureWarning: The default of observed=False is deprecated and will be changed to True in a future version of pandas. Pass observed=False to retain current behavior or observed=True to adopt the future default and silence this warning.\n",
      "  disp_grouped = df.groupby('mean_bin')['dispersions']\n"
     ]
    },
    {
     "name": "stdout",
     "output_type": "stream",
     "text": [
      "Computing distance matrices for original data in dataset TMSdrop...\n",
      "Processing downsample ratio: 0.7\n",
      "#time start: 0.0s\n",
      "## 5000 cells processed\n",
      "Downsampled shape of adata: (7000, 20010)\n",
      "Downsampled total counts: 44774839\n",
      "#time sub-sample counts: 6.9461s\n",
      "\n"
     ]
    },
    {
     "name": "stderr",
     "output_type": "stream",
     "text": [
      "/home/yenhsian/miniconda3/envs/lab/lib/python3.9/site-packages/scanpy/preprocessing/_highly_variable_genes.py:220: FutureWarning: The default of observed=False is deprecated and will be changed to True in a future version of pandas. Pass observed=False to retain current behavior or observed=True to adopt the future default and silence this warning.\n",
      "  disp_grouped = df.groupby('mean_bin')['dispersions']\n"
     ]
    },
    {
     "name": "stdout",
     "output_type": "stream",
     "text": [
      "Computing distance matrices for modified data in dataset TMSdrop with downsample ratio 0.7...\n",
      "Dataset: TMSdrop, Downsample Ratio: 0.7\n",
      "Euclidean Silhouette Score (Original) = 0.07263491302728653\n",
      "Correlation Silhouette Score (Original) = 0.12605042517991638\n",
      "Euclidean Silhouette Score (Modified) = 0.06169423088431358\n",
      "Correlation Silhouette Score (Modified) = 0.1117357039937397\n",
      "Delta Euclidean Silhouette Score = -0.010940682142972946\n",
      "Delta Correlation Silhouette Score = -0.014314721186176688\n",
      "Processing downsample ratio: 0.5\n",
      "#time start: 0.0s\n",
      "## 5000 cells processed\n",
      "Downsampled shape of adata: (7000, 20010)\n",
      "Downsampled total counts: 31982650\n",
      "#time sub-sample counts: 6.5205s\n",
      "\n"
     ]
    },
    {
     "name": "stderr",
     "output_type": "stream",
     "text": [
      "/home/yenhsian/miniconda3/envs/lab/lib/python3.9/site-packages/scanpy/preprocessing/_highly_variable_genes.py:220: FutureWarning: The default of observed=False is deprecated and will be changed to True in a future version of pandas. Pass observed=False to retain current behavior or observed=True to adopt the future default and silence this warning.\n",
      "  disp_grouped = df.groupby('mean_bin')['dispersions']\n"
     ]
    },
    {
     "name": "stdout",
     "output_type": "stream",
     "text": [
      "Computing distance matrices for modified data in dataset TMSdrop with downsample ratio 0.5...\n",
      "Dataset: TMSdrop, Downsample Ratio: 0.5\n",
      "Euclidean Silhouette Score (Original) = 0.07263491302728653\n",
      "Correlation Silhouette Score (Original) = 0.12605042517991638\n",
      "Euclidean Silhouette Score (Modified) = 0.0519857220351696\n",
      "Correlation Silhouette Score (Modified) = 0.09776024826192298\n",
      "Delta Euclidean Silhouette Score = -0.020649190992116928\n",
      "Delta Correlation Silhouette Score = -0.028290176917993404\n",
      "Processing downsample ratio: 0.3\n",
      "#time start: 0.0s\n",
      "## 5000 cells processed\n",
      "Downsampled shape of adata: (7000, 20010)\n",
      "Downsampled total counts: 19187501\n",
      "#time sub-sample counts: 6.0564s\n",
      "\n"
     ]
    },
    {
     "name": "stderr",
     "output_type": "stream",
     "text": [
      "/home/yenhsian/miniconda3/envs/lab/lib/python3.9/site-packages/scanpy/preprocessing/_highly_variable_genes.py:220: FutureWarning: The default of observed=False is deprecated and will be changed to True in a future version of pandas. Pass observed=False to retain current behavior or observed=True to adopt the future default and silence this warning.\n",
      "  disp_grouped = df.groupby('mean_bin')['dispersions']\n"
     ]
    },
    {
     "name": "stdout",
     "output_type": "stream",
     "text": [
      "Computing distance matrices for modified data in dataset TMSdrop with downsample ratio 0.3...\n",
      "Dataset: TMSdrop, Downsample Ratio: 0.3\n",
      "Euclidean Silhouette Score (Original) = 0.07263491302728653\n",
      "Correlation Silhouette Score (Original) = 0.12605042517991638\n",
      "Euclidean Silhouette Score (Modified) = 0.03712679445743561\n",
      "Correlation Silhouette Score (Modified) = 0.08035355814585005\n",
      "Delta Euclidean Silhouette Score = -0.03550811856985092\n",
      "Delta Correlation Silhouette Score = -0.045696867034066335\n"
     ]
    }
   ],
   "source": [
    "import os\n",
    "import numpy as np\n",
    "import pandas as pd\n",
    "import scipy.sparse as sp\n",
    "import anndata\n",
    "import scanpy as sc\n",
    "from sklearn.metrics import pairwise_distances, silhouette_score\n",
    "import time\n",
    "\n",
    "# Directory containing the datasets\n",
    "data_dir = '/projects/zhanglab/users/johnson/cell_subsampled_data'\n",
    "\n",
    "# Get list of files containing '7K' in their names, excluding 'MouseRetina' and 'HumanKidney'\n",
    "file_list = [f for f in os.listdir(data_dir) if '7K' in f and f.endswith('.h5ad') and 'MouseRetina' not in f and 'HumanKidney' not in f and 'Nathan' not in f]\n",
    "\n",
    "# Mapping of dataset names to label fields\n",
    "label_field_mapping = {\n",
    "    'TMSfacs': 'cell_ontology_class',\n",
    "    'TMSdrop': 'cell_ontology_class',\n",
    "    'TSdrop': 'cell_ontology_class',\n",
    "    'TSfacs': 'cell_ontology_class',\n",
    "    'Cano': 'cluster.id',\n",
    "    #'Nathan': 'cluster_name',\n",
    "}\n",
    "\n",
    "# Initialize list to store results\n",
    "results = []\n",
    "\n",
    "# Downsampling ratios to evaluate\n",
    "downsample_ratios = [0.7, 0.5, 0.3]\n",
    "\n",
    "# Function to preprocess data (original or modified)\n",
    "def preprocess_data(adata, label_field, verbose=True):\n",
    "    \"\"\"\n",
    "    Perform preprocessing steps on the input AnnData object.\n",
    "    \"\"\"\n",
    "    adata = adata.copy()\n",
    "    sc.pp.filter_cells(adata, min_genes=3)\n",
    "    sc.pp.filter_genes(adata, min_cells=200)\n",
    "    adata.var['mt'] = adata.var_names.str.upper().str.startswith('MT-')\n",
    "    sc.pp.calculate_qc_metrics(adata, qc_vars=['mt'], inplace=True)\n",
    "    sc.pp.normalize_total(adata, target_sum=1e4)\n",
    "    sc.pp.log1p(adata)\n",
    "    sc.pp.highly_variable_genes(adata, subset=True)\n",
    "\n",
    "    if label_field not in adata.obs:\n",
    "        raise ValueError(f'Label field \"{label_field}\" not found in dataset.')\n",
    "\n",
    "    # Filter for valid labels\n",
    "    labels = adata.obs[label_field].values\n",
    "    valid_indices = ~pd.isnull(labels)\n",
    "    if not np.all(valid_indices):\n",
    "        adata = adata[valid_indices]\n",
    "        labels = labels[valid_indices]\n",
    "\n",
    "    labels = labels.astype(str)\n",
    "    n_clusters = len(np.unique(labels))\n",
    "    if n_clusters < 2:\n",
    "        raise ValueError(f'Dataset has only one cluster.')\n",
    "\n",
    "    return adata, labels\n",
    "\n",
    "# Loop through datasets\n",
    "for filename in file_list:\n",
    "    dataset_path = os.path.join(data_dir, filename)\n",
    "    dataset_name = filename.split('_')[0]\n",
    "\n",
    "    print(f'\\nProcessing dataset: {dataset_name}')\n",
    "    label_field = label_field_mapping.get(dataset_name)\n",
    "\n",
    "    if label_field is None:\n",
    "        print(f'Label field for dataset {dataset_name} is not defined in the mapping. Skipping dataset.')\n",
    "        continue\n",
    "\n",
    "    try:\n",
    "        adata_raw = anndata.read_h5ad(dataset_path)\n",
    "        adata_raw.var_names_make_unique()\n",
    "    except Exception as e:\n",
    "        print(f'Error loading dataset {dataset_name}: {e}')\n",
    "        continue\n",
    "\n",
    "    # Preprocess original data\n",
    "    try:\n",
    "        adata_original, labels_original = preprocess_data(adata_raw, label_field)\n",
    "    except ValueError as e:\n",
    "        print(f'Error in preprocessing original data for dataset {dataset_name}: {e}')\n",
    "        continue\n",
    "\n",
    "    # Compute distance matrices and silhouette scores for original data\n",
    "    print(f'Computing distance matrices for original data in dataset {dataset_name}...')\n",
    "    data_original = adata_original.X.toarray() if sp.issparse(adata_original.X) else adata_original.X\n",
    "    euclidean_dist_original = pairwise_distances(data_original, metric='euclidean')\n",
    "    correlation_dist_original = pairwise_distances(data_original, metric='correlation')\n",
    "    euclidean_sil_score_original = silhouette_score(euclidean_dist_original, labels_original, metric='precomputed')\n",
    "    correlation_sil_score_original = silhouette_score(correlation_dist_original, labels_original, metric='precomputed')\n",
    "\n",
    "    # Process modified data for each downsample ratio\n",
    "    for downsample_ratio in downsample_ratios:\n",
    "        print(f'Processing downsample ratio: {downsample_ratio}')\n",
    "\n",
    "        # Downsample the raw data\n",
    "        try:\n",
    "            adata_downsampled = subsample_anndata(adata_raw, downsample_ratio, random_state=42, verbose=True)\n",
    "        except Exception as e:\n",
    "            print(f'Error during downsampling for dataset {dataset_name} with ratio {downsample_ratio}: {e}')\n",
    "            continue\n",
    "\n",
    "        # Preprocess the modified data\n",
    "        try:\n",
    "            adata_modified, labels_modified = preprocess_data(adata_downsampled, label_field)\n",
    "        except ValueError as e:\n",
    "            print(f'Error in preprocessing modified data for dataset {dataset_name} with ratio {downsample_ratio}: {e}')\n",
    "            continue\n",
    "\n",
    "        # Compute distance matrices and silhouette scores for modified data\n",
    "        print(f'Computing distance matrices for modified data in dataset {dataset_name} with downsample ratio {downsample_ratio}...')\n",
    "        data_modified = adata_modified.X.toarray() if sp.issparse(adata_modified.X) else adata_modified.X\n",
    "        euclidean_dist_modified = pairwise_distances(data_modified, metric='euclidean')\n",
    "        correlation_dist_modified = pairwise_distances(data_modified, metric='correlation')\n",
    "        euclidean_sil_score_modified = silhouette_score(euclidean_dist_modified, labels_modified, metric='precomputed')\n",
    "        correlation_sil_score_modified = silhouette_score(correlation_dist_modified, labels_modified, metric='precomputed')\n",
    "\n",
    "        # Compute the differences\n",
    "        delta_euclidean_sil_score = euclidean_sil_score_modified - euclidean_sil_score_original\n",
    "        delta_correlation_sil_score = correlation_sil_score_modified - correlation_sil_score_original\n",
    "\n",
    "        # Store the results\n",
    "        results.append({\n",
    "            'dataset_name': dataset_name,\n",
    "            'downsample_ratio': downsample_ratio,\n",
    "            'euclidean_sil_score_original': euclidean_sil_score_original,\n",
    "            'correlation_sil_score_original': correlation_sil_score_original,\n",
    "            'euclidean_sil_score_modified': euclidean_sil_score_modified,\n",
    "            'correlation_sil_score_modified': correlation_sil_score_modified,\n",
    "            'delta_euclidean_sil_score': delta_euclidean_sil_score,\n",
    "            'delta_correlation_sil_score': delta_correlation_sil_score\n",
    "        })\n",
    "\n",
    "        print(f'Dataset: {dataset_name}, Downsample Ratio: {downsample_ratio}')\n",
    "        print(f'Euclidean Silhouette Score (Original) = {euclidean_sil_score_original}')\n",
    "        print(f'Correlation Silhouette Score (Original) = {correlation_sil_score_original}')\n",
    "        print(f'Euclidean Silhouette Score (Modified) = {euclidean_sil_score_modified}')\n",
    "        print(f'Correlation Silhouette Score (Modified) = {correlation_sil_score_modified}')\n",
    "        print(f'Delta Euclidean Silhouette Score = {delta_euclidean_sil_score}')\n",
    "        print(f'Delta Correlation Silhouette Score = {delta_correlation_sil_score}')"
   ]
  },
  {
   "cell_type": "code",
   "execution_count": 4,
   "id": "59187bb5-85b0-4367-a559-e6980a7bfa0a",
   "metadata": {},
   "outputs": [
    {
     "name": "stdout",
     "output_type": "stream",
     "text": [
      "Original values in selected cells:\n",
      "[[0.         0.         0.         ... 0.         0.         0.        ]\n",
      " [0.         0.         0.         ... 0.         0.         0.        ]\n",
      " [0.         0.         0.         ... 1.500938   0.89103365 0.        ]\n",
      " [0.         0.         0.         ... 0.         0.         0.        ]\n",
      " [0.         1.9208391  2.251596   ... 0.         0.         0.        ]]\n",
      "Modified values in selected cells:\n",
      "[[0.         0.         0.         ... 0.         0.         0.        ]\n",
      " [0.         0.         0.         ... 0.         0.         0.        ]\n",
      " [0.         0.         0.         ... 1.500938   0.89103365 0.        ]\n",
      " [0.         0.         0.         ... 0.         0.         0.        ]\n",
      " [0.         1.9208391  2.251596   ... 0.         0.         0.        ]]\n"
     ]
    }
   ],
   "source": [
    "# Check if downsampling has affected the values in downsampled cells\n",
    "print(\"Original values in selected cells:\")\n",
    "print(adata.X[downsampled_cell_indices[:5], :].toarray() if sp.issparse(adata.X) else adata.X[downsampled_cell_indices[:5], :])\n",
    "\n",
    "print(\"Modified values in selected cells:\")\n",
    "print(adata_modified.X[downsampled_cell_indices[:5], :].toarray() if sp.issparse(adata_modified.X) else adata_modified.X[downsampled_cell_indices[:5], :])"
   ]
  },
  {
   "cell_type": "code",
   "execution_count": 5,
   "id": "01aadaec-261d-49b4-a12d-1ce904dbbdbc",
   "metadata": {},
   "outputs": [
    {
     "data": {
      "text/plain": [
       "array([4543, 1539, 6747, ..., 6018, 1883, 4849])"
      ]
     },
     "execution_count": 5,
     "metadata": {},
     "output_type": "execute_result"
    }
   ],
   "source": [
    "downsampled_cell_indices"
   ]
  },
  {
   "cell_type": "code",
   "execution_count": 9,
   "id": "56902be8-3f7b-4c42-9868-a21192ff1a1c",
   "metadata": {},
   "outputs": [
    {
     "data": {
      "text/plain": [
       "array([[0.        , 0.        , 0.        , ..., 0.        , 0.        ,\n",
       "        0.        ],\n",
       "       [0.        , 0.        , 0.        , ..., 0.        , 0.        ,\n",
       "        0.        ],\n",
       "       [0.        , 0.        , 0.        , ..., 1.500938  , 0.89103365,\n",
       "        0.        ],\n",
       "       [0.        , 0.        , 0.        , ..., 0.        , 0.        ,\n",
       "        0.        ],\n",
       "       [0.        , 1.9208391 , 2.251596  , ..., 0.        , 0.        ,\n",
       "        0.        ]], dtype=float32)"
      ]
     },
     "execution_count": 9,
     "metadata": {},
     "output_type": "execute_result"
    }
   ],
   "source": [
    "adata.X[downsampled_cell_indices[:5], :].toarray()"
   ]
  },
  {
   "cell_type": "code",
   "execution_count": 83,
   "id": "2845a77a-314e-47ee-8be7-4a6d7c10652a",
   "metadata": {},
   "outputs": [
    {
     "name": "stdout",
     "output_type": "stream",
     "text": [
      "\n",
      "Results saved to different_scale_delta_silhouette_scores.csv\n"
     ]
    }
   ],
   "source": [
    "# Convert results to DataFrame\n",
    "results_df = pd.DataFrame(results)\n",
    "\n",
    "# Save to CSV\n",
    "results_df.to_csv('different_scale_delta_silhouette_scores_2.csv', index=False)\n",
    "print('\\nResults saved to different_scale_delta_silhouette_scores.csv')"
   ]
  },
  {
   "cell_type": "code",
   "execution_count": 84,
   "id": "a5d237a5-bb67-4647-bc60-8eaf24b368e3",
   "metadata": {},
   "outputs": [
    {
     "data": {
      "text/html": [
       "<div>\n",
       "<style scoped>\n",
       "    .dataframe tbody tr th:only-of-type {\n",
       "        vertical-align: middle;\n",
       "    }\n",
       "\n",
       "    .dataframe tbody tr th {\n",
       "        vertical-align: top;\n",
       "    }\n",
       "\n",
       "    .dataframe thead th {\n",
       "        text-align: right;\n",
       "    }\n",
       "</style>\n",
       "<table border=\"1\" class=\"dataframe\">\n",
       "  <thead>\n",
       "    <tr style=\"text-align: right;\">\n",
       "      <th></th>\n",
       "      <th>dataset_name</th>\n",
       "      <th>downsample_ratio</th>\n",
       "      <th>euclidean_sil_score_original</th>\n",
       "      <th>correlation_sil_score_original</th>\n",
       "      <th>euclidean_sil_score_modified</th>\n",
       "      <th>correlation_sil_score_modified</th>\n",
       "      <th>delta_euclidean_sil_score</th>\n",
       "      <th>delta_correlation_sil_score</th>\n",
       "    </tr>\n",
       "  </thead>\n",
       "  <tbody>\n",
       "    <tr>\n",
       "      <th>0</th>\n",
       "      <td>TSdrop</td>\n",
       "      <td>0.7</td>\n",
       "      <td>0.054971</td>\n",
       "      <td>0.152052</td>\n",
       "      <td>0.041581</td>\n",
       "      <td>0.140511</td>\n",
       "      <td>-0.013390</td>\n",
       "      <td>-0.011541</td>\n",
       "    </tr>\n",
       "    <tr>\n",
       "      <th>1</th>\n",
       "      <td>TSdrop</td>\n",
       "      <td>0.5</td>\n",
       "      <td>0.054971</td>\n",
       "      <td>0.152052</td>\n",
       "      <td>0.020341</td>\n",
       "      <td>0.129994</td>\n",
       "      <td>-0.034630</td>\n",
       "      <td>-0.022058</td>\n",
       "    </tr>\n",
       "    <tr>\n",
       "      <th>2</th>\n",
       "      <td>TSdrop</td>\n",
       "      <td>0.3</td>\n",
       "      <td>0.054971</td>\n",
       "      <td>0.152052</td>\n",
       "      <td>-0.017964</td>\n",
       "      <td>0.114077</td>\n",
       "      <td>-0.072934</td>\n",
       "      <td>-0.037975</td>\n",
       "    </tr>\n",
       "    <tr>\n",
       "      <th>3</th>\n",
       "      <td>TMSfacs</td>\n",
       "      <td>0.7</td>\n",
       "      <td>0.077765</td>\n",
       "      <td>0.186115</td>\n",
       "      <td>0.076327</td>\n",
       "      <td>0.184709</td>\n",
       "      <td>-0.001438</td>\n",
       "      <td>-0.001407</td>\n",
       "    </tr>\n",
       "    <tr>\n",
       "      <th>4</th>\n",
       "      <td>TMSfacs</td>\n",
       "      <td>0.5</td>\n",
       "      <td>0.077765</td>\n",
       "      <td>0.186115</td>\n",
       "      <td>0.075373</td>\n",
       "      <td>0.183575</td>\n",
       "      <td>-0.002392</td>\n",
       "      <td>-0.002540</td>\n",
       "    </tr>\n",
       "    <tr>\n",
       "      <th>5</th>\n",
       "      <td>TMSfacs</td>\n",
       "      <td>0.3</td>\n",
       "      <td>0.077765</td>\n",
       "      <td>0.186115</td>\n",
       "      <td>0.074550</td>\n",
       "      <td>0.182684</td>\n",
       "      <td>-0.003215</td>\n",
       "      <td>-0.003431</td>\n",
       "    </tr>\n",
       "    <tr>\n",
       "      <th>6</th>\n",
       "      <td>TSfacs</td>\n",
       "      <td>0.7</td>\n",
       "      <td>-0.062423</td>\n",
       "      <td>0.051286</td>\n",
       "      <td>-0.070800</td>\n",
       "      <td>0.047255</td>\n",
       "      <td>-0.008378</td>\n",
       "      <td>-0.004032</td>\n",
       "    </tr>\n",
       "    <tr>\n",
       "      <th>7</th>\n",
       "      <td>TSfacs</td>\n",
       "      <td>0.5</td>\n",
       "      <td>-0.062423</td>\n",
       "      <td>0.051286</td>\n",
       "      <td>-0.071199</td>\n",
       "      <td>0.047617</td>\n",
       "      <td>-0.008776</td>\n",
       "      <td>-0.003669</td>\n",
       "    </tr>\n",
       "    <tr>\n",
       "      <th>8</th>\n",
       "      <td>TSfacs</td>\n",
       "      <td>0.3</td>\n",
       "      <td>-0.062423</td>\n",
       "      <td>0.051286</td>\n",
       "      <td>-0.073104</td>\n",
       "      <td>0.046800</td>\n",
       "      <td>-0.010682</td>\n",
       "      <td>-0.004487</td>\n",
       "    </tr>\n",
       "    <tr>\n",
       "      <th>9</th>\n",
       "      <td>Cano</td>\n",
       "      <td>0.7</td>\n",
       "      <td>-0.003308</td>\n",
       "      <td>0.001850</td>\n",
       "      <td>-0.006971</td>\n",
       "      <td>0.001210</td>\n",
       "      <td>-0.003663</td>\n",
       "      <td>-0.000640</td>\n",
       "    </tr>\n",
       "    <tr>\n",
       "      <th>10</th>\n",
       "      <td>Cano</td>\n",
       "      <td>0.5</td>\n",
       "      <td>-0.003308</td>\n",
       "      <td>0.001850</td>\n",
       "      <td>-0.010002</td>\n",
       "      <td>-0.001143</td>\n",
       "      <td>-0.006694</td>\n",
       "      <td>-0.002993</td>\n",
       "    </tr>\n",
       "    <tr>\n",
       "      <th>11</th>\n",
       "      <td>Cano</td>\n",
       "      <td>0.3</td>\n",
       "      <td>-0.003308</td>\n",
       "      <td>0.001850</td>\n",
       "      <td>-0.012190</td>\n",
       "      <td>-0.004005</td>\n",
       "      <td>-0.008882</td>\n",
       "      <td>-0.005854</td>\n",
       "    </tr>\n",
       "    <tr>\n",
       "      <th>12</th>\n",
       "      <td>TMSdrop</td>\n",
       "      <td>0.7</td>\n",
       "      <td>0.072635</td>\n",
       "      <td>0.126050</td>\n",
       "      <td>0.061694</td>\n",
       "      <td>0.111736</td>\n",
       "      <td>-0.010941</td>\n",
       "      <td>-0.014315</td>\n",
       "    </tr>\n",
       "    <tr>\n",
       "      <th>13</th>\n",
       "      <td>TMSdrop</td>\n",
       "      <td>0.5</td>\n",
       "      <td>0.072635</td>\n",
       "      <td>0.126050</td>\n",
       "      <td>0.051986</td>\n",
       "      <td>0.097760</td>\n",
       "      <td>-0.020649</td>\n",
       "      <td>-0.028290</td>\n",
       "    </tr>\n",
       "    <tr>\n",
       "      <th>14</th>\n",
       "      <td>TMSdrop</td>\n",
       "      <td>0.3</td>\n",
       "      <td>0.072635</td>\n",
       "      <td>0.126050</td>\n",
       "      <td>0.037127</td>\n",
       "      <td>0.080354</td>\n",
       "      <td>-0.035508</td>\n",
       "      <td>-0.045697</td>\n",
       "    </tr>\n",
       "  </tbody>\n",
       "</table>\n",
       "</div>"
      ],
      "text/plain": [
       "   dataset_name  downsample_ratio  euclidean_sil_score_original  \\\n",
       "0        TSdrop               0.7                      0.054971   \n",
       "1        TSdrop               0.5                      0.054971   \n",
       "2        TSdrop               0.3                      0.054971   \n",
       "3       TMSfacs               0.7                      0.077765   \n",
       "4       TMSfacs               0.5                      0.077765   \n",
       "5       TMSfacs               0.3                      0.077765   \n",
       "6        TSfacs               0.7                     -0.062423   \n",
       "7        TSfacs               0.5                     -0.062423   \n",
       "8        TSfacs               0.3                     -0.062423   \n",
       "9          Cano               0.7                     -0.003308   \n",
       "10         Cano               0.5                     -0.003308   \n",
       "11         Cano               0.3                     -0.003308   \n",
       "12      TMSdrop               0.7                      0.072635   \n",
       "13      TMSdrop               0.5                      0.072635   \n",
       "14      TMSdrop               0.3                      0.072635   \n",
       "\n",
       "    correlation_sil_score_original  euclidean_sil_score_modified  \\\n",
       "0                         0.152052                      0.041581   \n",
       "1                         0.152052                      0.020341   \n",
       "2                         0.152052                     -0.017964   \n",
       "3                         0.186115                      0.076327   \n",
       "4                         0.186115                      0.075373   \n",
       "5                         0.186115                      0.074550   \n",
       "6                         0.051286                     -0.070800   \n",
       "7                         0.051286                     -0.071199   \n",
       "8                         0.051286                     -0.073104   \n",
       "9                         0.001850                     -0.006971   \n",
       "10                        0.001850                     -0.010002   \n",
       "11                        0.001850                     -0.012190   \n",
       "12                        0.126050                      0.061694   \n",
       "13                        0.126050                      0.051986   \n",
       "14                        0.126050                      0.037127   \n",
       "\n",
       "    correlation_sil_score_modified  delta_euclidean_sil_score  \\\n",
       "0                         0.140511                  -0.013390   \n",
       "1                         0.129994                  -0.034630   \n",
       "2                         0.114077                  -0.072934   \n",
       "3                         0.184709                  -0.001438   \n",
       "4                         0.183575                  -0.002392   \n",
       "5                         0.182684                  -0.003215   \n",
       "6                         0.047255                  -0.008378   \n",
       "7                         0.047617                  -0.008776   \n",
       "8                         0.046800                  -0.010682   \n",
       "9                         0.001210                  -0.003663   \n",
       "10                       -0.001143                  -0.006694   \n",
       "11                       -0.004005                  -0.008882   \n",
       "12                        0.111736                  -0.010941   \n",
       "13                        0.097760                  -0.020649   \n",
       "14                        0.080354                  -0.035508   \n",
       "\n",
       "    delta_correlation_sil_score  \n",
       "0                     -0.011541  \n",
       "1                     -0.022058  \n",
       "2                     -0.037975  \n",
       "3                     -0.001407  \n",
       "4                     -0.002540  \n",
       "5                     -0.003431  \n",
       "6                     -0.004032  \n",
       "7                     -0.003669  \n",
       "8                     -0.004487  \n",
       "9                     -0.000640  \n",
       "10                    -0.002993  \n",
       "11                    -0.005854  \n",
       "12                    -0.014315  \n",
       "13                    -0.028290  \n",
       "14                    -0.045697  "
      ]
     },
     "execution_count": 84,
     "metadata": {},
     "output_type": "execute_result"
    }
   ],
   "source": [
    "results_df"
   ]
  },
  {
   "cell_type": "code",
   "execution_count": 25,
   "id": "cad2caee-ab89-4289-b8ea-5dc6f99f3f9e",
   "metadata": {},
   "outputs": [
    {
     "data": {
      "text/plain": [
       "AnnData object with n_obs × n_vars = 7000 × 20601\n",
       "    obs: 'cell.type', 'cytokine.condition', 'donor.id', 'batch.10X', 'nGene', 'nUMI', 'percent.mito', 'S.Score', 'G2M.Score', 'Phase', 'cluster.id', 'effectorness', 'n_genes'\n",
       "    var: 'gene_ids', 'feature_types', 'n_cells'"
      ]
     },
     "execution_count": 25,
     "metadata": {},
     "output_type": "execute_result"
    }
   ],
   "source": [
    "# Load the data\n",
    "DATA_PATH = '/projects/zhanglab/users/johnson/sampled_data/Cano_filtered_sampled_7K.h5ad'\n",
    "adata = anndata.read_h5ad(DATA_PATH)\n",
    "adata"
   ]
  },
  {
   "cell_type": "code",
   "execution_count": 26,
   "id": "5d930695-c821-4e0e-95f1-005224ac584f",
   "metadata": {},
   "outputs": [
    {
     "data": {
      "text/plain": [
       "array([[0., 0., 2., 0., 0., 0., 0., 1., 0., 0.],\n",
       "       [0., 0., 1., 0., 0., 0., 0., 3., 0., 1.],\n",
       "       [0., 0., 0., 0., 0., 0., 0., 0., 0., 0.],\n",
       "       [0., 0., 0., 0., 0., 0., 0., 0., 0., 0.],\n",
       "       [0., 0., 0., 0., 0., 0., 0., 1., 0., 0.],\n",
       "       [0., 0., 0., 0., 0., 0., 0., 3., 0., 0.],\n",
       "       [0., 1., 0., 0., 0., 0., 0., 0., 0., 0.],\n",
       "       [0., 1., 0., 1., 0., 0., 0., 1., 0., 0.],\n",
       "       [0., 0., 0., 0., 0., 0., 0., 1., 0., 0.],\n",
       "       [0., 0., 1., 0., 1., 0., 0., 0., 0., 1.]], dtype=float32)"
      ]
     },
     "execution_count": 26,
     "metadata": {},
     "output_type": "execute_result"
    }
   ],
   "source": [
    "adata.X[:10, :10].toarray() "
   ]
  },
  {
   "cell_type": "code",
   "execution_count": 31,
   "id": "3c3ad8bd-4c91-4c9a-979c-c1f85c1d5b45",
   "metadata": {},
   "outputs": [
    {
     "name": "stdout",
     "output_type": "stream",
     "text": [
      "\n",
      "Processing dataset: MouseRetina\n",
      "  (0, 2)\t0.46751606\n",
      "  (0, 6)\t0.46751606\n",
      "  (0, 8)\t0.46751606\n",
      "  (3, 6)\t0.51343775\n",
      "  (3, 8)\t0.51343775\n",
      "  (4, 2)\t0.531137\n",
      "  (4, 8)\t0.87618935\n",
      "  (5, 2)\t0.9923766\n",
      "  (5, 4)\t0.82120115\n",
      "  (5, 8)\t0.6145471\n",
      "  (6, 2)\t0.66863745\n",
      "  (6, 8)\t0.66863745\n",
      "  (8, 2)\t0.3536479\n",
      "  (8, 8)\t0.3536479\n",
      "  (9, 2)\t0.5467925\n",
      "  (9, 8)\t0.5467925\n",
      "\n",
      "Processing dataset: HumanKidney\n",
      "  (2, 3)\t2.129766\n",
      "  (5, 3)\t1.2086834\n",
      "  (6, 3)\t1.9406146\n",
      "\n",
      "Processing dataset: TSdrop\n",
      "  (6, 8)\t1.0\n",
      "  (7, 3)\t1.0\n",
      "\n",
      "Processing dataset: TMSfacs\n",
      "  (0, 1)\t680.0\n",
      "  (0, 2)\t149.0\n",
      "  (0, 4)\t60.0\n",
      "  (0, 5)\t200.0\n",
      "  (1, 1)\t135.0\n",
      "  (1, 2)\t77.0\n",
      "  (1, 5)\t17.0\n",
      "  (2, 6)\t25.0\n",
      "  (3, 1)\t72.0\n",
      "  (3, 9)\t68.0\n",
      "  (4, 1)\t25.0\n",
      "  (4, 2)\t11.0\n",
      "  (5, 1)\t1561.0\n",
      "  (5, 2)\t14.0\n",
      "  (5, 4)\t15.0\n",
      "  (5, 5)\t338.0\n",
      "  (5, 9)\t183.0\n",
      "  (6, 1)\t242.0\n",
      "  (7, 1)\t225.0\n",
      "  (7, 4)\t137.0\n",
      "  (7, 9)\t23.0\n",
      "  (8, 0)\t305.0\n",
      "  (8, 1)\t112.0\n",
      "  (8, 5)\t211.0\n",
      "  (9, 6)\t189.0\n",
      "\n",
      "Processing dataset: TSfacs\n",
      "  (5, 9)\t1.0\n",
      "  (7, 3)\t17.0\n",
      "  (7, 4)\t9.0\n",
      "\n",
      "Processing dataset: Nathan\n",
      "  (4, 5)\t1.0\n",
      "  (1, 5)\t1.0\n",
      "  (0, 5)\t1.0\n",
      "  (7, 9)\t1.0\n",
      "  (8, 9)\t1.0\n",
      "  (0, 9)\t1.0\n",
      "\n",
      "Processing dataset: Cano\n",
      "  (0, 2)\t2.0\n",
      "  (0, 7)\t1.0\n",
      "  (1, 2)\t1.0\n",
      "  (1, 7)\t3.0\n",
      "  (1, 9)\t1.0\n",
      "  (4, 7)\t1.0\n",
      "  (5, 7)\t3.0\n",
      "  (6, 1)\t1.0\n",
      "  (7, 1)\t1.0\n",
      "  (7, 3)\t1.0\n",
      "  (7, 7)\t1.0\n",
      "  (8, 7)\t1.0\n",
      "  (9, 2)\t1.0\n",
      "  (9, 4)\t1.0\n",
      "  (9, 9)\t1.0\n",
      "\n",
      "Processing dataset: TMSdrop\n",
      "  (0, 3)\t1.0\n",
      "  (0, 5)\t1.0\n",
      "  (1, 2)\t5.0\n",
      "  (1, 5)\t1.0\n",
      "  (2, 5)\t1.0\n",
      "  (2, 7)\t1.0\n",
      "  (3, 3)\t1.0\n",
      "  (4, 3)\t1.0\n",
      "  (4, 4)\t1.0\n",
      "  (4, 5)\t2.0\n",
      "  (5, 3)\t1.0\n",
      "  (5, 4)\t1.0\n",
      "  (5, 5)\t1.0\n",
      "  (6, 4)\t2.0\n",
      "  (7, 3)\t1.0\n",
      "  (7, 4)\t2.0\n",
      "  (8, 3)\t2.0\n",
      "  (8, 5)\t2.0\n",
      "  (9, 3)\t1.0\n"
     ]
    }
   ],
   "source": [
    "# Directory containing the datasets\n",
    "data_dir = '/projects/zhanglab/users/johnson/sampled_data'\n",
    "\n",
    "# Get list of files containing '7K' in their names, excluding 'TSfacs'\n",
    "file_list = [f for f in os.listdir(data_dir) if '7K' in f and f.endswith('.h5ad')]\n",
    "\n",
    "# Define the mapping from dataset names to label fields\n",
    "label_field_mapping = {\n",
    "    'TMSfacs': 'cell_ontology_class',\n",
    "    'TMSdrop': 'cell_ontology_class',\n",
    "    'TSdrop': 'cell_ontology_class',\n",
    "    'Cano': 'cluster.id',\n",
    "    'MouseRetina': 'cell_type',\n",
    "    'Nathan': 'cluster_name',\n",
    "    'HumanKidney': 'cell_type',\n",
    "}\n",
    "\n",
    "# Initialize lists to store results\n",
    "results = []\n",
    "delta_sil_scores_euclidean = []\n",
    "delta_sil_scores_correlation = []\n",
    "\n",
    "for filename in file_list:\n",
    "    dataset_path = os.path.join(data_dir, filename)\n",
    "    dataset_name = filename.split('_')[0]\n",
    "    \n",
    "    print(f'\\nProcessing dataset: {dataset_name}')\n",
    "    label_field = label_field_mapping.get(dataset_name)\n",
    "    \n",
    "    adata = anndata.read_h5ad(dataset_path)\n",
    "    print(adata.X[:10, :10])"
   ]
  },
  {
   "cell_type": "code",
   "execution_count": 1,
   "id": "f4df4a4e-ad2e-418d-8e42-d2e43698a07b",
   "metadata": {},
   "outputs": [
    {
     "name": "stdout",
     "output_type": "stream",
     "text": [
      "   downsample_ratio               Metric      Mean       SEM        CI  Count\n",
      "0               0.3       Euclidean (L2) -0.026244  0.012922  0.035878      5\n",
      "1               0.3  Pearson Correlation -0.019489  0.009212  0.025578      5\n",
      "2               0.5       Euclidean (L2) -0.014628  0.005845  0.016228      5\n",
      "3               0.5  Pearson Correlation -0.011910  0.005507  0.015290      5\n",
      "4               0.7       Euclidean (L2) -0.007562  0.002222  0.006169      5\n",
      "5               0.7  Pearson Correlation -0.006387  0.002764  0.007674      5\n",
      "Paired t-test for downsample_ratio 0.7: t-statistic = 0.8768, p-value = 2.1506e-01\n",
      "Paired t-test for downsample_ratio 0.5: t-statistic = 0.8209, p-value = 2.2890e-01\n",
      "Paired t-test for downsample_ratio 0.3: t-statistic = 0.8927, p-value = 2.1124e-01\n",
      "FDR-corrected p-values: [0.22890414 0.22890414 0.22890414]\n"
     ]
    },
    {
     "data": {
      "image/png": "[encoded data removed]",
      "text/plain": [
       "<Figure size 800x600 with 1 Axes>"
      ]
     },
     "metadata": {},
     "output_type": "display_data"
    }
   ],
   "source": [
    "import pandas as pd\n",
    "import numpy as np\n",
    "import matplotlib.pyplot as plt\n",
    "from scipy import stats\n",
    "from scipy.stats import ttest_rel\n",
    "from statsmodels.stats.multitest import fdrcorrection\n",
    "\n",
    "# Read the delta silhouette scores from the CSV file\n",
    "df = pd.read_csv('different_scale_delta_silhouette_scores_2.csv')\n",
    "\n",
    "# Melt the DataFrame to long format\n",
    "df_melted = pd.melt(df, id_vars=['dataset_name', 'downsample_ratio'], \n",
    "                    value_vars=['delta_euclidean_sil_score', 'delta_correlation_sil_score'],\n",
    "                    var_name='Metric', value_name='Delta Silhouette Score')\n",
    "\n",
    "# Replace metric names for better readability\n",
    "df_melted['Metric'] = df_melted['Metric'].replace({\n",
    "    'delta_euclidean_sil_score': 'Euclidean (L2)',\n",
    "    'delta_correlation_sil_score': 'Pearson Correlation'\n",
    "})\n",
    "\n",
    "# Calculate mean and confidence intervals grouped by downsample_ratio and Metric\n",
    "grouped = df_melted.groupby(['downsample_ratio', 'Metric'])['Delta Silhouette Score']\n",
    "means = grouped.mean()\n",
    "stds = grouped.std()\n",
    "counts = grouped.count()\n",
    "sems = stds / np.sqrt(counts)\n",
    "confidence = 0.95\n",
    "h = sems * stats.t.ppf((1 + confidence) / 2., counts - 1)\n",
    "\n",
    "stats_df = pd.DataFrame({\n",
    "    'Mean': means,\n",
    "    'SEM': sems,\n",
    "    'CI': h,\n",
    "    'Count': counts\n",
    "}).reset_index()\n",
    "\n",
    "print(stats_df)\n",
    "\n",
    "# Perform paired t-test for each downsample_ratio\n",
    "p_values = []\n",
    "for ratio in df['downsample_ratio'].unique():\n",
    "    subset = df[df['downsample_ratio'] == ratio]\n",
    "    euclidean_scores = subset['delta_euclidean_sil_score']\n",
    "    correlation_scores = subset['delta_correlation_sil_score']\n",
    "    t_stat, p_value = ttest_rel(correlation_scores, euclidean_scores, alternative='greater')\n",
    "    p_values.append((ratio, p_value))\n",
    "    print(f'Paired t-test for downsample_ratio {ratio}: t-statistic = {t_stat:.4f}, p-value = {p_value:.4e}')\n",
    "\n",
    "# FDR correction for p-values\n",
    "p_value_list = [p[1] for p in p_values]\n",
    "_, corrected_p_values = fdrcorrection(p_value_list, alpha=0.05)\n",
    "print('FDR-corrected p-values:', corrected_p_values)\n",
    "\n",
    "# Combine p-values with ratios\n",
    "p_values_df = pd.DataFrame({\n",
    "    'downsample_ratio': [p[0] for p in p_values],\n",
    "    'p_value': p_value_list,\n",
    "    'corrected_p_value': corrected_p_values\n",
    "})\n",
    "\n",
    "# Plotting\n",
    "ratios = sorted(df['downsample_ratio'].unique())\n",
    "ratio_labels = [f\"{int(ratio*100)}%\" for ratio in ratios]\n",
    "\n",
    "n_metrics = 2\n",
    "bar_width = 0.35\n",
    "x = np.arange(len(ratios))\n",
    "\n",
    "# Pivot stats_df for plotting\n",
    "pivot_df = stats_df.pivot(index='downsample_ratio', columns='Metric', values=['Mean', 'CI'])\n",
    "\n",
    "# Prepare data for plotting\n",
    "euclidean_means = pivot_df['Mean']['Euclidean (L2)'].values\n",
    "euclidean_CIs = pivot_df['CI']['Euclidean (L2)'].values\n",
    "\n",
    "pearson_means = pivot_df['Mean']['Pearson Correlation'].values\n",
    "pearson_CIs = pivot_df['CI']['Pearson Correlation'].values\n",
    "\n",
    "plt.figure(figsize=(8, 6))\n",
    "\n",
    "# Plot Euclidean bars\n",
    "plt.bar(x - bar_width/2, euclidean_means, yerr=euclidean_CIs, \n",
    "        width=bar_width, label='Euclidean (L2)', capsize=5, color='skyblue')\n",
    "\n",
    "# Plot Pearson bars\n",
    "plt.bar(x + bar_width/2, pearson_means, yerr=pearson_CIs, \n",
    "        width=bar_width, label='Pearson Correlation', capsize=5, color='lightgreen')\n",
    "\n",
    "# Set x-axis labels\n",
    "plt.xticks(x, ratio_labels)\n",
    "\n",
    "# Add labels and title\n",
    "plt.xlabel('Downsample Ratio')\n",
    "plt.ylabel('Silhouette Score')\n",
    "plt.title('Silhouette Scores by Downsample Ratio and Distance Metric')\n",
    "\n",
    "# Add legend\n",
    "plt.legend(loc = 'upper right')\n",
    "\n",
    "# Add y-axis grid\n",
    "plt.grid(axis='y', linestyle='--', alpha=0.7)\n",
    "\n",
    "# # Add significance annotations\n",
    "# for i, ratio in enumerate(ratios):\n",
    "#     corrected_p_value = p_values_df.loc[p_values_df['downsample_ratio'] == ratio, 'corrected_p_value'].values[0]\n",
    "#     # Get the maximum height of the bars at this x position\n",
    "#     y_max = max(euclidean_means[i] + euclidean_CIs[i], pearson_means[i] + pearson_CIs[i])\n",
    "#     y, h, col = y_max - 0.12, 0.01, 'black'\n",
    "#     x1, x2 = x[i] - bar_width/2, x[i] + bar_width/2\n",
    "#     # Add '*' if significant, else 'ns'\n",
    "#     if corrected_p_value < 0.05:\n",
    "#         plt.plot([x1, x1, x2, x2], [y, y + h, y + h, y], lw=1.0, c=col)\n",
    "#         plt.text(x[i], y + h + 0.005, '*', ha='center', va='bottom', color=col, fontsize=14)\n",
    "#     else:\n",
    "#         plt.text(x[i], y + h, 'ns', ha='center', va='bottom', color=col, fontsize=10)\n",
    "\n",
    "plt.tight_layout()\n",
    "plt.show()"
   ]
  },
  {
   "cell_type": "code",
   "execution_count": 17,
   "id": "3ad555be-80d3-42e1-b96d-825ee513cb22",
   "metadata": {},
   "outputs": [
    {
     "name": "stdout",
     "output_type": "stream",
     "text": [
      "Applying log transformation...\n"
     ]
    },
    {
     "name": "stderr",
     "output_type": "stream",
     "text": [
      "/home/yenhsian/miniconda3/envs/lab/lib/python3.9/site-packages/scanpy/preprocessing/_highly_variable_genes.py:220: FutureWarning: The default of observed=False is deprecated and will be changed to True in a future version of pandas. Pass observed=False to retain current behavior or observed=True to adopt the future default and silence this warning.\n",
      "  disp_grouped = df.groupby('mean_bin')['dispersions']\n"
     ]
    },
    {
     "name": "stdout",
     "output_type": "stream",
     "text": [
      "Applying acosh transformation...\n"
     ]
    },
    {
     "name": "stderr",
     "output_type": "stream",
     "text": [
      "/home/yenhsian/miniconda3/envs/lab/lib/python3.9/site-packages/scanpy/preprocessing/_highly_variable_genes.py:220: FutureWarning: The default of observed=False is deprecated and will be changed to True in a future version of pandas. Pass observed=False to retain current behavior or observed=True to adopt the future default and silence this warning.\n",
      "  disp_grouped = df.groupby('mean_bin')['dispersions']\n"
     ]
    },
    {
     "name": "stdout",
     "output_type": "stream",
     "text": [
      "Applying pearson transformation...\n"
     ]
    },
    {
     "name": "stderr",
     "output_type": "stream",
     "text": [
      "/home/yenhsian/miniconda3/envs/lab/lib/python3.9/site-packages/scanpy/preprocessing/_utils.py:11: RuntimeWarning: overflow encountered in multiply\n",
      "  mean_sq = np.multiply(X, X).mean(axis=axis, dtype=np.float64)\n",
      "/home/yenhsian/miniconda3/envs/lab/lib/python3.9/site-packages/scanpy/preprocessing/_highly_variable_genes.py:220: FutureWarning: The default of observed=False is deprecated and will be changed to True in a future version of pandas. Pass observed=False to retain current behavior or observed=True to adopt the future default and silence this warning.\n",
      "  disp_grouped = df.groupby('mean_bin')['dispersions']\n",
      "/home/yenhsian/miniconda3/envs/lab/lib/python3.9/site-packages/scanpy/preprocessing/_highly_variable_genes.py:241: RuntimeWarning: invalid value encountered in divide\n",
      "  df['dispersions_norm'] = (\n"
     ]
    },
    {
     "name": "stdout",
     "output_type": "stream",
     "text": [
      "Applying sanity transformation...\n",
      "Sanity MAP transformation is computationally intensive and needs separate setup.\n"
     ]
    },
    {
     "name": "stderr",
     "output_type": "stream",
     "text": [
      "/home/yenhsian/miniconda3/envs/lab/lib/python3.9/site-packages/scanpy/preprocessing/_utils.py:11: RuntimeWarning: overflow encountered in multiply\n",
      "  mean_sq = np.multiply(X, X).mean(axis=axis, dtype=np.float64)\n",
      "/home/yenhsian/miniconda3/envs/lab/lib/python3.9/site-packages/scanpy/preprocessing/_highly_variable_genes.py:220: FutureWarning: The default of observed=False is deprecated and will be changed to True in a future version of pandas. Pass observed=False to retain current behavior or observed=True to adopt the future default and silence this warning.\n",
      "  disp_grouped = df.groupby('mean_bin')['dispersions']\n",
      "/home/yenhsian/miniconda3/envs/lab/lib/python3.9/site-packages/scanpy/preprocessing/_highly_variable_genes.py:241: RuntimeWarning: invalid value encountered in divide\n",
      "  df['dispersions_norm'] = (\n"
     ]
    },
    {
     "name": "stdout",
     "output_type": "stream",
     "text": [
      "log transformation:\n",
      "[[0.        0.        1.1164436 ... 2.843639  2.8942323 2.9655056]\n",
      " [0.        0.        0.        ... 3.2901728 2.9032052 3.265768 ]\n",
      " [0.        0.        0.        ... 3.3033538 2.8862257 3.16713  ]\n",
      " ...\n",
      " [0.        0.        0.        ... 3.0458088 3.0702617 3.14538  ]\n",
      " [0.        0.        0.        ... 3.0159252 3.0380683 3.1225622]\n",
      " [0.        0.        0.        ... 2.4443054 2.356441  2.6457536]]\n",
      "acosh transformation:\n",
      "[[0.         0.         0.         ... 0.8787389  0.91233826 0.78324276]\n",
      " [0.         0.         0.         ... 0.88290733 1.0668889  0.88290733]\n",
      " [0.         0.         0.         ... 0.87503505 1.0136906  0.        ]\n",
      " ...\n",
      " [0.         0.         0.         ... 0.9637981  1.0022898  0.81644744]\n",
      " [0.         0.         0.         ... 0.9477137  0.9904523  0.8433522 ]\n",
      " [0.         0.         0.         ... 0.657859   0.76992416 0.6416757 ]]\n",
      "pearson transformation:\n",
      "[[ 0.5550726   0.15550803 -0.5279621  ...  0.11001143 -0.466408\n",
      "  -0.54409885]\n",
      " [-0.4421898  -0.6104985   4.1556454  ... -0.5938998  -0.466408\n",
      "  -0.54409885]\n",
      " [-0.4421898  -0.6104985  -0.5279621  ... -0.5938998  -0.466408\n",
      "  -0.54409885]\n",
      " ...\n",
      " [-0.4421898  -0.6104985  -0.5279621  ...  0.5285621   1.0146108\n",
      "  -0.54409885]\n",
      " [-0.4421898  -0.08709729  0.08855283 ...  0.81182617  0.16820513\n",
      "   0.53327376]\n",
      " [ 1.0939307   0.09365349  0.6039969  ...  0.05317105  0.01060046\n",
      "  -0.54409885]]\n",
      "sanity transformation:\n",
      "[[0. 0. 0. 0.]\n",
      " [0. 0. 0. 0.]\n",
      " [0. 0. 0. 0.]\n",
      " ...\n",
      " [0. 0. 0. 0.]\n",
      " [0. 0. 0. 0.]\n",
      " [0. 0. 0. 0.]]\n"
     ]
    }
   ],
   "source": [
    "import numpy as np\n",
    "import scanpy as sc\n",
    "from scipy import sparse\n",
    "\n",
    "\n",
    "def calculate_pearson_residuals(adata):\n",
    "    \"\"\"\n",
    "    Approximate Pearson residuals for each gene in the single-cell data.\n",
    "    This method estimates a mean-variance relationship and applies a residual calculation.\n",
    "\n",
    "    Parameters:\n",
    "    - adata (AnnData): Single-cell data object with normalized counts.\n",
    "\n",
    "    Returns:\n",
    "    - AnnData: Transformed data with Pearson residuals.\n",
    "    \"\"\"\n",
    "    # Convert to dense array if sparse\n",
    "    if sparse.issparse(adata.X):\n",
    "        adata.X = adata.X.toarray()\n",
    "    \n",
    "    # Calculate mean and variance per gene\n",
    "    mu = np.mean(adata.X, axis=0)  # Mean of each gene across all cells\n",
    "    var = np.var(adata.X, axis=0)  # Variance of each gene across all cells\n",
    "    \n",
    "    # Avoid division by zero in case of zero variance\n",
    "    var[var == 0] = 1e-6\n",
    "    \n",
    "    # Calculate Pearson residuals\n",
    "    adata.X = (adata.X - mu) / np.sqrt(var)\n",
    "    return adata\n",
    "\n",
    "def preprocess_data(adata, method='log'):\n",
    "    \"\"\"\n",
    "    Apply specified transformation to single-cell RNA-seq data and perform \n",
    "    QC, normalization, and HVG selection.\n",
    "\n",
    "    Parameters:\n",
    "    - adata (AnnData): The single-cell data object.\n",
    "    - method (str): The transformation method ('log', 'acosh', 'pearson', 'sanity').\n",
    "\n",
    "    Returns:\n",
    "    - AnnData: Transformed and preprocessed data.\n",
    "    \"\"\"\n",
    "    # Quality control and filtering\n",
    "    sc.pp.filter_cells(adata, min_genes=3)\n",
    "    sc.pp.filter_genes(adata, min_cells=200)\n",
    "    adata.var['mt'] = adata.var_names.str.upper().str.startswith('MT-')\n",
    "    sc.pp.calculate_qc_metrics(adata, qc_vars=['mt'], inplace=True)\n",
    "    \n",
    "    # Normalize total counts per cell\n",
    "    sc.pp.normalize_total(adata, target_sum=1e4)\n",
    "    \n",
    "    # Convert to dense format if needed\n",
    "    if sparse.issparse(adata.X):\n",
    "        adata.X = adata.X.toarray()\n",
    "    \n",
    "    # Choose transformation\n",
    "    if method == 'log':\n",
    "        # Shifted Logarithm transformation\n",
    "        sc.pp.log1p(adata)\n",
    "    \n",
    "    elif method == 'acosh':\n",
    "        # Acosh transformation with size factor normalization\n",
    "        alpha = 0.05  # Example overdispersion parameter\n",
    "        adata.X = (1 / np.sqrt(alpha)) * np.arccosh(2 * alpha * adata.X / np.max(adata.X) + 1)\n",
    "    \n",
    "    elif method == 'pearson':\n",
    "        # Pearson residual approximation\n",
    "        adata = calculate_pearson_residuals(adata)\n",
    "    \n",
    "    elif method == 'sanity':\n",
    "        # Sanity MAP transformation placeholder\n",
    "        print(\"Sanity MAP transformation is computationally intensive and needs separate setup.\")\n",
    "    \n",
    "    # Select highly variable genes (HVG)\n",
    "    sc.pp.highly_variable_genes(adata, subset=True)\n",
    "    \n",
    "    return adata\n",
    "\n",
    "def apply_transformations_and_compare(adata):\n",
    "    \"\"\"\n",
    "    Apply all four transformations to the original data and return results \n",
    "    for comparison.\n",
    "\n",
    "    Parameters:\n",
    "    - adata (AnnData): Original single-cell data.\n",
    "\n",
    "    Returns:\n",
    "    - dict: A dictionary with transformed AnnData objects for each method.\n",
    "    \"\"\"\n",
    "    results = {}\n",
    "    \n",
    "    for method in ['log', 'acosh', 'pearson', 'sanity']:\n",
    "        adata_copy = adata.copy()  # Work with a copy to preserve the original\n",
    "        print(f\"Applying {method} transformation...\")\n",
    "        results[method] = preprocess_data(adata_copy, method)\n",
    "    \n",
    "    return results\n",
    "\n",
    "DATA_PATH = '/projects/zhanglab/users/johnson/sampled_data/MouseRetina_filtered_sampled_7K.h5ad'\n",
    "adata = anndata.read_h5ad(DATA_PATH)\n",
    "# Apply and compare transformations\n",
    "results = apply_transformations_and_compare(adata)\n",
    "\n",
    "# Example: Inspect transformed data\n",
    "for method, data in results.items():\n",
    "    print(f\"{method} transformation:\")\n",
    "    print(data.X)  # Check the transformed data matrix"
   ]
  },
  {
   "cell_type": "code",
   "execution_count": 19,
   "id": "4d9aaaea-4b52-4f9b-95fc-a4a6d0edec61",
   "metadata": {},
   "outputs": [
    {
     "name": "stdout",
     "output_type": "stream",
     "text": [
      "\n",
      "Processing dataset: MouseRetina\n",
      "Applying log transformation...\n"
     ]
    },
    {
     "name": "stderr",
     "output_type": "stream",
     "text": [
      "/home/yenhsian/miniconda3/envs/lab/lib/python3.9/site-packages/scanpy/preprocessing/_highly_variable_genes.py:220: FutureWarning: The default of observed=False is deprecated and will be changed to True in a future version of pandas. Pass observed=False to retain current behavior or observed=True to adopt the future default and silence this warning.\n",
      "  disp_grouped = df.groupby('mean_bin')['dispersions']\n"
     ]
    },
    {
     "name": "stdout",
     "output_type": "stream",
     "text": [
      "Dataset: MouseRetina, Transformation: log, Euclidean Silhouette Score=0.0626, Correlation Silhouette Score=0.1381\n",
      "Applying acosh transformation...\n"
     ]
    },
    {
     "name": "stderr",
     "output_type": "stream",
     "text": [
      "/home/yenhsian/miniconda3/envs/lab/lib/python3.9/site-packages/scanpy/preprocessing/_highly_variable_genes.py:220: FutureWarning: The default of observed=False is deprecated and will be changed to True in a future version of pandas. Pass observed=False to retain current behavior or observed=True to adopt the future default and silence this warning.\n",
      "  disp_grouped = df.groupby('mean_bin')['dispersions']\n"
     ]
    },
    {
     "name": "stdout",
     "output_type": "stream",
     "text": [
      "Dataset: MouseRetina, Transformation: acosh, Euclidean Silhouette Score=0.0826, Correlation Silhouette Score=0.1711\n",
      "Applying pearson transformation...\n"
     ]
    },
    {
     "name": "stderr",
     "output_type": "stream",
     "text": [
      "/home/yenhsian/miniconda3/envs/lab/lib/python3.9/site-packages/scanpy/preprocessing/_utils.py:11: RuntimeWarning: overflow encountered in multiply\n",
      "  mean_sq = np.multiply(X, X).mean(axis=axis, dtype=np.float64)\n",
      "/home/yenhsian/miniconda3/envs/lab/lib/python3.9/site-packages/scanpy/preprocessing/_highly_variable_genes.py:220: FutureWarning: The default of observed=False is deprecated and will be changed to True in a future version of pandas. Pass observed=False to retain current behavior or observed=True to adopt the future default and silence this warning.\n",
      "  disp_grouped = df.groupby('mean_bin')['dispersions']\n",
      "/home/yenhsian/miniconda3/envs/lab/lib/python3.9/site-packages/scanpy/preprocessing/_highly_variable_genes.py:241: RuntimeWarning: invalid value encountered in divide\n",
      "  df['dispersions_norm'] = (\n"
     ]
    },
    {
     "name": "stdout",
     "output_type": "stream",
     "text": [
      "Dataset: MouseRetina, Transformation: pearson, Euclidean Silhouette Score=-0.0270, Correlation Silhouette Score=0.0777\n",
      "\n",
      "Processing dataset: HumanKidney\n",
      "Applying log transformation...\n"
     ]
    },
    {
     "name": "stderr",
     "output_type": "stream",
     "text": [
      "/home/yenhsian/miniconda3/envs/lab/lib/python3.9/site-packages/scanpy/preprocessing/_highly_variable_genes.py:220: FutureWarning: The default of observed=False is deprecated and will be changed to True in a future version of pandas. Pass observed=False to retain current behavior or observed=True to adopt the future default and silence this warning.\n",
      "  disp_grouped = df.groupby('mean_bin')['dispersions']\n"
     ]
    },
    {
     "name": "stdout",
     "output_type": "stream",
     "text": [
      "Dataset: HumanKidney, Transformation: log, Euclidean Silhouette Score=-0.0089, Correlation Silhouette Score=0.0505\n",
      "Applying acosh transformation...\n"
     ]
    },
    {
     "name": "stderr",
     "output_type": "stream",
     "text": [
      "/home/yenhsian/miniconda3/envs/lab/lib/python3.9/site-packages/scanpy/preprocessing/_highly_variable_genes.py:220: FutureWarning: The default of observed=False is deprecated and will be changed to True in a future version of pandas. Pass observed=False to retain current behavior or observed=True to adopt the future default and silence this warning.\n",
      "  disp_grouped = df.groupby('mean_bin')['dispersions']\n"
     ]
    },
    {
     "name": "stdout",
     "output_type": "stream",
     "text": [
      "Dataset: HumanKidney, Transformation: acosh, Euclidean Silhouette Score=-0.0086, Correlation Silhouette Score=0.0548\n",
      "Applying pearson transformation...\n"
     ]
    },
    {
     "name": "stderr",
     "output_type": "stream",
     "text": [
      "/home/yenhsian/miniconda3/envs/lab/lib/python3.9/site-packages/scanpy/preprocessing/_highly_variable_genes.py:220: FutureWarning: The default of observed=False is deprecated and will be changed to True in a future version of pandas. Pass observed=False to retain current behavior or observed=True to adopt the future default and silence this warning.\n",
      "  disp_grouped = df.groupby('mean_bin')['dispersions']\n"
     ]
    },
    {
     "name": "stdout",
     "output_type": "stream",
     "text": [
      "Dataset: HumanKidney, Transformation: pearson, Euclidean Silhouette Score=-0.0695, Correlation Silhouette Score=0.0233\n",
      "\n",
      "Processing dataset: TSdrop\n",
      "Applying log transformation...\n"
     ]
    },
    {
     "name": "stderr",
     "output_type": "stream",
     "text": [
      "/home/yenhsian/miniconda3/envs/lab/lib/python3.9/site-packages/scanpy/preprocessing/_highly_variable_genes.py:220: FutureWarning: The default of observed=False is deprecated and will be changed to True in a future version of pandas. Pass observed=False to retain current behavior or observed=True to adopt the future default and silence this warning.\n",
      "  disp_grouped = df.groupby('mean_bin')['dispersions']\n"
     ]
    },
    {
     "name": "stdout",
     "output_type": "stream",
     "text": [
      "Dataset: TSdrop, Transformation: log, Euclidean Silhouette Score=0.0550, Correlation Silhouette Score=0.1521\n",
      "Applying acosh transformation...\n"
     ]
    },
    {
     "name": "stderr",
     "output_type": "stream",
     "text": [
      "/home/yenhsian/miniconda3/envs/lab/lib/python3.9/site-packages/scanpy/preprocessing/_highly_variable_genes.py:220: FutureWarning: The default of observed=False is deprecated and will be changed to True in a future version of pandas. Pass observed=False to retain current behavior or observed=True to adopt the future default and silence this warning.\n",
      "  disp_grouped = df.groupby('mean_bin')['dispersions']\n"
     ]
    },
    {
     "name": "stdout",
     "output_type": "stream",
     "text": [
      "Dataset: TSdrop, Transformation: acosh, Euclidean Silhouette Score=0.0866, Correlation Silhouette Score=0.1480\n",
      "Applying pearson transformation...\n"
     ]
    },
    {
     "name": "stderr",
     "output_type": "stream",
     "text": [
      "/home/yenhsian/miniconda3/envs/lab/lib/python3.9/site-packages/scanpy/preprocessing/_utils.py:11: RuntimeWarning: overflow encountered in multiply\n",
      "  mean_sq = np.multiply(X, X).mean(axis=axis, dtype=np.float64)\n",
      "/home/yenhsian/miniconda3/envs/lab/lib/python3.9/site-packages/scanpy/preprocessing/_highly_variable_genes.py:220: FutureWarning: The default of observed=False is deprecated and will be changed to True in a future version of pandas. Pass observed=False to retain current behavior or observed=True to adopt the future default and silence this warning.\n",
      "  disp_grouped = df.groupby('mean_bin')['dispersions']\n",
      "/home/yenhsian/miniconda3/envs/lab/lib/python3.9/site-packages/scanpy/preprocessing/_highly_variable_genes.py:241: RuntimeWarning: invalid value encountered in divide\n",
      "  df['dispersions_norm'] = (\n"
     ]
    },
    {
     "name": "stdout",
     "output_type": "stream",
     "text": [
      "Dataset: TSdrop, Transformation: pearson, Euclidean Silhouette Score=-0.1012, Correlation Silhouette Score=0.0177\n",
      "\n",
      "Processing dataset: TMSfacs\n",
      "Applying log transformation...\n"
     ]
    },
    {
     "name": "stderr",
     "output_type": "stream",
     "text": [
      "/home/yenhsian/miniconda3/envs/lab/lib/python3.9/site-packages/scanpy/preprocessing/_highly_variable_genes.py:220: FutureWarning: The default of observed=False is deprecated and will be changed to True in a future version of pandas. Pass observed=False to retain current behavior or observed=True to adopt the future default and silence this warning.\n",
      "  disp_grouped = df.groupby('mean_bin')['dispersions']\n"
     ]
    },
    {
     "name": "stdout",
     "output_type": "stream",
     "text": [
      "Dataset: TMSfacs, Transformation: log, Euclidean Silhouette Score=0.0778, Correlation Silhouette Score=0.1861\n",
      "Applying acosh transformation...\n"
     ]
    },
    {
     "name": "stderr",
     "output_type": "stream",
     "text": [
      "/home/yenhsian/miniconda3/envs/lab/lib/python3.9/site-packages/scanpy/preprocessing/_highly_variable_genes.py:220: FutureWarning: The default of observed=False is deprecated and will be changed to True in a future version of pandas. Pass observed=False to retain current behavior or observed=True to adopt the future default and silence this warning.\n",
      "  disp_grouped = df.groupby('mean_bin')['dispersions']\n"
     ]
    },
    {
     "name": "stdout",
     "output_type": "stream",
     "text": [
      "Dataset: TMSfacs, Transformation: acosh, Euclidean Silhouette Score=0.1426, Correlation Silhouette Score=0.2060\n",
      "Applying pearson transformation...\n"
     ]
    },
    {
     "name": "stderr",
     "output_type": "stream",
     "text": [
      "/home/yenhsian/miniconda3/envs/lab/lib/python3.9/site-packages/scanpy/preprocessing/_utils.py:11: RuntimeWarning: overflow encountered in multiply\n",
      "  mean_sq = np.multiply(X, X).mean(axis=axis, dtype=np.float64)\n",
      "/home/yenhsian/miniconda3/envs/lab/lib/python3.9/site-packages/scanpy/preprocessing/_highly_variable_genes.py:220: FutureWarning: The default of observed=False is deprecated and will be changed to True in a future version of pandas. Pass observed=False to retain current behavior or observed=True to adopt the future default and silence this warning.\n",
      "  disp_grouped = df.groupby('mean_bin')['dispersions']\n",
      "/home/yenhsian/miniconda3/envs/lab/lib/python3.9/site-packages/scanpy/preprocessing/_highly_variable_genes.py:241: RuntimeWarning: invalid value encountered in divide\n",
      "  df['dispersions_norm'] = (\n",
      "/home/yenhsian/miniconda3/envs/lab/lib/python3.9/site-packages/anndata/_core/anndata.py:183: ImplicitModificationWarning: Transforming to str index.\n",
      "  warnings.warn(\"Transforming to str index.\", ImplicitModificationWarning)\n",
      "/home/yenhsian/miniconda3/envs/lab/lib/python3.9/site-packages/anndata/_core/anndata.py:183: ImplicitModificationWarning: Transforming to str index.\n",
      "  warnings.warn(\"Transforming to str index.\", ImplicitModificationWarning)\n"
     ]
    },
    {
     "name": "stdout",
     "output_type": "stream",
     "text": [
      "Error computing distance matrices for dataset TMSfacs with transformation pearson: Found array with 0 feature(s) (shape=(7000, 0)) while a minimum of 1 is required by check_pairwise_arrays.\n",
      "\n",
      "Processing dataset: TSfacs\n",
      "Applying log transformation...\n"
     ]
    },
    {
     "name": "stderr",
     "output_type": "stream",
     "text": [
      "/home/yenhsian/miniconda3/envs/lab/lib/python3.9/site-packages/scanpy/preprocessing/_highly_variable_genes.py:220: FutureWarning: The default of observed=False is deprecated and will be changed to True in a future version of pandas. Pass observed=False to retain current behavior or observed=True to adopt the future default and silence this warning.\n",
      "  disp_grouped = df.groupby('mean_bin')['dispersions']\n"
     ]
    },
    {
     "name": "stdout",
     "output_type": "stream",
     "text": [
      "Dataset: TSfacs, Transformation: log, Euclidean Silhouette Score=-0.0624, Correlation Silhouette Score=0.0513\n",
      "Applying acosh transformation...\n"
     ]
    },
    {
     "name": "stderr",
     "output_type": "stream",
     "text": [
      "/home/yenhsian/miniconda3/envs/lab/lib/python3.9/site-packages/scanpy/preprocessing/_highly_variable_genes.py:220: FutureWarning: The default of observed=False is deprecated and will be changed to True in a future version of pandas. Pass observed=False to retain current behavior or observed=True to adopt the future default and silence this warning.\n",
      "  disp_grouped = df.groupby('mean_bin')['dispersions']\n"
     ]
    },
    {
     "name": "stdout",
     "output_type": "stream",
     "text": [
      "Dataset: TSfacs, Transformation: acosh, Euclidean Silhouette Score=0.0385, Correlation Silhouette Score=0.0517\n",
      "Applying pearson transformation...\n"
     ]
    },
    {
     "name": "stderr",
     "output_type": "stream",
     "text": [
      "/home/yenhsian/miniconda3/envs/lab/lib/python3.9/site-packages/scanpy/preprocessing/_utils.py:11: RuntimeWarning: overflow encountered in multiply\n",
      "  mean_sq = np.multiply(X, X).mean(axis=axis, dtype=np.float64)\n",
      "/home/yenhsian/miniconda3/envs/lab/lib/python3.9/site-packages/scanpy/preprocessing/_highly_variable_genes.py:220: FutureWarning: The default of observed=False is deprecated and will be changed to True in a future version of pandas. Pass observed=False to retain current behavior or observed=True to adopt the future default and silence this warning.\n",
      "  disp_grouped = df.groupby('mean_bin')['dispersions']\n",
      "/home/yenhsian/miniconda3/envs/lab/lib/python3.9/site-packages/scanpy/preprocessing/_highly_variable_genes.py:241: RuntimeWarning: invalid value encountered in divide\n",
      "  df['dispersions_norm'] = (\n",
      "/home/yenhsian/miniconda3/envs/lab/lib/python3.9/site-packages/anndata/_core/anndata.py:183: ImplicitModificationWarning: Transforming to str index.\n",
      "  warnings.warn(\"Transforming to str index.\", ImplicitModificationWarning)\n",
      "/home/yenhsian/miniconda3/envs/lab/lib/python3.9/site-packages/anndata/_core/anndata.py:183: ImplicitModificationWarning: Transforming to str index.\n",
      "  warnings.warn(\"Transforming to str index.\", ImplicitModificationWarning)\n"
     ]
    },
    {
     "name": "stdout",
     "output_type": "stream",
     "text": [
      "Error computing distance matrices for dataset TSfacs with transformation pearson: Found array with 0 feature(s) (shape=(7000, 0)) while a minimum of 1 is required by check_pairwise_arrays.\n",
      "\n",
      "Processing dataset: Nathan\n",
      "Applying log transformation...\n"
     ]
    },
    {
     "name": "stderr",
     "output_type": "stream",
     "text": [
      "/home/yenhsian/miniconda3/envs/lab/lib/python3.9/site-packages/scanpy/preprocessing/_highly_variable_genes.py:220: FutureWarning: The default of observed=False is deprecated and will be changed to True in a future version of pandas. Pass observed=False to retain current behavior or observed=True to adopt the future default and silence this warning.\n",
      "  disp_grouped = df.groupby('mean_bin')['dispersions']\n"
     ]
    },
    {
     "name": "stdout",
     "output_type": "stream",
     "text": [
      "Dataset: Nathan, Transformation: log, Euclidean Silhouette Score=-0.0352, Correlation Silhouette Score=-0.0096\n",
      "Applying acosh transformation...\n"
     ]
    },
    {
     "name": "stderr",
     "output_type": "stream",
     "text": [
      "/home/yenhsian/miniconda3/envs/lab/lib/python3.9/site-packages/scanpy/preprocessing/_highly_variable_genes.py:220: FutureWarning: The default of observed=False is deprecated and will be changed to True in a future version of pandas. Pass observed=False to retain current behavior or observed=True to adopt the future default and silence this warning.\n",
      "  disp_grouped = df.groupby('mean_bin')['dispersions']\n"
     ]
    },
    {
     "name": "stdout",
     "output_type": "stream",
     "text": [
      "Dataset: Nathan, Transformation: acosh, Euclidean Silhouette Score=-0.0629, Correlation Silhouette Score=-0.0933\n",
      "Applying pearson transformation...\n"
     ]
    },
    {
     "name": "stderr",
     "output_type": "stream",
     "text": [
      "/home/yenhsian/miniconda3/envs/lab/lib/python3.9/site-packages/scanpy/preprocessing/_utils.py:11: RuntimeWarning: overflow encountered in multiply\n",
      "  mean_sq = np.multiply(X, X).mean(axis=axis, dtype=np.float64)\n",
      "/home/yenhsian/miniconda3/envs/lab/lib/python3.9/site-packages/scanpy/preprocessing/_highly_variable_genes.py:220: FutureWarning: The default of observed=False is deprecated and will be changed to True in a future version of pandas. Pass observed=False to retain current behavior or observed=True to adopt the future default and silence this warning.\n",
      "  disp_grouped = df.groupby('mean_bin')['dispersions']\n",
      "/home/yenhsian/miniconda3/envs/lab/lib/python3.9/site-packages/scanpy/preprocessing/_highly_variable_genes.py:241: RuntimeWarning: invalid value encountered in divide\n",
      "  df['dispersions_norm'] = (\n"
     ]
    },
    {
     "name": "stdout",
     "output_type": "stream",
     "text": [
      "Dataset: Nathan, Transformation: pearson, Euclidean Silhouette Score=-0.0581, Correlation Silhouette Score=-0.0051\n",
      "\n",
      "Processing dataset: Cano\n",
      "Applying log transformation...\n"
     ]
    },
    {
     "name": "stderr",
     "output_type": "stream",
     "text": [
      "/home/yenhsian/miniconda3/envs/lab/lib/python3.9/site-packages/scanpy/preprocessing/_highly_variable_genes.py:220: FutureWarning: The default of observed=False is deprecated and will be changed to True in a future version of pandas. Pass observed=False to retain current behavior or observed=True to adopt the future default and silence this warning.\n",
      "  disp_grouped = df.groupby('mean_bin')['dispersions']\n"
     ]
    },
    {
     "name": "stdout",
     "output_type": "stream",
     "text": [
      "Dataset: Cano, Transformation: log, Euclidean Silhouette Score=-0.0033, Correlation Silhouette Score=0.0018\n",
      "Applying acosh transformation...\n"
     ]
    },
    {
     "name": "stderr",
     "output_type": "stream",
     "text": [
      "/home/yenhsian/miniconda3/envs/lab/lib/python3.9/site-packages/scanpy/preprocessing/_highly_variable_genes.py:220: FutureWarning: The default of observed=False is deprecated and will be changed to True in a future version of pandas. Pass observed=False to retain current behavior or observed=True to adopt the future default and silence this warning.\n",
      "  disp_grouped = df.groupby('mean_bin')['dispersions']\n"
     ]
    },
    {
     "name": "stdout",
     "output_type": "stream",
     "text": [
      "Dataset: Cano, Transformation: acosh, Euclidean Silhouette Score=-0.0077, Correlation Silhouette Score=-0.0147\n",
      "Applying pearson transformation...\n"
     ]
    },
    {
     "name": "stderr",
     "output_type": "stream",
     "text": [
      "/home/yenhsian/miniconda3/envs/lab/lib/python3.9/site-packages/scanpy/preprocessing/_utils.py:11: RuntimeWarning: overflow encountered in multiply\n",
      "  mean_sq = np.multiply(X, X).mean(axis=axis, dtype=np.float64)\n",
      "/home/yenhsian/miniconda3/envs/lab/lib/python3.9/site-packages/scanpy/preprocessing/_highly_variable_genes.py:220: FutureWarning: The default of observed=False is deprecated and will be changed to True in a future version of pandas. Pass observed=False to retain current behavior or observed=True to adopt the future default and silence this warning.\n",
      "  disp_grouped = df.groupby('mean_bin')['dispersions']\n",
      "/home/yenhsian/miniconda3/envs/lab/lib/python3.9/site-packages/scanpy/preprocessing/_highly_variable_genes.py:241: RuntimeWarning: invalid value encountered in divide\n",
      "  df['dispersions_norm'] = (\n"
     ]
    },
    {
     "name": "stdout",
     "output_type": "stream",
     "text": [
      "Dataset: Cano, Transformation: pearson, Euclidean Silhouette Score=-0.0419, Correlation Silhouette Score=-0.0054\n",
      "\n",
      "Processing dataset: TMSdrop\n",
      "Applying log transformation...\n"
     ]
    },
    {
     "name": "stderr",
     "output_type": "stream",
     "text": [
      "/home/yenhsian/miniconda3/envs/lab/lib/python3.9/site-packages/scanpy/preprocessing/_highly_variable_genes.py:220: FutureWarning: The default of observed=False is deprecated and will be changed to True in a future version of pandas. Pass observed=False to retain current behavior or observed=True to adopt the future default and silence this warning.\n",
      "  disp_grouped = df.groupby('mean_bin')['dispersions']\n"
     ]
    },
    {
     "name": "stdout",
     "output_type": "stream",
     "text": [
      "Dataset: TMSdrop, Transformation: log, Euclidean Silhouette Score=0.0726, Correlation Silhouette Score=0.1261\n",
      "Applying acosh transformation...\n"
     ]
    },
    {
     "name": "stderr",
     "output_type": "stream",
     "text": [
      "/home/yenhsian/miniconda3/envs/lab/lib/python3.9/site-packages/scanpy/preprocessing/_highly_variable_genes.py:220: FutureWarning: The default of observed=False is deprecated and will be changed to True in a future version of pandas. Pass observed=False to retain current behavior or observed=True to adopt the future default and silence this warning.\n",
      "  disp_grouped = df.groupby('mean_bin')['dispersions']\n"
     ]
    },
    {
     "name": "stdout",
     "output_type": "stream",
     "text": [
      "Dataset: TMSdrop, Transformation: acosh, Euclidean Silhouette Score=0.1058, Correlation Silhouette Score=0.1901\n",
      "Applying pearson transformation...\n"
     ]
    },
    {
     "name": "stderr",
     "output_type": "stream",
     "text": [
      "/home/yenhsian/miniconda3/envs/lab/lib/python3.9/site-packages/scanpy/preprocessing/_utils.py:11: RuntimeWarning: overflow encountered in multiply\n",
      "  mean_sq = np.multiply(X, X).mean(axis=axis, dtype=np.float64)\n",
      "/home/yenhsian/miniconda3/envs/lab/lib/python3.9/site-packages/scanpy/preprocessing/_highly_variable_genes.py:220: FutureWarning: The default of observed=False is deprecated and will be changed to True in a future version of pandas. Pass observed=False to retain current behavior or observed=True to adopt the future default and silence this warning.\n",
      "  disp_grouped = df.groupby('mean_bin')['dispersions']\n",
      "/home/yenhsian/miniconda3/envs/lab/lib/python3.9/site-packages/scanpy/preprocessing/_highly_variable_genes.py:241: RuntimeWarning: invalid value encountered in divide\n",
      "  df['dispersions_norm'] = (\n"
     ]
    },
    {
     "name": "stdout",
     "output_type": "stream",
     "text": [
      "Dataset: TMSdrop, Transformation: pearson, Euclidean Silhouette Score=-0.0827, Correlation Silhouette Score=0.0132\n",
      "\n",
      "Results saved to silhouette_scores_transformed.csv\n"
     ]
    }
   ],
   "source": [
    "import os\n",
    "import anndata\n",
    "import numpy as np\n",
    "import scanpy as sc\n",
    "from sklearn.metrics import pairwise_distances, silhouette_score\n",
    "import pandas as pd\n",
    "from scipy import sparse\n",
    "\n",
    "# Directory containing the datasets\n",
    "data_dir = '/projects/zhanglab/users/johnson/sampled_data'\n",
    "\n",
    "# Get list of files containing '7K' in their names\n",
    "file_list = [f for f in os.listdir(data_dir) if '7K' in f and f.endswith('.h5ad')]\n",
    "\n",
    "# Define the mapping from dataset names to label fields\n",
    "label_field_mapping = {\n",
    "    'TMSfacs': 'cell_ontology_class',\n",
    "    'TMSdrop': 'cell_ontology_class',\n",
    "    'TSfacs': 'cell_ontology_class',\n",
    "    'TSdrop': 'cell_ontology_class',\n",
    "    'Cano': 'cluster.id',\n",
    "    'MouseRetina': 'cell_type',\n",
    "    'Nathan': 'cluster_name',\n",
    "    'HumanKidney': 'cell_type',\n",
    "    # Add more mappings as needed\n",
    "}\n",
    "\n",
    "# Function to calculate Pearson residuals\n",
    "def calculate_pearson_residuals(adata):\n",
    "    if sparse.issparse(adata.X):\n",
    "        adata.X = adata.X.toarray()\n",
    "    mu = np.mean(adata.X, axis=0)\n",
    "    var = np.var(adata.X, axis=0)\n",
    "    var[var == 0] = 1e-6\n",
    "    adata.X = (adata.X - mu) / np.sqrt(var)\n",
    "    return adata\n",
    "\n",
    "# Function to preprocess with transformations\n",
    "def preprocess_with_transformation(adata, method):\n",
    "    sc.pp.normalize_total(adata, target_sum=1e4)\n",
    "    # Convert to dense if sparse\n",
    "    if sparse.issparse(adata.X):\n",
    "        adata.X = adata.X.toarray()\n",
    "        \n",
    "    if method == 'log':\n",
    "        sc.pp.log1p(adata)\n",
    "    elif method == 'acosh':\n",
    "        alpha = 0.05\n",
    "        adata.X = (1 / np.sqrt(alpha)) * np.arccosh(2 * alpha * adata.X / np.max(adata.X) + 1)\n",
    "    elif method == 'pearson':\n",
    "        adata = calculate_pearson_residuals(adata)\n",
    "    \n",
    "    sc.pp.highly_variable_genes(adata, subset=True)\n",
    "    \n",
    "    # Convert back to sparse if desired\n",
    "    adata.X = sparse.csr_matrix(adata.X)  # Optional: Convert back to sparse\n",
    "    return adata\n",
    "\n",
    "# Initialize a list to store results\n",
    "results = []\n",
    "\n",
    "for filename in file_list:\n",
    "    dataset_path = os.path.join(data_dir, filename)\n",
    "    dataset_name = filename.split('_')[0]\n",
    "    \n",
    "    print(f'\\nProcessing dataset: {dataset_name}')\n",
    "    \n",
    "    # Get the label field for this dataset\n",
    "    label_field = label_field_mapping.get(dataset_name)\n",
    "    \n",
    "    if label_field is None:\n",
    "        print(f'Label field for dataset {dataset_name} is not defined in the mapping. Skipping dataset.')\n",
    "        continue\n",
    "    \n",
    "    try:\n",
    "        adata = anndata.read_h5ad(dataset_path)\n",
    "    except Exception as e:\n",
    "        print(f'Error loading dataset {dataset_name}: {e}')\n",
    "        continue\n",
    "    \n",
    "    if label_field not in adata.obs:\n",
    "        print(f'Label field \"{label_field}\" not found in dataset {dataset_name}. Skipping dataset.')\n",
    "        continue\n",
    "    \n",
    "    # Preprocess for each transformation\n",
    "    transformations = ['log', 'acosh', 'pearson']\n",
    "    \n",
    "    for method in transformations:\n",
    "        print(f'Applying {method} transformation...')\n",
    "        \n",
    "        # Make a copy to preserve the original data\n",
    "        adata_copy = adata.copy()\n",
    "        \n",
    "        # Quality control\n",
    "        adata_copy.var_names_make_unique()\n",
    "        sc.pp.filter_cells(adata_copy, min_genes=3)\n",
    "        sc.pp.filter_genes(adata_copy, min_cells=200)\n",
    "        adata_copy.var['mt'] = adata_copy.var_names.str.startswith('MT-')\n",
    "        sc.pp.calculate_qc_metrics(adata_copy, qc_vars=['mt'], percent_top=None, log1p=False, inplace=True)\n",
    "        \n",
    "        # Apply transformation\n",
    "        adata_copy = preprocess_with_transformation(adata_copy, method)\n",
    "        \n",
    "        # Extract labels and remove cells with missing labels\n",
    "        labels = adata_copy.obs[label_field].values\n",
    "        valid_indices = ~pd.isnull(labels)\n",
    "        if not np.all(valid_indices):\n",
    "            adata_copy = adata_copy[valid_indices]\n",
    "            labels = labels[valid_indices]\n",
    "        labels = labels.astype(str)\n",
    "        \n",
    "        n_clusters = len(np.unique(labels))\n",
    "        if n_clusters < 2:\n",
    "            print(f'Dataset {dataset_name} has only one cluster ({n_clusters} cluster). Skipping silhouette score calculation for this transformation.')\n",
    "            continue\n",
    "        \n",
    "        # Extract data matrix\n",
    "        data = adata_copy.X.toarray() if sparse.issparse(adata_copy.X) else adata_copy.X\n",
    "        \n",
    "        # Compute distance matrices\n",
    "        try:\n",
    "            euclidean_dist = pairwise_distances(data, metric='euclidean')\n",
    "            correlation_dist = pairwise_distances(data, metric='correlation')\n",
    "        except MemoryError as e:\n",
    "            print(f'MemoryError while computing distance matrices for dataset {dataset_name} with transformation {method}: {e}')\n",
    "            continue\n",
    "        except Exception as e:\n",
    "            print(f'Error computing distance matrices for dataset {dataset_name} with transformation {method}: {e}')\n",
    "            continue\n",
    "        \n",
    "        # Compute silhouette scores\n",
    "        try:\n",
    "            euclidean_sil_score = silhouette_score(euclidean_dist, labels, metric='precomputed')\n",
    "            correlation_sil_score = silhouette_score(correlation_dist, labels, metric='precomputed')\n",
    "        except Exception as e:\n",
    "            print(f'Error computing silhouette scores for dataset {dataset_name} with transformation {method}: {e}')\n",
    "            continue\n",
    "        \n",
    "        # Store the results\n",
    "        results.append({\n",
    "            'dataset_name': dataset_name,\n",
    "            'transformation_method': method,\n",
    "            'euclidean_sil_score': euclidean_sil_score,\n",
    "            'correlation_sil_score': correlation_sil_score\n",
    "        })\n",
    "        \n",
    "        print(f'Dataset: {dataset_name}, Transformation: {method}, Euclidean Silhouette Score={euclidean_sil_score:.4f}, Correlation Silhouette Score={correlation_sil_score:.4f}')\n",
    "\n",
    "# Convert results to DataFrame\n",
    "results_df = pd.DataFrame(results)\n",
    "\n",
    "# Save to CSV\n",
    "results_df.to_csv('silhouette_scores_transformed.csv', index=False)\n",
    "print('\\nResults saved to silhouette_scores_transformed.csv')"
   ]
  },
  {
   "cell_type": "code",
   "execution_count": 20,
   "id": "00c710ca-4503-43dc-bf72-f4e655805e48",
   "metadata": {},
   "outputs": [
    {
     "data": {
      "image/png": "[encoded data removed]",
      "text/plain": [
       "<Figure size 1000x600 with 1 Axes>"
      ]
     },
     "metadata": {},
     "output_type": "display_data"
    }
   ],
   "source": [
    "import pandas as pd\n",
    "import numpy as np\n",
    "import matplotlib.pyplot as plt\n",
    "from scipy import stats\n",
    "\n",
    "# Load the silhouette scores data\n",
    "df = pd.read_csv('silhouette_scores_transformed.csv')\n",
    "\n",
    "# Melt the DataFrame to long format for easier plotting\n",
    "df_melted = pd.melt(df, id_vars=['dataset_name', 'transformation_method'],\n",
    "                    value_vars=['euclidean_sil_score', 'correlation_sil_score'],\n",
    "                    var_name='Metric', value_name='Silhouette Score')\n",
    "\n",
    "# Rename metric values for readability\n",
    "df_melted['Metric'] = df_melted['Metric'].replace({\n",
    "    'euclidean_sil_score': 'Euclidean',\n",
    "    'correlation_sil_score': 'Pearson'\n",
    "})\n",
    "\n",
    "# Calculate mean and confidence intervals for each transformation and metric\n",
    "grouped = df_melted.groupby(['transformation_method', 'Metric'])['Silhouette Score']\n",
    "means = grouped.mean()\n",
    "stds = grouped.std()\n",
    "counts = grouped.count()\n",
    "sems = stds / np.sqrt(counts)\n",
    "confidence = 0.95\n",
    "h = sems * stats.t.ppf((1 + confidence) / 2., counts - 1)\n",
    "\n",
    "# Prepare DataFrame for plotting\n",
    "stats_df = pd.DataFrame({\n",
    "    'Mean': means,\n",
    "    'SEM': sems,\n",
    "    'CI': h,\n",
    "    'Count': counts\n",
    "}).reset_index()\n",
    "\n",
    "# Pivot the stats DataFrame for easier plotting with error bars\n",
    "pivot_df = stats_df.pivot(index='transformation_method', columns='Metric', values=['Mean', 'CI'])\n",
    "\n",
    "# Prepare data for plotting\n",
    "transformation_methods = pivot_df.index\n",
    "euclidean_means = pivot_df['Mean']['Euclidean'].values\n",
    "euclidean_CIs = pivot_df['CI']['Euclidean'].values\n",
    "\n",
    "pearson_means = pivot_df['Mean']['Pearson'].values\n",
    "pearson_CIs = pivot_df['CI']['Pearson'].values\n",
    "\n",
    "# Plotting\n",
    "bar_width = 0.35\n",
    "x = np.arange(len(transformation_methods))\n",
    "\n",
    "plt.figure(figsize=(10, 6))\n",
    "\n",
    "# Plot Euclidean bars\n",
    "plt.bar(x - bar_width/2, euclidean_means, yerr=euclidean_CIs, \n",
    "        width=bar_width, label='Euclidean', capsize=5, color='skyblue')\n",
    "\n",
    "# Plot Pearson bars\n",
    "plt.bar(x + bar_width/2, pearson_means, yerr=pearson_CIs, \n",
    "        width=bar_width, label='Pearson', capsize=5, color='lightgreen')\n",
    "\n",
    "# Set x-axis labels\n",
    "plt.xticks(x, transformation_methods)\n",
    "\n",
    "# Add labels and title\n",
    "plt.xlabel('Transformation Method')\n",
    "plt.ylabel('Silhouette Score')\n",
    "plt.title('Mean Silhouette Scores by Transformation Method and Distance Metric with 95% CI')\n",
    "\n",
    "# Add legend\n",
    "plt.legend()\n",
    "\n",
    "# Add y-axis grid\n",
    "plt.grid(axis='y', linestyle='--', alpha=0.7)\n",
    "\n",
    "plt.tight_layout()\n",
    "plt.show()"
   ]
  },
  {
   "cell_type": "code",
   "execution_count": 2,
   "id": "a84f6852-b6a9-40b9-a8db-748c96e057b2",
   "metadata": {},
   "outputs": [
    {
     "name": "stdout",
     "output_type": "stream",
     "text": [
      "\n",
      "Processing dataset: MouseRetina\n",
      "Applying glmpca transformation...\n"
     ]
    },
    {
     "ename": "KeyboardInterrupt",
     "evalue": "",
     "output_type": "error",
     "traceback": [
      "\u001b[0;31m---------------------------------------------------------------------------\u001b[0m",
      "\u001b[0;31mKeyboardInterrupt\u001b[0m                         Traceback (most recent call last)",
      "Cell \u001b[0;32mIn[2], line 103\u001b[0m\n\u001b[1;32m    100\u001b[0m sc\u001b[38;5;241m.\u001b[39mpp\u001b[38;5;241m.\u001b[39mcalculate_qc_metrics(adata_copy, qc_vars\u001b[38;5;241m=\u001b[39m[\u001b[38;5;124m'\u001b[39m\u001b[38;5;124mmt\u001b[39m\u001b[38;5;124m'\u001b[39m], percent_top\u001b[38;5;241m=\u001b[39m\u001b[38;5;28;01mNone\u001b[39;00m, log1p\u001b[38;5;241m=\u001b[39m\u001b[38;5;28;01mFalse\u001b[39;00m, inplace\u001b[38;5;241m=\u001b[39m\u001b[38;5;28;01mTrue\u001b[39;00m)\n\u001b[1;32m    102\u001b[0m \u001b[38;5;66;03m# Apply transformation\u001b[39;00m\n\u001b[0;32m--> 103\u001b[0m adata_copy \u001b[38;5;241m=\u001b[39m \u001b[43mpreprocess_with_transformation\u001b[49m\u001b[43m(\u001b[49m\u001b[43madata_copy\u001b[49m\u001b[43m,\u001b[49m\u001b[43m \u001b[49m\u001b[43mmethod\u001b[49m\u001b[43m)\u001b[49m\n\u001b[1;32m    105\u001b[0m \u001b[38;5;66;03m# Extract labels and remove cells with missing labels\u001b[39;00m\n\u001b[1;32m    106\u001b[0m labels \u001b[38;5;241m=\u001b[39m adata_copy\u001b[38;5;241m.\u001b[39mobs[label_field]\u001b[38;5;241m.\u001b[39mvalues\n",
      "Cell \u001b[0;32mIn[2], line 48\u001b[0m, in \u001b[0;36mpreprocess_with_transformation\u001b[0;34m(adata, method)\u001b[0m\n\u001b[1;32m     45\u001b[0m     counts \u001b[38;5;241m=\u001b[39m counts\u001b[38;5;241m.\u001b[39mtoarray()\n\u001b[1;32m     47\u001b[0m n_components \u001b[38;5;241m=\u001b[39m \u001b[38;5;241m50\u001b[39m  \u001b[38;5;66;03m# Adjust as needed\u001b[39;00m\n\u001b[0;32m---> 48\u001b[0m res \u001b[38;5;241m=\u001b[39m \u001b[43mglmpca\u001b[49m\u001b[43m(\u001b[49m\u001b[43mcounts\u001b[49m\u001b[43m,\u001b[49m\u001b[43m \u001b[49m\u001b[43mn_components\u001b[49m\u001b[43m,\u001b[49m\u001b[43m \u001b[49m\u001b[43mfam\u001b[49m\u001b[38;5;241;43m=\u001b[39;49m\u001b[38;5;124;43m'\u001b[39;49m\u001b[38;5;124;43mpoi\u001b[39;49m\u001b[38;5;124;43m'\u001b[39;49m\u001b[43m)\u001b[49m\n\u001b[1;32m     49\u001b[0m adata\u001b[38;5;241m.\u001b[39mobsm[\u001b[38;5;124m'\u001b[39m\u001b[38;5;124mX_pca\u001b[39m\u001b[38;5;124m'\u001b[39m] \u001b[38;5;241m=\u001b[39m res[\u001b[38;5;124m'\u001b[39m\u001b[38;5;124mfactors\u001b[39m\u001b[38;5;124m'\u001b[39m]\n\u001b[1;32m     50\u001b[0m adata\u001b[38;5;241m.\u001b[39mX \u001b[38;5;241m=\u001b[39m res[\u001b[38;5;124m'\u001b[39m\u001b[38;5;124mfactors\u001b[39m\u001b[38;5;124m'\u001b[39m]\n",
      "File \u001b[0;32m~/miniconda3/envs/lab/lib/python3.9/site-packages/glmpca/glmpca.py:367\u001b[0m, in \u001b[0;36mglmpca\u001b[0;34m(Y, L, fam, ctl, penalty, verbose, init, nb_theta, X, Z, sz)\u001b[0m\n\u001b[1;32m    365\u001b[0m   V[:,k]\u001b[38;5;241m+\u001b[39m\u001b[38;5;241m=\u001b[39m grads\u001b[38;5;241m/\u001b[39minfos\n\u001b[1;32m    366\u001b[0m \u001b[38;5;28;01mfor\u001b[39;00m k \u001b[38;5;129;01min\u001b[39;00m uid:\n\u001b[0;32m--> 367\u001b[0m   ig\u001b[38;5;241m=\u001b[39m \u001b[43mgf\u001b[49m\u001b[38;5;241;43m.\u001b[39;49m\u001b[43minfograd\u001b[49m\u001b[43m(\u001b[49m\u001b[43mY\u001b[49m\u001b[43m,\u001b[49m\u001b[43mrfunc\u001b[49m\u001b[43m(\u001b[49m\u001b[43mU\u001b[49m\u001b[43m,\u001b[49m\u001b[43mV\u001b[49m\u001b[43m)\u001b[49m\u001b[43m)\u001b[49m\n\u001b[1;32m    368\u001b[0m   grads\u001b[38;5;241m=\u001b[39m crossprod(ig[\u001b[38;5;124m\"\u001b[39m\u001b[38;5;124mgrad\u001b[39m\u001b[38;5;124m\"\u001b[39m], V[:,k]) \u001b[38;5;241m-\u001b[39m penalty\u001b[38;5;241m*\u001b[39mU[:,k]\u001b[38;5;241m*\u001b[39m(k \u001b[38;5;129;01min\u001b[39;00m lid)\n\u001b[1;32m    369\u001b[0m   infos\u001b[38;5;241m=\u001b[39m crossprod(ig[\u001b[38;5;124m\"\u001b[39m\u001b[38;5;124minfo\u001b[39m\u001b[38;5;124m\"\u001b[39m], V[:,k]\u001b[38;5;241m*\u001b[39m\u001b[38;5;241m*\u001b[39m\u001b[38;5;241m2\u001b[39m) \u001b[38;5;241m+\u001b[39m penalty\u001b[38;5;241m*\u001b[39m(k \u001b[38;5;129;01min\u001b[39;00m lid)\n",
      "File \u001b[0;32m~/miniconda3/envs/lab/lib/python3.9/site-packages/glmpca/glmpca.py:130\u001b[0m, in \u001b[0;36mGlmpcaFamily.__init__.<locals>.infograd\u001b[0;34m(Y, R)\u001b[0m\n\u001b[1;32m    128\u001b[0m \u001b[38;5;28;01mdef\u001b[39;00m \u001b[38;5;21minfograd\u001b[39m(Y,R):\n\u001b[1;32m    129\u001b[0m   M\u001b[38;5;241m=\u001b[39m ilfunc(R) \u001b[38;5;66;03m#ilfunc=exp\u001b[39;00m\n\u001b[0;32m--> 130\u001b[0m   \u001b[38;5;28;01mreturn\u001b[39;00m {\u001b[38;5;124m\"\u001b[39m\u001b[38;5;124mgrad\u001b[39m\u001b[38;5;124m\"\u001b[39m:(\u001b[43mY\u001b[49m\u001b[38;5;241;43m-\u001b[39;49m\u001b[43mM\u001b[49m),\u001b[38;5;124m\"\u001b[39m\u001b[38;5;124minfo\u001b[39m\u001b[38;5;124m\"\u001b[39m:M}\n",
      "\u001b[0;31mKeyboardInterrupt\u001b[0m: "
     ]
    }
   ],
   "source": [
    "import os\n",
    "import anndata\n",
    "import numpy as np\n",
    "import scanpy as sc\n",
    "from sklearn.metrics import pairwise_distances, silhouette_score\n",
    "import pandas as pd\n",
    "from scipy import sparse\n",
    "\n",
    "# Directory containing the datasets\n",
    "data_dir = '/projects/zhanglab/users/johnson/sampled_data'\n",
    "\n",
    "# Get list of files containing '7K' in their names\n",
    "file_list = [f for f in os.listdir(data_dir) if '7K' in f and f.endswith('.h5ad')]\n",
    "\n",
    "# Define the mapping from dataset names to label fields\n",
    "label_field_mapping = {\n",
    "    'TMSfacs': 'cell_ontology_class',\n",
    "    'TMSdrop': 'cell_ontology_class',\n",
    "    'TSfacs': 'cell_ontology_class',\n",
    "    'TSdrop': 'cell_ontology_class',\n",
    "    'Cano': 'cluster.id',\n",
    "    'MouseRetina': 'cell_type',\n",
    "    'Nathan': 'cluster_name',\n",
    "    'HumanKidney': 'cell_type',\n",
    "    # Add more mappings as needed\n",
    "}\n",
    "\n",
    "# Function to preprocess with transformations\n",
    "def preprocess_with_transformation(adata, method):\n",
    "    sc.pp.normalize_total(adata, target_sum=1e4)\n",
    "    \n",
    "    if method == 'log':\n",
    "        sc.pp.log1p(adata)\n",
    "    elif method == 'pearson':\n",
    "        sc.experimental.pp.normalize_pearson_residuals(adata)\n",
    "    elif method == 'glmpca':\n",
    "        # Implement GLM PCA\n",
    "        try:\n",
    "            from glmpca.glmpca import glmpca\n",
    "        except ImportError:\n",
    "            raise ImportError(\"The 'glmpca' package is required for GLM PCA. Please install it via 'pip install glmpca'.\")\n",
    "    \n",
    "        counts = adata.X.copy()\n",
    "        if sparse.issparse(counts):\n",
    "            counts = counts.toarray()\n",
    "    \n",
    "        n_components = 50  # Adjust as needed\n",
    "        res = glmpca(counts, n_components, fam='poi')\n",
    "        adata.obsm['X_pca'] = res['factors']\n",
    "        adata.X = res['factors']\n",
    "    else:\n",
    "        raise ValueError(f\"Unknown method: {method}\")\n",
    "    \n",
    "    # Highly variable genes selection with additional check\n",
    "    # sc.pp.highly_variable_genes(adata, subset=True)\n",
    "    \n",
    "    adata.X = sparse.csr_matrix(adata.X)\n",
    "    return adata\n",
    "\n",
    "# Initialize a list to store results\n",
    "results = []\n",
    "\n",
    "for filename in file_list:\n",
    "    dataset_path = os.path.join(data_dir, filename)\n",
    "    dataset_name = filename.split('_')[0]\n",
    "    \n",
    "    print(f'\\nProcessing dataset: {dataset_name}')\n",
    "    \n",
    "    # Get the label field for this dataset\n",
    "    label_field = label_field_mapping.get(dataset_name)\n",
    "    \n",
    "    if label_field is None:\n",
    "        print(f'Label field for dataset {dataset_name} is not defined in the mapping. Skipping dataset.')\n",
    "        continue\n",
    "    \n",
    "    try:\n",
    "        adata = anndata.read_h5ad(dataset_path)\n",
    "    except Exception as e:\n",
    "        print(f'Error loading dataset {dataset_name}: {e}')\n",
    "        continue\n",
    "    \n",
    "    if label_field not in adata.obs:\n",
    "        print(f'Label field \"{label_field}\" not found in dataset {dataset_name}. Skipping dataset.')\n",
    "        continue\n",
    "    \n",
    "    # Preprocess for each transformation\n",
    "    transformations = ['glmpca']\n",
    "    \n",
    "    for method in transformations:\n",
    "        print(f'Applying {method} transformation...')\n",
    "        \n",
    "        # Make a copy to preserve the original data\n",
    "        adata_copy = adata.copy()\n",
    "        \n",
    "        # Quality control\n",
    "        adata_copy.var_names_make_unique()\n",
    "        sc.pp.filter_cells(adata_copy, min_genes=3)\n",
    "        sc.pp.filter_genes(adata_copy, min_cells=200)\n",
    "        adata_copy.var['mt'] = adata_copy.var_names.str.startswith('MT-')\n",
    "        sc.pp.calculate_qc_metrics(adata_copy, qc_vars=['mt'], percent_top=None, log1p=False, inplace=True)\n",
    "        \n",
    "        # Apply transformation\n",
    "        adata_copy = preprocess_with_transformation(adata_copy, method)\n",
    "        \n",
    "        # Extract labels and remove cells with missing labels\n",
    "        labels = adata_copy.obs[label_field].values\n",
    "        valid_indices = ~pd.isnull(labels)\n",
    "        if not np.all(valid_indices):\n",
    "            adata_copy = adata_copy[valid_indices]\n",
    "            labels = labels[valid_indices]\n",
    "        labels = labels.astype(str)\n",
    "        \n",
    "        n_clusters = len(np.unique(labels))\n",
    "        if n_clusters < 2:\n",
    "            print(f'Dataset {dataset_name} has only one cluster ({n_clusters} cluster). Skipping silhouette score calculation for this transformation.')\n",
    "            continue\n",
    "        \n",
    "        # Extract data matrix\n",
    "        if method == 'glmpca':\n",
    "            data = adata_copy.obsm['X_pca']\n",
    "        else:\n",
    "            data = adata_copy.X.toarray() if sparse.issparse(adata_copy.X) else adata_copy.X\n",
    "        \n",
    "        # Compute distance matrices\n",
    "        try:\n",
    "            euclidean_dist = pairwise_distances(data, metric='euclidean')\n",
    "            correlation_dist = pairwise_distances(data, metric='correlation')\n",
    "        except MemoryError as e:\n",
    "            print(f'MemoryError while computing distance matrices for dataset {dataset_name} with transformation {method}: {e}')\n",
    "            continue\n",
    "        except Exception as e:\n",
    "            print(f'Error computing distance matrices for dataset {dataset_name} with transformation {method}: {e}')\n",
    "            continue\n",
    "        \n",
    "        # Compute silhouette scores\n",
    "        try:\n",
    "            euclidean_sil_score = silhouette_score(euclidean_dist, labels, metric='precomputed')\n",
    "            correlation_sil_score = silhouette_score(correlation_dist, labels, metric='precomputed')\n",
    "        except Exception as e:\n",
    "            print(f'Error computing silhouette scores for dataset {dataset_name} with transformation {method}: {e}')\n",
    "            continue\n",
    "        \n",
    "        # Store the results\n",
    "        results.append({\n",
    "            'dataset_name': dataset_name,\n",
    "            'transformation_method': method,\n",
    "            'euclidean_sil_score': euclidean_sil_score,\n",
    "            'correlation_sil_score': correlation_sil_score\n",
    "        })\n",
    "        \n",
    "        print(f'Dataset: {dataset_name}, Transformation: {method}, Euclidean Silhouette Score={euclidean_sil_score:.4f}, Correlation Silhouette Score={correlation_sil_score:.4f}')\n",
    "\n",
    "# Convert results to DataFrame\n",
    "results_df = pd.DataFrame(results)\n",
    "\n",
    "# Save to CSV\n",
    "results_df.to_csv('silhouette_scores_transformed_new.csv', index=False)\n",
    "print('\\nResults saved to silhouette_scores_transformed_new.csv')"
   ]
  },
  {
   "cell_type": "code",
   "execution_count": 3,
   "id": "5b5f8992-5323-4386-a24d-26bd3b8d8ffd",
   "metadata": {},
   "outputs": [
    {
     "data": {
      "text/plain": [
       "['MouseRetina_filtered_sampled_7K.h5ad',\n",
       " 'HumanKidney_filtered_sampled_7K.h5ad',\n",
       " 'TSdrop_filtered_sampled_7K.h5ad',\n",
       " 'TMSfacs_filtered_sampled_7K.h5ad',\n",
       " 'TSfacs_filtered_sampled_7K.h5ad',\n",
       " 'Nathan_filtered_sampled_7K.h5ad',\n",
       " 'Cano_filtered_sampled_7K.h5ad',\n",
       " 'TMSdrop_filtered_sampled_7K.h5ad']"
      ]
     },
     "execution_count": 3,
     "metadata": {},
     "output_type": "execute_result"
    }
   ],
   "source": [
    "file_list = [f for f in os.listdir(data_dir) if '7K' in f and f.endswith('.h5ad')]\n",
    "file_list"
   ]
  },
  {
   "cell_type": "code",
   "execution_count": 4,
   "id": "fec5d493-cb69-4475-917e-aa5d8154ab2c",
   "metadata": {},
   "outputs": [
    {
     "name": "stdout",
     "output_type": "stream",
     "text": [
      "Help on function glmpca in module glmpca.glmpca:\n",
      "\n",
      "glmpca(Y, L, fam='poi', ctl={'maxIter': 1000, 'eps': 0.0001}, penalty=1, verbose=False, init={'factors': None, 'loadings': None}, nb_theta=100, X=None, Z=None, sz=None)\n",
      "    GLM-PCA\n",
      "    \n",
      "    This function implements the GLM-PCA dimensionality reduction method for high-dimensional count data.\n",
      "    \n",
      "    The basic model is R = AX'+ZG'+VU', where E[Y]=M=linkinv(R). Regression coefficients are A and G, latent factors are U, and loadings are V. The objective function being optimized is the deviance between Y and M, plus an L2 (ridge) penalty on U and V. Note that glmpca uses a random initialization, so for fully reproducible results one should set the random seed.\n",
      "    \n",
      "    Parameters\n",
      "    ----------\n",
      "    Y: array_like of count data with features as rows and observations as\n",
      "      columns.\n",
      "    L: the desired number of latent dimensions (integer).\n",
      "    fam: string describing the likelihood to use for the data. Possible values include:\n",
      "    - poi: Poisson\n",
      "    - nb: negative binomial\n",
      "    - mult: binomial approximation to multinomial\n",
      "    - bern: Bernoulli\n",
      "    ctl: a dictionary of control parameters for optimization.\n",
      "    penalty: the L2 penalty for the latent factors (default = 1).\n",
      "      Regression coefficients are not penalized.\n",
      "    verbose: logical value indicating whether the current deviance should\n",
      "      be printed after each iteration (default = False).\n",
      "    init: a dictionary containing initial estimates for the factors (U) and\n",
      "      loadings (V) matrices.\n",
      "    nb_theta: negative binomial dispersion parameter. Smaller values mean more dispersion\n",
      "      if nb_theta goes to infinity, this is equivalent to Poisson\n",
      "      Note that the alpha in the statsmodels package is 1/nb_theta.\n",
      "    X: array_like of column (observations) covariates. Any column with all\n",
      "      same values (eg. 1 for intercept) will be removed. This is because we force\n",
      "      the intercept and want to avoid collinearity.\n",
      "    Z: array_like of row (feature) covariates, usually not needed.\n",
      "    sz: numeric vector of size factors to use in place of total counts.\n",
      "    \n",
      "    Returns\n",
      "    -------\n",
      "    A dictionary with the following elements\n",
      "    - factors: an array U whose rows match the columns (observations) of Y. It is analogous to the principal components in PCA. Each column of the factors array is a different latent dimension.\n",
      "    - loadings: an array V whose rows match the rows (features/dimensions) of Y. It is analogous to loadings in PCA. Each column of the loadings array is a different latent dimension.\n",
      "    - coefX: an array A of coefficients for the observation-specific covariates array X. Each row of coefX corresponds to a row of Y and each column corresponds to a column of X. The first column of coefX contains feature-specific intercepts which are included by default.\n",
      "    - coefZ: a array G of coefficients for the feature-specific covariates array Z. Each row of coefZ corresponds to a column of Y and each column corresponds to a column of Z. By default no such covariates are included and this is returned as None.\n",
      "    - dev: a vector of deviance values. The length of the vector is the number of iterations it took for GLM-PCA's optimizer to converge. The deviance should generally decrease over time. If it fluctuates wildly, this often indicates numerical instability, which can be improved by increasing the penalty parameter.\n",
      "    - glmpca_family: an object of class GlmpcaFamily. This is a minor wrapper to the family object used by the statsmodels package for fitting standard GLMs. It contains various internal functions and parameters needed to optimize the GLM-PCA objective function. For the negative binomial case, it also contains the final estimated value of the dispersion parameter nb_theta.\n",
      "    \n",
      "    Examples\n",
      "    -------\n",
      "    1) create a simple dataset with two clusters and visualize the latent structure\n",
      "    >>> from numpy import array,exp,random,repeat\n",
      "    >>> from matplotlib.pyplot import scatter\n",
      "    >>> from glmpca import glmpca\n",
      "    >>> mu= exp(random.randn(20,100))\n",
      "    >>> mu[range(10),:] *= exp(random.randn(100))\n",
      "    >>> clust= repeat([\"red\",\"black\"],10)\n",
      "    >>> Y= random.poisson(mu)\n",
      "    >>> res= glmpca(Y.T, 2)\n",
      "    >>> factors= res[\"factors\"]\n",
      "    >>> scatter(factors[:,0],factors[:,1],c=clust)\n",
      "    \n",
      "    References\n",
      "    ----------\n",
      "    .. [1] Townes FW, Hicks SC, Aryee MJ, and Irizarry RA. \"Feature selection and dimension reduction for single-cell RNA-seq based on a multinomial model\", biorXiv, 2019. https://www.biorxiv.org/content/10.1101/574574v1\n",
      "    .. [2] Townes FW. \"Generalized principal component analysis\", arXiv, 2019. https://arxiv.org/abs/1907.02647\n",
      "\n"
     ]
    }
   ],
   "source": [
    "from glmpca.glmpca import glmpca\n",
    "help(glmpca)"
   ]
  },
  {
   "cell_type": "code",
   "execution_count": 12,
   "id": "24ae3ded-e6fa-454a-9644-a1f6b3ab9d7e",
   "metadata": {},
   "outputs": [
    {
     "data": {
      "image/png": "[encoded data removed]",
      "text/plain": [
       "<Figure size 1000x600 with 1 Axes>"
      ]
     },
     "metadata": {},
     "output_type": "display_data"
    }
   ],
   "source": [
    "import pandas as pd\n",
    "import os\n",
    "import numpy as np\n",
    "import matplotlib.pyplot as plt\n",
    "from scipy import stats\n",
    "from scipy.stats import ttest_rel\n",
    "from statsmodels.stats.multitest import fdrcorrection\n",
    "\n",
    "# Load the silhouette_scores_transformed.csv and filter out rows with 'pearson' in 'transformation_method'\n",
    "df = pd.read_csv('silhouette_scores_transformed.csv')\n",
    "df_filtered = df[df['transformation_method'] != 'pearson']\n",
    "\n",
    "# Define the directory containing other CSV files\n",
    "directory = \"/home/yenhsian/test/BanditPAM/results/transformation\"\n",
    "\n",
    "# Initialize a list to store dataframes\n",
    "all_dfs = [df_filtered]  # Start with the filtered silhouette_scores_transformed.csv data\n",
    "\n",
    "# Loop through the files in the directory and read each CSV file\n",
    "for filename in os.listdir(directory):\n",
    "    if filename.endswith(\".csv\") and filename != \"silhouette_scores_transformed.csv\":\n",
    "        file_path = os.path.join(directory, filename)\n",
    "        temp_df = pd.read_csv(file_path)\n",
    "        all_dfs.append(temp_df)\n",
    "\n",
    "# Concatenate all dataframes\n",
    "df = pd.concat(all_dfs, ignore_index=True)\n",
    "\n",
    "# Melt the DataFrame to long format for easier plotting\n",
    "df_melted = pd.melt(df, id_vars=['dataset_name', 'transformation_method'],\n",
    "                    value_vars=['euclidean_sil_score', 'correlation_sil_score'],\n",
    "                    var_name='Metric', value_name='Silhouette Score')\n",
    "\n",
    "# Rename metric values for readability\n",
    "df_melted['Metric'] = df_melted['Metric'].replace({\n",
    "    'euclidean_sil_score': 'Euclidean',\n",
    "    'correlation_sil_score': 'Pearson'\n",
    "})\n",
    "\n",
    "# Calculate mean and confidence intervals for each transformation and metric\n",
    "grouped = df_melted.groupby(['transformation_method', 'Metric'])['Silhouette Score']\n",
    "means = grouped.mean()\n",
    "stds = grouped.std()\n",
    "counts = grouped.count()\n",
    "sems = stds / np.sqrt(counts)\n",
    "confidence = 0.95\n",
    "h = sems * stats.t.ppf((1 + confidence) / 2., counts - 1)\n",
    "\n",
    "# Prepare DataFrame for plotting\n",
    "stats_df = pd.DataFrame({\n",
    "    'Mean': means,\n",
    "    'SEM': sems,\n",
    "    'CI': h,\n",
    "    'Count': counts\n",
    "}).reset_index()\n",
    "\n",
    "# Perform paired t-tests between Euclidean and Pearson for each transformation method\n",
    "p_values = []\n",
    "for transformation in df['transformation_method'].unique():\n",
    "    euclidean_scores = df[df['transformation_method'] == transformation]['euclidean_sil_score']\n",
    "    correlation_scores = df[df['transformation_method'] == transformation]['correlation_sil_score']\n",
    "    t_stat, p_value = ttest_rel(euclidean_scores, correlation_scores)\n",
    "    p_values.append(p_value)\n",
    "\n",
    "# Apply FDR correction for multiple comparisons\n",
    "_, corrected_p_values = fdrcorrection(p_values, alpha=0.05)\n",
    "\n",
    "# Prepare pivot table for plotting with error bars\n",
    "pivot_df = stats_df.pivot(index='transformation_method', columns='Metric', values=['Mean', 'CI'])\n",
    "transformation_methods = pivot_df.index\n",
    "euclidean_means = pivot_df['Mean']['Euclidean'].values\n",
    "euclidean_CIs = pivot_df['CI']['Euclidean'].values\n",
    "pearson_means = pivot_df['Mean']['Pearson'].values\n",
    "pearson_CIs = pivot_df['CI']['Pearson'].values\n",
    "\n",
    "# Plotting\n",
    "bar_width = 0.35\n",
    "x = np.arange(len(transformation_methods))\n",
    "\n",
    "plt.figure(figsize=(10, 6))\n",
    "\n",
    "# Plot Euclidean bars\n",
    "plt.bar(x - bar_width/2, euclidean_means, yerr=euclidean_CIs, \n",
    "        width=bar_width, label='Euclidean', capsize=5, color='skyblue')\n",
    "\n",
    "# Plot Pearson bars\n",
    "plt.bar(x + bar_width/2, pearson_means, yerr=pearson_CIs, \n",
    "        width=bar_width, label='Pearson', capsize=5, color='lightgreen')\n",
    "\n",
    "# Set x-axis labels\n",
    "plt.xticks(x, transformation_methods)\n",
    "\n",
    "# Add labels and title\n",
    "plt.xlabel('Transformation Method')\n",
    "plt.ylabel('Silhouette Score')\n",
    "plt.title('Mean Silhouette Scores by Transformation Method and Distance Metric with 95% CI')\n",
    "plt.legend()\n",
    "\n",
    "# Add significance annotations\n",
    "for i, (transformation, corrected_p_value) in enumerate(zip(transformation_methods, corrected_p_values)):\n",
    "    if corrected_p_value < 0.05:\n",
    "        y = max(euclidean_means[i] + euclidean_CIs[i], pearson_means[i] + pearson_CIs[i]) + 0.02\n",
    "        h = 0.01\n",
    "        plt.plot([x[i] - bar_width/2, x[i] - bar_width/2, x[i] + bar_width/2, x[i] + bar_width/2], \n",
    "                 [y, y + h, y + h, y], lw=1.0, c='black')\n",
    "        plt.text(x[i], y + h, '*', ha='center', va='bottom', color='black', fontsize=14)\n",
    "\n",
    "# Add y-axis grid\n",
    "plt.grid(axis='y', linestyle='--', alpha=0.7)\n",
    "\n",
    "plt.tight_layout()\n",
    "plt.show()"
   ]
  },
  {
   "cell_type": "code",
   "execution_count": null,
   "id": "fcfe85ad-9551-4b3d-a0a6-9f886fc4daf6",
   "metadata": {},
   "outputs": [],
   "source": []
  }
 ],
 "metadata": {
  "kernelspec": {
   "display_name": "lab",
   "language": "python",
   "name": "lab"
  },
  "language_info": {
   "codemirror_mode": {
    "name": "ipython",
    "version": 3
   },
   "file_extension": ".py",
   "mimetype": "text/x-python",
   "name": "python",
   "nbconvert_exporter": "python",
   "pygments_lexer": "ipython3",
   "version": "3.9.18"
  }
 },
 "nbformat": 4,
 "nbformat_minor": 5
}
