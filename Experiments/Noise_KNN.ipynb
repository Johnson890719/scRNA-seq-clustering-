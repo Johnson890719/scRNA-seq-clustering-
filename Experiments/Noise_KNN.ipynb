{
 "cells": [
  {
   "cell_type": "code",
   "execution_count": 4,
   "id": "8cf9bbf5-b482-4a77-a695-a860946e526c",
   "metadata": {},
   "outputs": [
    {
     "data": {
      "text/plain": [
       "AnnData object with n_obs × n_vars = 6999 × 2000\n",
       "    obs: 'cell.type', 'cytokine.condition', 'donor.id', 'batch.10X', 'nGene', 'nUMI', 'percent.mito', 'S.Score', 'G2M.Score', 'Phase', 'cluster.id', 'effectorness', 'n_genes'\n",
       "    var: 'gene_ids', 'feature_types', 'n_cells', 'highly_variable', 'means', 'dispersions', 'dispersions_norm'\n",
       "    uns: 'hvg', 'log1p', 'neighbors_correlation', 'neighbors_l2'\n",
       "    obsp: 'dm_correlation', 'dm_cosine', 'dm_l1', 'dm_l2', 'neighbors_correlation_connectivities', 'neighbors_correlation_distances', 'neighbors_l2_connectivities', 'neighbors_l2_distances'"
      ]
     },
     "execution_count": 4,
     "metadata": {},
     "output_type": "execute_result"
    }
   ],
   "source": [
    "import anndata\n",
    "dir = '/projects/zhanglab/users/johnson/gene_downsampled_data_processed/Cano_filtered_sampled_7K_downsample_0.3.h5ad'\n",
    "adata = anndata.read_h5ad(dir)\n",
    "adata"
   ]
  },
  {
   "cell_type": "code",
   "execution_count": 2,
   "id": "d742870c-1588-437f-8f19-575342a8c369",
   "metadata": {},
   "outputs": [
    {
     "data": {
      "text/plain": [
       "array([[0, 0, 1, ..., 0, 0, 0],\n",
       "       [0, 0, 1, ..., 0, 0, 0],\n",
       "       [0, 0, 0, ..., 0, 0, 0],\n",
       "       ...,\n",
       "       [0, 0, 0, ..., 0, 0, 0],\n",
       "       [0, 0, 0, ..., 0, 0, 0],\n",
       "       [0, 0, 0, ..., 0, 0, 0]])"
      ]
     },
     "execution_count": 2,
     "metadata": {},
     "output_type": "execute_result"
    }
   ],
   "source": [
    "adata.X.toarray()"
   ]
  },
  {
   "cell_type": "code",
   "execution_count": 39,
   "id": "8b973fc7-d7eb-49fa-b768-36f204d37dcf",
   "metadata": {
    "scrolled": true
   },
   "outputs": [
    {
     "name": "stdout",
     "output_type": "stream",
     "text": [
      "Found 20 datasets to process.\n",
      "\n",
      "Processing dataset: TMSfacs_filtered_sampled_7K_downsample_0.7.h5ad\n",
      "Loading dataset from /projects/zhanglab/users/johnson/gene_downsampled_data/TMSfacs_filtered_sampled_7K_downsample_0.7.h5ad\n",
      "Normalizing data\n",
      "Applying log transformation\n",
      "Selecting highly variable genes\n"
     ]
    },
    {
     "name": "stderr",
     "output_type": "stream",
     "text": [
      "/home/yenhsian/miniconda3/envs/lab/lib/python3.9/site-packages/scanpy/preprocessing/_highly_variable_genes.py:220: FutureWarning: The default of observed=False is deprecated and will be changed to True in a future version of pandas. Pass observed=False to retain current behavior or observed=True to adopt the future default and silence this warning.\n",
      "  disp_grouped = df.groupby('mean_bin')['dispersions']\n"
     ]
    },
    {
     "name": "stdout",
     "output_type": "stream",
     "text": [
      "Calculating l2 neighbors\n",
      "Calculating correlation neighbors\n",
      "Saving processed dataset to /projects/zhanglab/users/johnson/gene_downsampled_data_processed/TMSfacs_filtered_sampled_7K_downsample_0.7.h5ad\n",
      "\n",
      "Processing dataset: TMSfacs_filtered_sampled_7K_downsample_0.3.h5ad\n",
      "Loading dataset from /projects/zhanglab/users/johnson/gene_downsampled_data/TMSfacs_filtered_sampled_7K_downsample_0.3.h5ad\n",
      "Normalizing data\n",
      "Applying log transformation\n",
      "Selecting highly variable genes\n"
     ]
    },
    {
     "name": "stderr",
     "output_type": "stream",
     "text": [
      "/home/yenhsian/miniconda3/envs/lab/lib/python3.9/site-packages/scanpy/preprocessing/_highly_variable_genes.py:220: FutureWarning: The default of observed=False is deprecated and will be changed to True in a future version of pandas. Pass observed=False to retain current behavior or observed=True to adopt the future default and silence this warning.\n",
      "  disp_grouped = df.groupby('mean_bin')['dispersions']\n"
     ]
    },
    {
     "name": "stdout",
     "output_type": "stream",
     "text": [
      "Calculating l2 neighbors\n",
      "Calculating correlation neighbors\n",
      "Saving processed dataset to /projects/zhanglab/users/johnson/gene_downsampled_data_processed/TMSfacs_filtered_sampled_7K_downsample_0.3.h5ad\n",
      "\n",
      "Processing dataset: TMSdrop_filtered_sampled_7K_downsample_0.5.h5ad\n",
      "Loading dataset from /projects/zhanglab/users/johnson/gene_downsampled_data/TMSdrop_filtered_sampled_7K_downsample_0.5.h5ad\n",
      "Normalizing data\n",
      "Applying log transformation\n",
      "Selecting highly variable genes\n"
     ]
    },
    {
     "name": "stderr",
     "output_type": "stream",
     "text": [
      "/home/yenhsian/miniconda3/envs/lab/lib/python3.9/site-packages/scanpy/preprocessing/_highly_variable_genes.py:220: FutureWarning: The default of observed=False is deprecated and will be changed to True in a future version of pandas. Pass observed=False to retain current behavior or observed=True to adopt the future default and silence this warning.\n",
      "  disp_grouped = df.groupby('mean_bin')['dispersions']\n"
     ]
    },
    {
     "name": "stdout",
     "output_type": "stream",
     "text": [
      "Calculating l2 neighbors\n",
      "Calculating correlation neighbors\n",
      "Saving processed dataset to /projects/zhanglab/users/johnson/gene_downsampled_data_processed/TMSdrop_filtered_sampled_7K_downsample_0.5.h5ad\n",
      "\n",
      "Processing dataset: Cano_filtered_sampled_7K_downsample_0.5.h5ad\n",
      "Loading dataset from /projects/zhanglab/users/johnson/gene_downsampled_data/Cano_filtered_sampled_7K_downsample_0.5.h5ad\n",
      "Normalizing data\n",
      "Applying log transformation\n",
      "Selecting highly variable genes\n"
     ]
    },
    {
     "name": "stderr",
     "output_type": "stream",
     "text": [
      "/home/yenhsian/miniconda3/envs/lab/lib/python3.9/site-packages/scanpy/preprocessing/_highly_variable_genes.py:220: FutureWarning: The default of observed=False is deprecated and will be changed to True in a future version of pandas. Pass observed=False to retain current behavior or observed=True to adopt the future default and silence this warning.\n",
      "  disp_grouped = df.groupby('mean_bin')['dispersions']\n"
     ]
    },
    {
     "name": "stdout",
     "output_type": "stream",
     "text": [
      "Calculating l2 neighbors\n",
      "Calculating correlation neighbors\n",
      "Saving processed dataset to /projects/zhanglab/users/johnson/gene_downsampled_data_processed/Cano_filtered_sampled_7K_downsample_0.5.h5ad\n",
      "\n",
      "Processing dataset: TSfacs_filtered_sampled_7K_downsample_0.5.h5ad\n",
      "Loading dataset from /projects/zhanglab/users/johnson/gene_downsampled_data/TSfacs_filtered_sampled_7K_downsample_0.5.h5ad\n",
      "Normalizing data\n",
      "Applying log transformation\n",
      "Selecting highly variable genes\n"
     ]
    },
    {
     "name": "stderr",
     "output_type": "stream",
     "text": [
      "/home/yenhsian/miniconda3/envs/lab/lib/python3.9/site-packages/scanpy/preprocessing/_highly_variable_genes.py:220: FutureWarning: The default of observed=False is deprecated and will be changed to True in a future version of pandas. Pass observed=False to retain current behavior or observed=True to adopt the future default and silence this warning.\n",
      "  disp_grouped = df.groupby('mean_bin')['dispersions']\n"
     ]
    },
    {
     "name": "stdout",
     "output_type": "stream",
     "text": [
      "Calculating l2 neighbors\n",
      "Calculating correlation neighbors\n",
      "Saving processed dataset to /projects/zhanglab/users/johnson/gene_downsampled_data_processed/TSfacs_filtered_sampled_7K_downsample_0.5.h5ad\n",
      "\n",
      "Processing dataset: TSdrop_filtered_sampled_7K_downsample_0.3.h5ad\n",
      "Loading dataset from /projects/zhanglab/users/johnson/gene_downsampled_data/TSdrop_filtered_sampled_7K_downsample_0.3.h5ad\n",
      "Normalizing data\n",
      "Applying log transformation\n",
      "Selecting highly variable genes\n"
     ]
    },
    {
     "name": "stderr",
     "output_type": "stream",
     "text": [
      "/home/yenhsian/miniconda3/envs/lab/lib/python3.9/site-packages/scanpy/preprocessing/_highly_variable_genes.py:220: FutureWarning: The default of observed=False is deprecated and will be changed to True in a future version of pandas. Pass observed=False to retain current behavior or observed=True to adopt the future default and silence this warning.\n",
      "  disp_grouped = df.groupby('mean_bin')['dispersions']\n"
     ]
    },
    {
     "name": "stdout",
     "output_type": "stream",
     "text": [
      "Calculating l2 neighbors\n",
      "Calculating correlation neighbors\n",
      "Saving processed dataset to /projects/zhanglab/users/johnson/gene_downsampled_data_processed/TSdrop_filtered_sampled_7K_downsample_0.3.h5ad\n",
      "\n",
      "Processing dataset: TSdrop_filtered_sampled_7K_downsample_0.7.h5ad\n",
      "Loading dataset from /projects/zhanglab/users/johnson/gene_downsampled_data/TSdrop_filtered_sampled_7K_downsample_0.7.h5ad\n",
      "Normalizing data\n",
      "Applying log transformation\n",
      "Selecting highly variable genes\n"
     ]
    },
    {
     "name": "stderr",
     "output_type": "stream",
     "text": [
      "/home/yenhsian/miniconda3/envs/lab/lib/python3.9/site-packages/scanpy/preprocessing/_highly_variable_genes.py:220: FutureWarning: The default of observed=False is deprecated and will be changed to True in a future version of pandas. Pass observed=False to retain current behavior or observed=True to adopt the future default and silence this warning.\n",
      "  disp_grouped = df.groupby('mean_bin')['dispersions']\n"
     ]
    },
    {
     "name": "stdout",
     "output_type": "stream",
     "text": [
      "Calculating l2 neighbors\n",
      "Calculating correlation neighbors\n",
      "Saving processed dataset to /projects/zhanglab/users/johnson/gene_downsampled_data_processed/TSdrop_filtered_sampled_7K_downsample_0.7.h5ad\n",
      "\n",
      "Processing dataset: TSfacs_filtered_sampled_7K_downsample_0.3.h5ad\n",
      "Loading dataset from /projects/zhanglab/users/johnson/gene_downsampled_data/TSfacs_filtered_sampled_7K_downsample_0.3.h5ad\n",
      "Normalizing data\n",
      "Applying log transformation\n",
      "Selecting highly variable genes\n"
     ]
    },
    {
     "name": "stderr",
     "output_type": "stream",
     "text": [
      "/home/yenhsian/miniconda3/envs/lab/lib/python3.9/site-packages/scanpy/preprocessing/_highly_variable_genes.py:220: FutureWarning: The default of observed=False is deprecated and will be changed to True in a future version of pandas. Pass observed=False to retain current behavior or observed=True to adopt the future default and silence this warning.\n",
      "  disp_grouped = df.groupby('mean_bin')['dispersions']\n"
     ]
    },
    {
     "name": "stdout",
     "output_type": "stream",
     "text": [
      "Calculating l2 neighbors\n",
      "Calculating correlation neighbors\n",
      "Saving processed dataset to /projects/zhanglab/users/johnson/gene_downsampled_data_processed/TSfacs_filtered_sampled_7K_downsample_0.3.h5ad\n",
      "\n",
      "Processing dataset: TSfacs_filtered_sampled_7K.h5ad\n",
      "Loading dataset from /projects/zhanglab/users/johnson/gene_downsampled_data/TSfacs_filtered_sampled_7K.h5ad\n",
      "Normalizing data\n",
      "Applying log transformation\n",
      "Selecting highly variable genes\n"
     ]
    },
    {
     "name": "stderr",
     "output_type": "stream",
     "text": [
      "/home/yenhsian/miniconda3/envs/lab/lib/python3.9/site-packages/scanpy/preprocessing/_highly_variable_genes.py:220: FutureWarning: The default of observed=False is deprecated and will be changed to True in a future version of pandas. Pass observed=False to retain current behavior or observed=True to adopt the future default and silence this warning.\n",
      "  disp_grouped = df.groupby('mean_bin')['dispersions']\n"
     ]
    },
    {
     "name": "stdout",
     "output_type": "stream",
     "text": [
      "Calculating l2 neighbors\n",
      "Calculating correlation neighbors\n",
      "Saving processed dataset to /projects/zhanglab/users/johnson/gene_downsampled_data_processed/TSfacs_filtered_sampled_7K.h5ad\n",
      "\n",
      "Processing dataset: TSfacs_filtered_sampled_7K_downsample_0.7.h5ad\n",
      "Loading dataset from /projects/zhanglab/users/johnson/gene_downsampled_data/TSfacs_filtered_sampled_7K_downsample_0.7.h5ad\n",
      "Normalizing data\n",
      "Applying log transformation\n",
      "Selecting highly variable genes\n"
     ]
    },
    {
     "name": "stderr",
     "output_type": "stream",
     "text": [
      "/home/yenhsian/miniconda3/envs/lab/lib/python3.9/site-packages/scanpy/preprocessing/_highly_variable_genes.py:220: FutureWarning: The default of observed=False is deprecated and will be changed to True in a future version of pandas. Pass observed=False to retain current behavior or observed=True to adopt the future default and silence this warning.\n",
      "  disp_grouped = df.groupby('mean_bin')['dispersions']\n"
     ]
    },
    {
     "name": "stdout",
     "output_type": "stream",
     "text": [
      "Calculating l2 neighbors\n",
      "Calculating correlation neighbors\n",
      "Saving processed dataset to /projects/zhanglab/users/johnson/gene_downsampled_data_processed/TSfacs_filtered_sampled_7K_downsample_0.7.h5ad\n",
      "\n",
      "Processing dataset: TMSdrop_filtered_sampled_7K.h5ad\n",
      "Loading dataset from /projects/zhanglab/users/johnson/gene_downsampled_data/TMSdrop_filtered_sampled_7K.h5ad\n",
      "Normalizing data\n",
      "Applying log transformation\n",
      "Selecting highly variable genes\n"
     ]
    },
    {
     "name": "stderr",
     "output_type": "stream",
     "text": [
      "/home/yenhsian/miniconda3/envs/lab/lib/python3.9/site-packages/scanpy/preprocessing/_highly_variable_genes.py:220: FutureWarning: The default of observed=False is deprecated and will be changed to True in a future version of pandas. Pass observed=False to retain current behavior or observed=True to adopt the future default and silence this warning.\n",
      "  disp_grouped = df.groupby('mean_bin')['dispersions']\n"
     ]
    },
    {
     "name": "stdout",
     "output_type": "stream",
     "text": [
      "Calculating l2 neighbors\n",
      "Calculating correlation neighbors\n",
      "Saving processed dataset to /projects/zhanglab/users/johnson/gene_downsampled_data_processed/TMSdrop_filtered_sampled_7K.h5ad\n",
      "\n",
      "Processing dataset: TSdrop_filtered_sampled_7K.h5ad\n",
      "Loading dataset from /projects/zhanglab/users/johnson/gene_downsampled_data/TSdrop_filtered_sampled_7K.h5ad\n",
      "Normalizing data\n",
      "Applying log transformation\n",
      "Selecting highly variable genes\n"
     ]
    },
    {
     "name": "stderr",
     "output_type": "stream",
     "text": [
      "/home/yenhsian/miniconda3/envs/lab/lib/python3.9/site-packages/scanpy/preprocessing/_highly_variable_genes.py:220: FutureWarning: The default of observed=False is deprecated and will be changed to True in a future version of pandas. Pass observed=False to retain current behavior or observed=True to adopt the future default and silence this warning.\n",
      "  disp_grouped = df.groupby('mean_bin')['dispersions']\n"
     ]
    },
    {
     "name": "stdout",
     "output_type": "stream",
     "text": [
      "Calculating l2 neighbors\n",
      "Calculating correlation neighbors\n",
      "Saving processed dataset to /projects/zhanglab/users/johnson/gene_downsampled_data_processed/TSdrop_filtered_sampled_7K.h5ad\n",
      "\n",
      "Processing dataset: TSdrop_filtered_sampled_7K_downsample_0.5.h5ad\n",
      "Loading dataset from /projects/zhanglab/users/johnson/gene_downsampled_data/TSdrop_filtered_sampled_7K_downsample_0.5.h5ad\n",
      "Normalizing data\n",
      "Applying log transformation\n",
      "Selecting highly variable genes\n"
     ]
    },
    {
     "name": "stderr",
     "output_type": "stream",
     "text": [
      "/home/yenhsian/miniconda3/envs/lab/lib/python3.9/site-packages/scanpy/preprocessing/_highly_variable_genes.py:220: FutureWarning: The default of observed=False is deprecated and will be changed to True in a future version of pandas. Pass observed=False to retain current behavior or observed=True to adopt the future default and silence this warning.\n",
      "  disp_grouped = df.groupby('mean_bin')['dispersions']\n"
     ]
    },
    {
     "name": "stdout",
     "output_type": "stream",
     "text": [
      "Calculating l2 neighbors\n",
      "Calculating correlation neighbors\n",
      "Saving processed dataset to /projects/zhanglab/users/johnson/gene_downsampled_data_processed/TSdrop_filtered_sampled_7K_downsample_0.5.h5ad\n",
      "\n",
      "Processing dataset: TMSfacs_filtered_sampled_7K.h5ad\n",
      "Loading dataset from /projects/zhanglab/users/johnson/gene_downsampled_data/TMSfacs_filtered_sampled_7K.h5ad\n",
      "Normalizing data\n",
      "Applying log transformation\n",
      "Selecting highly variable genes\n"
     ]
    },
    {
     "name": "stderr",
     "output_type": "stream",
     "text": [
      "/home/yenhsian/miniconda3/envs/lab/lib/python3.9/site-packages/scanpy/preprocessing/_highly_variable_genes.py:220: FutureWarning: The default of observed=False is deprecated and will be changed to True in a future version of pandas. Pass observed=False to retain current behavior or observed=True to adopt the future default and silence this warning.\n",
      "  disp_grouped = df.groupby('mean_bin')['dispersions']\n"
     ]
    },
    {
     "name": "stdout",
     "output_type": "stream",
     "text": [
      "Calculating l2 neighbors\n",
      "Calculating correlation neighbors\n",
      "Saving processed dataset to /projects/zhanglab/users/johnson/gene_downsampled_data_processed/TMSfacs_filtered_sampled_7K.h5ad\n",
      "\n",
      "Processing dataset: TMSfacs_filtered_sampled_7K_downsample_0.5.h5ad\n",
      "Loading dataset from /projects/zhanglab/users/johnson/gene_downsampled_data/TMSfacs_filtered_sampled_7K_downsample_0.5.h5ad\n",
      "Normalizing data\n",
      "Applying log transformation\n",
      "Selecting highly variable genes\n"
     ]
    },
    {
     "name": "stderr",
     "output_type": "stream",
     "text": [
      "/home/yenhsian/miniconda3/envs/lab/lib/python3.9/site-packages/scanpy/preprocessing/_highly_variable_genes.py:220: FutureWarning: The default of observed=False is deprecated and will be changed to True in a future version of pandas. Pass observed=False to retain current behavior or observed=True to adopt the future default and silence this warning.\n",
      "  disp_grouped = df.groupby('mean_bin')['dispersions']\n"
     ]
    },
    {
     "name": "stdout",
     "output_type": "stream",
     "text": [
      "Calculating l2 neighbors\n",
      "Calculating correlation neighbors\n",
      "Saving processed dataset to /projects/zhanglab/users/johnson/gene_downsampled_data_processed/TMSfacs_filtered_sampled_7K_downsample_0.5.h5ad\n",
      "\n",
      "Processing dataset: TMSdrop_filtered_sampled_7K_downsample_0.7.h5ad\n",
      "Loading dataset from /projects/zhanglab/users/johnson/gene_downsampled_data/TMSdrop_filtered_sampled_7K_downsample_0.7.h5ad\n",
      "Normalizing data\n",
      "Applying log transformation\n",
      "Selecting highly variable genes\n"
     ]
    },
    {
     "name": "stderr",
     "output_type": "stream",
     "text": [
      "/home/yenhsian/miniconda3/envs/lab/lib/python3.9/site-packages/scanpy/preprocessing/_highly_variable_genes.py:220: FutureWarning: The default of observed=False is deprecated and will be changed to True in a future version of pandas. Pass observed=False to retain current behavior or observed=True to adopt the future default and silence this warning.\n",
      "  disp_grouped = df.groupby('mean_bin')['dispersions']\n"
     ]
    },
    {
     "name": "stdout",
     "output_type": "stream",
     "text": [
      "Calculating l2 neighbors\n",
      "Calculating correlation neighbors\n",
      "Saving processed dataset to /projects/zhanglab/users/johnson/gene_downsampled_data_processed/TMSdrop_filtered_sampled_7K_downsample_0.7.h5ad\n",
      "\n",
      "Processing dataset: Cano_filtered_sampled_7K_downsample_0.3.h5ad\n",
      "Loading dataset from /projects/zhanglab/users/johnson/gene_downsampled_data/Cano_filtered_sampled_7K_downsample_0.3.h5ad\n",
      "Normalizing data\n",
      "Applying log transformation\n",
      "Selecting highly variable genes\n"
     ]
    },
    {
     "name": "stderr",
     "output_type": "stream",
     "text": [
      "/home/yenhsian/miniconda3/envs/lab/lib/python3.9/site-packages/scanpy/preprocessing/_highly_variable_genes.py:220: FutureWarning: The default of observed=False is deprecated and will be changed to True in a future version of pandas. Pass observed=False to retain current behavior or observed=True to adopt the future default and silence this warning.\n",
      "  disp_grouped = df.groupby('mean_bin')['dispersions']\n"
     ]
    },
    {
     "name": "stdout",
     "output_type": "stream",
     "text": [
      "Calculating l2 neighbors\n",
      "Calculating correlation neighbors\n",
      "Saving processed dataset to /projects/zhanglab/users/johnson/gene_downsampled_data_processed/Cano_filtered_sampled_7K_downsample_0.3.h5ad\n",
      "\n",
      "Processing dataset: Cano_filtered_sampled_7K.h5ad\n",
      "Loading dataset from /projects/zhanglab/users/johnson/gene_downsampled_data/Cano_filtered_sampled_7K.h5ad\n",
      "Normalizing data\n",
      "Applying log transformation\n",
      "Selecting highly variable genes\n"
     ]
    },
    {
     "name": "stderr",
     "output_type": "stream",
     "text": [
      "/home/yenhsian/miniconda3/envs/lab/lib/python3.9/site-packages/scanpy/preprocessing/_highly_variable_genes.py:220: FutureWarning: The default of observed=False is deprecated and will be changed to True in a future version of pandas. Pass observed=False to retain current behavior or observed=True to adopt the future default and silence this warning.\n",
      "  disp_grouped = df.groupby('mean_bin')['dispersions']\n"
     ]
    },
    {
     "name": "stdout",
     "output_type": "stream",
     "text": [
      "Calculating l2 neighbors\n",
      "Calculating correlation neighbors\n",
      "Saving processed dataset to /projects/zhanglab/users/johnson/gene_downsampled_data_processed/Cano_filtered_sampled_7K.h5ad\n",
      "\n",
      "Processing dataset: Cano_filtered_sampled_7K_downsample_0.7.h5ad\n",
      "Loading dataset from /projects/zhanglab/users/johnson/gene_downsampled_data/Cano_filtered_sampled_7K_downsample_0.7.h5ad\n",
      "Normalizing data\n",
      "Applying log transformation\n",
      "Selecting highly variable genes\n"
     ]
    },
    {
     "name": "stderr",
     "output_type": "stream",
     "text": [
      "/home/yenhsian/miniconda3/envs/lab/lib/python3.9/site-packages/scanpy/preprocessing/_highly_variable_genes.py:220: FutureWarning: The default of observed=False is deprecated and will be changed to True in a future version of pandas. Pass observed=False to retain current behavior or observed=True to adopt the future default and silence this warning.\n",
      "  disp_grouped = df.groupby('mean_bin')['dispersions']\n"
     ]
    },
    {
     "name": "stdout",
     "output_type": "stream",
     "text": [
      "Calculating l2 neighbors\n",
      "Calculating correlation neighbors\n",
      "Saving processed dataset to /projects/zhanglab/users/johnson/gene_downsampled_data_processed/Cano_filtered_sampled_7K_downsample_0.7.h5ad\n",
      "\n",
      "Processing dataset: TMSdrop_filtered_sampled_7K_downsample_0.3.h5ad\n",
      "Loading dataset from /projects/zhanglab/users/johnson/gene_downsampled_data/TMSdrop_filtered_sampled_7K_downsample_0.3.h5ad\n",
      "Normalizing data\n",
      "Applying log transformation\n",
      "Selecting highly variable genes\n"
     ]
    },
    {
     "name": "stderr",
     "output_type": "stream",
     "text": [
      "/home/yenhsian/miniconda3/envs/lab/lib/python3.9/site-packages/scanpy/preprocessing/_highly_variable_genes.py:220: FutureWarning: The default of observed=False is deprecated and will be changed to True in a future version of pandas. Pass observed=False to retain current behavior or observed=True to adopt the future default and silence this warning.\n",
      "  disp_grouped = df.groupby('mean_bin')['dispersions']\n"
     ]
    },
    {
     "name": "stdout",
     "output_type": "stream",
     "text": [
      "Calculating l2 neighbors\n",
      "Calculating correlation neighbors\n",
      "Saving processed dataset to /projects/zhanglab/users/johnson/gene_downsampled_data_processed/TMSdrop_filtered_sampled_7K_downsample_0.3.h5ad\n",
      "\n",
      "Processing complete.\n"
     ]
    }
   ],
   "source": [
    "import scanpy as sc\n",
    "import os\n",
    "\n",
    "# Define the dataset directory and output directory\n",
    "dataset_dir = '/projects/zhanglab/users/johnson/gene_downsampled_data'\n",
    "output_dir = '/projects/zhanglab/users/johnson/gene_downsampled_data_processed'\n",
    "\n",
    "# Create the output directory if it doesn't exist\n",
    "os.makedirs(output_dir, exist_ok=True)\n",
    "\n",
    "# List all files in the dataset directory\n",
    "files = [f for f in os.listdir(dataset_dir) if f.endswith('.h5ad')]\n",
    "\n",
    "print(f\"Found {len(files)} datasets to process.\")\n",
    "\n",
    "# Process each dataset\n",
    "for file in files:\n",
    "    dataset_path = os.path.join(dataset_dir, file)\n",
    "    output_path = os.path.join(output_dir, file)\n",
    "\n",
    "    print(f\"\\nProcessing dataset: {file}\")\n",
    "    \n",
    "    # Read the dataset\n",
    "    print(f\"Loading dataset from {dataset_path}\")\n",
    "    adata_raw = sc.read_h5ad(dataset_path)\n",
    "\n",
    "    # Normalization\n",
    "    print(\"Normalizing data\")\n",
    "    sc.pp.normalize_total(adata_raw, target_sum=1e4)\n",
    "\n",
    "    # Log transform\n",
    "    print(\"Applying log transformation\")\n",
    "    sc.pp.log1p(adata_raw)\n",
    "\n",
    "    # High-variable gene selection\n",
    "    print(\"Selecting highly variable genes\")\n",
    "    sc.pp.highly_variable_genes(adata_raw, flavor='seurat', n_top_genes=2000)\n",
    "\n",
    "    # Subset the data to highly variable genes\n",
    "    adata_raw = adata_raw[:, adata_raw.var['highly_variable']]\n",
    "\n",
    "    # Calculate neighbors using L2 and Correlation metrics\n",
    "    for metric in ['l2', 'correlation']:\n",
    "        print(f\"Calculating {metric} neighbors\")\n",
    "        sc.pp.neighbors(adata_raw, n_neighbors=10, metric=metric, use_rep='X', key_added=f'neighbors_{metric}')\n",
    "\n",
    "    # Save the processed dataset\n",
    "    print(f\"Saving processed dataset to {output_path}\")\n",
    "    adata_raw.write_h5ad(output_path)\n",
    "\n",
    "print(\"\\nProcessing complete.\")"
   ]
  },
  {
   "cell_type": "code",
   "execution_count": 2,
   "id": "6e83d623-c2ac-45eb-9650-a67dafca2e0d",
   "metadata": {},
   "outputs": [],
   "source": [
    "from scipy.stats import spearmanr, pearsonr\n",
    "from scipy.sparse import csr_matrix\n",
    "import gc\n",
    "\n",
    "\n",
    "def cal_ranked_order(distances_raw, distances_noise):\n",
    "    # Calculate Spearman's rank correlation for neighbors\n",
    "    rank_correlation = []\n",
    "    for i in range(distances_raw.shape[0]):\n",
    "        raw_row = distances_raw[0].indices[np.argsort(distances_raw[0].data)]\n",
    "        noise_row = distances_noise[0].indices[np.argsort(distances_noise[0].data)]\n",
    "        corr, _ = spearmanr(raw_row, noise_row)\n",
    "        rank_correlation.append(corr)\n",
    "    return np.nanmean(rank_correlation)\n",
    "\n",
    "def cal_jaccard_index(distances_raw, distances_noise):\n",
    "    # Calculate Jaccard index for neighbors\n",
    "    jaccard_indices = []\n",
    "    for i in range(distances_raw.shape[0]):\n",
    "        raw_neighbors = set(np.where(distances_raw[i].toarray().flatten() > 0)[0])\n",
    "        noise_neighbors = set(np.where(distances_noise[i].toarray().flatten() > 0)[0])\n",
    "        intersection = raw_neighbors.intersection(noise_neighbors)\n",
    "        union = raw_neighbors.union(noise_neighbors)\n",
    "        if len(union) > 0:\n",
    "            jaccard_indices.append(len(intersection) / len(union))\n",
    "        else:\n",
    "            jaccard_indices.append(0)\n",
    "    return np.nanmean(jaccard_indices)\n",
    "\n",
    "\n",
    "def cal_conn_corr(connectivities_raw, connectivities_noise):\n",
    "    # Convert the sparse matrix to dense format and flatten\n",
    "    flattened_raw = connectivities_raw.toarray().flatten()\n",
    "    flattened_noise = connectivities_noise.toarray().flatten()\n",
    "    \n",
    "    # Calculate Pearson correlation between the flattened matrices\n",
    "    corr, _ = pearsonr(flattened_raw, flattened_noise)\n",
    "    return corr"
   ]
  },
  {
   "cell_type": "code",
   "execution_count": 5,
   "id": "925dcc9e-a92a-466c-882c-8f6c1b907373",
   "metadata": {},
   "outputs": [
    {
     "data": {
      "text/plain": [
       "AnnData object with n_obs × n_vars = 7000 × 20601\n",
       "    obs: 'cell.type', 'cytokine.condition', 'donor.id', 'batch.10X', 'nGene', 'nUMI', 'percent.mito', 'S.Score', 'G2M.Score', 'Phase', 'cluster.id', 'effectorness', 'n_genes'\n",
       "    var: 'gene_ids', 'feature_types', 'n_cells'\n",
       "    uns: 'neighbors_euclidean'\n",
       "    obsp: 'dm_correlation', 'dm_cosine', 'dm_l1', 'dm_l2', 'neighbors_euclidean_distances', 'neighbors_euclidean_connectivities'"
      ]
     },
     "execution_count": 5,
     "metadata": {},
     "output_type": "execute_result"
    }
   ],
   "source": [
    "import scanpy as sc\n",
    "metric = 'euclidean'\n",
    "sc.pp.neighbors(adata, n_neighbors=10, metric=metric, use_rep='X', key_added='neighbors_' + metric)\n",
    "adata"
   ]
  },
  {
   "cell_type": "code",
   "execution_count": 7,
   "id": "05b9c697-ab53-469f-a6e6-c4d9b22a31de",
   "metadata": {},
   "outputs": [
    {
     "data": {
      "text/plain": [
       "array([[0., 0., 0., ..., 0., 0., 0.],\n",
       "       [0., 0., 0., ..., 0., 0., 0.],\n",
       "       [0., 0., 0., ..., 0., 0., 0.],\n",
       "       ...,\n",
       "       [0., 0., 0., ..., 0., 0., 0.],\n",
       "       [0., 0., 0., ..., 0., 0., 0.],\n",
       "       [0., 0., 0., ..., 0., 0., 0.]], dtype=float32)"
      ]
     },
     "execution_count": 7,
     "metadata": {},
     "output_type": "execute_result"
    }
   ],
   "source": [
    "adata.obsp['neighbors_euclidean_connectivities'].toarray()"
   ]
  },
  {
   "cell_type": "code",
   "execution_count": 21,
   "id": "908ed6ad-ba7e-42eb-8b24-31e62457864a",
   "metadata": {},
   "outputs": [
    {
     "name": "stdout",
     "output_type": "stream",
     "text": [
      "Processing dataset: TSfacs\n",
      "Processing downsample ratio: 0.5\n",
      "{'dataset': 'TSfacs', 'metric': 'l2', 'downsample_ratio': 0.5, 'ranked_order': 0.42759786519388776, 'jaccard_index': 0.5877380610985653, 'connectivity_correlation': 0.7774898352377524}\n",
      "{'dataset': 'TSfacs', 'metric': 'correlation', 'downsample_ratio': 0.5, 'ranked_order': 0.5791917297773083, 'jaccard_index': 0.6666119044820726, 'connectivity_correlation': 0.792631371831932}\n",
      "Processing downsample ratio: 0.3\n",
      "{'dataset': 'TSfacs', 'metric': 'l2', 'downsample_ratio': 0.3, 'ranked_order': 0.30215030535475784, 'jaccard_index': 0.5205999660003862, 'connectivity_correlation': 0.7192301580890281}\n",
      "{'dataset': 'TSfacs', 'metric': 'correlation', 'downsample_ratio': 0.3, 'ranked_order': 0.40409059821742555, 'jaccard_index': 0.5667852275875386, 'connectivity_correlation': 0.7299273316223962}\n",
      "Processing downsample ratio: 0.7\n",
      "{'dataset': 'TSfacs', 'metric': 'l2', 'downsample_ratio': 0.7, 'ranked_order': 0.3978707019724756, 'jaccard_index': 0.5795368352235999, 'connectivity_correlation': 0.7648388146580374}\n",
      "{'dataset': 'TSfacs', 'metric': 'correlation', 'downsample_ratio': 0.7, 'ranked_order': 0.577422433887742, 'jaccard_index': 0.6670465935325178, 'connectivity_correlation': 0.7878163229571331}\n",
      "Processing dataset: TMSdrop\n",
      "Processing downsample ratio: 0.7\n",
      "{'dataset': 'TMSdrop', 'metric': 'l2', 'downsample_ratio': 0.7, 'ranked_order': 0.30804208032882147, 'jaccard_index': 0.5248353530922859, 'connectivity_correlation': 0.7282029072000127}\n",
      "{'dataset': 'TMSdrop', 'metric': 'correlation', 'downsample_ratio': 0.7, 'ranked_order': 0.30104953009607793, 'jaccard_index': 0.5225585242488604, 'connectivity_correlation': 0.6914058196947999}\n",
      "Processing downsample ratio: 0.3\n",
      "{'dataset': 'TMSdrop', 'metric': 'l2', 'downsample_ratio': 0.3, 'ranked_order': -0.2528688759169976, 'jaccard_index': 0.2645495813010519, 'connectivity_correlation': 0.41644331399673196}\n",
      "{'dataset': 'TMSdrop', 'metric': 'correlation', 'downsample_ratio': 0.3, 'ranked_order': -0.22819510830292158, 'jaccard_index': 0.2774086126058815, 'connectivity_correlation': 0.4308597374781371}\n",
      "Processing downsample ratio: 0.5\n",
      "{'dataset': 'TMSdrop', 'metric': 'l2', 'downsample_ratio': 0.5, 'ranked_order': 0.026981075656591032, 'jaccard_index': 0.39180306479235044, 'connectivity_correlation': 0.5801822183190295}\n",
      "{'dataset': 'TMSdrop', 'metric': 'correlation', 'downsample_ratio': 0.5, 'ranked_order': 0.03833830432332538, 'jaccard_index': 0.39729999055566284, 'connectivity_correlation': 0.5678758522863294}\n",
      "Processing dataset: Cano\n",
      "Processing downsample ratio: 0.5\n",
      "{'dataset': 'Cano', 'metric': 'l2', 'downsample_ratio': 0.5, 'ranked_order': -0.059210043852325825, 'jaccard_index': 0.3350012842199817, 'connectivity_correlation': 0.5460193800816094}\n",
      "{'dataset': 'Cano', 'metric': 'correlation', 'downsample_ratio': 0.5, 'ranked_order': -0.054579530065539464, 'jaccard_index': 0.3338532358397905, 'connectivity_correlation': 0.520579003043144}\n",
      "Processing downsample ratio: 0.3\n",
      "{'dataset': 'Cano', 'metric': 'l2', 'downsample_ratio': 0.3, 'ranked_order': -0.38132342184622575, 'jaccard_index': 0.19568216279518802, 'connectivity_correlation': 0.34198377106713673}\n",
      "{'dataset': 'Cano', 'metric': 'correlation', 'downsample_ratio': 0.3, 'ranked_order': -0.37101443089081904, 'jaccard_index': 0.1986870474063751, 'connectivity_correlation': 0.34380001726235987}\n",
      "Processing downsample ratio: 0.7\n",
      "{'dataset': 'Cano', 'metric': 'l2', 'downsample_ratio': 0.7, 'ranked_order': 0.26080774363620335, 'jaccard_index': 0.48151316246778436, 'connectivity_correlation': 0.7209084521502096}\n",
      "{'dataset': 'Cano', 'metric': 'correlation', 'downsample_ratio': 0.7, 'ranked_order': 0.25764199235358143, 'jaccard_index': 0.47719380136670053, 'connectivity_correlation': 0.6649330089904456}\n",
      "Processing dataset: TMSfacs\n",
      "Processing downsample ratio: 0.5\n",
      "{'dataset': 'TMSfacs', 'metric': 'l2', 'downsample_ratio': 0.5, 'ranked_order': 0.8107255570431716, 'jaccard_index': 0.8022972777222778, 'connectivity_correlation': 0.9491047079048301}\n",
      "{'dataset': 'TMSfacs', 'metric': 'correlation', 'downsample_ratio': 0.5, 'ranked_order': 0.8071332585694417, 'jaccard_index': 0.8038234918442902, 'connectivity_correlation': 0.8680787690599792}\n",
      "Processing downsample ratio: 0.7\n",
      "{'dataset': 'TMSfacs', 'metric': 'l2', 'downsample_ratio': 0.7, 'ranked_order': 0.8600039958783168, 'jaccard_index': 0.8413673469387756, 'connectivity_correlation': 0.9639831711365108}\n",
      "{'dataset': 'TMSfacs', 'metric': 'correlation', 'downsample_ratio': 0.7, 'ranked_order': 0.8539768622866583, 'jaccard_index': 0.8393143734416845, 'connectivity_correlation': 0.8807291738065292}\n",
      "Processing downsample ratio: 0.3\n",
      "{'dataset': 'TMSfacs', 'metric': 'l2', 'downsample_ratio': 0.3, 'ranked_order': 0.7161109113478987, 'jaccard_index': 0.7367802443354966, 'connectivity_correlation': 0.9182258074812162}\n",
      "{'dataset': 'TMSfacs', 'metric': 'correlation', 'downsample_ratio': 0.3, 'ranked_order': 0.718388905010438, 'jaccard_index': 0.7428095033118143, 'connectivity_correlation': 0.8421620004292412}\n",
      "Processing dataset: TSdrop\n",
      "Processing downsample ratio: 0.3\n",
      "{'dataset': 'TSdrop', 'metric': 'l2', 'downsample_ratio': 0.3, 'ranked_order': -0.25423078409343397, 'jaccard_index': 0.2631337410488671, 'connectivity_correlation': 0.4181611726141281}\n",
      "{'dataset': 'TSdrop', 'metric': 'correlation', 'downsample_ratio': 0.3, 'ranked_order': -0.19395959908673369, 'jaccard_index': 0.294516619724813, 'connectivity_correlation': 0.45509960223591617}\n",
      "Processing downsample ratio: 0.7\n",
      "{'dataset': 'TSdrop', 'metric': 'l2', 'downsample_ratio': 0.7, 'ranked_order': 0.33202326367109386, 'jaccard_index': 0.5303738683585323, 'connectivity_correlation': 0.7516261472818718}\n",
      "{'dataset': 'TSdrop', 'metric': 'correlation', 'downsample_ratio': 0.7, 'ranked_order': 0.34527136087095694, 'jaccard_index': 0.543507926107506, 'connectivity_correlation': 0.7178881877547605}\n",
      "Processing downsample ratio: 0.5\n",
      "{'dataset': 'TSdrop', 'metric': 'l2', 'downsample_ratio': 0.5, 'ranked_order': 0.055672525125257104, 'jaccard_index': 0.4018770441743131, 'connectivity_correlation': 0.6054624515522822}\n",
      "{'dataset': 'TSdrop', 'metric': 'correlation', 'downsample_ratio': 0.5, 'ranked_order': 0.08958166351126962, 'jaccard_index': 0.4208151768399668, 'connectivity_correlation': 0.602432747410924}\n",
      "    dataset       metric  downsample_ratio  ranked_order  jaccard_index  \\\n",
      "0    TSfacs           l2               0.5      0.427598       0.587738   \n",
      "1    TSfacs  correlation               0.5      0.579192       0.666612   \n",
      "2    TSfacs           l2               0.3      0.302150       0.520600   \n",
      "3    TSfacs  correlation               0.3      0.404091       0.566785   \n",
      "4    TSfacs           l2               0.7      0.397871       0.579537   \n",
      "5    TSfacs  correlation               0.7      0.577422       0.667047   \n",
      "6   TMSdrop           l2               0.7      0.308042       0.524835   \n",
      "7   TMSdrop  correlation               0.7      0.301050       0.522559   \n",
      "8   TMSdrop           l2               0.3     -0.252869       0.264550   \n",
      "9   TMSdrop  correlation               0.3     -0.228195       0.277409   \n",
      "10  TMSdrop           l2               0.5      0.026981       0.391803   \n",
      "11  TMSdrop  correlation               0.5      0.038338       0.397300   \n",
      "12     Cano           l2               0.5     -0.059210       0.335001   \n",
      "13     Cano  correlation               0.5     -0.054580       0.333853   \n",
      "14     Cano           l2               0.3     -0.381323       0.195682   \n",
      "15     Cano  correlation               0.3     -0.371014       0.198687   \n",
      "16     Cano           l2               0.7      0.260808       0.481513   \n",
      "17     Cano  correlation               0.7      0.257642       0.477194   \n",
      "18  TMSfacs           l2               0.5      0.810726       0.802297   \n",
      "19  TMSfacs  correlation               0.5      0.807133       0.803823   \n",
      "20  TMSfacs           l2               0.7      0.860004       0.841367   \n",
      "21  TMSfacs  correlation               0.7      0.853977       0.839314   \n",
      "22  TMSfacs           l2               0.3      0.716111       0.736780   \n",
      "23  TMSfacs  correlation               0.3      0.718389       0.742810   \n",
      "24   TSdrop           l2               0.3     -0.254231       0.263134   \n",
      "25   TSdrop  correlation               0.3     -0.193960       0.294517   \n",
      "26   TSdrop           l2               0.7      0.332023       0.530374   \n",
      "27   TSdrop  correlation               0.7      0.345271       0.543508   \n",
      "28   TSdrop           l2               0.5      0.055673       0.401877   \n",
      "29   TSdrop  correlation               0.5      0.089582       0.420815   \n",
      "\n",
      "    connectivity_correlation  \n",
      "0                   0.777490  \n",
      "1                   0.792631  \n",
      "2                   0.719230  \n",
      "3                   0.729927  \n",
      "4                   0.764839  \n",
      "5                   0.787816  \n",
      "6                   0.728203  \n",
      "7                   0.691406  \n",
      "8                   0.416443  \n",
      "9                   0.430860  \n",
      "10                  0.580182  \n",
      "11                  0.567876  \n",
      "12                  0.546019  \n",
      "13                  0.520579  \n",
      "14                  0.341984  \n",
      "15                  0.343800  \n",
      "16                  0.720908  \n",
      "17                  0.664933  \n",
      "18                  0.949105  \n",
      "19                  0.868079  \n",
      "20                  0.963983  \n",
      "21                  0.880729  \n",
      "22                  0.918226  \n",
      "23                  0.842162  \n",
      "24                  0.418161  \n",
      "25                  0.455100  \n",
      "26                  0.751626  \n",
      "27                  0.717888  \n",
      "28                  0.605462  \n",
      "29                  0.602433  \n"
     ]
    }
   ],
   "source": [
    "import os\n",
    "import gc\n",
    "import numpy as np\n",
    "import pandas as pd\n",
    "import anndata\n",
    "import scanpy as sc\n",
    "from scipy.stats import spearmanr, pearsonr\n",
    "\n",
    "def cal_ranked_order(distances_raw, distances_noise):\n",
    "    # Calculate Spearman's rank correlation for neighbors\n",
    "    rank_correlation = []\n",
    "    for i in range(distances_raw.shape[0]):\n",
    "        raw_indices = distances_raw[i].indices\n",
    "        noise_indices = distances_noise[i].indices\n",
    "        all_indices = np.union1d(raw_indices, noise_indices)\n",
    "        raw_row = distances_raw[i, all_indices].toarray().flatten()\n",
    "        noise_row = distances_noise[i, all_indices].toarray().flatten()\n",
    "        raw_row[raw_row == 0] = int(1e9)\n",
    "        noise_row[noise_row == 0] = int(1e9)\n",
    "        corr, _ = spearmanr(raw_row, noise_row)\n",
    "        rank_correlation.append(corr)\n",
    "    return np.nanmean(rank_correlation)\n",
    "\n",
    "def cal_jaccard_index(distances_raw, distances_noise):\n",
    "    jaccard_indices = []\n",
    "    for i in range(distances_raw.shape[0]):\n",
    "        # Extract neighbor indices directly from the sparse row\n",
    "        raw_neighbors = set(distances_raw[i].indices)\n",
    "        noise_neighbors = set(distances_noise[i].indices)\n",
    "        \n",
    "        # Skip if both neighborhoods are empty\n",
    "        if not raw_neighbors and not noise_neighbors:\n",
    "            continue\n",
    "        \n",
    "        # Calculate intersection and union sizes\n",
    "        intersection_size = len(raw_neighbors & noise_neighbors)\n",
    "        union_size = len(raw_neighbors | noise_neighbors)\n",
    "        \n",
    "        # Compute Jaccard index\n",
    "        jaccard_indices.append(intersection_size / union_size)\n",
    "    \n",
    "    # Return mean Jaccard index\n",
    "    return np.mean(jaccard_indices)\n",
    "\n",
    "def cal_conn_corr(connectivities_raw, connectivities_noise):\n",
    "    # Convert the sparse matrix to dense format and flatten\n",
    "    flattened_raw = connectivities_raw.toarray().flatten()\n",
    "    flattened_noise = connectivities_noise.toarray().flatten()\n",
    "    \n",
    "    # Calculate Pearson correlation between the flattened matrices\n",
    "    corr, _ = pearsonr(flattened_raw, flattened_noise)\n",
    "    return corr\n",
    "\n",
    "# DataFrame to collect results\n",
    "df = pd.DataFrame(columns=['dataset', 'metric', 'downsample_ratio', 'ranked_order', 'jaccard_index', 'connectivity_correlation'])\n",
    "\n",
    "# Directory paths\n",
    "data_dir = '/projects/zhanglab/users/johnson/gene_downsampled_data_processed'\n",
    "datasets = set([filename.split('_')[0] for filename in os.listdir(data_dir)])\n",
    "\n",
    "# Process each dataset\n",
    "for dataset in datasets:\n",
    "    try:\n",
    "        # Load raw data\n",
    "        raw_data_path = os.path.join(data_dir, f'{dataset}_filtered_sampled_7K.h5ad')\n",
    "        adata_raw = anndata.read_h5ad(raw_data_path)\n",
    "\n",
    "        # for metric in ['l2', 'correlation']:\n",
    "            # sc.pp.neighbors(adata_raw, n_neighbors=10, metric=metric, use_rep='X', key_added=f'neighbors_{metric}')\n",
    "\n",
    "        print(f'Processing dataset: {dataset}')\n",
    "\n",
    "        # Process noisy data\n",
    "        for filename in os.listdir(data_dir):\n",
    "            if dataset in filename and 'downsample' in filename:\n",
    "                try:\n",
    "                    # Extract downsample ratio from the filename\n",
    "                    ratio = float(filename.split('_downsample_')[-1].replace('.h5ad', ''))\n",
    "\n",
    "                    # Load noisy data\n",
    "                    noise_data_path = os.path.join(data_dir, filename)\n",
    "                    adata_noise = anndata.read_h5ad(noise_data_path)\n",
    "\n",
    "                    print(f'Processing downsample ratio: {ratio}')\n",
    "\n",
    "                    for metric in ['l2', 'correlation']:\n",
    "                        try:\n",
    "                            # KNN for noisy data\n",
    "                            # sc.pp.neighbors(adata_noise, n_neighbors=10, metric=metric, use_rep='X', key_added=f'neighbors_{metric}')\n",
    "\n",
    "                            # Calculate metrics\n",
    "                            ranked_order_score = cal_ranked_order(\n",
    "                                adata_raw.obsp[f'neighbors_{metric}_distances'],\n",
    "                                adata_noise.obsp[f'neighbors_{metric}_distances']\n",
    "                            )\n",
    "\n",
    "                            jaccard_index_score = cal_jaccard_index(\n",
    "                                adata_raw.obsp[f'neighbors_{metric}_distances'],\n",
    "                                adata_noise.obsp[f'neighbors_{metric}_distances']\n",
    "                            )\n",
    "\n",
    "                            conn_corr_score = cal_conn_corr(\n",
    "                                adata_raw.obsp[f'neighbors_{metric}_connectivities'],\n",
    "                                adata_noise.obsp[f'neighbors_{metric}_connectivities']\n",
    "                            )\n",
    "\n",
    "                            # Store results\n",
    "                            entry = {\n",
    "                                'dataset': dataset,\n",
    "                                'metric': metric,\n",
    "                                'downsample_ratio': ratio,\n",
    "                                'ranked_order': ranked_order_score,\n",
    "                                'jaccard_index': jaccard_index_score,\n",
    "                                'connectivity_correlation': conn_corr_score\n",
    "                            }\n",
    "                            df.loc[len(df.index)] = entry\n",
    "                            print(entry)\n",
    "\n",
    "                        except Exception as e:\n",
    "                            print(f\"Error processing metric {metric} for dataset {dataset} with downsample ratio {ratio}: {e}\")\n",
    "                            continue  # Skip to the next metric\n",
    "\n",
    "                except Exception as e:\n",
    "                    print(f\"Error processing noisy file {filename} for dataset {dataset}: {e}\")\n",
    "                    continue  # Skip to the next file\n",
    "\n",
    "        # Clean up\n",
    "        del adata_raw\n",
    "        gc.collect()\n",
    "\n",
    "    except Exception as e:\n",
    "        print(f\"Error processing dataset {dataset}: {e}\")\n",
    "        continue  # Skip to the next dataset\n",
    "\n",
    "\n",
    "df.to_csv('noise_KNN_4.csv', index=False)\n",
    "\n",
    "# Output the final DataFrame\n",
    "print(df)"
   ]
  },
  {
   "cell_type": "code",
   "execution_count": 53,
   "id": "079ac1d8-45d3-4a01-9239-8b3f933b7e45",
   "metadata": {},
   "outputs": [
    {
     "data": {
      "text/plain": [
       "0.19568216279518802"
      ]
     },
     "execution_count": 53,
     "metadata": {},
     "output_type": "execute_result"
    }
   ],
   "source": [
    "def cal_jaccard_index(distances_raw, distances_noise):\n",
    "    # Calculate Jaccard index for neighbors\n",
    "    jaccard_indices = []\n",
    "    for i in range(distances_raw.shape[0]):\n",
    "        raw_neighbors = set(np.where(distances_raw[i].toarray().flatten() > 0)[0])\n",
    "        noise_neighbors = set(np.where(distances_noise[i].toarray().flatten() > 0)[0])\n",
    "        intersection = raw_neighbors.intersection(noise_neighbors)\n",
    "        union = raw_neighbors.union(noise_neighbors)\n",
    "        if len(union) > 0:\n",
    "            jaccard_indices.append(len(intersection) / len(union))\n",
    "        else:\n",
    "            jaccard_indices.append(0)\n",
    "    return np.nanmean(jaccard_indices)\n",
    "\n",
    "metric = 'l2'\n",
    "adata_raw = anndata.read_h5ad('/projects/zhanglab/users/johnson/gene_downsampled_data_processed/Cano_filtered_sampled_7K.h5ad')\n",
    "adata_noise = anndata.read_h5ad('/projects/zhanglab/users/johnson/gene_downsampled_data_processed/Cano_filtered_sampled_7K_downsample_0.3.h5ad')\n",
    "distances_raw = adata_raw.obsp[f'neighbors_{metric}_distances']\n",
    "distances_noise = adata_noise.obsp[f'neighbors_{metric}_distances']\n",
    "cal_jaccard_index(distances_raw, distances_noise)"
   ]
  },
  {
   "cell_type": "code",
   "execution_count": 1,
   "id": "8b570b5c-0b12-4914-b095-e85775c74df2",
   "metadata": {},
   "outputs": [
    {
     "ename": "NameError",
     "evalue": "name 'anndata' is not defined",
     "output_type": "error",
     "traceback": [
      "\u001b[0;31m---------------------------------------------------------------------------\u001b[0m",
      "\u001b[0;31mNameError\u001b[0m                                 Traceback (most recent call last)",
      "Cell \u001b[0;32mIn[1], line 15\u001b[0m\n\u001b[1;32m     12\u001b[0m     \u001b[38;5;28;01mreturn\u001b[39;00m np\u001b[38;5;241m.\u001b[39mnanmean(rank_correlation)\n\u001b[1;32m     14\u001b[0m metric \u001b[38;5;241m=\u001b[39m \u001b[38;5;124m'\u001b[39m\u001b[38;5;124ml2\u001b[39m\u001b[38;5;124m'\u001b[39m\n\u001b[0;32m---> 15\u001b[0m adata_raw \u001b[38;5;241m=\u001b[39m \u001b[43manndata\u001b[49m\u001b[38;5;241m.\u001b[39mread_h5ad(\u001b[38;5;124m'\u001b[39m\u001b[38;5;124m/projects/zhanglab/users/johnson/gene_downsampled_data_processed/Cano_filtered_sampled_7K.h5ad\u001b[39m\u001b[38;5;124m'\u001b[39m)\n\u001b[1;32m     16\u001b[0m adata_noise \u001b[38;5;241m=\u001b[39m anndata\u001b[38;5;241m.\u001b[39mread_h5ad(\u001b[38;5;124m'\u001b[39m\u001b[38;5;124m/projects/zhanglab/users/johnson/gene_downsampled_data_processed/Cano_filtered_sampled_7K_downsample_0.3.h5ad\u001b[39m\u001b[38;5;124m'\u001b[39m)\n\u001b[1;32m     17\u001b[0m distances_raw \u001b[38;5;241m=\u001b[39m adata_raw\u001b[38;5;241m.\u001b[39mobsp[\u001b[38;5;124mf\u001b[39m\u001b[38;5;124m'\u001b[39m\u001b[38;5;124mneighbors_\u001b[39m\u001b[38;5;132;01m{\u001b[39;00mmetric\u001b[38;5;132;01m}\u001b[39;00m\u001b[38;5;124m_distances\u001b[39m\u001b[38;5;124m'\u001b[39m]\n",
      "\u001b[0;31mNameError\u001b[0m: name 'anndata' is not defined"
     ]
    }
   ],
   "source": [
    "def cal_ranked_order(distances_raw, distances_noise):\n",
    "    # Calculate Spearman's rank correlation for neighbors\n",
    "    rank_correlation = []\n",
    "    for i in range(distances_raw.shape[0]):\n",
    "        raw_indices = distances_raw[i].indices\n",
    "        noise_indices = distances_noise[i].indices\n",
    "        all_indices = np.union1d(raw_indices, noise_indices)\n",
    "        raw_row = distances_raw[i, all_indices].toarray().flatten()\n",
    "        noise_row = distances_noise[i, all_indices].toarray().flatten()\n",
    "        corr, _ = spearmanr(raw_row, noise_row)\n",
    "        rank_correlation.append(corr)\n",
    "    return np.nanmean(rank_correlation)\n",
    "\n",
    "metric = 'l2'\n",
    "adata_raw = anndata.read_h5ad('/projects/zhanglab/users/johnson/gene_downsampled_data_processed/Cano_filtered_sampled_7K.h5ad')\n",
    "adata_noise = anndata.read_h5ad('/projects/zhanglab/users/johnson/gene_downsampled_data_processed/Cano_filtered_sampled_7K_downsample_0.3.h5ad')\n",
    "distances_raw = adata_raw.obsp[f'neighbors_{metric}_distances']\n",
    "distances_noise = adata_noise.obsp[f'neighbors_{metric}_distances']\n",
    "cal_ranked_order(distances_raw, distances_noise)"
   ]
  },
  {
   "cell_type": "code",
   "execution_count": 80,
   "id": "be1f4028-b988-4357-9bf0-38c85b6bb90e",
   "metadata": {},
   "outputs": [],
   "source": [
    "raw_indices = distances_raw[0].indices\n",
    "raw_values = distances_raw[0].data\n",
    "\n",
    "noise_indices = distances_noise[0].indices\n",
    "noise_values = distances_noise[0].data"
   ]
  },
  {
   "cell_type": "code",
   "execution_count": 81,
   "id": "ba7466e0-8b64-4d99-ba76-f5e0c9c7a98e",
   "metadata": {},
   "outputs": [
    {
     "data": {
      "text/plain": [
       "array([ 378, 1535, 2019, 2903, 4253, 4939, 4978, 5724, 6474], dtype=int32)"
      ]
     },
     "execution_count": 81,
     "metadata": {},
     "output_type": "execute_result"
    }
   ],
   "source": [
    "raw_indices"
   ]
  },
  {
   "cell_type": "code",
   "execution_count": 82,
   "id": "d0d606e2-98d9-4076-9b2e-faaeca497363",
   "metadata": {},
   "outputs": [
    {
     "data": {
      "text/plain": [
       "array([11.42113304, 10.66580772, 11.02266884, 11.27149296, 11.37796497,\n",
       "       11.30580235, 11.53415585, 11.40941715, 11.19818687])"
      ]
     },
     "execution_count": 82,
     "metadata": {},
     "output_type": "execute_result"
    }
   ],
   "source": [
    "raw_values"
   ]
  },
  {
   "cell_type": "code",
   "execution_count": 83,
   "id": "172f90d0-b26d-4307-acee-3fdbb880d04b",
   "metadata": {},
   "outputs": [
    {
     "data": {
      "text/plain": [
       "array([ 363, 1535, 2019, 2638, 2903, 3089, 4191, 4883, 4978], dtype=int32)"
      ]
     },
     "execution_count": 83,
     "metadata": {},
     "output_type": "execute_result"
    }
   ],
   "source": [
    "noise_indices"
   ]
  },
  {
   "cell_type": "code",
   "execution_count": 84,
   "id": "f377bbc9-c659-463d-a584-71d4bd2759b0",
   "metadata": {},
   "outputs": [
    {
     "data": {
      "text/plain": [
       "array([ 363,  378, 1535, 2019, 2638, 2903, 3089, 4191, 4253, 4883, 4939,\n",
       "       4978, 5724, 6474], dtype=int32)"
      ]
     },
     "execution_count": 84,
     "metadata": {},
     "output_type": "execute_result"
    }
   ],
   "source": [
    "all_indices = np.union1d(raw_indices, noise_indices)\n",
    "all_indices"
   ]
  },
  {
   "cell_type": "code",
   "execution_count": 88,
   "id": "6dae926f-7c28-4204-9b04-368358cd5f9b",
   "metadata": {},
   "outputs": [
    {
     "data": {
      "text/plain": [
       "array([[ 0.        , 11.42113304, 10.66580772, 11.02266884,  0.        ,\n",
       "        11.27149296,  0.        ,  0.        , 11.37796497,  0.        ,\n",
       "        11.30580235, 11.53415585, 11.40941715, 11.19818687]])"
      ]
     },
     "execution_count": 88,
     "metadata": {},
     "output_type": "execute_result"
    }
   ],
   "source": [
    "distances_raw[0, all_indices].toarray()"
   ]
  },
  {
   "cell_type": "code",
   "execution_count": 47,
   "id": "36925e4e-a212-4721-8d17-3cfabc65f008",
   "metadata": {},
   "outputs": [
    {
     "data": {
      "text/plain": [
       "-0.15"
      ]
     },
     "execution_count": 47,
     "metadata": {},
     "output_type": "execute_result"
    }
   ],
   "source": [
    "raw_row = distances_raw[0].indices[np.argsort(distances_raw[0].data)]\n",
    "noise_row = distances_noise[0].indices[np.argsort(distances_noise[0].data)]\n",
    "corr, _ = spearmanr(raw_row, noise_row)\n",
    "corr"
   ]
  },
  {
   "cell_type": "code",
   "execution_count": 61,
   "id": "70acc43c-a507-4f1a-a428-21d483863093",
   "metadata": {},
   "outputs": [
    {
     "data": {
      "text/plain": [
       "array([ 363, 1535, 2019, 2638, 2903, 3089, 4191, 4883, 4978], dtype=int32)"
      ]
     },
     "execution_count": 61,
     "metadata": {},
     "output_type": "execute_result"
    }
   ],
   "source": [
    "raw_row_indices = distances_raw[0].indices\n",
    "noise_row_indices = distances_noise[0].indices\n",
    "noise_row_indices"
   ]
  },
  {
   "cell_type": "code",
   "execution_count": 62,
   "id": "fa3a171f-8316-46f9-a708-d4aed1ee9763",
   "metadata": {},
   "outputs": [
    {
     "data": {
      "text/plain": [
       "array([ 378, 1535, 2019, 2903, 4253, 4939, 4978, 5724, 6474], dtype=int32)"
      ]
     },
     "execution_count": 62,
     "metadata": {},
     "output_type": "execute_result"
    }
   ],
   "source": [
    "raw_row_indices"
   ]
  },
  {
   "cell_type": "code",
   "execution_count": 63,
   "id": "24008219-f608-4ce9-b328-b03b993c177c",
   "metadata": {},
   "outputs": [
    {
     "data": {
      "text/plain": [
       "array([ 363,  378, 1535, 2019, 2638, 2903, 3089, 4191, 4253, 4883, 4939,\n",
       "       4978, 5724, 6474], dtype=int32)"
      ]
     },
     "execution_count": 63,
     "metadata": {},
     "output_type": "execute_result"
    }
   ],
   "source": [
    "# Take the union of non-zero indices from both rows\n",
    "union_indices = np.union1d(raw_row_indices, noise_row_indices)\n",
    "union_indices"
   ]
  },
  {
   "cell_type": "code",
   "execution_count": 64,
   "id": "472f3d5b-02e2-430f-be45-e22ab5a5ac8e",
   "metadata": {},
   "outputs": [
    {
     "data": {
      "text/plain": [
       "array([nan,  0.,  0.,  0., nan,  0., nan, nan,  0., nan,  0.,  0.,  0.,\n",
       "        0.])"
      ]
     },
     "execution_count": 64,
     "metadata": {},
     "output_type": "execute_result"
    }
   ],
   "source": [
    "# Extract corresponding distances for the union indices and sort them\n",
    "raw_distances = np.array([distances_raw[i, idx] if idx in raw_row_indices else np.nan for idx in union_indices])\n",
    "noise_distances = np.array([distances_noise[i, idx] if idx in noise_row_indices else np.nan for idx in union_indices])\n",
    "raw_distances"
   ]
  },
  {
   "cell_type": "code",
   "execution_count": 65,
   "id": "62368019-6d0f-4821-b32a-bfd91bbb7ec4",
   "metadata": {},
   "outputs": [
    {
     "data": {
      "text/plain": [
       "array([11,  0,  1,  2, 10,  3,  9, 12,  7, 13,  6,  5,  4,  8])"
      ]
     },
     "execution_count": 65,
     "metadata": {},
     "output_type": "execute_result"
    }
   ],
   "source": [
    "# Rank the distances (nan values will be ignored in the ranking)\n",
    "raw_ranks = np.argsort(np.argsort(np.nan_to_num(raw_distances, nan=np.inf)))\n",
    "noise_ranks = np.argsort(np.argsort(np.nan_to_num(noise_distances, nan=np.inf)))\n",
    "raw_ranks"
   ]
  },
  {
   "cell_type": "code",
   "execution_count": 66,
   "id": "a5fc23a9-ee1d-418e-ad31-f8c173a13594",
   "metadata": {},
   "outputs": [
    {
     "data": {
      "text/plain": [
       "array([ 0,  9,  1,  2,  3,  5,  4,  6, 10,  7, 11,  8, 12, 13])"
      ]
     },
     "execution_count": 66,
     "metadata": {},
     "output_type": "execute_result"
    }
   ],
   "source": [
    "noise_ranks"
   ]
  },
  {
   "cell_type": "code",
   "execution_count": 72,
   "id": "31550376-1848-4203-ad46-66d1d81b84fd",
   "metadata": {},
   "outputs": [
    {
     "name": "stdout",
     "output_type": "stream",
     "text": [
      "SignificanceResult(statistic=0.12499999999999999, pvalue=0.8412604997727525)\n",
      "SignificanceResult(statistic=-0.05555555555555556, pvalue=0.9444444444444444)\n",
      "SignificanceResult(statistic=-0.5, pvalue=0.6666666666666667)\n"
     ]
    }
   ],
   "source": [
    "print(spearmanr([0,0,0,1,2], [0,0,1,2,0]))\n",
    "print(spearmanr([0,0,1,2], [0,1,2,0]))\n",
    "print(spearmanr([0,1,2], [1,2,0]))"
   ]
  },
  {
   "cell_type": "code",
   "execution_count": 1,
   "id": "d650fe38-8c66-485f-b697-995d85215552",
   "metadata": {},
   "outputs": [
    {
     "name": "stdout",
     "output_type": "stream",
     "text": [
      "Paired t-test for ranked_order, downsample_ratio 0.3: t-statistic = 2.1712, p-value = 5.9159e-02\n",
      "Paired t-test for jaccard_index, downsample_ratio 0.3: t-statistic = 2.6499, p-value = 3.8500e-02\n",
      "Paired t-test for connectivity_correlation, downsample_ratio 0.3: t-statistic = -0.1408, p-value = 5.5154e-01\n",
      "Paired t-test for ranked_order, downsample_ratio 0.5: t-statistic = 1.3696, p-value = 1.3216e-01\n",
      "Paired t-test for jaccard_index, downsample_ratio 0.5: t-statistic = 1.4604, p-value = 1.2015e-01\n",
      "Paired t-test for connectivity_correlation, downsample_ratio 0.5: t-statistic = -0.9656, p-value = 7.9727e-01\n",
      "Paired t-test for ranked_order, downsample_ratio 0.7: t-statistic = 0.9963, p-value = 1.9626e-01\n",
      "Paired t-test for jaccard_index, downsample_ratio 0.7: t-statistic = 1.1226, p-value = 1.7168e-01\n",
      "Paired t-test for connectivity_correlation, downsample_ratio 0.7: t-statistic = -1.5040, p-value = 8.8519e-01\n",
      "FDR-corrected p-values for ranked_order: [0.17747816 0.1962602  0.1962602 ]\n",
      "FDR-corrected p-values for jaccard_index: [0.11549903 0.17167527 0.17167527]\n",
      "FDR-corrected p-values for connectivity_correlation: [0.88518754 0.88518754 0.88518754]\n"
     ]
    },
    {
     "data": {
      "image/png": "[encoded data removed]",
      "text/plain": [
       "<Figure size 1800x600 with 3 Axes>"
      ]
     },
     "metadata": {},
     "output_type": "display_data"
    }
   ],
   "source": [
    "import pandas as pd\n",
    "import numpy as np\n",
    "import matplotlib.pyplot as plt\n",
    "from scipy.stats import ttest_rel\n",
    "from statsmodels.stats.multitest import fdrcorrection\n",
    "from scipy import stats\n",
    "\n",
    "\n",
    "# Read the data\n",
    "df = pd.read_csv('noise_KNN_4.csv')\n",
    "df = df[df['dataset'] != 'Cano']\n",
    "\n",
    "# Replace metric names for better readability\n",
    "df['Metric'] = df['metric'].replace({\n",
    "    'l2': 'Euclidean (L2)',\n",
    "    'correlation': 'Pearson Correlation'\n",
    "})\n",
    "\n",
    "# Initialize subplots\n",
    "fig, axes = plt.subplots(1, 3, figsize=(18, 6), sharex=True, sharey=False)\n",
    "\n",
    "# Metrics to plot\n",
    "metrics_to_plot = ['ranked_order', 'jaccard_index', 'connectivity_correlation']\n",
    "titles = ['Ranked Order', 'Jaccard Index', 'Connectivity Correlation']\n",
    "\n",
    "# Iterate over metrics for subplots\n",
    "for i, metric in enumerate(metrics_to_plot):\n",
    "    # Calculate mean, SEM, and CI grouped by downsample_ratio and Metric\n",
    "    grouped = df.groupby(['downsample_ratio', 'Metric'])[metric]\n",
    "    means = grouped.mean()\n",
    "    stds = grouped.std()\n",
    "    counts = grouped.count()\n",
    "    sems = stds / np.sqrt(counts)\n",
    "    confidence = 0.95\n",
    "    h = sems * stats.t.ppf((1 + confidence) / 2., counts - 1)\n",
    "    \n",
    "    stats_df = pd.DataFrame({\n",
    "        'Mean': means,\n",
    "        'SEM': sems,\n",
    "        'CI': h,\n",
    "        'Count': counts\n",
    "    }).reset_index()\n",
    "\n",
    "    # Pivot for plotting\n",
    "    pivot_df = stats_df.pivot(index='downsample_ratio', columns='Metric', values=['Mean', 'CI'])\n",
    "\n",
    "    # Prepare data for plotting\n",
    "    euclidean_means = pivot_df['Mean']['Euclidean (L2)'].values\n",
    "    euclidean_CIs = pivot_df['CI']['Euclidean (L2)'].values\n",
    "\n",
    "    pearson_means = pivot_df['Mean']['Pearson Correlation'].values\n",
    "    pearson_CIs = pivot_df['CI']['Pearson Correlation'].values\n",
    "\n",
    "    # Plotting\n",
    "    ratios = sorted(df['downsample_ratio'].unique())\n",
    "    ratio_labels = [f\"{int(ratio*100)}%\" for ratio in ratios]\n",
    "    x = np.arange(len(ratios))\n",
    "    bar_width = 0.35\n",
    "\n",
    "    ax = axes[i]\n",
    "    ax.bar(x - bar_width/2, euclidean_means, yerr=euclidean_CIs, \n",
    "           width=bar_width, label='Euclidean (L2)', capsize=5, color='skyblue')\n",
    "    ax.bar(x + bar_width/2, pearson_means, yerr=pearson_CIs, \n",
    "           width=bar_width, label='Pearson Correlation', capsize=5, color='lightgreen')\n",
    "    \n",
    "    # Set titles and labels\n",
    "    ax.set_title(titles[i])\n",
    "    ax.set_xlabel('Downsample Ratio')\n",
    "    ax.set_xticks(x)\n",
    "    ax.set_xticklabels(ratio_labels)\n",
    "    ax.set_ylabel(metric)\n",
    "\n",
    "    # Add legend\n",
    "    if i == 2:  # Only on the last subplot\n",
    "        ax.legend(loc='upper right')\n",
    "\n",
    "# Perform paired t-tests for each downsample_ratio\n",
    "p_values = {metric: [] for metric in metrics_to_plot}\n",
    "for ratio in [0.3, 0.5, 0.7]:\n",
    "    for metric in metrics_to_plot:\n",
    "        subset = df[df['downsample_ratio'] == ratio]\n",
    "        euclidean_scores = subset[subset['Metric'] == 'Euclidean (L2)'][metric]\n",
    "        correlation_scores = subset[subset['Metric'] == 'Pearson Correlation'][metric]\n",
    "        t_stat, p_value = ttest_rel(correlation_scores, euclidean_scores, alternative='greater')\n",
    "        p_values[metric].append((ratio, p_value))\n",
    "        print(f'Paired t-test for {metric}, downsample_ratio {ratio}: t-statistic = {t_stat:.4f}, p-value = {p_value:.4e}')\n",
    "\n",
    "# FDR correction for p-values\n",
    "for metric in metrics_to_plot:\n",
    "    p_value_list = [p[1] for p in p_values[metric]]\n",
    "    _, corrected_p_values = fdrcorrection(p_value_list, alpha=0.05)\n",
    "    print(f'FDR-corrected p-values for {metric}:', corrected_p_values)\n",
    "\n",
    "plt.tight_layout()\n",
    "plt.show()"
   ]
  },
  {
   "cell_type": "code",
   "execution_count": 4,
   "id": "e52ab545-95b1-498e-add0-cd8c40207c62",
   "metadata": {},
   "outputs": [
    {
     "data": {
      "text/plain": [
       "{'ranked_order': [(0.5, 0.13104909429154513),\n",
       "  (0.3, 0.013831473743767243),\n",
       "  (0.7, 0.1446102014770245)],\n",
       " 'jaccard_index': [(0.5, 0.11870136915359135),\n",
       "  (0.3, 0.0363406392935988),\n",
       "  (0.7, 0.1769181780193395)],\n",
       " 'connectivity_correlation': [(0.5, 0.8693728862293106),\n",
       "  (0.3, 0.547247018189972),\n",
       "  (0.7, 0.9503378986429214)]}"
      ]
     },
     "execution_count": 4,
     "metadata": {},
     "output_type": "execute_result"
    }
   ],
   "source": [
    "p_values"
   ]
  },
  {
   "cell_type": "code",
   "execution_count": 5,
   "id": "a7f99d2b-4b98-4d21-a0bc-55c4f50e7d7f",
   "metadata": {},
   "outputs": [
    {
     "data": {
      "text/html": [
       "<div>\n",
       "<style scoped>\n",
       "    .dataframe tbody tr th:only-of-type {\n",
       "        vertical-align: middle;\n",
       "    }\n",
       "\n",
       "    .dataframe tbody tr th {\n",
       "        vertical-align: top;\n",
       "    }\n",
       "\n",
       "    .dataframe thead th {\n",
       "        text-align: right;\n",
       "    }\n",
       "</style>\n",
       "<table border=\"1\" class=\"dataframe\">\n",
       "  <thead>\n",
       "    <tr style=\"text-align: right;\">\n",
       "      <th></th>\n",
       "      <th>dataset</th>\n",
       "      <th>metric</th>\n",
       "      <th>downsample_ratio</th>\n",
       "      <th>ranked_order</th>\n",
       "      <th>jaccard_index</th>\n",
       "      <th>connectivity_correlation</th>\n",
       "    </tr>\n",
       "  </thead>\n",
       "  <tbody>\n",
       "    <tr>\n",
       "      <th>0</th>\n",
       "      <td>TSfacs</td>\n",
       "      <td>l2</td>\n",
       "      <td>0.5</td>\n",
       "      <td>-0.145123</td>\n",
       "      <td>0.587738</td>\n",
       "      <td>0.777490</td>\n",
       "    </tr>\n",
       "    <tr>\n",
       "      <th>1</th>\n",
       "      <td>TSfacs</td>\n",
       "      <td>correlation</td>\n",
       "      <td>0.5</td>\n",
       "      <td>-0.041145</td>\n",
       "      <td>0.666612</td>\n",
       "      <td>0.792631</td>\n",
       "    </tr>\n",
       "    <tr>\n",
       "      <th>2</th>\n",
       "      <td>TSfacs</td>\n",
       "      <td>l2</td>\n",
       "      <td>0.3</td>\n",
       "      <td>-0.263958</td>\n",
       "      <td>0.520600</td>\n",
       "      <td>0.719230</td>\n",
       "    </tr>\n",
       "    <tr>\n",
       "      <th>3</th>\n",
       "      <td>TSfacs</td>\n",
       "      <td>correlation</td>\n",
       "      <td>0.3</td>\n",
       "      <td>-0.241212</td>\n",
       "      <td>0.566785</td>\n",
       "      <td>0.729927</td>\n",
       "    </tr>\n",
       "    <tr>\n",
       "      <th>4</th>\n",
       "      <td>TSfacs</td>\n",
       "      <td>l2</td>\n",
       "      <td>0.7</td>\n",
       "      <td>-0.117697</td>\n",
       "      <td>0.579537</td>\n",
       "      <td>0.764839</td>\n",
       "    </tr>\n",
       "    <tr>\n",
       "      <th>5</th>\n",
       "      <td>TSfacs</td>\n",
       "      <td>correlation</td>\n",
       "      <td>0.7</td>\n",
       "      <td>-0.025052</td>\n",
       "      <td>0.667047</td>\n",
       "      <td>0.787816</td>\n",
       "    </tr>\n",
       "    <tr>\n",
       "      <th>6</th>\n",
       "      <td>TMSdrop</td>\n",
       "      <td>l2</td>\n",
       "      <td>0.7</td>\n",
       "      <td>-0.326680</td>\n",
       "      <td>0.524835</td>\n",
       "      <td>0.728203</td>\n",
       "    </tr>\n",
       "    <tr>\n",
       "      <th>7</th>\n",
       "      <td>TMSdrop</td>\n",
       "      <td>correlation</td>\n",
       "      <td>0.7</td>\n",
       "      <td>-0.325222</td>\n",
       "      <td>0.522559</td>\n",
       "      <td>0.691406</td>\n",
       "    </tr>\n",
       "    <tr>\n",
       "      <th>8</th>\n",
       "      <td>TMSdrop</td>\n",
       "      <td>l2</td>\n",
       "      <td>0.3</td>\n",
       "      <td>-0.592030</td>\n",
       "      <td>0.264550</td>\n",
       "      <td>0.416443</td>\n",
       "    </tr>\n",
       "    <tr>\n",
       "      <th>9</th>\n",
       "      <td>TMSdrop</td>\n",
       "      <td>correlation</td>\n",
       "      <td>0.3</td>\n",
       "      <td>-0.577816</td>\n",
       "      <td>0.277409</td>\n",
       "      <td>0.430860</td>\n",
       "    </tr>\n",
       "    <tr>\n",
       "      <th>10</th>\n",
       "      <td>TMSdrop</td>\n",
       "      <td>l2</td>\n",
       "      <td>0.5</td>\n",
       "      <td>-0.471701</td>\n",
       "      <td>0.391803</td>\n",
       "      <td>0.580182</td>\n",
       "    </tr>\n",
       "    <tr>\n",
       "      <th>11</th>\n",
       "      <td>TMSdrop</td>\n",
       "      <td>correlation</td>\n",
       "      <td>0.5</td>\n",
       "      <td>-0.469939</td>\n",
       "      <td>0.397300</td>\n",
       "      <td>0.567876</td>\n",
       "    </tr>\n",
       "    <tr>\n",
       "      <th>12</th>\n",
       "      <td>Cano</td>\n",
       "      <td>l2</td>\n",
       "      <td>0.5</td>\n",
       "      <td>-0.551551</td>\n",
       "      <td>0.335001</td>\n",
       "      <td>0.546019</td>\n",
       "    </tr>\n",
       "    <tr>\n",
       "      <th>13</th>\n",
       "      <td>Cano</td>\n",
       "      <td>correlation</td>\n",
       "      <td>0.5</td>\n",
       "      <td>-0.558622</td>\n",
       "      <td>0.333853</td>\n",
       "      <td>0.520579</td>\n",
       "    </tr>\n",
       "    <tr>\n",
       "      <th>14</th>\n",
       "      <td>Cano</td>\n",
       "      <td>l2</td>\n",
       "      <td>0.3</td>\n",
       "      <td>-0.659458</td>\n",
       "      <td>0.195682</td>\n",
       "      <td>0.341984</td>\n",
       "    </tr>\n",
       "    <tr>\n",
       "      <th>15</th>\n",
       "      <td>Cano</td>\n",
       "      <td>correlation</td>\n",
       "      <td>0.3</td>\n",
       "      <td>-0.658418</td>\n",
       "      <td>0.198687</td>\n",
       "      <td>0.343800</td>\n",
       "    </tr>\n",
       "    <tr>\n",
       "      <th>16</th>\n",
       "      <td>Cano</td>\n",
       "      <td>l2</td>\n",
       "      <td>0.7</td>\n",
       "      <td>-0.421173</td>\n",
       "      <td>0.481513</td>\n",
       "      <td>0.720908</td>\n",
       "    </tr>\n",
       "    <tr>\n",
       "      <th>17</th>\n",
       "      <td>Cano</td>\n",
       "      <td>correlation</td>\n",
       "      <td>0.7</td>\n",
       "      <td>-0.425606</td>\n",
       "      <td>0.477194</td>\n",
       "      <td>0.664933</td>\n",
       "    </tr>\n",
       "    <tr>\n",
       "      <th>24</th>\n",
       "      <td>TSdrop</td>\n",
       "      <td>l2</td>\n",
       "      <td>0.3</td>\n",
       "      <td>-0.592216</td>\n",
       "      <td>0.263134</td>\n",
       "      <td>0.418161</td>\n",
       "    </tr>\n",
       "    <tr>\n",
       "      <th>25</th>\n",
       "      <td>TSdrop</td>\n",
       "      <td>correlation</td>\n",
       "      <td>0.3</td>\n",
       "      <td>-0.557806</td>\n",
       "      <td>0.294517</td>\n",
       "      <td>0.455100</td>\n",
       "    </tr>\n",
       "    <tr>\n",
       "      <th>26</th>\n",
       "      <td>TSdrop</td>\n",
       "      <td>l2</td>\n",
       "      <td>0.7</td>\n",
       "      <td>-0.324373</td>\n",
       "      <td>0.530374</td>\n",
       "      <td>0.751626</td>\n",
       "    </tr>\n",
       "    <tr>\n",
       "      <th>27</th>\n",
       "      <td>TSdrop</td>\n",
       "      <td>correlation</td>\n",
       "      <td>0.7</td>\n",
       "      <td>-0.303932</td>\n",
       "      <td>0.543508</td>\n",
       "      <td>0.717888</td>\n",
       "    </tr>\n",
       "    <tr>\n",
       "      <th>28</th>\n",
       "      <td>TSdrop</td>\n",
       "      <td>l2</td>\n",
       "      <td>0.5</td>\n",
       "      <td>-0.461407</td>\n",
       "      <td>0.401877</td>\n",
       "      <td>0.605462</td>\n",
       "    </tr>\n",
       "    <tr>\n",
       "      <th>29</th>\n",
       "      <td>TSdrop</td>\n",
       "      <td>correlation</td>\n",
       "      <td>0.5</td>\n",
       "      <td>-0.442369</td>\n",
       "      <td>0.420815</td>\n",
       "      <td>0.602433</td>\n",
       "    </tr>\n",
       "  </tbody>\n",
       "</table>\n",
       "</div>"
      ],
      "text/plain": [
       "    dataset       metric  downsample_ratio  ranked_order  jaccard_index  \\\n",
       "0    TSfacs           l2               0.5     -0.145123       0.587738   \n",
       "1    TSfacs  correlation               0.5     -0.041145       0.666612   \n",
       "2    TSfacs           l2               0.3     -0.263958       0.520600   \n",
       "3    TSfacs  correlation               0.3     -0.241212       0.566785   \n",
       "4    TSfacs           l2               0.7     -0.117697       0.579537   \n",
       "5    TSfacs  correlation               0.7     -0.025052       0.667047   \n",
       "6   TMSdrop           l2               0.7     -0.326680       0.524835   \n",
       "7   TMSdrop  correlation               0.7     -0.325222       0.522559   \n",
       "8   TMSdrop           l2               0.3     -0.592030       0.264550   \n",
       "9   TMSdrop  correlation               0.3     -0.577816       0.277409   \n",
       "10  TMSdrop           l2               0.5     -0.471701       0.391803   \n",
       "11  TMSdrop  correlation               0.5     -0.469939       0.397300   \n",
       "12     Cano           l2               0.5     -0.551551       0.335001   \n",
       "13     Cano  correlation               0.5     -0.558622       0.333853   \n",
       "14     Cano           l2               0.3     -0.659458       0.195682   \n",
       "15     Cano  correlation               0.3     -0.658418       0.198687   \n",
       "16     Cano           l2               0.7     -0.421173       0.481513   \n",
       "17     Cano  correlation               0.7     -0.425606       0.477194   \n",
       "24   TSdrop           l2               0.3     -0.592216       0.263134   \n",
       "25   TSdrop  correlation               0.3     -0.557806       0.294517   \n",
       "26   TSdrop           l2               0.7     -0.324373       0.530374   \n",
       "27   TSdrop  correlation               0.7     -0.303932       0.543508   \n",
       "28   TSdrop           l2               0.5     -0.461407       0.401877   \n",
       "29   TSdrop  correlation               0.5     -0.442369       0.420815   \n",
       "\n",
       "    connectivity_correlation  \n",
       "0                   0.777490  \n",
       "1                   0.792631  \n",
       "2                   0.719230  \n",
       "3                   0.729927  \n",
       "4                   0.764839  \n",
       "5                   0.787816  \n",
       "6                   0.728203  \n",
       "7                   0.691406  \n",
       "8                   0.416443  \n",
       "9                   0.430860  \n",
       "10                  0.580182  \n",
       "11                  0.567876  \n",
       "12                  0.546019  \n",
       "13                  0.520579  \n",
       "14                  0.341984  \n",
       "15                  0.343800  \n",
       "16                  0.720908  \n",
       "17                  0.664933  \n",
       "24                  0.418161  \n",
       "25                  0.455100  \n",
       "26                  0.751626  \n",
       "27                  0.717888  \n",
       "28                  0.605462  \n",
       "29                  0.602433  "
      ]
     },
     "execution_count": 5,
     "metadata": {},
     "output_type": "execute_result"
    }
   ],
   "source": [
    "df = pd.read_csv('noise_KNN.csv')\n",
    "df = df[df['dataset'] != 'TMSfacs']\n",
    "df"
   ]
  },
  {
   "cell_type": "code",
   "execution_count": null,
   "id": "e1fd7ce1-0f42-43a4-851e-6af7cc909147",
   "metadata": {},
   "outputs": [],
   "source": []
  }
 ],
 "metadata": {
  "kernelspec": {
   "display_name": "lab",
   "language": "python",
   "name": "lab"
  },
  "language_info": {
   "codemirror_mode": {
    "name": "ipython",
    "version": 3
   },
   "file_extension": ".py",
   "mimetype": "text/x-python",
   "name": "python",
   "nbconvert_exporter": "python",
   "pygments_lexer": "ipython3",
   "version": "3.9.18"
  }
 },
 "nbformat": 4,
 "nbformat_minor": 5
}
